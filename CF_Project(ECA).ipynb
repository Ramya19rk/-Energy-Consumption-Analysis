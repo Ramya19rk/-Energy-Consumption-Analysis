{
 "cells": [
  {
   "cell_type": "code",
   "execution_count": 53,
   "id": "ea0a13ef",
   "metadata": {},
   "outputs": [],
   "source": [
    "import pandas as pd\n",
    "import numpy as np\n",
    "import glob\n",
    "from sklearn.impute import SimpleImputer"
   ]
  },
  {
   "cell_type": "markdown",
   "id": "2fae28db",
   "metadata": {},
   "source": [
    "# Datas for 2012"
   ]
  },
  {
   "cell_type": "code",
   "execution_count": 1291,
   "id": "5fffa963",
   "metadata": {},
   "outputs": [],
   "source": [
    "df_1 = pd.read_excel('datas/bps_2012_report_english_1.xlsx')"
   ]
  },
  {
   "cell_type": "code",
   "execution_count": 1292,
   "id": "badea44a",
   "metadata": {
    "collapsed": true
   },
   "outputs": [
    {
     "data": {
      "text/html": [
       "<div>\n",
       "<style scoped>\n",
       "    .dataframe tbody tr th:only-of-type {\n",
       "        vertical-align: middle;\n",
       "    }\n",
       "\n",
       "    .dataframe tbody tr th {\n",
       "        vertical-align: top;\n",
       "    }\n",
       "\n",
       "    .dataframe thead th {\n",
       "        text-align: right;\n",
       "    }\n",
       "</style>\n",
       "<table border=\"1\" class=\"dataframe\">\n",
       "  <thead>\n",
       "    <tr style=\"text-align: right;\">\n",
       "      <th></th>\n",
       "      <th>Sector Name</th>\n",
       "      <th>Sub Sector</th>\n",
       "      <th>Organization Name</th>\n",
       "      <th>Operation Name</th>\n",
       "      <th>Operation Type</th>\n",
       "      <th>Address</th>\n",
       "      <th>City</th>\n",
       "      <th>Postal Code</th>\n",
       "      <th>Total Floor Area</th>\n",
       "      <th>Unit</th>\n",
       "      <th>...</th>\n",
       "      <th>District Cooling Unit</th>\n",
       "      <th>District Cooling Renewable</th>\n",
       "      <th>District Cooling Renewable Emission Factor</th>\n",
       "      <th>Number of Portables</th>\n",
       "      <th>Swimming Pools</th>\n",
       "      <th>GHG Emissions KG</th>\n",
       "      <th>Energy Intensity ekWh_sqft</th>\n",
       "      <th>Energy Intensity ekWh_mega_litre</th>\n",
       "      <th>Energy Intensity GJ_m2</th>\n",
       "      <th>Energy Intensity GJ_mega_litre</th>\n",
       "    </tr>\n",
       "  </thead>\n",
       "  <tbody>\n",
       "    <tr>\n",
       "      <th>0</th>\n",
       "      <td>Public Hospital</td>\n",
       "      <td>Acute/Chronic</td>\n",
       "      <td>Alexandra Hospital</td>\n",
       "      <td>Alexandra Hospital</td>\n",
       "      <td>Facilities used for hospital purposes</td>\n",
       "      <td>29 Noxon Street</td>\n",
       "      <td>Ingersoll</td>\n",
       "      <td>N5C3V6</td>\n",
       "      <td>4660.700000</td>\n",
       "      <td>Square meters</td>\n",
       "      <td>...</td>\n",
       "      <td>Giga Joule</td>\n",
       "      <td>False</td>\n",
       "      <td>0.0</td>\n",
       "      <td>0.0</td>\n",
       "      <td>False</td>\n",
       "      <td>527560.002122</td>\n",
       "      <td>69.597090</td>\n",
       "      <td>0.0</td>\n",
       "      <td>2.696894</td>\n",
       "      <td>0.0</td>\n",
       "    </tr>\n",
       "    <tr>\n",
       "      <th>1</th>\n",
       "      <td>Public Hospital</td>\n",
       "      <td>Acute/Chronic</td>\n",
       "      <td>Alexandra Hospital</td>\n",
       "      <td>Alexandra Hospital</td>\n",
       "      <td>Administrative offices and related facilities</td>\n",
       "      <td>29 Noxon Street</td>\n",
       "      <td>Ingersoll</td>\n",
       "      <td>N5C3V6</td>\n",
       "      <td>3813.300000</td>\n",
       "      <td>Square meters</td>\n",
       "      <td>...</td>\n",
       "      <td>Giga Joule</td>\n",
       "      <td>False</td>\n",
       "      <td>0.0</td>\n",
       "      <td>0.0</td>\n",
       "      <td>False</td>\n",
       "      <td>431640.001737</td>\n",
       "      <td>69.597090</td>\n",
       "      <td>0.0</td>\n",
       "      <td>2.696894</td>\n",
       "      <td>0.0</td>\n",
       "    </tr>\n",
       "    <tr>\n",
       "      <th>2</th>\n",
       "      <td>Public Hospital</td>\n",
       "      <td>Acute/Chronic</td>\n",
       "      <td>Alexandria Glengarry Memorial Hospital</td>\n",
       "      <td>Glengarry Memorial Hospital</td>\n",
       "      <td>Facilities used for hospital purposes</td>\n",
       "      <td>20260 County Road 43</td>\n",
       "      <td>Alexandria</td>\n",
       "      <td>K0C1A0</td>\n",
       "      <td>51016.000000</td>\n",
       "      <td>Square feet</td>\n",
       "      <td>...</td>\n",
       "      <td>Giga Joule</td>\n",
       "      <td>False</td>\n",
       "      <td>0.0</td>\n",
       "      <td>0.0</td>\n",
       "      <td>False</td>\n",
       "      <td>586529.974768</td>\n",
       "      <td>79.689235</td>\n",
       "      <td>0.0</td>\n",
       "      <td>3.087966</td>\n",
       "      <td>0.0</td>\n",
       "    </tr>\n",
       "    <tr>\n",
       "      <th>3</th>\n",
       "      <td>Public Hospital</td>\n",
       "      <td>Acute/Chronic</td>\n",
       "      <td>Alexandria Glengarry Memorial Hospital</td>\n",
       "      <td>Glengarry Memorial Hospital</td>\n",
       "      <td>Administrative offices and related facilities</td>\n",
       "      <td>20260 County Road 43</td>\n",
       "      <td>Alexandria</td>\n",
       "      <td>K0C1A0</td>\n",
       "      <td>3953.000000</td>\n",
       "      <td>Square feet</td>\n",
       "      <td>...</td>\n",
       "      <td>Giga Joule</td>\n",
       "      <td>False</td>\n",
       "      <td>0.0</td>\n",
       "      <td>0.0</td>\n",
       "      <td>False</td>\n",
       "      <td>45449.455922</td>\n",
       "      <td>79.691924</td>\n",
       "      <td>0.0</td>\n",
       "      <td>3.088070</td>\n",
       "      <td>0.0</td>\n",
       "    </tr>\n",
       "    <tr>\n",
       "      <th>4</th>\n",
       "      <td>School Board</td>\n",
       "      <td>School Board</td>\n",
       "      <td>Algoma District School Board</td>\n",
       "      <td>Adult Ed - Blind River (WC Eaket)</td>\n",
       "      <td>Schools</td>\n",
       "      <td>147 Woodward Ave</td>\n",
       "      <td>Blind River</td>\n",
       "      <td>P0R1B0</td>\n",
       "      <td>1128.811234</td>\n",
       "      <td>Square feet</td>\n",
       "      <td>...</td>\n",
       "      <td>Giga Joule</td>\n",
       "      <td>False</td>\n",
       "      <td>0.0</td>\n",
       "      <td>0.0</td>\n",
       "      <td>False</td>\n",
       "      <td>52593.003152</td>\n",
       "      <td>266.361078</td>\n",
       "      <td>0.0</td>\n",
       "      <td>10.321518</td>\n",
       "      <td>0.0</td>\n",
       "    </tr>\n",
       "  </tbody>\n",
       "</table>\n",
       "<p>5 rows × 41 columns</p>\n",
       "</div>"
      ],
      "text/plain": [
       "       Sector Name    Sub Sector                        Organization Name  \\\n",
       "0  Public Hospital  Acute/Chronic                      Alexandra Hospital   \n",
       "1  Public Hospital  Acute/Chronic                      Alexandra Hospital   \n",
       "2  Public Hospital  Acute/Chronic  Alexandria Glengarry Memorial Hospital   \n",
       "3  Public Hospital  Acute/Chronic  Alexandria Glengarry Memorial Hospital   \n",
       "4     School Board   School Board            Algoma District School Board   \n",
       "\n",
       "                      Operation Name  \\\n",
       "0                 Alexandra Hospital   \n",
       "1                 Alexandra Hospital   \n",
       "2        Glengarry Memorial Hospital   \n",
       "3        Glengarry Memorial Hospital   \n",
       "4  Adult Ed - Blind River (WC Eaket)   \n",
       "\n",
       "                                  Operation Type               Address  \\\n",
       "0          Facilities used for hospital purposes       29 Noxon Street   \n",
       "1  Administrative offices and related facilities       29 Noxon Street   \n",
       "2          Facilities used for hospital purposes  20260 County Road 43   \n",
       "3  Administrative offices and related facilities  20260 County Road 43   \n",
       "4                                        Schools      147 Woodward Ave   \n",
       "\n",
       "          City Postal Code  Total Floor Area            Unit  ...  \\\n",
       "0    Ingersoll      N5C3V6        4660.700000  Square meters  ...   \n",
       "1    Ingersoll      N5C3V6        3813.300000  Square meters  ...   \n",
       "2   Alexandria      K0C1A0       51016.000000    Square feet  ...   \n",
       "3   Alexandria      K0C1A0        3953.000000    Square feet  ...   \n",
       "4  Blind River      P0R1B0        1128.811234    Square feet  ...   \n",
       "\n",
       "   District Cooling Unit  District Cooling Renewable  \\\n",
       "0             Giga Joule                       False   \n",
       "1             Giga Joule                       False   \n",
       "2             Giga Joule                       False   \n",
       "3             Giga Joule                       False   \n",
       "4             Giga Joule                       False   \n",
       "\n",
       "   District Cooling Renewable Emission Factor Number of Portables  \\\n",
       "0                                         0.0                 0.0   \n",
       "1                                         0.0                 0.0   \n",
       "2                                         0.0                 0.0   \n",
       "3                                         0.0                 0.0   \n",
       "4                                         0.0                 0.0   \n",
       "\n",
       "   Swimming Pools GHG Emissions KG  Energy Intensity ekWh_sqft  \\\n",
       "0           False    527560.002122                   69.597090   \n",
       "1           False    431640.001737                   69.597090   \n",
       "2           False    586529.974768                   79.689235   \n",
       "3           False     45449.455922                   79.691924   \n",
       "4           False     52593.003152                  266.361078   \n",
       "\n",
       "  Energy Intensity ekWh_mega_litre  Energy Intensity GJ_m2  \\\n",
       "0                              0.0                2.696894   \n",
       "1                              0.0                2.696894   \n",
       "2                              0.0                3.087966   \n",
       "3                              0.0                3.088070   \n",
       "4                              0.0               10.321518   \n",
       "\n",
       "  Energy Intensity GJ_mega_litre  \n",
       "0                            0.0  \n",
       "1                            0.0  \n",
       "2                            0.0  \n",
       "3                            0.0  \n",
       "4                            0.0  \n",
       "\n",
       "[5 rows x 41 columns]"
      ]
     },
     "execution_count": 1292,
     "metadata": {},
     "output_type": "execute_result"
    }
   ],
   "source": [
    "df_1.head()"
   ]
  },
  {
   "cell_type": "code",
   "execution_count": 1293,
   "id": "e02cd4b9",
   "metadata": {
    "collapsed": true
   },
   "outputs": [
    {
     "data": {
      "text/plain": [
       "Index(['Sector Name', 'Sub Sector ', 'Organization Name', 'Operation Name',\n",
       "       'Operation Type', 'Address', 'City', 'Postal Code', 'Total Floor Area ',\n",
       "       'Unit', 'Average Hours per week', 'Annual Flow ', 'Electricity',\n",
       "       'Electricity Unit', 'Natural Gas', 'Natural Gas2', 'Fuel Oil 1 & 2',\n",
       "       'Fuel Oil 1 & 2 Unit', 'Fuel Oil 4 &6', 'Fuel Oil 4 &6 Unit', 'Propane',\n",
       "       'Propane Unit', 'Coal Quantity', 'Coal Unit', 'Wood', 'Wood3',\n",
       "       'District Heating', 'District Heating Unit', 'Renewable',\n",
       "       'Renewable Emission Factor', 'District Cooling',\n",
       "       'District Cooling Unit', 'District Cooling Renewable',\n",
       "       'District Cooling Renewable Emission Factor', 'Number of Portables',\n",
       "       'Swimming Pools', 'GHG Emissions KG', 'Energy Intensity ekWh_sqft',\n",
       "       'Energy Intensity ekWh_mega_litre', 'Energy Intensity GJ_m2',\n",
       "       'Energy Intensity GJ_mega_litre'],\n",
       "      dtype='object')"
      ]
     },
     "execution_count": 1293,
     "metadata": {},
     "output_type": "execute_result"
    }
   ],
   "source": [
    "df_1.columns"
   ]
  },
  {
   "cell_type": "code",
   "execution_count": 1294,
   "id": "ca688000",
   "metadata": {
    "collapsed": true
   },
   "outputs": [
    {
     "data": {
      "text/plain": [
       "Sector Name                                     0\n",
       "Sub Sector                                      5\n",
       "Organization Name                               0\n",
       "Operation Name                                  0\n",
       "Operation Type                                  0\n",
       "Address                                        10\n",
       "City                                            0\n",
       "Postal Code                                     8\n",
       "Total Floor Area                                0\n",
       "Unit                                          973\n",
       "Average Hours per week                          0\n",
       "Annual Flow                                     0\n",
       "Electricity                                     0\n",
       "Electricity Unit                                0\n",
       "Natural Gas                                     0\n",
       "Natural Gas2                                    0\n",
       "Fuel Oil 1 & 2                                  0\n",
       "Fuel Oil 1 & 2 Unit                             0\n",
       "Fuel Oil 4 &6                                   0\n",
       "Fuel Oil 4 &6 Unit                              0\n",
       "Propane                                         0\n",
       "Propane Unit                                    0\n",
       "Coal Quantity                                   0\n",
       "Coal Unit                                       0\n",
       "Wood                                            0\n",
       "Wood3                                           0\n",
       "District Heating                                0\n",
       "District Heating Unit                           0\n",
       "Renewable                                       0\n",
       "Renewable Emission Factor                       0\n",
       "District Cooling                                0\n",
       "District Cooling Unit                           0\n",
       "District Cooling Renewable                      0\n",
       "District Cooling Renewable Emission Factor      0\n",
       "Number of Portables                             0\n",
       "Swimming Pools                                  0\n",
       "GHG Emissions KG                                0\n",
       "Energy Intensity ekWh_sqft                      0\n",
       "Energy Intensity ekWh_mega_litre                0\n",
       "Energy Intensity GJ_m2                          0\n",
       "Energy Intensity GJ_mega_litre                  0\n",
       "dtype: int64"
      ]
     },
     "execution_count": 1294,
     "metadata": {},
     "output_type": "execute_result"
    }
   ],
   "source": [
    "df_1.isnull().sum()"
   ]
  },
  {
   "cell_type": "code",
   "execution_count": 1295,
   "id": "065c99c0",
   "metadata": {},
   "outputs": [
    {
     "data": {
      "text/plain": [
       "array(['Acute/Chronic', 'School Board', 'Municipality', 'College',\n",
       "       'Acute', 'University ', 'University', 'college', 'School Boards',\n",
       "       nan, 'Chronic'], dtype=object)"
      ]
     },
     "execution_count": 1295,
     "metadata": {},
     "output_type": "execute_result"
    }
   ],
   "source": [
    "df_1['Sub Sector '].unique()"
   ]
  },
  {
   "cell_type": "code",
   "execution_count": 1296,
   "id": "a74a7451",
   "metadata": {},
   "outputs": [
    {
     "data": {
      "text/plain": [
       "array(['29 Noxon Street', '20260 County Road 43', '147 Woodward Ave', ...,\n",
       "       '60 Wellington St W', '4700 Keele Street', '2275 Bayview Avenue'],\n",
       "      dtype=object)"
      ]
     },
     "execution_count": 1296,
     "metadata": {},
     "output_type": "execute_result"
    }
   ],
   "source": [
    "df_1['Address'].unique()"
   ]
  },
  {
   "cell_type": "code",
   "execution_count": 1297,
   "id": "74f666da",
   "metadata": {},
   "outputs": [
    {
     "data": {
      "text/plain": [
       "array(['Square meters', 'Square feet', nan, 'mètres carrés',\n",
       "       'pieds carrés'], dtype=object)"
      ]
     },
     "execution_count": 1297,
     "metadata": {},
     "output_type": "execute_result"
    }
   ],
   "source": [
    "df_1['Unit'].unique()      # Square meters - mètres carrés    square footage - pieds carrés"
   ]
  },
  {
   "cell_type": "code",
   "execution_count": 1298,
   "id": "2e3105ae",
   "metadata": {},
   "outputs": [],
   "source": [
    "unit_mapping = {'mètres carrés': 'Square meters', 'pieds carrés': 'Square feet'}\n",
    "df_1['Unit'] = df_1['Unit'].map(unit_mapping)"
   ]
  },
  {
   "cell_type": "code",
   "execution_count": 1299,
   "id": "ef4da00f",
   "metadata": {},
   "outputs": [
    {
     "data": {
      "text/plain": [
       "array([nan, 'Square meters', 'Square feet'], dtype=object)"
      ]
     },
     "execution_count": 1299,
     "metadata": {},
     "output_type": "execute_result"
    }
   ],
   "source": [
    "df_1['Unit'].unique()"
   ]
  },
  {
   "cell_type": "code",
   "execution_count": 1300,
   "id": "8b42e4da",
   "metadata": {},
   "outputs": [],
   "source": [
    "df_1 = df_1.dropna(subset=['Address'])"
   ]
  },
  {
   "cell_type": "code",
   "execution_count": 1301,
   "id": "ca3a6562",
   "metadata": {},
   "outputs": [
    {
     "data": {
      "text/plain": [
       "array(['Acute/Chronic', 'School Board', 'Municipality', 'College',\n",
       "       'Acute', 'University ', 'University', 'college', 'School Boards',\n",
       "       nan, 'Chronic'], dtype=object)"
      ]
     },
     "execution_count": 1301,
     "metadata": {},
     "output_type": "execute_result"
    }
   ],
   "source": [
    "df_1['Sub Sector '].unique()"
   ]
  },
  {
   "cell_type": "code",
   "execution_count": 1302,
   "id": "37491e47",
   "metadata": {},
   "outputs": [],
   "source": [
    "df_1 = df_1.dropna(subset=['Sub Sector '])"
   ]
  },
  {
   "cell_type": "code",
   "execution_count": 1303,
   "id": "8278c16c",
   "metadata": {},
   "outputs": [
    {
     "data": {
      "text/plain": [
       "Unit\n",
       "Square feet      177\n",
       "Square meters     53\n",
       "Name: count, dtype: int64"
      ]
     },
     "execution_count": 1303,
     "metadata": {},
     "output_type": "execute_result"
    }
   ],
   "source": [
    "df_1['Unit'].value_counts()"
   ]
  },
  {
   "cell_type": "code",
   "execution_count": 1304,
   "id": "a12c4482",
   "metadata": {},
   "outputs": [],
   "source": [
    "imputer = SimpleImputer(strategy='most_frequent')\n",
    "\n",
    "df_1['Unit'] = imputer.fit_transform(df_1[['Unit']]).ravel()"
   ]
  },
  {
   "cell_type": "code",
   "execution_count": 1305,
   "id": "557f2b6a",
   "metadata": {},
   "outputs": [
    {
     "data": {
      "text/plain": [
       "array(['Square feet', 'Square meters'], dtype=object)"
      ]
     },
     "execution_count": 1305,
     "metadata": {},
     "output_type": "execute_result"
    }
   ],
   "source": [
    "df_1['Unit'].unique()"
   ]
  },
  {
   "cell_type": "code",
   "execution_count": 1306,
   "id": "9034d3d9",
   "metadata": {
    "collapsed": true
   },
   "outputs": [
    {
     "data": {
      "text/plain": [
       "Sector Name                                   0\n",
       "Sub Sector                                    0\n",
       "Organization Name                             0\n",
       "Operation Name                                0\n",
       "Operation Type                                0\n",
       "Address                                       0\n",
       "City                                          0\n",
       "Postal Code                                   0\n",
       "Total Floor Area                              0\n",
       "Unit                                          0\n",
       "Average Hours per week                        0\n",
       "Annual Flow                                   0\n",
       "Electricity                                   0\n",
       "Electricity Unit                              0\n",
       "Natural Gas                                   0\n",
       "Natural Gas2                                  0\n",
       "Fuel Oil 1 & 2                                0\n",
       "Fuel Oil 1 & 2 Unit                           0\n",
       "Fuel Oil 4 &6                                 0\n",
       "Fuel Oil 4 &6 Unit                            0\n",
       "Propane                                       0\n",
       "Propane Unit                                  0\n",
       "Coal Quantity                                 0\n",
       "Coal Unit                                     0\n",
       "Wood                                          0\n",
       "Wood3                                         0\n",
       "District Heating                              0\n",
       "District Heating Unit                         0\n",
       "Renewable                                     0\n",
       "Renewable Emission Factor                     0\n",
       "District Cooling                              0\n",
       "District Cooling Unit                         0\n",
       "District Cooling Renewable                    0\n",
       "District Cooling Renewable Emission Factor    0\n",
       "Number of Portables                           0\n",
       "Swimming Pools                                0\n",
       "GHG Emissions KG                              0\n",
       "Energy Intensity ekWh_sqft                    0\n",
       "Energy Intensity ekWh_mega_litre              0\n",
       "Energy Intensity GJ_m2                        0\n",
       "Energy Intensity GJ_mega_litre                0\n",
       "dtype: int64"
      ]
     },
     "execution_count": 1306,
     "metadata": {},
     "output_type": "execute_result"
    }
   ],
   "source": [
    "df_1.isnull().sum()"
   ]
  },
  {
   "cell_type": "code",
   "execution_count": 1307,
   "id": "bed27992",
   "metadata": {},
   "outputs": [],
   "source": [
    "column_mapping = {'Sector Name': 'Sector', 'Sub Sector ': 'SubSector', 'Organization Name': 'Organization', 'Operation Name': 'Operation',\n",
    "                 'Operation Type': 'Operation Type', 'Address': 'Address', 'City': 'City', 'Postal Code': 'Postal Code', 'Total Floor Area ': 'Total Indoor Space_x',\n",
    "                 'Unit': 'Unit of Measure', 'Average Hours per week': 'Weekly Average Hours', 'Annual Flow ': 'Annual Flow (M)', 'Number of Portables': 'Number of Portables',\n",
    "                 'Swimming Pools': 'Swimming Pool', 'Electricity': 'Electricity_Quantity', 'Electricity Unit': 'Electricity_Unit', 'Natural Gas': 'NaturalGas_Quantity',\n",
    "                 'Natural Gas2': 'NaturalGas_Unit', 'Fuel Oil 1 & 2': 'FuelOil12_Quantity', 'Fuel Oil 1 & 2 Unit': 'FuelOil12_Unit', 'Fuel Oil 4 &6': 'FuelOil46_Quantity',\n",
    "                 'Fuel Oil 4 &6 Unit': 'FuelOil46_Unit', 'Propane': 'Propane_Quantity', 'Propane Unit': 'Propane_Unit', 'Coal Quantity': 'Coal_Quantity',\n",
    "                 'Coal Unit': 'Coal_Unit', 'Wood': 'Wood_Quantity', 'Wood3': 'Wood_Unit', 'District Heating': 'DistrictHeating_Quantity', 'District Heating Unit': 'DistrictHeating_Unit',\n",
    "                 'Renewable': 'DistrictHeating_IsRenewable', 'Renewable Emission Factor': 'DistrictHeating_RenewableEmissionFactor', 'District Cooling': 'DistrictCooling_Quantity',\n",
    "                 'District Cooling Unit': 'DistrictCooling_Unit', 'District Cooling Renewable': 'DistrictCooling_IsRenewable', 'District Cooling Renewable Emission Factor': 'DistrictCooling_RenewableEmissionFactor',\n",
    "                 'GHG Emissions KG': 'GHG Emissions KG', 'Energy Intensity ekWh_sqft': 'Energy Intensity ekWh_sqft', 'Energy Intensity ekWh_mega_litre': 'Energy Intensity ekWh_mega_litre',\n",
    "                 'Energy Intensity GJ_m2': 'Energy Intensity GJ_m2', 'Energy Intensity GJ_mega_litre': 'Energy Intensity GJ_mega_litre'}\n"
   ]
  },
  {
   "cell_type": "code",
   "execution_count": 1308,
   "id": "ca0a53e7",
   "metadata": {},
   "outputs": [],
   "source": [
    "df_1.rename(columns=column_mapping, inplace=True)"
   ]
  },
  {
   "cell_type": "code",
   "execution_count": 1309,
   "id": "eff11fa1",
   "metadata": {
    "collapsed": true
   },
   "outputs": [
    {
     "data": {
      "text/plain": [
       "Index(['Sector', 'SubSector', 'Organization', 'Operation', 'Operation Type',\n",
       "       'Address', 'City', 'Postal Code', 'Total Indoor Space_x',\n",
       "       'Unit of Measure', 'Weekly Average Hours', 'Annual Flow (M)',\n",
       "       'Electricity_Quantity', 'Electricity_Unit', 'NaturalGas_Quantity',\n",
       "       'NaturalGas_Unit', 'FuelOil12_Quantity', 'FuelOil12_Unit',\n",
       "       'FuelOil46_Quantity', 'FuelOil46_Unit', 'Propane_Quantity',\n",
       "       'Propane_Unit', 'Coal_Quantity', 'Coal_Unit', 'Wood_Quantity',\n",
       "       'Wood_Unit', 'DistrictHeating_Quantity', 'DistrictHeating_Unit',\n",
       "       'DistrictHeating_IsRenewable',\n",
       "       'DistrictHeating_RenewableEmissionFactor', 'DistrictCooling_Quantity',\n",
       "       'DistrictCooling_Unit', 'DistrictCooling_IsRenewable',\n",
       "       'DistrictCooling_RenewableEmissionFactor', 'Number of Portables',\n",
       "       'Swimming Pool', 'GHG Emissions KG', 'Energy Intensity ekWh_sqft',\n",
       "       'Energy Intensity ekWh_mega_litre', 'Energy Intensity GJ_m2',\n",
       "       'Energy Intensity GJ_mega_litre'],\n",
       "      dtype='object')"
      ]
     },
     "execution_count": 1309,
     "metadata": {},
     "output_type": "execute_result"
    }
   ],
   "source": [
    "df_1.columns"
   ]
  },
  {
   "cell_type": "code",
   "execution_count": 1310,
   "id": "71a32544",
   "metadata": {
    "collapsed": true
   },
   "outputs": [
    {
     "data": {
      "text/html": [
       "<div>\n",
       "<style scoped>\n",
       "    .dataframe tbody tr th:only-of-type {\n",
       "        vertical-align: middle;\n",
       "    }\n",
       "\n",
       "    .dataframe tbody tr th {\n",
       "        vertical-align: top;\n",
       "    }\n",
       "\n",
       "    .dataframe thead th {\n",
       "        text-align: right;\n",
       "    }\n",
       "</style>\n",
       "<table border=\"1\" class=\"dataframe\">\n",
       "  <thead>\n",
       "    <tr style=\"text-align: right;\">\n",
       "      <th></th>\n",
       "      <th>Sector</th>\n",
       "      <th>SubSector</th>\n",
       "      <th>Organization</th>\n",
       "      <th>Operation</th>\n",
       "      <th>Operation Type</th>\n",
       "      <th>Address</th>\n",
       "      <th>City</th>\n",
       "      <th>Postal Code</th>\n",
       "      <th>Total Indoor Space_x</th>\n",
       "      <th>Unit of Measure</th>\n",
       "      <th>...</th>\n",
       "      <th>DistrictCooling_Unit</th>\n",
       "      <th>DistrictCooling_IsRenewable</th>\n",
       "      <th>DistrictCooling_RenewableEmissionFactor</th>\n",
       "      <th>Number of Portables</th>\n",
       "      <th>Swimming Pool</th>\n",
       "      <th>GHG Emissions KG</th>\n",
       "      <th>Energy Intensity ekWh_sqft</th>\n",
       "      <th>Energy Intensity ekWh_mega_litre</th>\n",
       "      <th>Energy Intensity GJ_m2</th>\n",
       "      <th>Energy Intensity GJ_mega_litre</th>\n",
       "    </tr>\n",
       "  </thead>\n",
       "  <tbody>\n",
       "    <tr>\n",
       "      <th>0</th>\n",
       "      <td>Public Hospital</td>\n",
       "      <td>Acute/Chronic</td>\n",
       "      <td>Alexandra Hospital</td>\n",
       "      <td>Alexandra Hospital</td>\n",
       "      <td>Facilities used for hospital purposes</td>\n",
       "      <td>29 Noxon Street</td>\n",
       "      <td>Ingersoll</td>\n",
       "      <td>N5C3V6</td>\n",
       "      <td>4660.700000</td>\n",
       "      <td>Square feet</td>\n",
       "      <td>...</td>\n",
       "      <td>Giga Joule</td>\n",
       "      <td>False</td>\n",
       "      <td>0.0</td>\n",
       "      <td>0.0</td>\n",
       "      <td>False</td>\n",
       "      <td>527560.002122</td>\n",
       "      <td>69.597090</td>\n",
       "      <td>0.0</td>\n",
       "      <td>2.696894</td>\n",
       "      <td>0.0</td>\n",
       "    </tr>\n",
       "    <tr>\n",
       "      <th>1</th>\n",
       "      <td>Public Hospital</td>\n",
       "      <td>Acute/Chronic</td>\n",
       "      <td>Alexandra Hospital</td>\n",
       "      <td>Alexandra Hospital</td>\n",
       "      <td>Administrative offices and related facilities</td>\n",
       "      <td>29 Noxon Street</td>\n",
       "      <td>Ingersoll</td>\n",
       "      <td>N5C3V6</td>\n",
       "      <td>3813.300000</td>\n",
       "      <td>Square feet</td>\n",
       "      <td>...</td>\n",
       "      <td>Giga Joule</td>\n",
       "      <td>False</td>\n",
       "      <td>0.0</td>\n",
       "      <td>0.0</td>\n",
       "      <td>False</td>\n",
       "      <td>431640.001737</td>\n",
       "      <td>69.597090</td>\n",
       "      <td>0.0</td>\n",
       "      <td>2.696894</td>\n",
       "      <td>0.0</td>\n",
       "    </tr>\n",
       "    <tr>\n",
       "      <th>2</th>\n",
       "      <td>Public Hospital</td>\n",
       "      <td>Acute/Chronic</td>\n",
       "      <td>Alexandria Glengarry Memorial Hospital</td>\n",
       "      <td>Glengarry Memorial Hospital</td>\n",
       "      <td>Facilities used for hospital purposes</td>\n",
       "      <td>20260 County Road 43</td>\n",
       "      <td>Alexandria</td>\n",
       "      <td>K0C1A0</td>\n",
       "      <td>51016.000000</td>\n",
       "      <td>Square feet</td>\n",
       "      <td>...</td>\n",
       "      <td>Giga Joule</td>\n",
       "      <td>False</td>\n",
       "      <td>0.0</td>\n",
       "      <td>0.0</td>\n",
       "      <td>False</td>\n",
       "      <td>586529.974768</td>\n",
       "      <td>79.689235</td>\n",
       "      <td>0.0</td>\n",
       "      <td>3.087966</td>\n",
       "      <td>0.0</td>\n",
       "    </tr>\n",
       "    <tr>\n",
       "      <th>3</th>\n",
       "      <td>Public Hospital</td>\n",
       "      <td>Acute/Chronic</td>\n",
       "      <td>Alexandria Glengarry Memorial Hospital</td>\n",
       "      <td>Glengarry Memorial Hospital</td>\n",
       "      <td>Administrative offices and related facilities</td>\n",
       "      <td>20260 County Road 43</td>\n",
       "      <td>Alexandria</td>\n",
       "      <td>K0C1A0</td>\n",
       "      <td>3953.000000</td>\n",
       "      <td>Square feet</td>\n",
       "      <td>...</td>\n",
       "      <td>Giga Joule</td>\n",
       "      <td>False</td>\n",
       "      <td>0.0</td>\n",
       "      <td>0.0</td>\n",
       "      <td>False</td>\n",
       "      <td>45449.455922</td>\n",
       "      <td>79.691924</td>\n",
       "      <td>0.0</td>\n",
       "      <td>3.088070</td>\n",
       "      <td>0.0</td>\n",
       "    </tr>\n",
       "    <tr>\n",
       "      <th>4</th>\n",
       "      <td>School Board</td>\n",
       "      <td>School Board</td>\n",
       "      <td>Algoma District School Board</td>\n",
       "      <td>Adult Ed - Blind River (WC Eaket)</td>\n",
       "      <td>Schools</td>\n",
       "      <td>147 Woodward Ave</td>\n",
       "      <td>Blind River</td>\n",
       "      <td>P0R1B0</td>\n",
       "      <td>1128.811234</td>\n",
       "      <td>Square feet</td>\n",
       "      <td>...</td>\n",
       "      <td>Giga Joule</td>\n",
       "      <td>False</td>\n",
       "      <td>0.0</td>\n",
       "      <td>0.0</td>\n",
       "      <td>False</td>\n",
       "      <td>52593.003152</td>\n",
       "      <td>266.361078</td>\n",
       "      <td>0.0</td>\n",
       "      <td>10.321518</td>\n",
       "      <td>0.0</td>\n",
       "    </tr>\n",
       "  </tbody>\n",
       "</table>\n",
       "<p>5 rows × 41 columns</p>\n",
       "</div>"
      ],
      "text/plain": [
       "            Sector      SubSector                            Organization  \\\n",
       "0  Public Hospital  Acute/Chronic                      Alexandra Hospital   \n",
       "1  Public Hospital  Acute/Chronic                      Alexandra Hospital   \n",
       "2  Public Hospital  Acute/Chronic  Alexandria Glengarry Memorial Hospital   \n",
       "3  Public Hospital  Acute/Chronic  Alexandria Glengarry Memorial Hospital   \n",
       "4     School Board   School Board            Algoma District School Board   \n",
       "\n",
       "                           Operation  \\\n",
       "0                 Alexandra Hospital   \n",
       "1                 Alexandra Hospital   \n",
       "2        Glengarry Memorial Hospital   \n",
       "3        Glengarry Memorial Hospital   \n",
       "4  Adult Ed - Blind River (WC Eaket)   \n",
       "\n",
       "                                  Operation Type               Address  \\\n",
       "0          Facilities used for hospital purposes       29 Noxon Street   \n",
       "1  Administrative offices and related facilities       29 Noxon Street   \n",
       "2          Facilities used for hospital purposes  20260 County Road 43   \n",
       "3  Administrative offices and related facilities  20260 County Road 43   \n",
       "4                                        Schools      147 Woodward Ave   \n",
       "\n",
       "          City Postal Code  Total Indoor Space_x Unit of Measure  ...  \\\n",
       "0    Ingersoll      N5C3V6           4660.700000     Square feet  ...   \n",
       "1    Ingersoll      N5C3V6           3813.300000     Square feet  ...   \n",
       "2   Alexandria      K0C1A0          51016.000000     Square feet  ...   \n",
       "3   Alexandria      K0C1A0           3953.000000     Square feet  ...   \n",
       "4  Blind River      P0R1B0           1128.811234     Square feet  ...   \n",
       "\n",
       "   DistrictCooling_Unit  DistrictCooling_IsRenewable  \\\n",
       "0            Giga Joule                        False   \n",
       "1            Giga Joule                        False   \n",
       "2            Giga Joule                        False   \n",
       "3            Giga Joule                        False   \n",
       "4            Giga Joule                        False   \n",
       "\n",
       "   DistrictCooling_RenewableEmissionFactor Number of Portables  Swimming Pool  \\\n",
       "0                                      0.0                 0.0          False   \n",
       "1                                      0.0                 0.0          False   \n",
       "2                                      0.0                 0.0          False   \n",
       "3                                      0.0                 0.0          False   \n",
       "4                                      0.0                 0.0          False   \n",
       "\n",
       "  GHG Emissions KG  Energy Intensity ekWh_sqft  \\\n",
       "0    527560.002122                   69.597090   \n",
       "1    431640.001737                   69.597090   \n",
       "2    586529.974768                   79.689235   \n",
       "3     45449.455922                   79.691924   \n",
       "4     52593.003152                  266.361078   \n",
       "\n",
       "  Energy Intensity ekWh_mega_litre  Energy Intensity GJ_m2  \\\n",
       "0                              0.0                2.696894   \n",
       "1                              0.0                2.696894   \n",
       "2                              0.0                3.087966   \n",
       "3                              0.0                3.088070   \n",
       "4                              0.0               10.321518   \n",
       "\n",
       "  Energy Intensity GJ_mega_litre  \n",
       "0                            0.0  \n",
       "1                            0.0  \n",
       "2                            0.0  \n",
       "3                            0.0  \n",
       "4                            0.0  \n",
       "\n",
       "[5 rows x 41 columns]"
      ]
     },
     "execution_count": 1310,
     "metadata": {},
     "output_type": "execute_result"
    }
   ],
   "source": [
    "df_1.head()"
   ]
  },
  {
   "cell_type": "code",
   "execution_count": 1311,
   "id": "2673b8b4",
   "metadata": {},
   "outputs": [],
   "source": [
    "df_1.insert(0, 'Year', 2012)"
   ]
  },
  {
   "cell_type": "code",
   "execution_count": 1312,
   "id": "18c49ddc",
   "metadata": {
    "collapsed": true
   },
   "outputs": [
    {
     "data": {
      "text/plain": [
       "Index(['Year', 'Sector', 'SubSector', 'Organization', 'Operation',\n",
       "       'Operation Type', 'Address', 'City', 'Postal Code',\n",
       "       'Total Indoor Space_x', 'Unit of Measure', 'Weekly Average Hours',\n",
       "       'Annual Flow (M)', 'Electricity_Quantity', 'Electricity_Unit',\n",
       "       'NaturalGas_Quantity', 'NaturalGas_Unit', 'FuelOil12_Quantity',\n",
       "       'FuelOil12_Unit', 'FuelOil46_Quantity', 'FuelOil46_Unit',\n",
       "       'Propane_Quantity', 'Propane_Unit', 'Coal_Quantity', 'Coal_Unit',\n",
       "       'Wood_Quantity', 'Wood_Unit', 'DistrictHeating_Quantity',\n",
       "       'DistrictHeating_Unit', 'DistrictHeating_IsRenewable',\n",
       "       'DistrictHeating_RenewableEmissionFactor', 'DistrictCooling_Quantity',\n",
       "       'DistrictCooling_Unit', 'DistrictCooling_IsRenewable',\n",
       "       'DistrictCooling_RenewableEmissionFactor', 'Number of Portables',\n",
       "       'Swimming Pool', 'GHG Emissions KG', 'Energy Intensity ekWh_sqft',\n",
       "       'Energy Intensity ekWh_mega_litre', 'Energy Intensity GJ_m2',\n",
       "       'Energy Intensity GJ_mega_litre'],\n",
       "      dtype='object')"
      ]
     },
     "execution_count": 1312,
     "metadata": {},
     "output_type": "execute_result"
    }
   ],
   "source": [
    "df_1.columns"
   ]
  },
  {
   "cell_type": "code",
   "execution_count": 1313,
   "id": "eea85f49",
   "metadata": {
    "collapsed": true
   },
   "outputs": [
    {
     "data": {
      "text/html": [
       "<div>\n",
       "<style scoped>\n",
       "    .dataframe tbody tr th:only-of-type {\n",
       "        vertical-align: middle;\n",
       "    }\n",
       "\n",
       "    .dataframe tbody tr th {\n",
       "        vertical-align: top;\n",
       "    }\n",
       "\n",
       "    .dataframe thead th {\n",
       "        text-align: right;\n",
       "    }\n",
       "</style>\n",
       "<table border=\"1\" class=\"dataframe\">\n",
       "  <thead>\n",
       "    <tr style=\"text-align: right;\">\n",
       "      <th></th>\n",
       "      <th>Year</th>\n",
       "      <th>Sector</th>\n",
       "      <th>SubSector</th>\n",
       "      <th>Organization</th>\n",
       "      <th>Operation</th>\n",
       "      <th>Operation Type</th>\n",
       "      <th>Address</th>\n",
       "      <th>City</th>\n",
       "      <th>Postal Code</th>\n",
       "      <th>Total Indoor Space_x</th>\n",
       "      <th>...</th>\n",
       "      <th>DistrictCooling_Unit</th>\n",
       "      <th>DistrictCooling_IsRenewable</th>\n",
       "      <th>DistrictCooling_RenewableEmissionFactor</th>\n",
       "      <th>Number of Portables</th>\n",
       "      <th>Swimming Pool</th>\n",
       "      <th>GHG Emissions KG</th>\n",
       "      <th>Energy Intensity ekWh_sqft</th>\n",
       "      <th>Energy Intensity ekWh_mega_litre</th>\n",
       "      <th>Energy Intensity GJ_m2</th>\n",
       "      <th>Energy Intensity GJ_mega_litre</th>\n",
       "    </tr>\n",
       "  </thead>\n",
       "  <tbody>\n",
       "    <tr>\n",
       "      <th>0</th>\n",
       "      <td>2012</td>\n",
       "      <td>Public Hospital</td>\n",
       "      <td>Acute/Chronic</td>\n",
       "      <td>Alexandra Hospital</td>\n",
       "      <td>Alexandra Hospital</td>\n",
       "      <td>Facilities used for hospital purposes</td>\n",
       "      <td>29 Noxon Street</td>\n",
       "      <td>Ingersoll</td>\n",
       "      <td>N5C3V6</td>\n",
       "      <td>4660.700000</td>\n",
       "      <td>...</td>\n",
       "      <td>Giga Joule</td>\n",
       "      <td>False</td>\n",
       "      <td>0.0</td>\n",
       "      <td>0.0</td>\n",
       "      <td>False</td>\n",
       "      <td>527560.002122</td>\n",
       "      <td>69.597090</td>\n",
       "      <td>0.0</td>\n",
       "      <td>2.696894</td>\n",
       "      <td>0.0</td>\n",
       "    </tr>\n",
       "    <tr>\n",
       "      <th>1</th>\n",
       "      <td>2012</td>\n",
       "      <td>Public Hospital</td>\n",
       "      <td>Acute/Chronic</td>\n",
       "      <td>Alexandra Hospital</td>\n",
       "      <td>Alexandra Hospital</td>\n",
       "      <td>Administrative offices and related facilities</td>\n",
       "      <td>29 Noxon Street</td>\n",
       "      <td>Ingersoll</td>\n",
       "      <td>N5C3V6</td>\n",
       "      <td>3813.300000</td>\n",
       "      <td>...</td>\n",
       "      <td>Giga Joule</td>\n",
       "      <td>False</td>\n",
       "      <td>0.0</td>\n",
       "      <td>0.0</td>\n",
       "      <td>False</td>\n",
       "      <td>431640.001737</td>\n",
       "      <td>69.597090</td>\n",
       "      <td>0.0</td>\n",
       "      <td>2.696894</td>\n",
       "      <td>0.0</td>\n",
       "    </tr>\n",
       "    <tr>\n",
       "      <th>2</th>\n",
       "      <td>2012</td>\n",
       "      <td>Public Hospital</td>\n",
       "      <td>Acute/Chronic</td>\n",
       "      <td>Alexandria Glengarry Memorial Hospital</td>\n",
       "      <td>Glengarry Memorial Hospital</td>\n",
       "      <td>Facilities used for hospital purposes</td>\n",
       "      <td>20260 County Road 43</td>\n",
       "      <td>Alexandria</td>\n",
       "      <td>K0C1A0</td>\n",
       "      <td>51016.000000</td>\n",
       "      <td>...</td>\n",
       "      <td>Giga Joule</td>\n",
       "      <td>False</td>\n",
       "      <td>0.0</td>\n",
       "      <td>0.0</td>\n",
       "      <td>False</td>\n",
       "      <td>586529.974768</td>\n",
       "      <td>79.689235</td>\n",
       "      <td>0.0</td>\n",
       "      <td>3.087966</td>\n",
       "      <td>0.0</td>\n",
       "    </tr>\n",
       "    <tr>\n",
       "      <th>3</th>\n",
       "      <td>2012</td>\n",
       "      <td>Public Hospital</td>\n",
       "      <td>Acute/Chronic</td>\n",
       "      <td>Alexandria Glengarry Memorial Hospital</td>\n",
       "      <td>Glengarry Memorial Hospital</td>\n",
       "      <td>Administrative offices and related facilities</td>\n",
       "      <td>20260 County Road 43</td>\n",
       "      <td>Alexandria</td>\n",
       "      <td>K0C1A0</td>\n",
       "      <td>3953.000000</td>\n",
       "      <td>...</td>\n",
       "      <td>Giga Joule</td>\n",
       "      <td>False</td>\n",
       "      <td>0.0</td>\n",
       "      <td>0.0</td>\n",
       "      <td>False</td>\n",
       "      <td>45449.455922</td>\n",
       "      <td>79.691924</td>\n",
       "      <td>0.0</td>\n",
       "      <td>3.088070</td>\n",
       "      <td>0.0</td>\n",
       "    </tr>\n",
       "    <tr>\n",
       "      <th>4</th>\n",
       "      <td>2012</td>\n",
       "      <td>School Board</td>\n",
       "      <td>School Board</td>\n",
       "      <td>Algoma District School Board</td>\n",
       "      <td>Adult Ed - Blind River (WC Eaket)</td>\n",
       "      <td>Schools</td>\n",
       "      <td>147 Woodward Ave</td>\n",
       "      <td>Blind River</td>\n",
       "      <td>P0R1B0</td>\n",
       "      <td>1128.811234</td>\n",
       "      <td>...</td>\n",
       "      <td>Giga Joule</td>\n",
       "      <td>False</td>\n",
       "      <td>0.0</td>\n",
       "      <td>0.0</td>\n",
       "      <td>False</td>\n",
       "      <td>52593.003152</td>\n",
       "      <td>266.361078</td>\n",
       "      <td>0.0</td>\n",
       "      <td>10.321518</td>\n",
       "      <td>0.0</td>\n",
       "    </tr>\n",
       "  </tbody>\n",
       "</table>\n",
       "<p>5 rows × 42 columns</p>\n",
       "</div>"
      ],
      "text/plain": [
       "   Year           Sector      SubSector  \\\n",
       "0  2012  Public Hospital  Acute/Chronic   \n",
       "1  2012  Public Hospital  Acute/Chronic   \n",
       "2  2012  Public Hospital  Acute/Chronic   \n",
       "3  2012  Public Hospital  Acute/Chronic   \n",
       "4  2012     School Board   School Board   \n",
       "\n",
       "                             Organization                          Operation  \\\n",
       "0                      Alexandra Hospital                 Alexandra Hospital   \n",
       "1                      Alexandra Hospital                 Alexandra Hospital   \n",
       "2  Alexandria Glengarry Memorial Hospital        Glengarry Memorial Hospital   \n",
       "3  Alexandria Glengarry Memorial Hospital        Glengarry Memorial Hospital   \n",
       "4            Algoma District School Board  Adult Ed - Blind River (WC Eaket)   \n",
       "\n",
       "                                  Operation Type               Address  \\\n",
       "0          Facilities used for hospital purposes       29 Noxon Street   \n",
       "1  Administrative offices and related facilities       29 Noxon Street   \n",
       "2          Facilities used for hospital purposes  20260 County Road 43   \n",
       "3  Administrative offices and related facilities  20260 County Road 43   \n",
       "4                                        Schools      147 Woodward Ave   \n",
       "\n",
       "          City Postal Code  Total Indoor Space_x  ... DistrictCooling_Unit  \\\n",
       "0    Ingersoll      N5C3V6           4660.700000  ...           Giga Joule   \n",
       "1    Ingersoll      N5C3V6           3813.300000  ...           Giga Joule   \n",
       "2   Alexandria      K0C1A0          51016.000000  ...           Giga Joule   \n",
       "3   Alexandria      K0C1A0           3953.000000  ...           Giga Joule   \n",
       "4  Blind River      P0R1B0           1128.811234  ...           Giga Joule   \n",
       "\n",
       "   DistrictCooling_IsRenewable  DistrictCooling_RenewableEmissionFactor  \\\n",
       "0                        False                                      0.0   \n",
       "1                        False                                      0.0   \n",
       "2                        False                                      0.0   \n",
       "3                        False                                      0.0   \n",
       "4                        False                                      0.0   \n",
       "\n",
       "   Number of Portables Swimming Pool  GHG Emissions KG  \\\n",
       "0                  0.0         False     527560.002122   \n",
       "1                  0.0         False     431640.001737   \n",
       "2                  0.0         False     586529.974768   \n",
       "3                  0.0         False      45449.455922   \n",
       "4                  0.0         False      52593.003152   \n",
       "\n",
       "  Energy Intensity ekWh_sqft  Energy Intensity ekWh_mega_litre  \\\n",
       "0                  69.597090                               0.0   \n",
       "1                  69.597090                               0.0   \n",
       "2                  79.689235                               0.0   \n",
       "3                  79.691924                               0.0   \n",
       "4                 266.361078                               0.0   \n",
       "\n",
       "  Energy Intensity GJ_m2  Energy Intensity GJ_mega_litre  \n",
       "0               2.696894                             0.0  \n",
       "1               2.696894                             0.0  \n",
       "2               3.087966                             0.0  \n",
       "3               3.088070                             0.0  \n",
       "4              10.321518                             0.0  \n",
       "\n",
       "[5 rows x 42 columns]"
      ]
     },
     "execution_count": 1313,
     "metadata": {},
     "output_type": "execute_result"
    }
   ],
   "source": [
    "df_1.head()"
   ]
  },
  {
   "cell_type": "code",
   "execution_count": 1314,
   "id": "3e9c7ddb",
   "metadata": {
    "collapsed": true
   },
   "outputs": [
    {
     "data": {
      "text/plain": [
       "Year                                         int64\n",
       "Sector                                      object\n",
       "SubSector                                   object\n",
       "Organization                                object\n",
       "Operation                                   object\n",
       "Operation Type                              object\n",
       "Address                                     object\n",
       "City                                        object\n",
       "Postal Code                                 object\n",
       "Total Indoor Space_x                       float64\n",
       "Unit of Measure                             object\n",
       "Weekly Average Hours                       float64\n",
       "Annual Flow (M)                            float64\n",
       "Electricity_Quantity                       float64\n",
       "Electricity_Unit                            object\n",
       "NaturalGas_Quantity                        float64\n",
       "NaturalGas_Unit                             object\n",
       "FuelOil12_Quantity                         float64\n",
       "FuelOil12_Unit                              object\n",
       "FuelOil46_Quantity                         float64\n",
       "FuelOil46_Unit                              object\n",
       "Propane_Quantity                           float64\n",
       "Propane_Unit                                object\n",
       "Coal_Quantity                              float64\n",
       "Coal_Unit                                   object\n",
       "Wood_Quantity                              float64\n",
       "Wood_Unit                                   object\n",
       "DistrictHeating_Quantity                   float64\n",
       "DistrictHeating_Unit                        object\n",
       "DistrictHeating_IsRenewable                   bool\n",
       "DistrictHeating_RenewableEmissionFactor    float64\n",
       "DistrictCooling_Quantity                   float64\n",
       "DistrictCooling_Unit                        object\n",
       "DistrictCooling_IsRenewable                   bool\n",
       "DistrictCooling_RenewableEmissionFactor    float64\n",
       "Number of Portables                        float64\n",
       "Swimming Pool                                 bool\n",
       "GHG Emissions KG                           float64\n",
       "Energy Intensity ekWh_sqft                 float64\n",
       "Energy Intensity ekWh_mega_litre           float64\n",
       "Energy Intensity GJ_m2                     float64\n",
       "Energy Intensity GJ_mega_litre             float64\n",
       "dtype: object"
      ]
     },
     "execution_count": 1314,
     "metadata": {},
     "output_type": "execute_result"
    }
   ],
   "source": [
    "df_1.dtypes"
   ]
  },
  {
   "cell_type": "code",
   "execution_count": 1315,
   "id": "ee2a64b1",
   "metadata": {},
   "outputs": [
    {
     "data": {
      "text/plain": [
       "array(['Cubic Meter', 'Giga Joule', 'ekWh'], dtype=object)"
      ]
     },
     "execution_count": 1315,
     "metadata": {},
     "output_type": "execute_result"
    }
   ],
   "source": [
    "df_1['NaturalGas_Unit'].unique()"
   ]
  },
  {
   "cell_type": "code",
   "execution_count": 1316,
   "id": "98e8d706",
   "metadata": {},
   "outputs": [],
   "source": [
    "gas_mapping = {'ekWh': 'Cubic Meter', 'Giga Joule': 'Cubic Meter', 'Cubic Meter': 'Cubic Meter'}\n",
    "df_1['NaturalGas_Unit'] = df_1['NaturalGas_Unit'].map(gas_mapping)\n",
    "df_1['NaturalGas_Unit'].fillna('Cubic Meter', inplace=True)"
   ]
  },
  {
   "cell_type": "code",
   "execution_count": 1317,
   "id": "87092892",
   "metadata": {},
   "outputs": [
    {
     "data": {
      "text/plain": [
       "array(['Cubic Meter'], dtype=object)"
      ]
     },
     "execution_count": 1317,
     "metadata": {},
     "output_type": "execute_result"
    }
   ],
   "source": [
    "df_1['NaturalGas_Unit'].unique()"
   ]
  },
  {
   "cell_type": "code",
   "execution_count": 1318,
   "id": "e452c25c",
   "metadata": {},
   "outputs": [
    {
     "data": {
      "text/plain": [
       "array(['Giga Joule', 'Metric Tonne'], dtype=object)"
      ]
     },
     "execution_count": 1318,
     "metadata": {},
     "output_type": "execute_result"
    }
   ],
   "source": [
    "df_1['DistrictHeating_Unit'].unique()"
   ]
  },
  {
   "cell_type": "code",
   "execution_count": 1319,
   "id": "4cd1ccfb",
   "metadata": {},
   "outputs": [],
   "source": [
    "heat_mapping = {'Metric Tonne': 'joule', 'Giga Joule': 'joule'}\n",
    "df_1['DistrictHeating_Unit'] = df_1['DistrictHeating_Unit'].map(heat_mapping)"
   ]
  },
  {
   "cell_type": "code",
   "execution_count": 1320,
   "id": "473ca5d9",
   "metadata": {},
   "outputs": [
    {
     "data": {
      "text/plain": [
       "array(['joule'], dtype=object)"
      ]
     },
     "execution_count": 1320,
     "metadata": {},
     "output_type": "execute_result"
    }
   ],
   "source": [
    "df_1['DistrictHeating_Unit'].unique()"
   ]
  },
  {
   "cell_type": "code",
   "execution_count": 1321,
   "id": "2034f4e8",
   "metadata": {},
   "outputs": [
    {
     "data": {
      "text/plain": [
       "array(['Giga Joule'], dtype=object)"
      ]
     },
     "execution_count": 1321,
     "metadata": {},
     "output_type": "execute_result"
    }
   ],
   "source": [
    "df_1['DistrictCooling_Unit'].unique()"
   ]
  },
  {
   "cell_type": "code",
   "execution_count": 1322,
   "id": "67b7b739",
   "metadata": {},
   "outputs": [],
   "source": [
    "cool_mapping = {'Giga Joule': 'joule'}\n",
    "df_1['DistrictCooling_Unit'] = df_1['DistrictCooling_Unit'].map(cool_mapping)"
   ]
  },
  {
   "cell_type": "code",
   "execution_count": 1323,
   "id": "e11ac5a8",
   "metadata": {},
   "outputs": [
    {
     "data": {
      "text/plain": [
       "array(['joule'], dtype=object)"
      ]
     },
     "execution_count": 1323,
     "metadata": {},
     "output_type": "execute_result"
    }
   ],
   "source": [
    "df_1['DistrictCooling_Unit'].unique()"
   ]
  },
  {
   "cell_type": "code",
   "execution_count": 1324,
   "id": "b39331d3",
   "metadata": {},
   "outputs": [],
   "source": [
    "df_1['Swimming Pool'] = df_1['Swimming Pool'].astype('object')"
   ]
  },
  {
   "cell_type": "code",
   "execution_count": 1325,
   "id": "8be7e4bd",
   "metadata": {},
   "outputs": [],
   "source": [
    "df_1['DistrictHeating_IsRenewable'] = df_1['DistrictHeating_IsRenewable'].astype('object')"
   ]
  },
  {
   "cell_type": "code",
   "execution_count": 1326,
   "id": "6aea2e58",
   "metadata": {},
   "outputs": [],
   "source": [
    "df_1['DistrictCooling_IsRenewable'] = df_1['DistrictCooling_IsRenewable'].astype('object')"
   ]
  },
  {
   "cell_type": "code",
   "execution_count": 1327,
   "id": "6930c5fe",
   "metadata": {},
   "outputs": [
    {
     "data": {
      "text/plain": [
       "array([False, True], dtype=object)"
      ]
     },
     "execution_count": 1327,
     "metadata": {},
     "output_type": "execute_result"
    }
   ],
   "source": [
    "df_1['Swimming Pool'].unique()"
   ]
  },
  {
   "cell_type": "code",
   "execution_count": 1328,
   "id": "69ebb00d",
   "metadata": {},
   "outputs": [
    {
     "data": {
      "text/plain": [
       "array([False, True], dtype=object)"
      ]
     },
     "execution_count": 1328,
     "metadata": {},
     "output_type": "execute_result"
    }
   ],
   "source": [
    "df_1['DistrictHeating_IsRenewable'].unique()"
   ]
  },
  {
   "cell_type": "code",
   "execution_count": 1329,
   "id": "a2b033a8",
   "metadata": {},
   "outputs": [
    {
     "data": {
      "text/plain": [
       "array([False, True], dtype=object)"
      ]
     },
     "execution_count": 1329,
     "metadata": {},
     "output_type": "execute_result"
    }
   ],
   "source": [
    "df_1['DistrictCooling_IsRenewable'].unique()"
   ]
  },
  {
   "cell_type": "code",
   "execution_count": 1330,
   "id": "e5b7f11c",
   "metadata": {
    "collapsed": true
   },
   "outputs": [
    {
     "data": {
      "text/plain": [
       "Year                                         int64\n",
       "Sector                                      object\n",
       "SubSector                                   object\n",
       "Organization                                object\n",
       "Operation                                   object\n",
       "Operation Type                              object\n",
       "Address                                     object\n",
       "City                                        object\n",
       "Postal Code                                 object\n",
       "Total Indoor Space_x                       float64\n",
       "Unit of Measure                             object\n",
       "Weekly Average Hours                       float64\n",
       "Annual Flow (M)                            float64\n",
       "Electricity_Quantity                       float64\n",
       "Electricity_Unit                            object\n",
       "NaturalGas_Quantity                        float64\n",
       "NaturalGas_Unit                             object\n",
       "FuelOil12_Quantity                         float64\n",
       "FuelOil12_Unit                              object\n",
       "FuelOil46_Quantity                         float64\n",
       "FuelOil46_Unit                              object\n",
       "Propane_Quantity                           float64\n",
       "Propane_Unit                                object\n",
       "Coal_Quantity                              float64\n",
       "Coal_Unit                                   object\n",
       "Wood_Quantity                              float64\n",
       "Wood_Unit                                   object\n",
       "DistrictHeating_Quantity                   float64\n",
       "DistrictHeating_Unit                        object\n",
       "DistrictHeating_IsRenewable                 object\n",
       "DistrictHeating_RenewableEmissionFactor    float64\n",
       "DistrictCooling_Quantity                   float64\n",
       "DistrictCooling_Unit                        object\n",
       "DistrictCooling_IsRenewable                 object\n",
       "DistrictCooling_RenewableEmissionFactor    float64\n",
       "Number of Portables                        float64\n",
       "Swimming Pool                               object\n",
       "GHG Emissions KG                           float64\n",
       "Energy Intensity ekWh_sqft                 float64\n",
       "Energy Intensity ekWh_mega_litre           float64\n",
       "Energy Intensity GJ_m2                     float64\n",
       "Energy Intensity GJ_mega_litre             float64\n",
       "dtype: object"
      ]
     },
     "execution_count": 1330,
     "metadata": {},
     "output_type": "execute_result"
    }
   ],
   "source": [
    "df_1.dtypes"
   ]
  },
  {
   "cell_type": "markdown",
   "id": "08f6ebe9",
   "metadata": {},
   "source": [
    "# Datas for 2013"
   ]
  },
  {
   "cell_type": "code",
   "execution_count": 788,
   "id": "3dc739be",
   "metadata": {},
   "outputs": [],
   "source": [
    "df_2 = pd.read_excel('datas/bps_2013_report_english_1.xlsx')"
   ]
  },
  {
   "cell_type": "code",
   "execution_count": 789,
   "id": "65ade1e6",
   "metadata": {
    "collapsed": true
   },
   "outputs": [
    {
     "data": {
      "text/html": [
       "<div>\n",
       "<style scoped>\n",
       "    .dataframe tbody tr th:only-of-type {\n",
       "        vertical-align: middle;\n",
       "    }\n",
       "\n",
       "    .dataframe tbody tr th {\n",
       "        vertical-align: top;\n",
       "    }\n",
       "\n",
       "    .dataframe thead th {\n",
       "        text-align: right;\n",
       "    }\n",
       "</style>\n",
       "<table border=\"1\" class=\"dataframe\">\n",
       "  <thead>\n",
       "    <tr style=\"text-align: right;\">\n",
       "      <th></th>\n",
       "      <th>Sector</th>\n",
       "      <th>Sub Sector</th>\n",
       "      <th>Organization</th>\n",
       "      <th>Operation</th>\n",
       "      <th>Operation Type</th>\n",
       "      <th>Address</th>\n",
       "      <th>City</th>\n",
       "      <th>Postal Code</th>\n",
       "      <th>Total Indoor Space_x</th>\n",
       "      <th>Unit of Measure</th>\n",
       "      <th>...</th>\n",
       "      <th>DistrictHeating_Unit</th>\n",
       "      <th>DistrictHeating_IsRenewable</th>\n",
       "      <th>DistrictCooling_Quantity</th>\n",
       "      <th>DistrictCooling_Unit</th>\n",
       "      <th>DistrictCooling_IsRenewable</th>\n",
       "      <th>GHG Emissions KG</th>\n",
       "      <th>Energy Intensity ekWh_sqft</th>\n",
       "      <th>Energy Intensity ekWh_mega_litre</th>\n",
       "      <th>Energy Intensity GJ_m2</th>\n",
       "      <th>Energy Intensity GJ_mega_litre</th>\n",
       "    </tr>\n",
       "  </thead>\n",
       "  <tbody>\n",
       "    <tr>\n",
       "      <th>0</th>\n",
       "      <td>Hospital</td>\n",
       "      <td>Acute/Chronic Hospital</td>\n",
       "      <td>Alexandra Hospital</td>\n",
       "      <td>Alexandra Hospital</td>\n",
       "      <td>Facilities used for hospital purposes</td>\n",
       "      <td>29 Noxon Street</td>\n",
       "      <td>Ingersoll</td>\n",
       "      <td>N5C 3V6</td>\n",
       "      <td>8474.0</td>\n",
       "      <td>Square meters</td>\n",
       "      <td>...</td>\n",
       "      <td>NaN</td>\n",
       "      <td>NaN</td>\n",
       "      <td>0.0</td>\n",
       "      <td>NaN</td>\n",
       "      <td>NaN</td>\n",
       "      <td>988988.636052</td>\n",
       "      <td>74.343357</td>\n",
       "      <td>0.0</td>\n",
       "      <td>2.880812</td>\n",
       "      <td>0.0</td>\n",
       "    </tr>\n",
       "    <tr>\n",
       "      <th>1</th>\n",
       "      <td>Hospital</td>\n",
       "      <td>Acute/Chronic Hospital</td>\n",
       "      <td>Alexandria Glengarry Memorial Hospital</td>\n",
       "      <td>Glengarry Memorial Hospital</td>\n",
       "      <td>Facilities used for hospital purposes</td>\n",
       "      <td>20260 County Road 43</td>\n",
       "      <td>Alexandria</td>\n",
       "      <td>K0C 1A0</td>\n",
       "      <td>54969.0</td>\n",
       "      <td>Square feet</td>\n",
       "      <td>...</td>\n",
       "      <td>NaN</td>\n",
       "      <td>NaN</td>\n",
       "      <td>0.0</td>\n",
       "      <td>NaN</td>\n",
       "      <td>NaN</td>\n",
       "      <td>593106.847929</td>\n",
       "      <td>76.632362</td>\n",
       "      <td>0.0</td>\n",
       "      <td>2.969511</td>\n",
       "      <td>0.0</td>\n",
       "    </tr>\n",
       "    <tr>\n",
       "      <th>2</th>\n",
       "      <td>Hospital</td>\n",
       "      <td>Acute/Chronic</td>\n",
       "      <td>Alexandria Glengarry Memorial Hospital</td>\n",
       "      <td>Glengarry Memorial Hospital</td>\n",
       "      <td>Administrative offices and related facilities</td>\n",
       "      <td>20260 County Road 43</td>\n",
       "      <td>Alexandria</td>\n",
       "      <td>K0C 1A0</td>\n",
       "      <td>3953.0</td>\n",
       "      <td>Square feet</td>\n",
       "      <td>...</td>\n",
       "      <td>NaN</td>\n",
       "      <td>NaN</td>\n",
       "      <td>0.0</td>\n",
       "      <td>NaN</td>\n",
       "      <td>NaN</td>\n",
       "      <td>0.000000</td>\n",
       "      <td>0.000000</td>\n",
       "      <td>0.0</td>\n",
       "      <td>0.000000</td>\n",
       "      <td>0.0</td>\n",
       "    </tr>\n",
       "    <tr>\n",
       "      <th>3</th>\n",
       "      <td>School Board</td>\n",
       "      <td>School Board</td>\n",
       "      <td>Algoma District School Board</td>\n",
       "      <td>Adult Ed/Con Ed - (Alex Henry)</td>\n",
       "      <td>School</td>\n",
       "      <td>232 Northern Ave E</td>\n",
       "      <td>Sault Ste. Marie</td>\n",
       "      <td>P6B4H6</td>\n",
       "      <td>130923.0</td>\n",
       "      <td>Square feet</td>\n",
       "      <td>...</td>\n",
       "      <td>NaN</td>\n",
       "      <td>NaN</td>\n",
       "      <td>0.0</td>\n",
       "      <td>NaN</td>\n",
       "      <td>NaN</td>\n",
       "      <td>450617.859238</td>\n",
       "      <td>21.563138</td>\n",
       "      <td>0.0</td>\n",
       "      <td>0.835574</td>\n",
       "      <td>0.0</td>\n",
       "    </tr>\n",
       "    <tr>\n",
       "      <th>4</th>\n",
       "      <td>School Board</td>\n",
       "      <td>School Board</td>\n",
       "      <td>Algoma District School Board</td>\n",
       "      <td>Adult Ed/Co-op (former SF Howe)</td>\n",
       "      <td>School</td>\n",
       "      <td>440 Northland Road</td>\n",
       "      <td>Sault Ste. Marie</td>\n",
       "      <td>P6C3N6</td>\n",
       "      <td>17776.0</td>\n",
       "      <td>Square feet</td>\n",
       "      <td>...</td>\n",
       "      <td>NaN</td>\n",
       "      <td>NaN</td>\n",
       "      <td>0.0</td>\n",
       "      <td>NaN</td>\n",
       "      <td>NaN</td>\n",
       "      <td>70514.146189</td>\n",
       "      <td>26.450512</td>\n",
       "      <td>0.0</td>\n",
       "      <td>1.024960</td>\n",
       "      <td>0.0</td>\n",
       "    </tr>\n",
       "  </tbody>\n",
       "</table>\n",
       "<p>5 rows × 39 columns</p>\n",
       "</div>"
      ],
      "text/plain": [
       "         Sector              Sub Sector  \\\n",
       "0      Hospital  Acute/Chronic Hospital   \n",
       "1      Hospital  Acute/Chronic Hospital   \n",
       "2      Hospital           Acute/Chronic   \n",
       "3  School Board            School Board   \n",
       "4  School Board            School Board   \n",
       "\n",
       "                             Organization                        Operation  \\\n",
       "0                      Alexandra Hospital               Alexandra Hospital   \n",
       "1  Alexandria Glengarry Memorial Hospital      Glengarry Memorial Hospital   \n",
       "2  Alexandria Glengarry Memorial Hospital      Glengarry Memorial Hospital   \n",
       "3            Algoma District School Board   Adult Ed/Con Ed - (Alex Henry)   \n",
       "4            Algoma District School Board  Adult Ed/Co-op (former SF Howe)   \n",
       "\n",
       "                                  Operation Type               Address  \\\n",
       "0          Facilities used for hospital purposes       29 Noxon Street   \n",
       "1          Facilities used for hospital purposes  20260 County Road 43   \n",
       "2  Administrative offices and related facilities  20260 County Road 43   \n",
       "3                                         School    232 Northern Ave E   \n",
       "4                                         School    440 Northland Road   \n",
       "\n",
       "               City Postal Code  Total Indoor Space_x Unit of Measure  ...  \\\n",
       "0         Ingersoll     N5C 3V6                8474.0   Square meters  ...   \n",
       "1        Alexandria     K0C 1A0               54969.0     Square feet  ...   \n",
       "2        Alexandria     K0C 1A0                3953.0     Square feet  ...   \n",
       "3  Sault Ste. Marie      P6B4H6              130923.0     Square feet  ...   \n",
       "4  Sault Ste. Marie      P6C3N6               17776.0     Square feet  ...   \n",
       "\n",
       "   DistrictHeating_Unit  DistrictHeating_IsRenewable  \\\n",
       "0                   NaN                          NaN   \n",
       "1                   NaN                          NaN   \n",
       "2                   NaN                          NaN   \n",
       "3                   NaN                          NaN   \n",
       "4                   NaN                          NaN   \n",
       "\n",
       "   DistrictCooling_Quantity DistrictCooling_Unit  DistrictCooling_IsRenewable  \\\n",
       "0                       0.0                  NaN                          NaN   \n",
       "1                       0.0                  NaN                          NaN   \n",
       "2                       0.0                  NaN                          NaN   \n",
       "3                       0.0                  NaN                          NaN   \n",
       "4                       0.0                  NaN                          NaN   \n",
       "\n",
       "  GHG Emissions KG  Energy Intensity ekWh_sqft  \\\n",
       "0    988988.636052                   74.343357   \n",
       "1    593106.847929                   76.632362   \n",
       "2         0.000000                    0.000000   \n",
       "3    450617.859238                   21.563138   \n",
       "4     70514.146189                   26.450512   \n",
       "\n",
       "  Energy Intensity ekWh_mega_litre  Energy Intensity GJ_m2  \\\n",
       "0                              0.0                2.880812   \n",
       "1                              0.0                2.969511   \n",
       "2                              0.0                0.000000   \n",
       "3                              0.0                0.835574   \n",
       "4                              0.0                1.024960   \n",
       "\n",
       "  Energy Intensity GJ_mega_litre  \n",
       "0                            0.0  \n",
       "1                            0.0  \n",
       "2                            0.0  \n",
       "3                            0.0  \n",
       "4                            0.0  \n",
       "\n",
       "[5 rows x 39 columns]"
      ]
     },
     "execution_count": 789,
     "metadata": {},
     "output_type": "execute_result"
    }
   ],
   "source": [
    "df_2.head()"
   ]
  },
  {
   "cell_type": "code",
   "execution_count": 790,
   "id": "bd635567",
   "metadata": {
    "collapsed": true
   },
   "outputs": [
    {
     "data": {
      "text/plain": [
       "Index(['Sector', 'Sub Sector', 'Organization', 'Operation', 'Operation Type',\n",
       "       'Address', 'City', 'Postal Code', 'Total Indoor Space_x',\n",
       "       'Unit of Measure', 'Weekly Average Hours', 'Annual Flow (M',\n",
       "       'Number of Portables', 'Swimming Pool', 'Electricity_Quantity',\n",
       "       'Electricity_Unit', 'NaturalGas_Quantity', 'NaturalGas_Unit',\n",
       "       'FuelOil12_Quantity', 'FuelOil12_Unit', 'FuelOil46_Quantity',\n",
       "       'FuelOil46_Unit', 'Propane_Quantity', 'Propane_Unit', 'Coal_Quantity',\n",
       "       'Coal_Unit', 'Wood_Quantity', 'Wood_Unit', 'DistrictHeating_Quantity',\n",
       "       'DistrictHeating_Unit', 'DistrictHeating_IsRenewable',\n",
       "       'DistrictCooling_Quantity', 'DistrictCooling_Unit',\n",
       "       'DistrictCooling_IsRenewable', 'GHG Emissions KG',\n",
       "       'Energy Intensity ekWh_sqft', 'Energy Intensity ekWh_mega_litre',\n",
       "       'Energy Intensity GJ_m2', 'Energy Intensity GJ_mega_litre'],\n",
       "      dtype='object')"
      ]
     },
     "execution_count": 790,
     "metadata": {},
     "output_type": "execute_result"
    }
   ],
   "source": [
    "df_2.columns"
   ]
  },
  {
   "cell_type": "code",
   "execution_count": 791,
   "id": "aeb819eb",
   "metadata": {
    "collapsed": true
   },
   "outputs": [
    {
     "data": {
      "text/plain": [
       "Sector                                  0\n",
       "Sub Sector                              0\n",
       "Organization                            0\n",
       "Operation                               0\n",
       "Operation Type                          0\n",
       "Address                                11\n",
       "City                                    0\n",
       "Postal Code                             8\n",
       "Total Indoor Space_x                    0\n",
       "Unit of Measure                      1175\n",
       "Weekly Average Hours                    0\n",
       "Annual Flow (M                       1346\n",
       "Number of Portables                     0\n",
       "Swimming Pool                        8425\n",
       "Electricity_Quantity                    0\n",
       "Electricity_Unit                      310\n",
       "NaturalGas_Quantity                     0\n",
       "NaturalGas_Unit                      5551\n",
       "FuelOil12_Quantity                      0\n",
       "FuelOil12_Unit                      16210\n",
       "FuelOil46_Quantity                      0\n",
       "FuelOil46_Unit                      16934\n",
       "Propane_Quantity                        0\n",
       "Propane_Unit                        16231\n",
       "Coal_Quantity                           0\n",
       "Coal_Unit                           17010\n",
       "Wood_Quantity                           0\n",
       "Wood_Unit                           17004\n",
       "DistrictHeating_Quantity                0\n",
       "DistrictHeating_Unit                16868\n",
       "DistrictHeating_IsRenewable         16868\n",
       "DistrictCooling_Quantity                0\n",
       "DistrictCooling_Unit                16907\n",
       "DistrictCooling_IsRenewable         16907\n",
       "GHG Emissions KG                        0\n",
       "Energy Intensity ekWh_sqft              0\n",
       "Energy Intensity ekWh_mega_litre        0\n",
       "Energy Intensity GJ_m2               1740\n",
       "Energy Intensity GJ_mega_litre          0\n",
       "dtype: int64"
      ]
     },
     "execution_count": 791,
     "metadata": {},
     "output_type": "execute_result"
    }
   ],
   "source": [
    "df_2.isnull().sum()"
   ]
  },
  {
   "cell_type": "code",
   "execution_count": 792,
   "id": "546326e5",
   "metadata": {},
   "outputs": [
    {
     "data": {
      "text/plain": [
       "array(['Square meters', 'Square feet', nan, 'mètres carrés',\n",
       "       'pieds carrés'], dtype=object)"
      ]
     },
     "execution_count": 792,
     "metadata": {},
     "output_type": "execute_result"
    }
   ],
   "source": [
    "df_2['Unit of Measure'].unique()"
   ]
  },
  {
   "cell_type": "code",
   "execution_count": 793,
   "id": "c5a66c90",
   "metadata": {},
   "outputs": [],
   "source": [
    "unit_mapping = {'mètres carrés': 'Square meters', 'pieds carrés': 'Square feet'}\n",
    "df_2['Unit of Measure'] = df_2['Unit of Measure'].map(unit_mapping)"
   ]
  },
  {
   "cell_type": "code",
   "execution_count": 794,
   "id": "a15654ff",
   "metadata": {},
   "outputs": [
    {
     "data": {
      "text/plain": [
       "Unit of Measure\n",
       "Square meters    101\n",
       "Square feet       95\n",
       "Name: count, dtype: int64"
      ]
     },
     "execution_count": 794,
     "metadata": {},
     "output_type": "execute_result"
    }
   ],
   "source": [
    "df_2['Unit of Measure'].value_counts()"
   ]
  },
  {
   "cell_type": "code",
   "execution_count": 795,
   "id": "b41ab9a9",
   "metadata": {},
   "outputs": [],
   "source": [
    "imputer = SimpleImputer(strategy='most_frequent')\n",
    "\n",
    "df_2['Unit of Measure'] = imputer.fit_transform(df_2[['Unit of Measure']]).ravel()"
   ]
  },
  {
   "cell_type": "code",
   "execution_count": 796,
   "id": "fcb8b710",
   "metadata": {},
   "outputs": [
    {
     "data": {
      "text/plain": [
       "array(['Square meters', 'Square feet'], dtype=object)"
      ]
     },
     "execution_count": 796,
     "metadata": {},
     "output_type": "execute_result"
    }
   ],
   "source": [
    "df_2['Unit of Measure'].unique()"
   ]
  },
  {
   "cell_type": "code",
   "execution_count": 797,
   "id": "31fa031b",
   "metadata": {},
   "outputs": [],
   "source": [
    "df_2 = df_2.dropna(subset=['Address'])"
   ]
  },
  {
   "cell_type": "code",
   "execution_count": 799,
   "id": "eb675444",
   "metadata": {
    "collapsed": true
   },
   "outputs": [
    {
     "data": {
      "text/plain": [
       "Annual Flow (M\n",
       "0.00000         13159\n",
       "1.00000           195\n",
       "0.00001            65\n",
       "0.10000            15\n",
       "815.30000           6\n",
       "                ...  \n",
       "119747.00000        1\n",
       "5002.00000          1\n",
       "39625.00000         1\n",
       "19991.00000         1\n",
       "6278.00000          1\n",
       "Name: count, Length: 2054, dtype: int64"
      ]
     },
     "execution_count": 799,
     "metadata": {},
     "output_type": "execute_result"
    }
   ],
   "source": [
    "df_2['Annual Flow (M'].value_counts()"
   ]
  },
  {
   "cell_type": "code",
   "execution_count": 800,
   "id": "4f057a87",
   "metadata": {},
   "outputs": [],
   "source": [
    "mean_value = df_2['Annual Flow (M'].mean()\n",
    "\n",
    "df_2['Annual Flow (M'].fillna(mean_value, inplace=True)"
   ]
  },
  {
   "cell_type": "code",
   "execution_count": 801,
   "id": "3487ca93",
   "metadata": {},
   "outputs": [
    {
     "data": {
      "text/plain": [
       "array([nan, 'No', 'non', 'S.O.', 'Yes'], dtype=object)"
      ]
     },
     "execution_count": 801,
     "metadata": {},
     "output_type": "execute_result"
    }
   ],
   "source": [
    "df_2['Swimming Pool'].unique()"
   ]
  },
  {
   "cell_type": "code",
   "execution_count": 802,
   "id": "682c1555",
   "metadata": {},
   "outputs": [
    {
     "data": {
      "text/plain": [
       "Swimming Pool\n",
       "No      8315\n",
       "non      101\n",
       "Yes       93\n",
       "S.O.      65\n",
       "Name: count, dtype: int64"
      ]
     },
     "execution_count": 802,
     "metadata": {},
     "output_type": "execute_result"
    }
   ],
   "source": [
    "df_2['Swimming Pool'].value_counts()"
   ]
  },
  {
   "cell_type": "code",
   "execution_count": 803,
   "id": "41f39471",
   "metadata": {},
   "outputs": [],
   "source": [
    "df_2['Swimming Pool'].fillna('Yes/No', inplace=True)"
   ]
  },
  {
   "cell_type": "code",
   "execution_count": 804,
   "id": "c6e89699",
   "metadata": {},
   "outputs": [
    {
     "data": {
      "text/plain": [
       "array(['kWh', nan], dtype=object)"
      ]
     },
     "execution_count": 804,
     "metadata": {},
     "output_type": "execute_result"
    }
   ],
   "source": [
    "df_2['Electricity_Unit'].unique()"
   ]
  },
  {
   "cell_type": "code",
   "execution_count": 805,
   "id": "da6ac757",
   "metadata": {},
   "outputs": [],
   "source": [
    "df_2['Electricity_Unit'].fillna('kWh', inplace=True)"
   ]
  },
  {
   "cell_type": "code",
   "execution_count": 806,
   "id": "077a12d8",
   "metadata": {},
   "outputs": [
    {
     "data": {
      "text/plain": [
       "array(['Cubic Meter', nan, 'Giga Joule', 'ekWh'], dtype=object)"
      ]
     },
     "execution_count": 806,
     "metadata": {},
     "output_type": "execute_result"
    }
   ],
   "source": [
    "df_2['NaturalGas_Unit'].unique()"
   ]
  },
  {
   "cell_type": "code",
   "execution_count": 807,
   "id": "77ffcea7",
   "metadata": {},
   "outputs": [],
   "source": [
    "gas_mapping = {'ekWh': 'Cubic Meter', 'Giga Joule': 'Cubic Meter'}\n",
    "df_2['NaturalGas_Unit'] = df_2['NaturalGas_Unit'].map(gas_mapping)"
   ]
  },
  {
   "cell_type": "code",
   "execution_count": 808,
   "id": "c947d641",
   "metadata": {},
   "outputs": [],
   "source": [
    "df_2['NaturalGas_Unit'].fillna('Cubic Meter', inplace=True)"
   ]
  },
  {
   "cell_type": "code",
   "execution_count": 809,
   "id": "7fe39cb5",
   "metadata": {},
   "outputs": [
    {
     "data": {
      "text/plain": [
       "array([nan, 'Litre'], dtype=object)"
      ]
     },
     "execution_count": 809,
     "metadata": {},
     "output_type": "execute_result"
    }
   ],
   "source": [
    "df_2['FuelOil12_Unit'].unique()"
   ]
  },
  {
   "cell_type": "code",
   "execution_count": 810,
   "id": "718120a5",
   "metadata": {},
   "outputs": [],
   "source": [
    "df_2['FuelOil12_Unit'].fillna('Litre', inplace=True)"
   ]
  },
  {
   "cell_type": "code",
   "execution_count": 811,
   "id": "3e243e12",
   "metadata": {},
   "outputs": [
    {
     "data": {
      "text/plain": [
       "array([nan, 'Litre'], dtype=object)"
      ]
     },
     "execution_count": 811,
     "metadata": {},
     "output_type": "execute_result"
    }
   ],
   "source": [
    "df_2['FuelOil46_Unit'].unique()"
   ]
  },
  {
   "cell_type": "code",
   "execution_count": 812,
   "id": "641e9d6d",
   "metadata": {},
   "outputs": [],
   "source": [
    "df_2['FuelOil46_Unit'].fillna('Litre', inplace=True)"
   ]
  },
  {
   "cell_type": "code",
   "execution_count": 813,
   "id": "06ab1682",
   "metadata": {},
   "outputs": [
    {
     "data": {
      "text/plain": [
       "array([nan, 'Litre'], dtype=object)"
      ]
     },
     "execution_count": 813,
     "metadata": {},
     "output_type": "execute_result"
    }
   ],
   "source": [
    "df_2['Propane_Unit'].unique()"
   ]
  },
  {
   "cell_type": "code",
   "execution_count": 814,
   "id": "9af40dde",
   "metadata": {},
   "outputs": [],
   "source": [
    "df_2['Propane_Unit'].fillna('Litre', inplace=True)"
   ]
  },
  {
   "cell_type": "code",
   "execution_count": 815,
   "id": "2e137447",
   "metadata": {},
   "outputs": [
    {
     "data": {
      "text/plain": [
       "array([nan])"
      ]
     },
     "execution_count": 815,
     "metadata": {},
     "output_type": "execute_result"
    }
   ],
   "source": [
    "df_2['Coal_Unit'].unique()"
   ]
  },
  {
   "cell_type": "code",
   "execution_count": 816,
   "id": "36693aa1",
   "metadata": {},
   "outputs": [],
   "source": [
    "df_2['Coal_Unit'].fillna('Tons', inplace=True)"
   ]
  },
  {
   "cell_type": "code",
   "execution_count": 817,
   "id": "b3c4881f",
   "metadata": {},
   "outputs": [
    {
     "data": {
      "text/plain": [
       "array([nan, 'Metric Tonne'], dtype=object)"
      ]
     },
     "execution_count": 817,
     "metadata": {},
     "output_type": "execute_result"
    }
   ],
   "source": [
    "df_2['Wood_Unit'].unique()"
   ]
  },
  {
   "cell_type": "code",
   "execution_count": 818,
   "id": "fe9128f9",
   "metadata": {},
   "outputs": [],
   "source": [
    "df_2['Wood_Unit'].fillna('Metric Tonne', inplace=True)"
   ]
  },
  {
   "cell_type": "code",
   "execution_count": 819,
   "id": "f47f850e",
   "metadata": {},
   "outputs": [
    {
     "data": {
      "text/plain": [
       "array([nan, 'Giga Joule', 'Metric Tonne'], dtype=object)"
      ]
     },
     "execution_count": 819,
     "metadata": {},
     "output_type": "execute_result"
    }
   ],
   "source": [
    "df_2['DistrictHeating_Unit'].unique()"
   ]
  },
  {
   "cell_type": "code",
   "execution_count": 820,
   "id": "6838acef",
   "metadata": {},
   "outputs": [],
   "source": [
    "heat_mapping = {'Metric Tonne': 'joule', 'Giga Joule': 'joule'}\n",
    "df_2['DistrictHeating_Unit'] = df_2['DistrictHeating_Unit'].map(heat_mapping)"
   ]
  },
  {
   "cell_type": "code",
   "execution_count": 821,
   "id": "969b1a48",
   "metadata": {},
   "outputs": [
    {
     "data": {
      "text/plain": [
       "array([nan, 'joule'], dtype=object)"
      ]
     },
     "execution_count": 821,
     "metadata": {},
     "output_type": "execute_result"
    }
   ],
   "source": [
    "df_2['DistrictHeating_Unit'].unique()"
   ]
  },
  {
   "cell_type": "code",
   "execution_count": 822,
   "id": "fab057b6",
   "metadata": {},
   "outputs": [],
   "source": [
    "df_2['DistrictHeating_Unit'].fillna('joule', inplace=True)"
   ]
  },
  {
   "cell_type": "code",
   "execution_count": 823,
   "id": "bde055bd",
   "metadata": {},
   "outputs": [
    {
     "data": {
      "text/plain": [
       "array([nan, 'No', 'non'], dtype=object)"
      ]
     },
     "execution_count": 823,
     "metadata": {},
     "output_type": "execute_result"
    }
   ],
   "source": [
    "df_2['DistrictHeating_IsRenewable'].unique()"
   ]
  },
  {
   "cell_type": "code",
   "execution_count": 824,
   "id": "e5c116ad",
   "metadata": {},
   "outputs": [],
   "source": [
    "df_2['DistrictHeating_IsRenewable'].fillna('Yes/No', inplace=True)"
   ]
  },
  {
   "cell_type": "code",
   "execution_count": 825,
   "id": "15c5892e",
   "metadata": {},
   "outputs": [
    {
     "data": {
      "text/plain": [
       "array(['Yes/No', 'No', 'non'], dtype=object)"
      ]
     },
     "execution_count": 825,
     "metadata": {},
     "output_type": "execute_result"
    }
   ],
   "source": [
    "df_2['DistrictHeating_IsRenewable'].unique()"
   ]
  },
  {
   "cell_type": "code",
   "execution_count": 826,
   "id": "85bb812c",
   "metadata": {},
   "outputs": [
    {
     "data": {
      "text/plain": [
       "array([nan, 'Giga Joule', 'KL Chilled Water'], dtype=object)"
      ]
     },
     "execution_count": 826,
     "metadata": {},
     "output_type": "execute_result"
    }
   ],
   "source": [
    "df_2['DistrictCooling_Unit'].unique()"
   ]
  },
  {
   "cell_type": "code",
   "execution_count": 827,
   "id": "09c6eb7d",
   "metadata": {},
   "outputs": [],
   "source": [
    "cool_mapping = {'KL Chilled Water': 'joule', 'Giga Joule': 'joule'}\n",
    "df_2['DistrictCooling_Unit'] = df_2['DistrictCooling_Unit'].map(cool_mapping)"
   ]
  },
  {
   "cell_type": "code",
   "execution_count": 828,
   "id": "ea926ece",
   "metadata": {},
   "outputs": [
    {
     "data": {
      "text/plain": [
       "array([nan, 'joule'], dtype=object)"
      ]
     },
     "execution_count": 828,
     "metadata": {},
     "output_type": "execute_result"
    }
   ],
   "source": [
    "df_2['DistrictCooling_Unit'].unique()"
   ]
  },
  {
   "cell_type": "code",
   "execution_count": 829,
   "id": "b6140efc",
   "metadata": {},
   "outputs": [],
   "source": [
    "df_2['DistrictCooling_Unit'].fillna('joule', inplace=True)"
   ]
  },
  {
   "cell_type": "code",
   "execution_count": 830,
   "id": "de577135",
   "metadata": {},
   "outputs": [
    {
     "data": {
      "text/plain": [
       "array([nan, 'No', 'Yes'], dtype=object)"
      ]
     },
     "execution_count": 830,
     "metadata": {},
     "output_type": "execute_result"
    }
   ],
   "source": [
    "df_2['DistrictCooling_IsRenewable'].unique()"
   ]
  },
  {
   "cell_type": "code",
   "execution_count": 831,
   "id": "2ad29210",
   "metadata": {},
   "outputs": [],
   "source": [
    "df_2['DistrictCooling_IsRenewable'].fillna('Yes/No', inplace=True)"
   ]
  },
  {
   "cell_type": "code",
   "execution_count": 832,
   "id": "8a5e5253",
   "metadata": {},
   "outputs": [
    {
     "data": {
      "text/plain": [
       "array(['Yes/No', 'No', 'Yes'], dtype=object)"
      ]
     },
     "execution_count": 832,
     "metadata": {},
     "output_type": "execute_result"
    }
   ],
   "source": [
    "df_2['DistrictCooling_IsRenewable'].unique()"
   ]
  },
  {
   "cell_type": "code",
   "execution_count": 833,
   "id": "1af80e5d",
   "metadata": {},
   "outputs": [
    {
     "data": {
      "text/plain": [
       "array([2.88081223, 2.96951139, 0.        , ..., 1.41723453, 0.08168562,\n",
       "       0.98352968])"
      ]
     },
     "execution_count": 833,
     "metadata": {},
     "output_type": "execute_result"
    }
   ],
   "source": [
    "df_2['Energy Intensity GJ_m2'].unique()"
   ]
  },
  {
   "cell_type": "code",
   "execution_count": 834,
   "id": "2a6d5ae1",
   "metadata": {},
   "outputs": [],
   "source": [
    "mean_values = df_2['Energy Intensity GJ_m2'].mean()\n",
    "\n",
    "df_2['Energy Intensity GJ_m2'].fillna(mean_values, inplace=True)"
   ]
  },
  {
   "cell_type": "code",
   "execution_count": 835,
   "id": "35353949",
   "metadata": {
    "collapsed": true
   },
   "outputs": [
    {
     "data": {
      "text/plain": [
       "Sector                              0\n",
       "Sub Sector                          0\n",
       "Organization                        0\n",
       "Operation                           0\n",
       "Operation Type                      0\n",
       "Address                             0\n",
       "City                                0\n",
       "Postal Code                         0\n",
       "Total Indoor Space_x                0\n",
       "Unit of Measure                     0\n",
       "Weekly Average Hours                0\n",
       "Annual Flow (M                      0\n",
       "Number of Portables                 0\n",
       "Swimming Pool                       0\n",
       "Electricity_Quantity                0\n",
       "Electricity_Unit                    0\n",
       "NaturalGas_Quantity                 0\n",
       "NaturalGas_Unit                     0\n",
       "FuelOil12_Quantity                  0\n",
       "FuelOil12_Unit                      0\n",
       "FuelOil46_Quantity                  0\n",
       "FuelOil46_Unit                      0\n",
       "Propane_Quantity                    0\n",
       "Propane_Unit                        0\n",
       "Coal_Quantity                       0\n",
       "Coal_Unit                           0\n",
       "Wood_Quantity                       0\n",
       "Wood_Unit                           0\n",
       "DistrictHeating_Quantity            0\n",
       "DistrictHeating_Unit                0\n",
       "DistrictHeating_IsRenewable         0\n",
       "DistrictCooling_Quantity            0\n",
       "DistrictCooling_Unit                0\n",
       "DistrictCooling_IsRenewable         0\n",
       "GHG Emissions KG                    0\n",
       "Energy Intensity ekWh_sqft          0\n",
       "Energy Intensity ekWh_mega_litre    0\n",
       "Energy Intensity GJ_m2              0\n",
       "Energy Intensity GJ_mega_litre      0\n",
       "dtype: int64"
      ]
     },
     "execution_count": 835,
     "metadata": {},
     "output_type": "execute_result"
    }
   ],
   "source": [
    "df_2.isnull().sum()"
   ]
  },
  {
   "cell_type": "code",
   "execution_count": 1126,
   "id": "70f186f0",
   "metadata": {
    "collapsed": true
   },
   "outputs": [
    {
     "data": {
      "text/plain": [
       "Sector                               object\n",
       "Sub Sector                           object\n",
       "Organization                         object\n",
       "Operation                            object\n",
       "Operation Type                       object\n",
       "Address                              object\n",
       "City                                 object\n",
       "Postal Code                          object\n",
       "Total Indoor Space_x                float64\n",
       "Unit of Measure                      object\n",
       "Weekly Average Hours                float64\n",
       "Annual Flow (M                      float64\n",
       "Number of Portables                 float64\n",
       "Swimming Pool                        object\n",
       "Electricity_Quantity                float64\n",
       "Electricity_Unit                     object\n",
       "NaturalGas_Quantity                 float64\n",
       "NaturalGas_Unit                      object\n",
       "FuelOil12_Quantity                  float64\n",
       "FuelOil12_Unit                       object\n",
       "FuelOil46_Quantity                  float64\n",
       "FuelOil46_Unit                       object\n",
       "Propane_Quantity                    float64\n",
       "Propane_Unit                         object\n",
       "Coal_Quantity                         int64\n",
       "Coal_Unit                            object\n",
       "Wood_Quantity                       float64\n",
       "Wood_Unit                            object\n",
       "DistrictHeating_Quantity            float64\n",
       "DistrictHeating_Unit                 object\n",
       "DistrictHeating_IsRenewable          object\n",
       "DistrictCooling_Quantity            float64\n",
       "DistrictCooling_Unit                 object\n",
       "DistrictCooling_IsRenewable          object\n",
       "GHG Emissions KG                    float64\n",
       "Energy Intensity ekWh_sqft          float64\n",
       "Energy Intensity ekWh_mega_litre    float64\n",
       "Energy Intensity GJ_m2              float64\n",
       "Energy Intensity GJ_mega_litre      float64\n",
       "dtype: object"
      ]
     },
     "execution_count": 1126,
     "metadata": {},
     "output_type": "execute_result"
    }
   ],
   "source": [
    "df_2.dtypes"
   ]
  },
  {
   "cell_type": "code",
   "execution_count": 1157,
   "id": "33829f91",
   "metadata": {},
   "outputs": [],
   "source": [
    "column_mapping2 = {'Sector': 'Sector', 'Sub Sector': 'SubSector', 'Organization': 'Organization', 'Operation': 'Operation',\n",
    "                 'Operation Type': 'Operation Type', 'Address': 'Address', 'City': 'City', 'Postal Code': 'Postal Code', 'Total Indoor Space_x': 'Total Indoor Space_x',\n",
    "                 'Unit of Measure': 'Unit of Measure', 'Weekly Average Hours': 'Weekly Average Hours', 'Annual Flow (M': 'Annual Flow (M)', 'Number of Portables': 'Number of Portables',\n",
    "                 'Swimming Pool': 'Swimming Pool', 'Electricity_Quantity': 'Electricity_Quantity', 'Electricity_Unit': 'Electricity_Unit', 'NaturalGas_Quantity': 'NaturalGas_Quantity',\n",
    "                 'NaturalGas_Unit': 'NaturalGas_Unit', 'FuelOil12_Quantity': 'FuelOil12_Quantity', 'FuelOil12_Unit': 'FuelOil12_Unit', 'FuelOil46_Quantity': 'FuelOil46_Quantity',\n",
    "                 'FuelOil46_Unit': 'FuelOil46_Unit', 'Propane_Quantity': 'Propane_Quantity', 'Propane_Unit': 'Propane_Unit', 'Coal_Quantity': 'Coal_Quantity',\n",
    "                 'Coal_Unit': 'Coal_Unit', 'Wood_Quantity': 'Wood_Quantity', 'Wood_Unit': 'Wood_Unit', 'DistrictHeating_Quantity': 'DistrictHeating_Quantity', 'DistrictHeating_Unit': 'DistrictHeating_Unit',\n",
    "                 'DistrictHeating_IsRenewable': 'DistrictHeating_IsRenewable', 'DistrictCooling_Quantity': 'DistrictCooling_Quantity',\n",
    "                 'DistrictCooling_Unit': 'DistrictCooling_Unit', 'DistrictCooling_IsRenewable': 'DistrictCooling_IsRenewable', \n",
    "                 'GHG Emissions KG': 'GHG Emissions KG', 'Energy Intensity ekWh_sqft': 'Energy Intensity ekWh_sqft', 'Energy Intensity ekWh_mega_litre': 'Energy Intensity ekWh_mega_litre',\n",
    "                 'Energy Intensity GJ_m2': 'Energy Intensity GJ_m2', 'Energy Intensity GJ_mega_litre': 'Energy Intensity GJ_mega_litre'}\n"
   ]
  },
  {
   "cell_type": "code",
   "execution_count": 1158,
   "id": "8b569dee",
   "metadata": {},
   "outputs": [],
   "source": [
    "df_2.rename(columns=column_mapping2, inplace=True)"
   ]
  },
  {
   "cell_type": "code",
   "execution_count": 1159,
   "id": "3b4d5da5",
   "metadata": {},
   "outputs": [
    {
     "data": {
      "text/plain": [
       "Index(['Sector', 'SubSector', 'Organization', 'Operation', 'Operation Type',\n",
       "       'Address', 'City', 'Postal Code', 'Total Indoor Space_x',\n",
       "       'Unit of Measure', 'Weekly Average Hours', 'Annual Flow (M)',\n",
       "       'Number of Portables', 'Swimming Pool', 'Electricity_Quantity',\n",
       "       'Electricity_Unit', 'NaturalGas_Quantity', 'NaturalGas_Unit',\n",
       "       'FuelOil12_Quantity', 'FuelOil12_Unit', 'FuelOil46_Quantity',\n",
       "       'FuelOil46_Unit', 'Propane_Quantity', 'Propane_Unit', 'Coal_Quantity',\n",
       "       'Coal_Unit', 'Wood_Quantity', 'Wood_Unit', 'DistrictHeating_Quantity',\n",
       "       'DistrictHeating_Unit', 'DistrictHeating_IsRenewable',\n",
       "       'DistrictCooling_Quantity', 'DistrictCooling_Unit',\n",
       "       'DistrictCooling_IsRenewable', 'GHG Emissions KG',\n",
       "       'Energy Intensity ekWh_sqft', 'Energy Intensity ekWh_mega_litre',\n",
       "       'Energy Intensity GJ_m2', 'Energy Intensity GJ_mega_litre'],\n",
       "      dtype='object')"
      ]
     },
     "execution_count": 1159,
     "metadata": {},
     "output_type": "execute_result"
    }
   ],
   "source": [
    "df_2.columns"
   ]
  },
  {
   "cell_type": "code",
   "execution_count": 1160,
   "id": "ef926725",
   "metadata": {
    "collapsed": true
   },
   "outputs": [
    {
     "data": {
      "text/html": [
       "<div>\n",
       "<style scoped>\n",
       "    .dataframe tbody tr th:only-of-type {\n",
       "        vertical-align: middle;\n",
       "    }\n",
       "\n",
       "    .dataframe tbody tr th {\n",
       "        vertical-align: top;\n",
       "    }\n",
       "\n",
       "    .dataframe thead th {\n",
       "        text-align: right;\n",
       "    }\n",
       "</style>\n",
       "<table border=\"1\" class=\"dataframe\">\n",
       "  <thead>\n",
       "    <tr style=\"text-align: right;\">\n",
       "      <th></th>\n",
       "      <th>Sector</th>\n",
       "      <th>SubSector</th>\n",
       "      <th>Organization</th>\n",
       "      <th>Operation</th>\n",
       "      <th>Operation Type</th>\n",
       "      <th>Address</th>\n",
       "      <th>City</th>\n",
       "      <th>Postal Code</th>\n",
       "      <th>Total Indoor Space_x</th>\n",
       "      <th>Unit of Measure</th>\n",
       "      <th>...</th>\n",
       "      <th>DistrictHeating_Unit</th>\n",
       "      <th>DistrictHeating_IsRenewable</th>\n",
       "      <th>DistrictCooling_Quantity</th>\n",
       "      <th>DistrictCooling_Unit</th>\n",
       "      <th>DistrictCooling_IsRenewable</th>\n",
       "      <th>GHG Emissions KG</th>\n",
       "      <th>Energy Intensity ekWh_sqft</th>\n",
       "      <th>Energy Intensity ekWh_mega_litre</th>\n",
       "      <th>Energy Intensity GJ_m2</th>\n",
       "      <th>Energy Intensity GJ_mega_litre</th>\n",
       "    </tr>\n",
       "  </thead>\n",
       "  <tbody>\n",
       "    <tr>\n",
       "      <th>0</th>\n",
       "      <td>Hospital</td>\n",
       "      <td>Acute/Chronic Hospital</td>\n",
       "      <td>Alexandra Hospital</td>\n",
       "      <td>Alexandra Hospital</td>\n",
       "      <td>Facilities used for hospital purposes</td>\n",
       "      <td>29 Noxon Street</td>\n",
       "      <td>Ingersoll</td>\n",
       "      <td>N5C 3V6</td>\n",
       "      <td>8474.0</td>\n",
       "      <td>Square meters</td>\n",
       "      <td>...</td>\n",
       "      <td>joule</td>\n",
       "      <td>Yes/No</td>\n",
       "      <td>0.0</td>\n",
       "      <td>joule</td>\n",
       "      <td>Yes/No</td>\n",
       "      <td>988988.636052</td>\n",
       "      <td>74.343357</td>\n",
       "      <td>0.0</td>\n",
       "      <td>2.880812</td>\n",
       "      <td>0.0</td>\n",
       "    </tr>\n",
       "    <tr>\n",
       "      <th>1</th>\n",
       "      <td>Hospital</td>\n",
       "      <td>Acute/Chronic Hospital</td>\n",
       "      <td>Alexandria Glengarry Memorial Hospital</td>\n",
       "      <td>Glengarry Memorial Hospital</td>\n",
       "      <td>Facilities used for hospital purposes</td>\n",
       "      <td>20260 County Road 43</td>\n",
       "      <td>Alexandria</td>\n",
       "      <td>K0C 1A0</td>\n",
       "      <td>54969.0</td>\n",
       "      <td>Square meters</td>\n",
       "      <td>...</td>\n",
       "      <td>joule</td>\n",
       "      <td>Yes/No</td>\n",
       "      <td>0.0</td>\n",
       "      <td>joule</td>\n",
       "      <td>Yes/No</td>\n",
       "      <td>593106.847929</td>\n",
       "      <td>76.632362</td>\n",
       "      <td>0.0</td>\n",
       "      <td>2.969511</td>\n",
       "      <td>0.0</td>\n",
       "    </tr>\n",
       "    <tr>\n",
       "      <th>2</th>\n",
       "      <td>Hospital</td>\n",
       "      <td>Acute/Chronic</td>\n",
       "      <td>Alexandria Glengarry Memorial Hospital</td>\n",
       "      <td>Glengarry Memorial Hospital</td>\n",
       "      <td>Administrative offices and related facilities</td>\n",
       "      <td>20260 County Road 43</td>\n",
       "      <td>Alexandria</td>\n",
       "      <td>K0C 1A0</td>\n",
       "      <td>3953.0</td>\n",
       "      <td>Square meters</td>\n",
       "      <td>...</td>\n",
       "      <td>joule</td>\n",
       "      <td>Yes/No</td>\n",
       "      <td>0.0</td>\n",
       "      <td>joule</td>\n",
       "      <td>Yes/No</td>\n",
       "      <td>0.000000</td>\n",
       "      <td>0.000000</td>\n",
       "      <td>0.0</td>\n",
       "      <td>0.000000</td>\n",
       "      <td>0.0</td>\n",
       "    </tr>\n",
       "    <tr>\n",
       "      <th>3</th>\n",
       "      <td>School Board</td>\n",
       "      <td>School Board</td>\n",
       "      <td>Algoma District School Board</td>\n",
       "      <td>Adult Ed/Con Ed - (Alex Henry)</td>\n",
       "      <td>School</td>\n",
       "      <td>232 Northern Ave E</td>\n",
       "      <td>Sault Ste. Marie</td>\n",
       "      <td>P6B4H6</td>\n",
       "      <td>130923.0</td>\n",
       "      <td>Square meters</td>\n",
       "      <td>...</td>\n",
       "      <td>joule</td>\n",
       "      <td>Yes/No</td>\n",
       "      <td>0.0</td>\n",
       "      <td>joule</td>\n",
       "      <td>Yes/No</td>\n",
       "      <td>450617.859238</td>\n",
       "      <td>21.563138</td>\n",
       "      <td>0.0</td>\n",
       "      <td>0.835574</td>\n",
       "      <td>0.0</td>\n",
       "    </tr>\n",
       "    <tr>\n",
       "      <th>4</th>\n",
       "      <td>School Board</td>\n",
       "      <td>School Board</td>\n",
       "      <td>Algoma District School Board</td>\n",
       "      <td>Adult Ed/Co-op (former SF Howe)</td>\n",
       "      <td>School</td>\n",
       "      <td>440 Northland Road</td>\n",
       "      <td>Sault Ste. Marie</td>\n",
       "      <td>P6C3N6</td>\n",
       "      <td>17776.0</td>\n",
       "      <td>Square meters</td>\n",
       "      <td>...</td>\n",
       "      <td>joule</td>\n",
       "      <td>Yes/No</td>\n",
       "      <td>0.0</td>\n",
       "      <td>joule</td>\n",
       "      <td>Yes/No</td>\n",
       "      <td>70514.146189</td>\n",
       "      <td>26.450512</td>\n",
       "      <td>0.0</td>\n",
       "      <td>1.024960</td>\n",
       "      <td>0.0</td>\n",
       "    </tr>\n",
       "  </tbody>\n",
       "</table>\n",
       "<p>5 rows × 39 columns</p>\n",
       "</div>"
      ],
      "text/plain": [
       "         Sector               SubSector  \\\n",
       "0      Hospital  Acute/Chronic Hospital   \n",
       "1      Hospital  Acute/Chronic Hospital   \n",
       "2      Hospital           Acute/Chronic   \n",
       "3  School Board            School Board   \n",
       "4  School Board            School Board   \n",
       "\n",
       "                             Organization                        Operation  \\\n",
       "0                      Alexandra Hospital               Alexandra Hospital   \n",
       "1  Alexandria Glengarry Memorial Hospital      Glengarry Memorial Hospital   \n",
       "2  Alexandria Glengarry Memorial Hospital      Glengarry Memorial Hospital   \n",
       "3            Algoma District School Board   Adult Ed/Con Ed - (Alex Henry)   \n",
       "4            Algoma District School Board  Adult Ed/Co-op (former SF Howe)   \n",
       "\n",
       "                                  Operation Type               Address  \\\n",
       "0          Facilities used for hospital purposes       29 Noxon Street   \n",
       "1          Facilities used for hospital purposes  20260 County Road 43   \n",
       "2  Administrative offices and related facilities  20260 County Road 43   \n",
       "3                                         School    232 Northern Ave E   \n",
       "4                                         School    440 Northland Road   \n",
       "\n",
       "               City Postal Code  Total Indoor Space_x Unit of Measure  ...  \\\n",
       "0         Ingersoll     N5C 3V6                8474.0   Square meters  ...   \n",
       "1        Alexandria     K0C 1A0               54969.0   Square meters  ...   \n",
       "2        Alexandria     K0C 1A0                3953.0   Square meters  ...   \n",
       "3  Sault Ste. Marie      P6B4H6              130923.0   Square meters  ...   \n",
       "4  Sault Ste. Marie      P6C3N6               17776.0   Square meters  ...   \n",
       "\n",
       "   DistrictHeating_Unit  DistrictHeating_IsRenewable  \\\n",
       "0                 joule                       Yes/No   \n",
       "1                 joule                       Yes/No   \n",
       "2                 joule                       Yes/No   \n",
       "3                 joule                       Yes/No   \n",
       "4                 joule                       Yes/No   \n",
       "\n",
       "   DistrictCooling_Quantity DistrictCooling_Unit  DistrictCooling_IsRenewable  \\\n",
       "0                       0.0                joule                       Yes/No   \n",
       "1                       0.0                joule                       Yes/No   \n",
       "2                       0.0                joule                       Yes/No   \n",
       "3                       0.0                joule                       Yes/No   \n",
       "4                       0.0                joule                       Yes/No   \n",
       "\n",
       "  GHG Emissions KG  Energy Intensity ekWh_sqft  \\\n",
       "0    988988.636052                   74.343357   \n",
       "1    593106.847929                   76.632362   \n",
       "2         0.000000                    0.000000   \n",
       "3    450617.859238                   21.563138   \n",
       "4     70514.146189                   26.450512   \n",
       "\n",
       "  Energy Intensity ekWh_mega_litre  Energy Intensity GJ_m2  \\\n",
       "0                              0.0                2.880812   \n",
       "1                              0.0                2.969511   \n",
       "2                              0.0                0.000000   \n",
       "3                              0.0                0.835574   \n",
       "4                              0.0                1.024960   \n",
       "\n",
       "  Energy Intensity GJ_mega_litre  \n",
       "0                            0.0  \n",
       "1                            0.0  \n",
       "2                            0.0  \n",
       "3                            0.0  \n",
       "4                            0.0  \n",
       "\n",
       "[5 rows x 39 columns]"
      ]
     },
     "execution_count": 1160,
     "metadata": {},
     "output_type": "execute_result"
    }
   ],
   "source": [
    "df_2.head()"
   ]
  },
  {
   "cell_type": "code",
   "execution_count": 1200,
   "id": "2e08fb71",
   "metadata": {},
   "outputs": [],
   "source": [
    "df_2.insert(0, 'Year', 2013)"
   ]
  },
  {
   "cell_type": "code",
   "execution_count": 1201,
   "id": "0970a337",
   "metadata": {
    "collapsed": true
   },
   "outputs": [
    {
     "data": {
      "text/html": [
       "<div>\n",
       "<style scoped>\n",
       "    .dataframe tbody tr th:only-of-type {\n",
       "        vertical-align: middle;\n",
       "    }\n",
       "\n",
       "    .dataframe tbody tr th {\n",
       "        vertical-align: top;\n",
       "    }\n",
       "\n",
       "    .dataframe thead th {\n",
       "        text-align: right;\n",
       "    }\n",
       "</style>\n",
       "<table border=\"1\" class=\"dataframe\">\n",
       "  <thead>\n",
       "    <tr style=\"text-align: right;\">\n",
       "      <th></th>\n",
       "      <th>Year</th>\n",
       "      <th>Sector</th>\n",
       "      <th>SubSector</th>\n",
       "      <th>Organization</th>\n",
       "      <th>Operation</th>\n",
       "      <th>Operation Type</th>\n",
       "      <th>Address</th>\n",
       "      <th>City</th>\n",
       "      <th>Postal Code</th>\n",
       "      <th>Total Indoor Space_x</th>\n",
       "      <th>...</th>\n",
       "      <th>DistrictHeating_Unit</th>\n",
       "      <th>DistrictHeating_IsRenewable</th>\n",
       "      <th>DistrictCooling_Quantity</th>\n",
       "      <th>DistrictCooling_Unit</th>\n",
       "      <th>DistrictCooling_IsRenewable</th>\n",
       "      <th>GHG Emissions KG</th>\n",
       "      <th>Energy Intensity ekWh_sqft</th>\n",
       "      <th>Energy Intensity ekWh_mega_litre</th>\n",
       "      <th>Energy Intensity GJ_m2</th>\n",
       "      <th>Energy Intensity GJ_mega_litre</th>\n",
       "    </tr>\n",
       "  </thead>\n",
       "  <tbody>\n",
       "    <tr>\n",
       "      <th>0</th>\n",
       "      <td>2013</td>\n",
       "      <td>Hospital</td>\n",
       "      <td>Acute/Chronic Hospital</td>\n",
       "      <td>Alexandra Hospital</td>\n",
       "      <td>Alexandra Hospital</td>\n",
       "      <td>Facilities used for hospital purposes</td>\n",
       "      <td>29 Noxon Street</td>\n",
       "      <td>Ingersoll</td>\n",
       "      <td>N5C 3V6</td>\n",
       "      <td>8474.0</td>\n",
       "      <td>...</td>\n",
       "      <td>joule</td>\n",
       "      <td>Yes/No</td>\n",
       "      <td>0.0</td>\n",
       "      <td>joule</td>\n",
       "      <td>Yes/No</td>\n",
       "      <td>988988.636052</td>\n",
       "      <td>74.343357</td>\n",
       "      <td>0.0</td>\n",
       "      <td>2.880812</td>\n",
       "      <td>0.0</td>\n",
       "    </tr>\n",
       "    <tr>\n",
       "      <th>1</th>\n",
       "      <td>2013</td>\n",
       "      <td>Hospital</td>\n",
       "      <td>Acute/Chronic Hospital</td>\n",
       "      <td>Alexandria Glengarry Memorial Hospital</td>\n",
       "      <td>Glengarry Memorial Hospital</td>\n",
       "      <td>Facilities used for hospital purposes</td>\n",
       "      <td>20260 County Road 43</td>\n",
       "      <td>Alexandria</td>\n",
       "      <td>K0C 1A0</td>\n",
       "      <td>54969.0</td>\n",
       "      <td>...</td>\n",
       "      <td>joule</td>\n",
       "      <td>Yes/No</td>\n",
       "      <td>0.0</td>\n",
       "      <td>joule</td>\n",
       "      <td>Yes/No</td>\n",
       "      <td>593106.847929</td>\n",
       "      <td>76.632362</td>\n",
       "      <td>0.0</td>\n",
       "      <td>2.969511</td>\n",
       "      <td>0.0</td>\n",
       "    </tr>\n",
       "    <tr>\n",
       "      <th>2</th>\n",
       "      <td>2013</td>\n",
       "      <td>Hospital</td>\n",
       "      <td>Acute/Chronic</td>\n",
       "      <td>Alexandria Glengarry Memorial Hospital</td>\n",
       "      <td>Glengarry Memorial Hospital</td>\n",
       "      <td>Administrative offices and related facilities</td>\n",
       "      <td>20260 County Road 43</td>\n",
       "      <td>Alexandria</td>\n",
       "      <td>K0C 1A0</td>\n",
       "      <td>3953.0</td>\n",
       "      <td>...</td>\n",
       "      <td>joule</td>\n",
       "      <td>Yes/No</td>\n",
       "      <td>0.0</td>\n",
       "      <td>joule</td>\n",
       "      <td>Yes/No</td>\n",
       "      <td>0.000000</td>\n",
       "      <td>0.000000</td>\n",
       "      <td>0.0</td>\n",
       "      <td>0.000000</td>\n",
       "      <td>0.0</td>\n",
       "    </tr>\n",
       "    <tr>\n",
       "      <th>3</th>\n",
       "      <td>2013</td>\n",
       "      <td>School Board</td>\n",
       "      <td>School Board</td>\n",
       "      <td>Algoma District School Board</td>\n",
       "      <td>Adult Ed/Con Ed - (Alex Henry)</td>\n",
       "      <td>School</td>\n",
       "      <td>232 Northern Ave E</td>\n",
       "      <td>Sault Ste. Marie</td>\n",
       "      <td>P6B4H6</td>\n",
       "      <td>130923.0</td>\n",
       "      <td>...</td>\n",
       "      <td>joule</td>\n",
       "      <td>Yes/No</td>\n",
       "      <td>0.0</td>\n",
       "      <td>joule</td>\n",
       "      <td>Yes/No</td>\n",
       "      <td>450617.859238</td>\n",
       "      <td>21.563138</td>\n",
       "      <td>0.0</td>\n",
       "      <td>0.835574</td>\n",
       "      <td>0.0</td>\n",
       "    </tr>\n",
       "    <tr>\n",
       "      <th>4</th>\n",
       "      <td>2013</td>\n",
       "      <td>School Board</td>\n",
       "      <td>School Board</td>\n",
       "      <td>Algoma District School Board</td>\n",
       "      <td>Adult Ed/Co-op (former SF Howe)</td>\n",
       "      <td>School</td>\n",
       "      <td>440 Northland Road</td>\n",
       "      <td>Sault Ste. Marie</td>\n",
       "      <td>P6C3N6</td>\n",
       "      <td>17776.0</td>\n",
       "      <td>...</td>\n",
       "      <td>joule</td>\n",
       "      <td>Yes/No</td>\n",
       "      <td>0.0</td>\n",
       "      <td>joule</td>\n",
       "      <td>Yes/No</td>\n",
       "      <td>70514.146189</td>\n",
       "      <td>26.450512</td>\n",
       "      <td>0.0</td>\n",
       "      <td>1.024960</td>\n",
       "      <td>0.0</td>\n",
       "    </tr>\n",
       "  </tbody>\n",
       "</table>\n",
       "<p>5 rows × 40 columns</p>\n",
       "</div>"
      ],
      "text/plain": [
       "   Year        Sector               SubSector  \\\n",
       "0  2013      Hospital  Acute/Chronic Hospital   \n",
       "1  2013      Hospital  Acute/Chronic Hospital   \n",
       "2  2013      Hospital           Acute/Chronic   \n",
       "3  2013  School Board            School Board   \n",
       "4  2013  School Board            School Board   \n",
       "\n",
       "                             Organization                        Operation  \\\n",
       "0                      Alexandra Hospital               Alexandra Hospital   \n",
       "1  Alexandria Glengarry Memorial Hospital      Glengarry Memorial Hospital   \n",
       "2  Alexandria Glengarry Memorial Hospital      Glengarry Memorial Hospital   \n",
       "3            Algoma District School Board   Adult Ed/Con Ed - (Alex Henry)   \n",
       "4            Algoma District School Board  Adult Ed/Co-op (former SF Howe)   \n",
       "\n",
       "                                  Operation Type               Address  \\\n",
       "0          Facilities used for hospital purposes       29 Noxon Street   \n",
       "1          Facilities used for hospital purposes  20260 County Road 43   \n",
       "2  Administrative offices and related facilities  20260 County Road 43   \n",
       "3                                         School    232 Northern Ave E   \n",
       "4                                         School    440 Northland Road   \n",
       "\n",
       "               City Postal Code  Total Indoor Space_x  ...  \\\n",
       "0         Ingersoll     N5C 3V6                8474.0  ...   \n",
       "1        Alexandria     K0C 1A0               54969.0  ...   \n",
       "2        Alexandria     K0C 1A0                3953.0  ...   \n",
       "3  Sault Ste. Marie      P6B4H6              130923.0  ...   \n",
       "4  Sault Ste. Marie      P6C3N6               17776.0  ...   \n",
       "\n",
       "  DistrictHeating_Unit  DistrictHeating_IsRenewable  DistrictCooling_Quantity  \\\n",
       "0                joule                       Yes/No                       0.0   \n",
       "1                joule                       Yes/No                       0.0   \n",
       "2                joule                       Yes/No                       0.0   \n",
       "3                joule                       Yes/No                       0.0   \n",
       "4                joule                       Yes/No                       0.0   \n",
       "\n",
       "   DistrictCooling_Unit DistrictCooling_IsRenewable  GHG Emissions KG  \\\n",
       "0                 joule                      Yes/No     988988.636052   \n",
       "1                 joule                      Yes/No     593106.847929   \n",
       "2                 joule                      Yes/No          0.000000   \n",
       "3                 joule                      Yes/No     450617.859238   \n",
       "4                 joule                      Yes/No      70514.146189   \n",
       "\n",
       "  Energy Intensity ekWh_sqft  Energy Intensity ekWh_mega_litre  \\\n",
       "0                  74.343357                               0.0   \n",
       "1                  76.632362                               0.0   \n",
       "2                   0.000000                               0.0   \n",
       "3                  21.563138                               0.0   \n",
       "4                  26.450512                               0.0   \n",
       "\n",
       "  Energy Intensity GJ_m2  Energy Intensity GJ_mega_litre  \n",
       "0               2.880812                             0.0  \n",
       "1               2.969511                             0.0  \n",
       "2               0.000000                             0.0  \n",
       "3               0.835574                             0.0  \n",
       "4               1.024960                             0.0  \n",
       "\n",
       "[5 rows x 40 columns]"
      ]
     },
     "execution_count": 1201,
     "metadata": {},
     "output_type": "execute_result"
    }
   ],
   "source": [
    "df_2.head()"
   ]
  },
  {
   "cell_type": "markdown",
   "id": "1dccbf8b",
   "metadata": {},
   "source": [
    "# Datas for 2014"
   ]
  },
  {
   "cell_type": "code",
   "execution_count": 836,
   "id": "5b977a63",
   "metadata": {},
   "outputs": [],
   "source": [
    "df_3 = pd.read_excel('datas/bps_2014_report_english_1.xlsx')"
   ]
  },
  {
   "cell_type": "code",
   "execution_count": 837,
   "id": "c308a593",
   "metadata": {
    "collapsed": true
   },
   "outputs": [
    {
     "data": {
      "text/html": [
       "<div>\n",
       "<style scoped>\n",
       "    .dataframe tbody tr th:only-of-type {\n",
       "        vertical-align: middle;\n",
       "    }\n",
       "\n",
       "    .dataframe tbody tr th {\n",
       "        vertical-align: top;\n",
       "    }\n",
       "\n",
       "    .dataframe thead th {\n",
       "        text-align: right;\n",
       "    }\n",
       "</style>\n",
       "<table border=\"1\" class=\"dataframe\">\n",
       "  <thead>\n",
       "    <tr style=\"text-align: right;\">\n",
       "      <th></th>\n",
       "      <th>Sector</th>\n",
       "      <th>Sub Sector</th>\n",
       "      <th>Organization</th>\n",
       "      <th>Operation</th>\n",
       "      <th>Operation Type</th>\n",
       "      <th>Address</th>\n",
       "      <th>City</th>\n",
       "      <th>Postal Code</th>\n",
       "      <th>Total Indoor Space_x</th>\n",
       "      <th>Unit of Measure</th>\n",
       "      <th>...</th>\n",
       "      <th>DistrictHeating_RenewableEmissionFactor</th>\n",
       "      <th>DistrictCooling_Quantity</th>\n",
       "      <th>DistrictCooling_Unit</th>\n",
       "      <th>DistrictCooling_IsRenewable</th>\n",
       "      <th>DistrictCooling_RenewableEmissionFactor</th>\n",
       "      <th>GHG Emissions KG</th>\n",
       "      <th>Energy Intensity ekWh_sqft</th>\n",
       "      <th>Energy Intensity ekWh_mega_litre</th>\n",
       "      <th>Energy Intensity GJ_m2</th>\n",
       "      <th>Energy Intensity GJ_mega_litre</th>\n",
       "    </tr>\n",
       "  </thead>\n",
       "  <tbody>\n",
       "    <tr>\n",
       "      <th>0</th>\n",
       "      <td>Public Hospital</td>\n",
       "      <td>Acute/Chronic Hospital</td>\n",
       "      <td>Alexandra Hospital</td>\n",
       "      <td>Alexandra Hospital</td>\n",
       "      <td>Facilities used for hospital purposes</td>\n",
       "      <td>29 Noxon Street</td>\n",
       "      <td>Ingersoll</td>\n",
       "      <td>N5C 3V6</td>\n",
       "      <td>8474.000000</td>\n",
       "      <td>Square meters</td>\n",
       "      <td>...</td>\n",
       "      <td>0.0</td>\n",
       "      <td>0.0</td>\n",
       "      <td>NaN</td>\n",
       "      <td>NaN</td>\n",
       "      <td>0.0</td>\n",
       "      <td>981710.084094</td>\n",
       "      <td>77.941758</td>\n",
       "      <td>0.0</td>\n",
       "      <td>3.020251</td>\n",
       "      <td>0.0</td>\n",
       "    </tr>\n",
       "    <tr>\n",
       "      <th>1</th>\n",
       "      <td>Public Hospital</td>\n",
       "      <td>Acute/Chronic Hospital</td>\n",
       "      <td>Alexandria Glengarry Memorial Hospital</td>\n",
       "      <td>Glengarry Memorial Hospital</td>\n",
       "      <td>Facilities used for hospital purposes</td>\n",
       "      <td>20260 County Road 43</td>\n",
       "      <td>Alexandria</td>\n",
       "      <td>K0C 1A0</td>\n",
       "      <td>54969.000000</td>\n",
       "      <td>Square feet</td>\n",
       "      <td>...</td>\n",
       "      <td>0.0</td>\n",
       "      <td>0.0</td>\n",
       "      <td>NaN</td>\n",
       "      <td>NaN</td>\n",
       "      <td>0.0</td>\n",
       "      <td>433501.736931</td>\n",
       "      <td>45.001445</td>\n",
       "      <td>0.0</td>\n",
       "      <td>1.743810</td>\n",
       "      <td>0.0</td>\n",
       "    </tr>\n",
       "    <tr>\n",
       "      <th>2</th>\n",
       "      <td>School Board</td>\n",
       "      <td>School Board</td>\n",
       "      <td>Algoma District School Board</td>\n",
       "      <td>Adult Ed/Con Ed - (Alex Henry)</td>\n",
       "      <td>School</td>\n",
       "      <td>232 Northern Ave E</td>\n",
       "      <td>Sault Ste. Marie</td>\n",
       "      <td>P6B4H6</td>\n",
       "      <td>130923.000000</td>\n",
       "      <td>Square feet</td>\n",
       "      <td>...</td>\n",
       "      <td>0.0</td>\n",
       "      <td>0.0</td>\n",
       "      <td>NaN</td>\n",
       "      <td>NaN</td>\n",
       "      <td>0.0</td>\n",
       "      <td>413821.965246</td>\n",
       "      <td>20.489115</td>\n",
       "      <td>0.0</td>\n",
       "      <td>0.793955</td>\n",
       "      <td>0.0</td>\n",
       "    </tr>\n",
       "    <tr>\n",
       "      <th>3</th>\n",
       "      <td>School Board</td>\n",
       "      <td>School Board</td>\n",
       "      <td>Algoma District School Board</td>\n",
       "      <td>Arthur Henderson PS</td>\n",
       "      <td>School</td>\n",
       "      <td>2 Henderson Lane</td>\n",
       "      <td>Bruce Mines</td>\n",
       "      <td>P0R 1C0</td>\n",
       "      <td>16764.000000</td>\n",
       "      <td>Square feet</td>\n",
       "      <td>...</td>\n",
       "      <td>0.0</td>\n",
       "      <td>0.0</td>\n",
       "      <td>NaN</td>\n",
       "      <td>NaN</td>\n",
       "      <td>0.0</td>\n",
       "      <td>38670.006816</td>\n",
       "      <td>17.807170</td>\n",
       "      <td>0.0</td>\n",
       "      <td>0.690030</td>\n",
       "      <td>0.0</td>\n",
       "    </tr>\n",
       "    <tr>\n",
       "      <th>4</th>\n",
       "      <td>School Board</td>\n",
       "      <td>School Board</td>\n",
       "      <td>Algoma District School Board</td>\n",
       "      <td>Ben R McMullin PS</td>\n",
       "      <td>School</td>\n",
       "      <td>24 Paradise Ave</td>\n",
       "      <td>Sault Ste. Marie</td>\n",
       "      <td>P6B 5K2</td>\n",
       "      <td>22098.308631</td>\n",
       "      <td>Square feet</td>\n",
       "      <td>...</td>\n",
       "      <td>0.0</td>\n",
       "      <td>0.0</td>\n",
       "      <td>NaN</td>\n",
       "      <td>NaN</td>\n",
       "      <td>0.0</td>\n",
       "      <td>51921.314019</td>\n",
       "      <td>18.076054</td>\n",
       "      <td>0.0</td>\n",
       "      <td>0.700449</td>\n",
       "      <td>0.0</td>\n",
       "    </tr>\n",
       "  </tbody>\n",
       "</table>\n",
       "<p>5 rows × 41 columns</p>\n",
       "</div>"
      ],
      "text/plain": [
       "            Sector              Sub Sector  \\\n",
       "0  Public Hospital  Acute/Chronic Hospital   \n",
       "1  Public Hospital  Acute/Chronic Hospital   \n",
       "2     School Board            School Board   \n",
       "3     School Board            School Board   \n",
       "4     School Board            School Board   \n",
       "\n",
       "                             Organization                       Operation  \\\n",
       "0                      Alexandra Hospital              Alexandra Hospital   \n",
       "1  Alexandria Glengarry Memorial Hospital     Glengarry Memorial Hospital   \n",
       "2            Algoma District School Board  Adult Ed/Con Ed - (Alex Henry)   \n",
       "3            Algoma District School Board             Arthur Henderson PS   \n",
       "4            Algoma District School Board               Ben R McMullin PS   \n",
       "\n",
       "                          Operation Type               Address  \\\n",
       "0  Facilities used for hospital purposes       29 Noxon Street   \n",
       "1  Facilities used for hospital purposes  20260 County Road 43   \n",
       "2                                 School    232 Northern Ave E   \n",
       "3                                 School      2 Henderson Lane   \n",
       "4                                 School       24 Paradise Ave   \n",
       "\n",
       "               City Postal Code  Total Indoor Space_x Unit of Measure  ...  \\\n",
       "0         Ingersoll     N5C 3V6           8474.000000   Square meters  ...   \n",
       "1        Alexandria     K0C 1A0          54969.000000     Square feet  ...   \n",
       "2  Sault Ste. Marie      P6B4H6         130923.000000     Square feet  ...   \n",
       "3       Bruce Mines     P0R 1C0          16764.000000     Square feet  ...   \n",
       "4  Sault Ste. Marie     P6B 5K2          22098.308631     Square feet  ...   \n",
       "\n",
       "   DistrictHeating_RenewableEmissionFactor  DistrictCooling_Quantity  \\\n",
       "0                                      0.0                       0.0   \n",
       "1                                      0.0                       0.0   \n",
       "2                                      0.0                       0.0   \n",
       "3                                      0.0                       0.0   \n",
       "4                                      0.0                       0.0   \n",
       "\n",
       "   DistrictCooling_Unit DistrictCooling_IsRenewable  \\\n",
       "0                   NaN                         NaN   \n",
       "1                   NaN                         NaN   \n",
       "2                   NaN                         NaN   \n",
       "3                   NaN                         NaN   \n",
       "4                   NaN                         NaN   \n",
       "\n",
       "   DistrictCooling_RenewableEmissionFactor GHG Emissions KG  \\\n",
       "0                                      0.0    981710.084094   \n",
       "1                                      0.0    433501.736931   \n",
       "2                                      0.0    413821.965246   \n",
       "3                                      0.0     38670.006816   \n",
       "4                                      0.0     51921.314019   \n",
       "\n",
       "   Energy Intensity ekWh_sqft Energy Intensity ekWh_mega_litre  \\\n",
       "0                   77.941758                              0.0   \n",
       "1                   45.001445                              0.0   \n",
       "2                   20.489115                              0.0   \n",
       "3                   17.807170                              0.0   \n",
       "4                   18.076054                              0.0   \n",
       "\n",
       "   Energy Intensity GJ_m2 Energy Intensity GJ_mega_litre  \n",
       "0                3.020251                            0.0  \n",
       "1                1.743810                            0.0  \n",
       "2                0.793955                            0.0  \n",
       "3                0.690030                            0.0  \n",
       "4                0.700449                            0.0  \n",
       "\n",
       "[5 rows x 41 columns]"
      ]
     },
     "execution_count": 837,
     "metadata": {},
     "output_type": "execute_result"
    }
   ],
   "source": [
    "df_3.head()"
   ]
  },
  {
   "cell_type": "code",
   "execution_count": 838,
   "id": "390a0678",
   "metadata": {
    "collapsed": true
   },
   "outputs": [
    {
     "data": {
      "text/plain": [
       "Index(['Sector', 'Sub Sector', 'Organization', 'Operation', 'Operation Type',\n",
       "       'Address', 'City', 'Postal Code', 'Total Indoor Space_x',\n",
       "       'Unit of Measure', 'Weekly Average Hours', 'Annual Flow (M',\n",
       "       'Number of Portables', 'Swimming Pool', 'Electricity_Quantity',\n",
       "       'Electricity_Unit', 'NaturalGas_Quantity', 'NaturalGas_Unit',\n",
       "       'FuelOil12_Quantity', 'FuelOil12_Unit', 'FuelOil46_Quantity',\n",
       "       'FuelOil46_Unit', 'Propane_Quantity', 'Propane_Unit', 'Coal_Quantity',\n",
       "       'Coal_Unit', 'Wood_Quantity', 'Wood_Unit', 'DistrictHeating_Quantity',\n",
       "       'DistrictHeating_Unit', 'DistrictHeating_IsRenewable',\n",
       "       'DistrictHeating_RenewableEmissionFactor', 'DistrictCooling_Quantity',\n",
       "       'DistrictCooling_Unit', 'DistrictCooling_IsRenewable',\n",
       "       'DistrictCooling_RenewableEmissionFactor', 'GHG Emissions KG',\n",
       "       'Energy Intensity ekWh_sqft', 'Energy Intensity ekWh_mega_litre',\n",
       "       'Energy Intensity GJ_m2', 'Energy Intensity GJ_mega_litre'],\n",
       "      dtype='object')"
      ]
     },
     "execution_count": 838,
     "metadata": {},
     "output_type": "execute_result"
    }
   ],
   "source": [
    "df_3.columns"
   ]
  },
  {
   "cell_type": "code",
   "execution_count": 839,
   "id": "1ed1de02",
   "metadata": {
    "collapsed": true
   },
   "outputs": [
    {
     "data": {
      "text/plain": [
       "Sector                                         0\n",
       "Sub Sector                                     0\n",
       "Organization                                   0\n",
       "Operation                                      0\n",
       "Operation Type                                 0\n",
       "Address                                       11\n",
       "City                                           0\n",
       "Postal Code                                    8\n",
       "Total Indoor Space_x                           0\n",
       "Unit of Measure                              917\n",
       "Weekly Average Hours                           0\n",
       "Annual Flow (M                               833\n",
       "Number of Portables                           67\n",
       "Swimming Pool                               9326\n",
       "Electricity_Quantity                           0\n",
       "Electricity_Unit                             334\n",
       "NaturalGas_Quantity                           27\n",
       "NaturalGas_Unit                             5603\n",
       "FuelOil12_Quantity                            67\n",
       "FuelOil12_Unit                             16421\n",
       "FuelOil46_Quantity                            67\n",
       "FuelOil46_Unit                             17172\n",
       "Propane_Quantity                              67\n",
       "Propane_Unit                               16397\n",
       "Coal_Quantity                                 67\n",
       "Coal_Unit                                  17224\n",
       "Wood_Quantity                                 67\n",
       "Wood_Unit                                  17217\n",
       "DistrictHeating_Quantity                      67\n",
       "DistrictHeating_Unit                       17080\n",
       "DistrictHeating_IsRenewable                17080\n",
       "DistrictHeating_RenewableEmissionFactor       83\n",
       "DistrictCooling_Quantity                      67\n",
       "DistrictCooling_Unit                       17116\n",
       "DistrictCooling_IsRenewable                17116\n",
       "DistrictCooling_RenewableEmissionFactor       72\n",
       "GHG Emissions KG                               0\n",
       "Energy Intensity ekWh_sqft                     0\n",
       "Energy Intensity ekWh_mega_litre               0\n",
       "Energy Intensity GJ_m2                      1519\n",
       "Energy Intensity GJ_mega_litre                 0\n",
       "dtype: int64"
      ]
     },
     "execution_count": 839,
     "metadata": {},
     "output_type": "execute_result"
    }
   ],
   "source": [
    "df_3.isnull().sum()"
   ]
  },
  {
   "cell_type": "code",
   "execution_count": 840,
   "id": "cf08295d",
   "metadata": {},
   "outputs": [
    {
     "data": {
      "text/plain": [
       "array(['Square meters', 'Square feet', nan], dtype=object)"
      ]
     },
     "execution_count": 840,
     "metadata": {},
     "output_type": "execute_result"
    }
   ],
   "source": [
    "df_3['Unit of Measure'].unique()"
   ]
  },
  {
   "cell_type": "code",
   "execution_count": 841,
   "id": "197c31c6",
   "metadata": {},
   "outputs": [
    {
     "data": {
      "text/plain": [
       "Unit of Measure\n",
       "Square feet      11859\n",
       "Square meters     4448\n",
       "Name: count, dtype: int64"
      ]
     },
     "execution_count": 841,
     "metadata": {},
     "output_type": "execute_result"
    }
   ],
   "source": [
    "df_3['Unit of Measure'].value_counts()"
   ]
  },
  {
   "cell_type": "code",
   "execution_count": 842,
   "id": "0be8be79",
   "metadata": {},
   "outputs": [],
   "source": [
    "imputer = SimpleImputer(strategy='most_frequent')\n",
    "\n",
    "df_3['Unit of Measure'] = imputer.fit_transform(df_3[['Unit of Measure']]).ravel()"
   ]
  },
  {
   "cell_type": "code",
   "execution_count": 843,
   "id": "ade7f0f9",
   "metadata": {},
   "outputs": [
    {
     "data": {
      "text/plain": [
       "array(['Square meters', 'Square feet'], dtype=object)"
      ]
     },
     "execution_count": 843,
     "metadata": {},
     "output_type": "execute_result"
    }
   ],
   "source": [
    "df_3['Unit of Measure'].unique()"
   ]
  },
  {
   "cell_type": "code",
   "execution_count": 844,
   "id": "43454f03",
   "metadata": {},
   "outputs": [],
   "source": [
    "df_3 = df_3.dropna(subset=['Address'])"
   ]
  },
  {
   "cell_type": "code",
   "execution_count": 845,
   "id": "18d8e3f6",
   "metadata": {},
   "outputs": [
    {
     "data": {
      "text/plain": [
       "array([    0.   ,  5958.223,       nan, ..., 61208.   , 27970.   ,\n",
       "        2921.   ])"
      ]
     },
     "execution_count": 845,
     "metadata": {},
     "output_type": "execute_result"
    }
   ],
   "source": [
    "df_3['Annual Flow (M'].unique()"
   ]
  },
  {
   "cell_type": "code",
   "execution_count": 846,
   "id": "c58d5325",
   "metadata": {},
   "outputs": [],
   "source": [
    "mean_value = df_3['Annual Flow (M'].mean()\n",
    "\n",
    "df_3['Annual Flow (M'].fillna(mean_value, inplace=True)"
   ]
  },
  {
   "cell_type": "code",
   "execution_count": 847,
   "id": "02cf18bc",
   "metadata": {},
   "outputs": [
    {
     "data": {
      "text/plain": [
       "array([ 0.,  2.,  1.,  4.,  3.,  8.,  5.,  6., 18.,  9., 12., nan, 14.,\n",
       "       10., 16., 11.,  7., 17., 22., 19., 25., 13., 15., 20., 21., 27.,\n",
       "       23., 26.])"
      ]
     },
     "execution_count": 847,
     "metadata": {},
     "output_type": "execute_result"
    }
   ],
   "source": [
    "df_3['Number of Portables'].unique()"
   ]
  },
  {
   "cell_type": "code",
   "execution_count": 848,
   "id": "45f8138c",
   "metadata": {
    "collapsed": true
   },
   "outputs": [
    {
     "data": {
      "text/plain": [
       "Number of Portables\n",
       "0.0     15313\n",
       "1.0       395\n",
       "2.0       338\n",
       "3.0       240\n",
       "4.0       216\n",
       "6.0       151\n",
       "5.0       131\n",
       "8.0        74\n",
       "7.0        67\n",
       "9.0        47\n",
       "10.0       38\n",
       "12.0       35\n",
       "11.0       25\n",
       "13.0       16\n",
       "14.0       15\n",
       "16.0       10\n",
       "17.0        6\n",
       "20.0        6\n",
       "18.0        5\n",
       "19.0        4\n",
       "15.0        4\n",
       "21.0        3\n",
       "22.0        2\n",
       "25.0        2\n",
       "27.0        1\n",
       "23.0        1\n",
       "26.0        1\n",
       "Name: count, dtype: int64"
      ]
     },
     "execution_count": 848,
     "metadata": {},
     "output_type": "execute_result"
    }
   ],
   "source": [
    "df_3['Number of Portables'].value_counts()"
   ]
  },
  {
   "cell_type": "code",
   "execution_count": 849,
   "id": "3eea1fdd",
   "metadata": {},
   "outputs": [],
   "source": [
    "mean_value = df_3['Number of Portables'].mean()\n",
    "\n",
    "df_3['Number of Portables'].fillna(mean_value, inplace=True)"
   ]
  },
  {
   "cell_type": "code",
   "execution_count": 850,
   "id": "eacc2c7e",
   "metadata": {},
   "outputs": [
    {
     "data": {
      "text/plain": [
       "array([nan, 'No', 'Yes'], dtype=object)"
      ]
     },
     "execution_count": 850,
     "metadata": {},
     "output_type": "execute_result"
    }
   ],
   "source": [
    "df_3['Swimming Pool'].unique()"
   ]
  },
  {
   "cell_type": "code",
   "execution_count": 851,
   "id": "16b9166b",
   "metadata": {},
   "outputs": [
    {
     "data": {
      "text/plain": [
       "Swimming Pool\n",
       "No     7805\n",
       "Yes      93\n",
       "Name: count, dtype: int64"
      ]
     },
     "execution_count": 851,
     "metadata": {},
     "output_type": "execute_result"
    }
   ],
   "source": [
    "df_3['Swimming Pool'].value_counts()"
   ]
  },
  {
   "cell_type": "code",
   "execution_count": 852,
   "id": "d8330a02",
   "metadata": {},
   "outputs": [],
   "source": [
    "df_3['Swimming Pool'].fillna('Yes/No', inplace=True)"
   ]
  },
  {
   "cell_type": "code",
   "execution_count": 853,
   "id": "211efa2a",
   "metadata": {},
   "outputs": [
    {
     "data": {
      "text/plain": [
       "array(['kWh', nan], dtype=object)"
      ]
     },
     "execution_count": 853,
     "metadata": {},
     "output_type": "execute_result"
    }
   ],
   "source": [
    "df_3['Electricity_Unit'].unique()"
   ]
  },
  {
   "cell_type": "code",
   "execution_count": 854,
   "id": "34adb25b",
   "metadata": {},
   "outputs": [],
   "source": [
    "df_3['Electricity_Unit'].fillna('kWh', inplace=True)"
   ]
  },
  {
   "cell_type": "code",
   "execution_count": 855,
   "id": "467fc22a",
   "metadata": {},
   "outputs": [
    {
     "data": {
      "text/plain": [
       "array(['Cubic Meter', nan, 'Giga Joule', 'ekWh'], dtype=object)"
      ]
     },
     "execution_count": 855,
     "metadata": {},
     "output_type": "execute_result"
    }
   ],
   "source": [
    "df_3['NaturalGas_Unit'].unique()"
   ]
  },
  {
   "cell_type": "code",
   "execution_count": 856,
   "id": "3256dccc",
   "metadata": {},
   "outputs": [],
   "source": [
    "gas_mapping = {'ekWh': 'Cubic Meter', 'Giga Joule': 'Cubic Meter'}\n",
    "df_3['NaturalGas_Unit'] = df_3['NaturalGas_Unit'].map(gas_mapping)"
   ]
  },
  {
   "cell_type": "code",
   "execution_count": 857,
   "id": "2c3ddd99",
   "metadata": {},
   "outputs": [],
   "source": [
    "df_3['NaturalGas_Unit'].fillna('Cubic Meter', inplace=True)"
   ]
  },
  {
   "cell_type": "code",
   "execution_count": 858,
   "id": "ea3e1f9d",
   "metadata": {},
   "outputs": [
    {
     "data": {
      "text/plain": [
       "array([nan, 'Litre'], dtype=object)"
      ]
     },
     "execution_count": 858,
     "metadata": {},
     "output_type": "execute_result"
    }
   ],
   "source": [
    "df_3['FuelOil12_Unit'].unique()"
   ]
  },
  {
   "cell_type": "code",
   "execution_count": 859,
   "id": "791f4fdb",
   "metadata": {},
   "outputs": [],
   "source": [
    "df_3['FuelOil12_Unit'].fillna('Litre', inplace=True)"
   ]
  },
  {
   "cell_type": "code",
   "execution_count": 860,
   "id": "0344cf65",
   "metadata": {},
   "outputs": [
    {
     "data": {
      "text/plain": [
       "array([nan, 'Litre'], dtype=object)"
      ]
     },
     "execution_count": 860,
     "metadata": {},
     "output_type": "execute_result"
    }
   ],
   "source": [
    "df_3['FuelOil46_Unit'].unique()"
   ]
  },
  {
   "cell_type": "code",
   "execution_count": 861,
   "id": "98cdafd1",
   "metadata": {},
   "outputs": [],
   "source": [
    "df_3['FuelOil46_Unit'].fillna('Litre', inplace=True)"
   ]
  },
  {
   "cell_type": "code",
   "execution_count": 862,
   "id": "d08230af",
   "metadata": {},
   "outputs": [
    {
     "data": {
      "text/plain": [
       "array([nan, 'Litre'], dtype=object)"
      ]
     },
     "execution_count": 862,
     "metadata": {},
     "output_type": "execute_result"
    }
   ],
   "source": [
    "df_3['Propane_Unit'].unique()"
   ]
  },
  {
   "cell_type": "code",
   "execution_count": 863,
   "id": "1b306247",
   "metadata": {},
   "outputs": [],
   "source": [
    "df_3['Propane_Unit'].fillna('Litre', inplace=True)"
   ]
  },
  {
   "cell_type": "code",
   "execution_count": 864,
   "id": "edec57f4",
   "metadata": {},
   "outputs": [
    {
     "data": {
      "text/plain": [
       "array([nan])"
      ]
     },
     "execution_count": 864,
     "metadata": {},
     "output_type": "execute_result"
    }
   ],
   "source": [
    "df_3['Coal_Unit'].unique()"
   ]
  },
  {
   "cell_type": "code",
   "execution_count": 865,
   "id": "3da89a21",
   "metadata": {},
   "outputs": [],
   "source": [
    "df_3['Coal_Unit'].fillna('Tons', inplace=True)"
   ]
  },
  {
   "cell_type": "code",
   "execution_count": 866,
   "id": "69e9c07b",
   "metadata": {},
   "outputs": [
    {
     "data": {
      "text/plain": [
       "array([nan, 'Metric Tonne'], dtype=object)"
      ]
     },
     "execution_count": 866,
     "metadata": {},
     "output_type": "execute_result"
    }
   ],
   "source": [
    "df_3['Wood_Unit'].unique()"
   ]
  },
  {
   "cell_type": "code",
   "execution_count": 867,
   "id": "28c5ed51",
   "metadata": {},
   "outputs": [],
   "source": [
    "df_3['Wood_Unit'].fillna('Metric Tonne', inplace=True)"
   ]
  },
  {
   "cell_type": "code",
   "execution_count": 868,
   "id": "25646d52",
   "metadata": {},
   "outputs": [
    {
     "data": {
      "text/plain": [
       "array([nan, 'Giga Joule', 'Metric Tonne'], dtype=object)"
      ]
     },
     "execution_count": 868,
     "metadata": {},
     "output_type": "execute_result"
    }
   ],
   "source": [
    "df_3['DistrictHeating_Unit'].unique()"
   ]
  },
  {
   "cell_type": "code",
   "execution_count": 869,
   "id": "fd8f1ea8",
   "metadata": {},
   "outputs": [],
   "source": [
    "heat_mapping = {'Metric Tonne': 'joule', 'Giga Joule': 'joule'}\n",
    "df_3['DistrictHeating_Unit'] = df_3['DistrictHeating_Unit'].map(heat_mapping)"
   ]
  },
  {
   "cell_type": "code",
   "execution_count": 870,
   "id": "ecb016c0",
   "metadata": {},
   "outputs": [
    {
     "data": {
      "text/plain": [
       "array([nan, 'joule'], dtype=object)"
      ]
     },
     "execution_count": 870,
     "metadata": {},
     "output_type": "execute_result"
    }
   ],
   "source": [
    "df_3['DistrictHeating_Unit'].unique()"
   ]
  },
  {
   "cell_type": "code",
   "execution_count": 871,
   "id": "38c75d80",
   "metadata": {},
   "outputs": [],
   "source": [
    "df_3['DistrictHeating_Unit'].fillna('joule', inplace=True)"
   ]
  },
  {
   "cell_type": "code",
   "execution_count": 872,
   "id": "bbcac1b6",
   "metadata": {},
   "outputs": [
    {
     "data": {
      "text/plain": [
       "array([nan, 'No'], dtype=object)"
      ]
     },
     "execution_count": 872,
     "metadata": {},
     "output_type": "execute_result"
    }
   ],
   "source": [
    "df_3['DistrictHeating_IsRenewable'].unique()"
   ]
  },
  {
   "cell_type": "code",
   "execution_count": 873,
   "id": "4e9aa344",
   "metadata": {},
   "outputs": [],
   "source": [
    "df_3['DistrictHeating_IsRenewable'].fillna('Yes/No', inplace=True)"
   ]
  },
  {
   "cell_type": "code",
   "execution_count": 884,
   "id": "3eb1b34a",
   "metadata": {},
   "outputs": [
    {
     "data": {
      "text/plain": [
       "array([ 0. ,  nan, 42.6])"
      ]
     },
     "execution_count": 884,
     "metadata": {},
     "output_type": "execute_result"
    }
   ],
   "source": [
    "df_3['DistrictHeating_RenewableEmissionFactor'].unique()"
   ]
  },
  {
   "cell_type": "code",
   "execution_count": 885,
   "id": "06d702df",
   "metadata": {},
   "outputs": [],
   "source": [
    "df_3 = df_3.dropna(subset=['DistrictHeating_RenewableEmissionFactor'])"
   ]
  },
  {
   "cell_type": "code",
   "execution_count": 874,
   "id": "a66a7815",
   "metadata": {},
   "outputs": [
    {
     "data": {
      "text/plain": [
       "array([nan, 'Giga Joule'], dtype=object)"
      ]
     },
     "execution_count": 874,
     "metadata": {},
     "output_type": "execute_result"
    }
   ],
   "source": [
    "df_3['DistrictCooling_Unit'].unique()"
   ]
  },
  {
   "cell_type": "code",
   "execution_count": 875,
   "id": "8a1decb7",
   "metadata": {},
   "outputs": [],
   "source": [
    "cool_mapping = {'Giga Joule': 'joule'}\n",
    "df_3['DistrictCooling_Unit'] = df_3['DistrictCooling_Unit'].map(cool_mapping)"
   ]
  },
  {
   "cell_type": "code",
   "execution_count": 876,
   "id": "5df729b2",
   "metadata": {},
   "outputs": [],
   "source": [
    "df_3['DistrictCooling_Unit'].fillna('joule', inplace=True)"
   ]
  },
  {
   "cell_type": "code",
   "execution_count": 877,
   "id": "df12e6f1",
   "metadata": {},
   "outputs": [
    {
     "data": {
      "text/plain": [
       "array([nan, 'No', 'Yes'], dtype=object)"
      ]
     },
     "execution_count": 877,
     "metadata": {},
     "output_type": "execute_result"
    }
   ],
   "source": [
    "df_3['DistrictCooling_IsRenewable'].unique()"
   ]
  },
  {
   "cell_type": "code",
   "execution_count": 878,
   "id": "68b97684",
   "metadata": {},
   "outputs": [],
   "source": [
    "df_3['DistrictCooling_IsRenewable'].fillna('Yes/No', inplace=True)"
   ]
  },
  {
   "cell_type": "code",
   "execution_count": 879,
   "id": "5a49e4b3",
   "metadata": {},
   "outputs": [
    {
     "data": {
      "text/plain": [
       "array([0.     ,     nan, 1.94444, 0.06   , 5.16   ])"
      ]
     },
     "execution_count": 879,
     "metadata": {},
     "output_type": "execute_result"
    }
   ],
   "source": [
    "df_3['DistrictCooling_RenewableEmissionFactor'].unique()"
   ]
  },
  {
   "cell_type": "code",
   "execution_count": 880,
   "id": "a68b7d4d",
   "metadata": {},
   "outputs": [],
   "source": [
    "df_3 = df_3.dropna(subset=['DistrictCooling_RenewableEmissionFactor'])"
   ]
  },
  {
   "cell_type": "code",
   "execution_count": 881,
   "id": "0c3165a4",
   "metadata": {},
   "outputs": [
    {
     "data": {
      "text/plain": [
       "array([3.0202506 , 1.74381037, 0.7939552 , ..., 3.05233101, 2.3175766 ,\n",
       "       1.00398856])"
      ]
     },
     "execution_count": 881,
     "metadata": {},
     "output_type": "execute_result"
    }
   ],
   "source": [
    "df_3['Energy Intensity GJ_m2'].unique()"
   ]
  },
  {
   "cell_type": "code",
   "execution_count": 882,
   "id": "2be7b693",
   "metadata": {},
   "outputs": [],
   "source": [
    "mean_values = df_3['Energy Intensity GJ_m2'].mean()\n",
    "\n",
    "df_3['Energy Intensity GJ_m2'].fillna(mean_values, inplace=True)"
   ]
  },
  {
   "cell_type": "code",
   "execution_count": 886,
   "id": "876ca076",
   "metadata": {
    "collapsed": true
   },
   "outputs": [
    {
     "data": {
      "text/plain": [
       "Sector                                     0\n",
       "Sub Sector                                 0\n",
       "Organization                               0\n",
       "Operation                                  0\n",
       "Operation Type                             0\n",
       "Address                                    0\n",
       "City                                       0\n",
       "Postal Code                                0\n",
       "Total Indoor Space_x                       0\n",
       "Unit of Measure                            0\n",
       "Weekly Average Hours                       0\n",
       "Annual Flow (M                             0\n",
       "Number of Portables                        0\n",
       "Swimming Pool                              0\n",
       "Electricity_Quantity                       0\n",
       "Electricity_Unit                           0\n",
       "NaturalGas_Quantity                        0\n",
       "NaturalGas_Unit                            0\n",
       "FuelOil12_Quantity                         0\n",
       "FuelOil12_Unit                             0\n",
       "FuelOil46_Quantity                         0\n",
       "FuelOil46_Unit                             0\n",
       "Propane_Quantity                           0\n",
       "Propane_Unit                               0\n",
       "Coal_Quantity                              0\n",
       "Coal_Unit                                  0\n",
       "Wood_Quantity                              0\n",
       "Wood_Unit                                  0\n",
       "DistrictHeating_Quantity                   0\n",
       "DistrictHeating_Unit                       0\n",
       "DistrictHeating_IsRenewable                0\n",
       "DistrictHeating_RenewableEmissionFactor    0\n",
       "DistrictCooling_Quantity                   0\n",
       "DistrictCooling_Unit                       0\n",
       "DistrictCooling_IsRenewable                0\n",
       "DistrictCooling_RenewableEmissionFactor    0\n",
       "GHG Emissions KG                           0\n",
       "Energy Intensity ekWh_sqft                 0\n",
       "Energy Intensity ekWh_mega_litre           0\n",
       "Energy Intensity GJ_m2                     0\n",
       "Energy Intensity GJ_mega_litre             0\n",
       "dtype: int64"
      ]
     },
     "execution_count": 886,
     "metadata": {},
     "output_type": "execute_result"
    }
   ],
   "source": [
    "df_3.isnull().sum()"
   ]
  },
  {
   "cell_type": "code",
   "execution_count": 1144,
   "id": "49a64f8b",
   "metadata": {
    "collapsed": true
   },
   "outputs": [
    {
     "data": {
      "text/plain": [
       "Sector                                      object\n",
       "Sub Sector                                  object\n",
       "Organization                                object\n",
       "Operation                                   object\n",
       "Operation Type                              object\n",
       "Address                                     object\n",
       "City                                        object\n",
       "Postal Code                                 object\n",
       "Total Indoor Space_x                       float64\n",
       "Unit of Measure                             object\n",
       "Weekly Average Hours                       float64\n",
       "Annual Flow (M                             float64\n",
       "Number of Portables                        float64\n",
       "Swimming Pool                               object\n",
       "Electricity_Quantity                       float64\n",
       "Electricity_Unit                            object\n",
       "NaturalGas_Quantity                        float64\n",
       "NaturalGas_Unit                             object\n",
       "FuelOil12_Quantity                         float64\n",
       "FuelOil12_Unit                              object\n",
       "FuelOil46_Quantity                         float64\n",
       "FuelOil46_Unit                              object\n",
       "Propane_Quantity                           float64\n",
       "Propane_Unit                                object\n",
       "Coal_Quantity                              float64\n",
       "Coal_Unit                                   object\n",
       "Wood_Quantity                              float64\n",
       "Wood_Unit                                   object\n",
       "DistrictHeating_Quantity                   float64\n",
       "DistrictHeating_Unit                        object\n",
       "DistrictHeating_IsRenewable                 object\n",
       "DistrictHeating_RenewableEmissionFactor    float64\n",
       "DistrictCooling_Quantity                   float64\n",
       "DistrictCooling_Unit                        object\n",
       "DistrictCooling_IsRenewable                 object\n",
       "DistrictCooling_RenewableEmissionFactor    float64\n",
       "GHG Emissions KG                           float64\n",
       "Energy Intensity ekWh_sqft                 float64\n",
       "Energy Intensity ekWh_mega_litre           float64\n",
       "Energy Intensity GJ_m2                     float64\n",
       "Energy Intensity GJ_mega_litre             float64\n",
       "dtype: object"
      ]
     },
     "execution_count": 1144,
     "metadata": {},
     "output_type": "execute_result"
    }
   ],
   "source": [
    "df_3.dtypes"
   ]
  },
  {
   "cell_type": "code",
   "execution_count": 1162,
   "id": "c8349c2c",
   "metadata": {},
   "outputs": [],
   "source": [
    "column_mapping3 = {'Sector': 'Sector', 'Sub Sector': 'SubSector', 'Organization': 'Organization', 'Operation': 'Operation',\n",
    "                 'Operation Type': 'Operation Type', 'Address': 'Address', 'City': 'City', 'Postal Code': 'Postal Code', 'Total Indoor Space_x': 'Total Indoor Space_x',\n",
    "                 'Unit of Measure': 'Unit of Measure', 'Weekly Average Hours': 'Weekly Average Hours', 'Annual Flow (M': 'Annual Flow (M)', 'Number of Portables': 'Number of Portables',\n",
    "                 'Swimming Pool': 'Swimming Pool', 'Electricity_Quantity': 'Electricity_Quantity', 'Electricity_Unit': 'Electricity_Unit', 'NaturalGas_Quantity': 'NaturalGas_Quantity',\n",
    "                 'NaturalGas_Unit': 'NaturalGas_Unit', 'FuelOil12_Quantity': 'FuelOil12_Quantity', 'FuelOil12_Unit': 'FuelOil12_Unit', 'FuelOil46_Quantity': 'FuelOil46_Quantity',\n",
    "                 'FuelOil46_Unit': 'FuelOil46_Unit', 'Propane_Quantity': 'Propane_Quantity', 'Propane_Unit': 'Propane_Unit', 'Coal_Quantity': 'Coal_Quantity',\n",
    "                 'Coal_Unit': 'Coal_Unit', 'Wood_Quantity': 'Wood_Quantity', 'Wood_Unit': 'Wood_Unit', 'DistrictHeating_Quantity': 'DistrictHeating_Quantity', 'DistrictHeating_Unit': 'DistrictHeating_Unit',\n",
    "                 'DistrictHeating_IsRenewable': 'DistrictHeating_IsRenewable', 'DistrictHeating_RenewableEmissionFactor': 'DistrictHeating_RenewableEmissionFactor','DistrictCooling_Quantity': 'DistrictCooling_Quantity',\n",
    "                 'DistrictCooling_Unit': 'DistrictCooling_Unit', 'DistrictCooling_IsRenewable': 'DistrictCooling_IsRenewable', 'DistrictCooling_RenewableEmissionFactor': 'DistrictCooling_RenewableEmissionFactor',\n",
    "                 'GHG Emissions KG': 'GHG Emissions KG', 'Energy Intensity ekWh_sqft': 'Energy Intensity ekWh_sqft', 'Energy Intensity ekWh_mega_litre': 'Energy Intensity ekWh_mega_litre',\n",
    "                 'Energy Intensity GJ_m2': 'Energy Intensity GJ_m2', 'Energy Intensity GJ_mega_litre': 'Energy Intensity GJ_mega_litre'}"
   ]
  },
  {
   "cell_type": "code",
   "execution_count": 1163,
   "id": "6aa26388",
   "metadata": {},
   "outputs": [],
   "source": [
    "df_3.rename(columns=column_mapping3, inplace=True)"
   ]
  },
  {
   "cell_type": "code",
   "execution_count": 1164,
   "id": "551e93e2",
   "metadata": {
    "collapsed": true
   },
   "outputs": [
    {
     "data": {
      "text/plain": [
       "Index(['Sector', 'SubSector', 'Organization', 'Operation', 'Operation Type',\n",
       "       'Address', 'City', 'Postal Code', 'Total Indoor Space_x',\n",
       "       'Unit of Measure', 'Weekly Average Hours', 'Annual Flow (M)',\n",
       "       'Number of Portables', 'Swimming Pool', 'Electricity_Quantity',\n",
       "       'Electricity_Unit', 'NaturalGas_Quantity', 'NaturalGas_Unit',\n",
       "       'FuelOil12_Quantity', 'FuelOil12_Unit', 'FuelOil46_Quantity',\n",
       "       'FuelOil46_Unit', 'Propane_Quantity', 'Propane_Unit', 'Coal_Quantity',\n",
       "       'Coal_Unit', 'Wood_Quantity', 'Wood_Unit', 'DistrictHeating_Quantity',\n",
       "       'DistrictHeating_Unit', 'DistrictHeating_IsRenewable',\n",
       "       'DistrictHeating_RenewableEmissionFactor', 'DistrictCooling_Quantity',\n",
       "       'DistrictCooling_Unit', 'DistrictCooling_IsRenewable',\n",
       "       'DistrictCooling_RenewableEmissionFactor', 'GHG Emissions KG',\n",
       "       'Energy Intensity ekWh_sqft', 'Energy Intensity ekWh_mega_litre',\n",
       "       'Energy Intensity GJ_m2', 'Energy Intensity GJ_mega_litre'],\n",
       "      dtype='object')"
      ]
     },
     "execution_count": 1164,
     "metadata": {},
     "output_type": "execute_result"
    }
   ],
   "source": [
    "df_3.columns"
   ]
  },
  {
   "cell_type": "code",
   "execution_count": 1165,
   "id": "c7439277",
   "metadata": {
    "collapsed": true
   },
   "outputs": [
    {
     "data": {
      "text/html": [
       "<div>\n",
       "<style scoped>\n",
       "    .dataframe tbody tr th:only-of-type {\n",
       "        vertical-align: middle;\n",
       "    }\n",
       "\n",
       "    .dataframe tbody tr th {\n",
       "        vertical-align: top;\n",
       "    }\n",
       "\n",
       "    .dataframe thead th {\n",
       "        text-align: right;\n",
       "    }\n",
       "</style>\n",
       "<table border=\"1\" class=\"dataframe\">\n",
       "  <thead>\n",
       "    <tr style=\"text-align: right;\">\n",
       "      <th></th>\n",
       "      <th>Sector</th>\n",
       "      <th>SubSector</th>\n",
       "      <th>Organization</th>\n",
       "      <th>Operation</th>\n",
       "      <th>Operation Type</th>\n",
       "      <th>Address</th>\n",
       "      <th>City</th>\n",
       "      <th>Postal Code</th>\n",
       "      <th>Total Indoor Space_x</th>\n",
       "      <th>Unit of Measure</th>\n",
       "      <th>...</th>\n",
       "      <th>DistrictHeating_RenewableEmissionFactor</th>\n",
       "      <th>DistrictCooling_Quantity</th>\n",
       "      <th>DistrictCooling_Unit</th>\n",
       "      <th>DistrictCooling_IsRenewable</th>\n",
       "      <th>DistrictCooling_RenewableEmissionFactor</th>\n",
       "      <th>GHG Emissions KG</th>\n",
       "      <th>Energy Intensity ekWh_sqft</th>\n",
       "      <th>Energy Intensity ekWh_mega_litre</th>\n",
       "      <th>Energy Intensity GJ_m2</th>\n",
       "      <th>Energy Intensity GJ_mega_litre</th>\n",
       "    </tr>\n",
       "  </thead>\n",
       "  <tbody>\n",
       "    <tr>\n",
       "      <th>0</th>\n",
       "      <td>Public Hospital</td>\n",
       "      <td>Acute/Chronic Hospital</td>\n",
       "      <td>Alexandra Hospital</td>\n",
       "      <td>Alexandra Hospital</td>\n",
       "      <td>Facilities used for hospital purposes</td>\n",
       "      <td>29 Noxon Street</td>\n",
       "      <td>Ingersoll</td>\n",
       "      <td>N5C 3V6</td>\n",
       "      <td>8474.000000</td>\n",
       "      <td>Square meters</td>\n",
       "      <td>...</td>\n",
       "      <td>0.0</td>\n",
       "      <td>0.0</td>\n",
       "      <td>joule</td>\n",
       "      <td>Yes/No</td>\n",
       "      <td>0.0</td>\n",
       "      <td>981710.084094</td>\n",
       "      <td>77.941758</td>\n",
       "      <td>0.0</td>\n",
       "      <td>3.020251</td>\n",
       "      <td>0.0</td>\n",
       "    </tr>\n",
       "    <tr>\n",
       "      <th>1</th>\n",
       "      <td>Public Hospital</td>\n",
       "      <td>Acute/Chronic Hospital</td>\n",
       "      <td>Alexandria Glengarry Memorial Hospital</td>\n",
       "      <td>Glengarry Memorial Hospital</td>\n",
       "      <td>Facilities used for hospital purposes</td>\n",
       "      <td>20260 County Road 43</td>\n",
       "      <td>Alexandria</td>\n",
       "      <td>K0C 1A0</td>\n",
       "      <td>54969.000000</td>\n",
       "      <td>Square feet</td>\n",
       "      <td>...</td>\n",
       "      <td>0.0</td>\n",
       "      <td>0.0</td>\n",
       "      <td>joule</td>\n",
       "      <td>Yes/No</td>\n",
       "      <td>0.0</td>\n",
       "      <td>433501.736931</td>\n",
       "      <td>45.001445</td>\n",
       "      <td>0.0</td>\n",
       "      <td>1.743810</td>\n",
       "      <td>0.0</td>\n",
       "    </tr>\n",
       "    <tr>\n",
       "      <th>2</th>\n",
       "      <td>School Board</td>\n",
       "      <td>School Board</td>\n",
       "      <td>Algoma District School Board</td>\n",
       "      <td>Adult Ed/Con Ed - (Alex Henry)</td>\n",
       "      <td>School</td>\n",
       "      <td>232 Northern Ave E</td>\n",
       "      <td>Sault Ste. Marie</td>\n",
       "      <td>P6B4H6</td>\n",
       "      <td>130923.000000</td>\n",
       "      <td>Square feet</td>\n",
       "      <td>...</td>\n",
       "      <td>0.0</td>\n",
       "      <td>0.0</td>\n",
       "      <td>joule</td>\n",
       "      <td>Yes/No</td>\n",
       "      <td>0.0</td>\n",
       "      <td>413821.965246</td>\n",
       "      <td>20.489115</td>\n",
       "      <td>0.0</td>\n",
       "      <td>0.793955</td>\n",
       "      <td>0.0</td>\n",
       "    </tr>\n",
       "    <tr>\n",
       "      <th>3</th>\n",
       "      <td>School Board</td>\n",
       "      <td>School Board</td>\n",
       "      <td>Algoma District School Board</td>\n",
       "      <td>Arthur Henderson PS</td>\n",
       "      <td>School</td>\n",
       "      <td>2 Henderson Lane</td>\n",
       "      <td>Bruce Mines</td>\n",
       "      <td>P0R 1C0</td>\n",
       "      <td>16764.000000</td>\n",
       "      <td>Square feet</td>\n",
       "      <td>...</td>\n",
       "      <td>0.0</td>\n",
       "      <td>0.0</td>\n",
       "      <td>joule</td>\n",
       "      <td>Yes/No</td>\n",
       "      <td>0.0</td>\n",
       "      <td>38670.006816</td>\n",
       "      <td>17.807170</td>\n",
       "      <td>0.0</td>\n",
       "      <td>0.690030</td>\n",
       "      <td>0.0</td>\n",
       "    </tr>\n",
       "    <tr>\n",
       "      <th>4</th>\n",
       "      <td>School Board</td>\n",
       "      <td>School Board</td>\n",
       "      <td>Algoma District School Board</td>\n",
       "      <td>Ben R McMullin PS</td>\n",
       "      <td>School</td>\n",
       "      <td>24 Paradise Ave</td>\n",
       "      <td>Sault Ste. Marie</td>\n",
       "      <td>P6B 5K2</td>\n",
       "      <td>22098.308631</td>\n",
       "      <td>Square feet</td>\n",
       "      <td>...</td>\n",
       "      <td>0.0</td>\n",
       "      <td>0.0</td>\n",
       "      <td>joule</td>\n",
       "      <td>Yes/No</td>\n",
       "      <td>0.0</td>\n",
       "      <td>51921.314019</td>\n",
       "      <td>18.076054</td>\n",
       "      <td>0.0</td>\n",
       "      <td>0.700449</td>\n",
       "      <td>0.0</td>\n",
       "    </tr>\n",
       "  </tbody>\n",
       "</table>\n",
       "<p>5 rows × 41 columns</p>\n",
       "</div>"
      ],
      "text/plain": [
       "            Sector               SubSector  \\\n",
       "0  Public Hospital  Acute/Chronic Hospital   \n",
       "1  Public Hospital  Acute/Chronic Hospital   \n",
       "2     School Board            School Board   \n",
       "3     School Board            School Board   \n",
       "4     School Board            School Board   \n",
       "\n",
       "                             Organization                       Operation  \\\n",
       "0                      Alexandra Hospital              Alexandra Hospital   \n",
       "1  Alexandria Glengarry Memorial Hospital     Glengarry Memorial Hospital   \n",
       "2            Algoma District School Board  Adult Ed/Con Ed - (Alex Henry)   \n",
       "3            Algoma District School Board             Arthur Henderson PS   \n",
       "4            Algoma District School Board               Ben R McMullin PS   \n",
       "\n",
       "                          Operation Type               Address  \\\n",
       "0  Facilities used for hospital purposes       29 Noxon Street   \n",
       "1  Facilities used for hospital purposes  20260 County Road 43   \n",
       "2                                 School    232 Northern Ave E   \n",
       "3                                 School      2 Henderson Lane   \n",
       "4                                 School       24 Paradise Ave   \n",
       "\n",
       "               City Postal Code  Total Indoor Space_x Unit of Measure  ...  \\\n",
       "0         Ingersoll     N5C 3V6           8474.000000   Square meters  ...   \n",
       "1        Alexandria     K0C 1A0          54969.000000     Square feet  ...   \n",
       "2  Sault Ste. Marie      P6B4H6         130923.000000     Square feet  ...   \n",
       "3       Bruce Mines     P0R 1C0          16764.000000     Square feet  ...   \n",
       "4  Sault Ste. Marie     P6B 5K2          22098.308631     Square feet  ...   \n",
       "\n",
       "   DistrictHeating_RenewableEmissionFactor  DistrictCooling_Quantity  \\\n",
       "0                                      0.0                       0.0   \n",
       "1                                      0.0                       0.0   \n",
       "2                                      0.0                       0.0   \n",
       "3                                      0.0                       0.0   \n",
       "4                                      0.0                       0.0   \n",
       "\n",
       "   DistrictCooling_Unit DistrictCooling_IsRenewable  \\\n",
       "0                 joule                      Yes/No   \n",
       "1                 joule                      Yes/No   \n",
       "2                 joule                      Yes/No   \n",
       "3                 joule                      Yes/No   \n",
       "4                 joule                      Yes/No   \n",
       "\n",
       "   DistrictCooling_RenewableEmissionFactor GHG Emissions KG  \\\n",
       "0                                      0.0    981710.084094   \n",
       "1                                      0.0    433501.736931   \n",
       "2                                      0.0    413821.965246   \n",
       "3                                      0.0     38670.006816   \n",
       "4                                      0.0     51921.314019   \n",
       "\n",
       "   Energy Intensity ekWh_sqft Energy Intensity ekWh_mega_litre  \\\n",
       "0                   77.941758                              0.0   \n",
       "1                   45.001445                              0.0   \n",
       "2                   20.489115                              0.0   \n",
       "3                   17.807170                              0.0   \n",
       "4                   18.076054                              0.0   \n",
       "\n",
       "   Energy Intensity GJ_m2 Energy Intensity GJ_mega_litre  \n",
       "0                3.020251                            0.0  \n",
       "1                1.743810                            0.0  \n",
       "2                0.793955                            0.0  \n",
       "3                0.690030                            0.0  \n",
       "4                0.700449                            0.0  \n",
       "\n",
       "[5 rows x 41 columns]"
      ]
     },
     "execution_count": 1165,
     "metadata": {},
     "output_type": "execute_result"
    }
   ],
   "source": [
    "df_3.head()"
   ]
  },
  {
   "cell_type": "code",
   "execution_count": 1202,
   "id": "59e95a4a",
   "metadata": {},
   "outputs": [],
   "source": [
    "df_3.insert(0, 'Year', 2014)"
   ]
  },
  {
   "cell_type": "code",
   "execution_count": 1203,
   "id": "d9103147",
   "metadata": {
    "collapsed": true
   },
   "outputs": [
    {
     "data": {
      "text/html": [
       "<div>\n",
       "<style scoped>\n",
       "    .dataframe tbody tr th:only-of-type {\n",
       "        vertical-align: middle;\n",
       "    }\n",
       "\n",
       "    .dataframe tbody tr th {\n",
       "        vertical-align: top;\n",
       "    }\n",
       "\n",
       "    .dataframe thead th {\n",
       "        text-align: right;\n",
       "    }\n",
       "</style>\n",
       "<table border=\"1\" class=\"dataframe\">\n",
       "  <thead>\n",
       "    <tr style=\"text-align: right;\">\n",
       "      <th></th>\n",
       "      <th>Year</th>\n",
       "      <th>Sector</th>\n",
       "      <th>SubSector</th>\n",
       "      <th>Organization</th>\n",
       "      <th>Operation</th>\n",
       "      <th>Operation Type</th>\n",
       "      <th>Address</th>\n",
       "      <th>City</th>\n",
       "      <th>Postal Code</th>\n",
       "      <th>Total Indoor Space_x</th>\n",
       "      <th>...</th>\n",
       "      <th>DistrictHeating_RenewableEmissionFactor</th>\n",
       "      <th>DistrictCooling_Quantity</th>\n",
       "      <th>DistrictCooling_Unit</th>\n",
       "      <th>DistrictCooling_IsRenewable</th>\n",
       "      <th>DistrictCooling_RenewableEmissionFactor</th>\n",
       "      <th>GHG Emissions KG</th>\n",
       "      <th>Energy Intensity ekWh_sqft</th>\n",
       "      <th>Energy Intensity ekWh_mega_litre</th>\n",
       "      <th>Energy Intensity GJ_m2</th>\n",
       "      <th>Energy Intensity GJ_mega_litre</th>\n",
       "    </tr>\n",
       "  </thead>\n",
       "  <tbody>\n",
       "    <tr>\n",
       "      <th>0</th>\n",
       "      <td>2014</td>\n",
       "      <td>Public Hospital</td>\n",
       "      <td>Acute/Chronic Hospital</td>\n",
       "      <td>Alexandra Hospital</td>\n",
       "      <td>Alexandra Hospital</td>\n",
       "      <td>Facilities used for hospital purposes</td>\n",
       "      <td>29 Noxon Street</td>\n",
       "      <td>Ingersoll</td>\n",
       "      <td>N5C 3V6</td>\n",
       "      <td>8474.000000</td>\n",
       "      <td>...</td>\n",
       "      <td>0.0</td>\n",
       "      <td>0.0</td>\n",
       "      <td>joule</td>\n",
       "      <td>Yes/No</td>\n",
       "      <td>0.0</td>\n",
       "      <td>981710.084094</td>\n",
       "      <td>77.941758</td>\n",
       "      <td>0.0</td>\n",
       "      <td>3.020251</td>\n",
       "      <td>0.0</td>\n",
       "    </tr>\n",
       "    <tr>\n",
       "      <th>1</th>\n",
       "      <td>2014</td>\n",
       "      <td>Public Hospital</td>\n",
       "      <td>Acute/Chronic Hospital</td>\n",
       "      <td>Alexandria Glengarry Memorial Hospital</td>\n",
       "      <td>Glengarry Memorial Hospital</td>\n",
       "      <td>Facilities used for hospital purposes</td>\n",
       "      <td>20260 County Road 43</td>\n",
       "      <td>Alexandria</td>\n",
       "      <td>K0C 1A0</td>\n",
       "      <td>54969.000000</td>\n",
       "      <td>...</td>\n",
       "      <td>0.0</td>\n",
       "      <td>0.0</td>\n",
       "      <td>joule</td>\n",
       "      <td>Yes/No</td>\n",
       "      <td>0.0</td>\n",
       "      <td>433501.736931</td>\n",
       "      <td>45.001445</td>\n",
       "      <td>0.0</td>\n",
       "      <td>1.743810</td>\n",
       "      <td>0.0</td>\n",
       "    </tr>\n",
       "    <tr>\n",
       "      <th>2</th>\n",
       "      <td>2014</td>\n",
       "      <td>School Board</td>\n",
       "      <td>School Board</td>\n",
       "      <td>Algoma District School Board</td>\n",
       "      <td>Adult Ed/Con Ed - (Alex Henry)</td>\n",
       "      <td>School</td>\n",
       "      <td>232 Northern Ave E</td>\n",
       "      <td>Sault Ste. Marie</td>\n",
       "      <td>P6B4H6</td>\n",
       "      <td>130923.000000</td>\n",
       "      <td>...</td>\n",
       "      <td>0.0</td>\n",
       "      <td>0.0</td>\n",
       "      <td>joule</td>\n",
       "      <td>Yes/No</td>\n",
       "      <td>0.0</td>\n",
       "      <td>413821.965246</td>\n",
       "      <td>20.489115</td>\n",
       "      <td>0.0</td>\n",
       "      <td>0.793955</td>\n",
       "      <td>0.0</td>\n",
       "    </tr>\n",
       "    <tr>\n",
       "      <th>3</th>\n",
       "      <td>2014</td>\n",
       "      <td>School Board</td>\n",
       "      <td>School Board</td>\n",
       "      <td>Algoma District School Board</td>\n",
       "      <td>Arthur Henderson PS</td>\n",
       "      <td>School</td>\n",
       "      <td>2 Henderson Lane</td>\n",
       "      <td>Bruce Mines</td>\n",
       "      <td>P0R 1C0</td>\n",
       "      <td>16764.000000</td>\n",
       "      <td>...</td>\n",
       "      <td>0.0</td>\n",
       "      <td>0.0</td>\n",
       "      <td>joule</td>\n",
       "      <td>Yes/No</td>\n",
       "      <td>0.0</td>\n",
       "      <td>38670.006816</td>\n",
       "      <td>17.807170</td>\n",
       "      <td>0.0</td>\n",
       "      <td>0.690030</td>\n",
       "      <td>0.0</td>\n",
       "    </tr>\n",
       "    <tr>\n",
       "      <th>4</th>\n",
       "      <td>2014</td>\n",
       "      <td>School Board</td>\n",
       "      <td>School Board</td>\n",
       "      <td>Algoma District School Board</td>\n",
       "      <td>Ben R McMullin PS</td>\n",
       "      <td>School</td>\n",
       "      <td>24 Paradise Ave</td>\n",
       "      <td>Sault Ste. Marie</td>\n",
       "      <td>P6B 5K2</td>\n",
       "      <td>22098.308631</td>\n",
       "      <td>...</td>\n",
       "      <td>0.0</td>\n",
       "      <td>0.0</td>\n",
       "      <td>joule</td>\n",
       "      <td>Yes/No</td>\n",
       "      <td>0.0</td>\n",
       "      <td>51921.314019</td>\n",
       "      <td>18.076054</td>\n",
       "      <td>0.0</td>\n",
       "      <td>0.700449</td>\n",
       "      <td>0.0</td>\n",
       "    </tr>\n",
       "  </tbody>\n",
       "</table>\n",
       "<p>5 rows × 42 columns</p>\n",
       "</div>"
      ],
      "text/plain": [
       "   Year           Sector               SubSector  \\\n",
       "0  2014  Public Hospital  Acute/Chronic Hospital   \n",
       "1  2014  Public Hospital  Acute/Chronic Hospital   \n",
       "2  2014     School Board            School Board   \n",
       "3  2014     School Board            School Board   \n",
       "4  2014     School Board            School Board   \n",
       "\n",
       "                             Organization                       Operation  \\\n",
       "0                      Alexandra Hospital              Alexandra Hospital   \n",
       "1  Alexandria Glengarry Memorial Hospital     Glengarry Memorial Hospital   \n",
       "2            Algoma District School Board  Adult Ed/Con Ed - (Alex Henry)   \n",
       "3            Algoma District School Board             Arthur Henderson PS   \n",
       "4            Algoma District School Board               Ben R McMullin PS   \n",
       "\n",
       "                          Operation Type               Address  \\\n",
       "0  Facilities used for hospital purposes       29 Noxon Street   \n",
       "1  Facilities used for hospital purposes  20260 County Road 43   \n",
       "2                                 School    232 Northern Ave E   \n",
       "3                                 School      2 Henderson Lane   \n",
       "4                                 School       24 Paradise Ave   \n",
       "\n",
       "               City Postal Code  Total Indoor Space_x  ...  \\\n",
       "0         Ingersoll     N5C 3V6           8474.000000  ...   \n",
       "1        Alexandria     K0C 1A0          54969.000000  ...   \n",
       "2  Sault Ste. Marie      P6B4H6         130923.000000  ...   \n",
       "3       Bruce Mines     P0R 1C0          16764.000000  ...   \n",
       "4  Sault Ste. Marie     P6B 5K2          22098.308631  ...   \n",
       "\n",
       "  DistrictHeating_RenewableEmissionFactor  DistrictCooling_Quantity  \\\n",
       "0                                     0.0                       0.0   \n",
       "1                                     0.0                       0.0   \n",
       "2                                     0.0                       0.0   \n",
       "3                                     0.0                       0.0   \n",
       "4                                     0.0                       0.0   \n",
       "\n",
       "   DistrictCooling_Unit  DistrictCooling_IsRenewable  \\\n",
       "0                 joule                       Yes/No   \n",
       "1                 joule                       Yes/No   \n",
       "2                 joule                       Yes/No   \n",
       "3                 joule                       Yes/No   \n",
       "4                 joule                       Yes/No   \n",
       "\n",
       "  DistrictCooling_RenewableEmissionFactor  GHG Emissions KG  \\\n",
       "0                                     0.0     981710.084094   \n",
       "1                                     0.0     433501.736931   \n",
       "2                                     0.0     413821.965246   \n",
       "3                                     0.0      38670.006816   \n",
       "4                                     0.0      51921.314019   \n",
       "\n",
       "  Energy Intensity ekWh_sqft  Energy Intensity ekWh_mega_litre  \\\n",
       "0                  77.941758                               0.0   \n",
       "1                  45.001445                               0.0   \n",
       "2                  20.489115                               0.0   \n",
       "3                  17.807170                               0.0   \n",
       "4                  18.076054                               0.0   \n",
       "\n",
       "  Energy Intensity GJ_m2  Energy Intensity GJ_mega_litre  \n",
       "0               3.020251                             0.0  \n",
       "1               1.743810                             0.0  \n",
       "2               0.793955                             0.0  \n",
       "3               0.690030                             0.0  \n",
       "4               0.700449                             0.0  \n",
       "\n",
       "[5 rows x 42 columns]"
      ]
     },
     "execution_count": 1203,
     "metadata": {},
     "output_type": "execute_result"
    }
   ],
   "source": [
    "df_3.head()"
   ]
  },
  {
   "cell_type": "markdown",
   "id": "5d83bd1f",
   "metadata": {},
   "source": [
    "# Datas for 2015"
   ]
  },
  {
   "cell_type": "code",
   "execution_count": 935,
   "id": "be951f7f",
   "metadata": {},
   "outputs": [],
   "source": [
    "df_4 = pd.read_excel('datas/bps_2015_report_english_1.xlsx')"
   ]
  },
  {
   "cell_type": "code",
   "execution_count": 937,
   "id": "e85a28b4",
   "metadata": {
    "collapsed": true
   },
   "outputs": [
    {
     "data": {
      "text/html": [
       "<div>\n",
       "<style scoped>\n",
       "    .dataframe tbody tr th:only-of-type {\n",
       "        vertical-align: middle;\n",
       "    }\n",
       "\n",
       "    .dataframe tbody tr th {\n",
       "        vertical-align: top;\n",
       "    }\n",
       "\n",
       "    .dataframe thead th {\n",
       "        text-align: right;\n",
       "    }\n",
       "</style>\n",
       "<table border=\"1\" class=\"dataframe\">\n",
       "  <thead>\n",
       "    <tr style=\"text-align: right;\">\n",
       "      <th></th>\n",
       "      <th>Sector</th>\n",
       "      <th>SubSector</th>\n",
       "      <th>Organization</th>\n",
       "      <th>Operation</th>\n",
       "      <th>Operation Type</th>\n",
       "      <th>Address</th>\n",
       "      <th>City</th>\n",
       "      <th>Postal Code</th>\n",
       "      <th>Total Indoor Space_x</th>\n",
       "      <th>Unit of Measure</th>\n",
       "      <th>...</th>\n",
       "      <th>DistrictHeating_RenewableEmissionFactor</th>\n",
       "      <th>DistrictCooling_Quantity</th>\n",
       "      <th>DistrictCooling_Unit</th>\n",
       "      <th>DistrictCooling_IsRenewable</th>\n",
       "      <th>DistrictCooling_RenewableEmissionFactor</th>\n",
       "      <th>GHG Emissions KG</th>\n",
       "      <th>Energy Intensity ekWh_sqft</th>\n",
       "      <th>Energy Intensity ekWh_mega_litre</th>\n",
       "      <th>Energy Intensity GJ_m2</th>\n",
       "      <th>Energy Intensity GJ_mega_litre</th>\n",
       "    </tr>\n",
       "  </thead>\n",
       "  <tbody>\n",
       "    <tr>\n",
       "      <th>0</th>\n",
       "      <td>Public Hospital</td>\n",
       "      <td>Acute/Chronic Hospital</td>\n",
       "      <td>Alexandra Hospital</td>\n",
       "      <td>Alexandra Hospital, Ingersoll</td>\n",
       "      <td>Facilities used for hospital purposes</td>\n",
       "      <td>29 Noxon Street</td>\n",
       "      <td>Ingersoll</td>\n",
       "      <td>N5C 3V6</td>\n",
       "      <td>8474.0</td>\n",
       "      <td>Square meters</td>\n",
       "      <td>...</td>\n",
       "      <td>0.0</td>\n",
       "      <td>0.0</td>\n",
       "      <td>NaN</td>\n",
       "      <td>NaN</td>\n",
       "      <td>0.0</td>\n",
       "      <td>768494.191148</td>\n",
       "      <td>64.505982</td>\n",
       "      <td>0.0</td>\n",
       "      <td>2.499613</td>\n",
       "      <td>0.0</td>\n",
       "    </tr>\n",
       "    <tr>\n",
       "      <th>1</th>\n",
       "      <td>Public Hospital</td>\n",
       "      <td>Acute/Chronic Hospital</td>\n",
       "      <td>Alexandria Glengarry Memorial Hospital</td>\n",
       "      <td>Glengarry Memorial Hospital</td>\n",
       "      <td>Facilities used for hospital purposes</td>\n",
       "      <td>20260 County Road 43</td>\n",
       "      <td>Alexandria</td>\n",
       "      <td>K0C 1A0</td>\n",
       "      <td>54969.0</td>\n",
       "      <td>Square feet</td>\n",
       "      <td>...</td>\n",
       "      <td>0.0</td>\n",
       "      <td>0.0</td>\n",
       "      <td>NaN</td>\n",
       "      <td>NaN</td>\n",
       "      <td>0.0</td>\n",
       "      <td>591993.944424</td>\n",
       "      <td>81.999100</td>\n",
       "      <td>0.0</td>\n",
       "      <td>3.177473</td>\n",
       "      <td>0.0</td>\n",
       "    </tr>\n",
       "    <tr>\n",
       "      <th>2</th>\n",
       "      <td>School Board</td>\n",
       "      <td>School Board</td>\n",
       "      <td>Algoma District School Board</td>\n",
       "      <td>Adult Ed/Con Ed - (Alex Henry)</td>\n",
       "      <td>School</td>\n",
       "      <td>232 Northern Ave E</td>\n",
       "      <td>Sault Ste. Marie</td>\n",
       "      <td>P6B4H6</td>\n",
       "      <td>130923.0</td>\n",
       "      <td>Square feet</td>\n",
       "      <td>...</td>\n",
       "      <td>0.0</td>\n",
       "      <td>0.0</td>\n",
       "      <td>NaN</td>\n",
       "      <td>NaN</td>\n",
       "      <td>0.0</td>\n",
       "      <td>321242.100318</td>\n",
       "      <td>16.234225</td>\n",
       "      <td>0.0</td>\n",
       "      <td>0.629078</td>\n",
       "      <td>0.0</td>\n",
       "    </tr>\n",
       "    <tr>\n",
       "      <th>3</th>\n",
       "      <td>School Board</td>\n",
       "      <td>School Board</td>\n",
       "      <td>Algoma District School Board</td>\n",
       "      <td>Adult Ed/Co-op (former SF Howe)</td>\n",
       "      <td>School</td>\n",
       "      <td>440 Northland Road</td>\n",
       "      <td>Sault Ste. Marie</td>\n",
       "      <td>P6C3N6</td>\n",
       "      <td>17776.0</td>\n",
       "      <td>Square feet</td>\n",
       "      <td>...</td>\n",
       "      <td>0.0</td>\n",
       "      <td>0.0</td>\n",
       "      <td>NaN</td>\n",
       "      <td>NaN</td>\n",
       "      <td>0.0</td>\n",
       "      <td>44990.647065</td>\n",
       "      <td>19.204553</td>\n",
       "      <td>0.0</td>\n",
       "      <td>0.744178</td>\n",
       "      <td>0.0</td>\n",
       "    </tr>\n",
       "    <tr>\n",
       "      <th>4</th>\n",
       "      <td>School Board</td>\n",
       "      <td>School Board</td>\n",
       "      <td>Algoma District School Board</td>\n",
       "      <td>Adult Education - Elliot Lake</td>\n",
       "      <td>School</td>\n",
       "      <td>50 Roman Ave</td>\n",
       "      <td>Elliot Lake</td>\n",
       "      <td>P5A 1R9</td>\n",
       "      <td>22090.0</td>\n",
       "      <td>Square feet</td>\n",
       "      <td>...</td>\n",
       "      <td>0.0</td>\n",
       "      <td>0.0</td>\n",
       "      <td>NaN</td>\n",
       "      <td>NaN</td>\n",
       "      <td>0.0</td>\n",
       "      <td>61495.253943</td>\n",
       "      <td>19.203753</td>\n",
       "      <td>0.0</td>\n",
       "      <td>0.744147</td>\n",
       "      <td>0.0</td>\n",
       "    </tr>\n",
       "  </tbody>\n",
       "</table>\n",
       "<p>5 rows × 41 columns</p>\n",
       "</div>"
      ],
      "text/plain": [
       "            Sector               SubSector  \\\n",
       "0  Public Hospital  Acute/Chronic Hospital   \n",
       "1  Public Hospital  Acute/Chronic Hospital   \n",
       "2     School Board            School Board   \n",
       "3     School Board            School Board   \n",
       "4     School Board            School Board   \n",
       "\n",
       "                             Organization                        Operation  \\\n",
       "0                      Alexandra Hospital    Alexandra Hospital, Ingersoll   \n",
       "1  Alexandria Glengarry Memorial Hospital      Glengarry Memorial Hospital   \n",
       "2            Algoma District School Board   Adult Ed/Con Ed - (Alex Henry)   \n",
       "3            Algoma District School Board  Adult Ed/Co-op (former SF Howe)   \n",
       "4            Algoma District School Board    Adult Education - Elliot Lake   \n",
       "\n",
       "                          Operation Type               Address  \\\n",
       "0  Facilities used for hospital purposes       29 Noxon Street   \n",
       "1  Facilities used for hospital purposes  20260 County Road 43   \n",
       "2                                 School    232 Northern Ave E   \n",
       "3                                 School    440 Northland Road   \n",
       "4                                 School          50 Roman Ave   \n",
       "\n",
       "               City Postal Code  Total Indoor Space_x Unit of Measure  ...  \\\n",
       "0         Ingersoll     N5C 3V6                8474.0   Square meters  ...   \n",
       "1        Alexandria     K0C 1A0               54969.0     Square feet  ...   \n",
       "2  Sault Ste. Marie      P6B4H6              130923.0     Square feet  ...   \n",
       "3  Sault Ste. Marie      P6C3N6               17776.0     Square feet  ...   \n",
       "4       Elliot Lake     P5A 1R9               22090.0     Square feet  ...   \n",
       "\n",
       "   DistrictHeating_RenewableEmissionFactor  DistrictCooling_Quantity  \\\n",
       "0                                      0.0                       0.0   \n",
       "1                                      0.0                       0.0   \n",
       "2                                      0.0                       0.0   \n",
       "3                                      0.0                       0.0   \n",
       "4                                      0.0                       0.0   \n",
       "\n",
       "   DistrictCooling_Unit DistrictCooling_IsRenewable  \\\n",
       "0                   NaN                         NaN   \n",
       "1                   NaN                         NaN   \n",
       "2                   NaN                         NaN   \n",
       "3                   NaN                         NaN   \n",
       "4                   NaN                         NaN   \n",
       "\n",
       "   DistrictCooling_RenewableEmissionFactor GHG Emissions KG  \\\n",
       "0                                      0.0    768494.191148   \n",
       "1                                      0.0    591993.944424   \n",
       "2                                      0.0    321242.100318   \n",
       "3                                      0.0     44990.647065   \n",
       "4                                      0.0     61495.253943   \n",
       "\n",
       "   Energy Intensity ekWh_sqft Energy Intensity ekWh_mega_litre  \\\n",
       "0                   64.505982                              0.0   \n",
       "1                   81.999100                              0.0   \n",
       "2                   16.234225                              0.0   \n",
       "3                   19.204553                              0.0   \n",
       "4                   19.203753                              0.0   \n",
       "\n",
       "   Energy Intensity GJ_m2 Energy Intensity GJ_mega_litre  \n",
       "0                2.499613                            0.0  \n",
       "1                3.177473                            0.0  \n",
       "2                0.629078                            0.0  \n",
       "3                0.744178                            0.0  \n",
       "4                0.744147                            0.0  \n",
       "\n",
       "[5 rows x 41 columns]"
      ]
     },
     "execution_count": 937,
     "metadata": {},
     "output_type": "execute_result"
    }
   ],
   "source": [
    "df_4.head()"
   ]
  },
  {
   "cell_type": "code",
   "execution_count": 938,
   "id": "ec4bcffb",
   "metadata": {
    "collapsed": true
   },
   "outputs": [
    {
     "data": {
      "text/plain": [
       "Index(['Sector', 'SubSector', 'Organization', 'Operation', 'Operation Type',\n",
       "       'Address', 'City', 'Postal Code', 'Total Indoor Space_x',\n",
       "       'Unit of Measure', 'Weekly Average Hours', 'Annual Flow (M',\n",
       "       'Number of Portables', 'Swimming Pool', 'Electricity_Quantity',\n",
       "       'Electricity_Unit', 'NaturalGas_Quantity', 'NaturalGas_Unit',\n",
       "       'FuelOil12_Quantity', 'FuelOil12_Unit', 'FuelOil46_Quantity',\n",
       "       'FuelOil46_Unit', 'Propane_Quantity', 'Propane_Unit', 'Coal_Quantity',\n",
       "       'Coal_Unit', 'Wood_Quantity', 'Wood_Unit', 'DistrictHeating_Quantity',\n",
       "       'DistrictHeating_Unit', 'DistrictHeating_IsRenewable',\n",
       "       'DistrictHeating_RenewableEmissionFactor', 'DistrictCooling_Quantity',\n",
       "       'DistrictCooling_Unit', 'DistrictCooling_IsRenewable',\n",
       "       'DistrictCooling_RenewableEmissionFactor', 'GHG Emissions KG',\n",
       "       'Energy Intensity ekWh_sqft', 'Energy Intensity ekWh_mega_litre',\n",
       "       'Energy Intensity GJ_m2', 'Energy Intensity GJ_mega_litre'],\n",
       "      dtype='object')"
      ]
     },
     "execution_count": 938,
     "metadata": {},
     "output_type": "execute_result"
    }
   ],
   "source": [
    "df_4.columns"
   ]
  },
  {
   "cell_type": "code",
   "execution_count": 939,
   "id": "662ffc44",
   "metadata": {
    "collapsed": true
   },
   "outputs": [
    {
     "data": {
      "text/plain": [
       "Sector                                         0\n",
       "SubSector                                      0\n",
       "Organization                                   0\n",
       "Operation                                      0\n",
       "Operation Type                                 0\n",
       "Address                                       12\n",
       "City                                           0\n",
       "Postal Code                                   37\n",
       "Total Indoor Space_x                           0\n",
       "Unit of Measure                              906\n",
       "Weekly Average Hours                           0\n",
       "Annual Flow (M                               778\n",
       "Number of Portables                            0\n",
       "Swimming Pool                               9829\n",
       "Electricity_Quantity                           0\n",
       "Electricity_Unit                             321\n",
       "NaturalGas_Quantity                            0\n",
       "NaturalGas_Unit                             6012\n",
       "FuelOil12_Quantity                             0\n",
       "FuelOil12_Unit                             16950\n",
       "FuelOil46_Quantity                             0\n",
       "FuelOil46_Unit                             17612\n",
       "Propane_Quantity                               0\n",
       "Propane_Unit                               16791\n",
       "Coal_Quantity                                  0\n",
       "Coal_Unit                                  17663\n",
       "Wood_Quantity                                  0\n",
       "Wood_Unit                                  17655\n",
       "DistrictHeating_Quantity                       0\n",
       "DistrictHeating_Unit                       17503\n",
       "DistrictHeating_IsRenewable                17503\n",
       "DistrictHeating_RenewableEmissionFactor       27\n",
       "DistrictCooling_Quantity                       0\n",
       "DistrictCooling_Unit                       17557\n",
       "DistrictCooling_IsRenewable                17557\n",
       "DistrictCooling_RenewableEmissionFactor        9\n",
       "GHG Emissions KG                               0\n",
       "Energy Intensity ekWh_sqft                     0\n",
       "Energy Intensity ekWh_mega_litre               0\n",
       "Energy Intensity GJ_m2                      1557\n",
       "Energy Intensity GJ_mega_litre                 0\n",
       "dtype: int64"
      ]
     },
     "execution_count": 939,
     "metadata": {},
     "output_type": "execute_result"
    }
   ],
   "source": [
    "df_4.isnull().sum()"
   ]
  },
  {
   "cell_type": "code",
   "execution_count": 940,
   "id": "92b2cb4e",
   "metadata": {},
   "outputs": [],
   "source": [
    "df_4 = df_4.dropna(subset=['Address'])"
   ]
  },
  {
   "cell_type": "code",
   "execution_count": 941,
   "id": "7ea923c5",
   "metadata": {},
   "outputs": [
    {
     "data": {
      "text/plain": [
       "array(['N5C 3V6', 'K0C 1A0', 'P6B4H6', ..., 'L4J 5K2', 'M4N 3M6',\n",
       "       'M3J 1P3'], dtype=object)"
      ]
     },
     "execution_count": 941,
     "metadata": {},
     "output_type": "execute_result"
    }
   ],
   "source": [
    "df_4['Postal Code'].unique()"
   ]
  },
  {
   "cell_type": "code",
   "execution_count": 942,
   "id": "ff07e583",
   "metadata": {},
   "outputs": [],
   "source": [
    "df_4 = df_4.dropna(subset=['Postal Code'])"
   ]
  },
  {
   "cell_type": "code",
   "execution_count": 943,
   "id": "44e08c59",
   "metadata": {},
   "outputs": [
    {
     "data": {
      "text/plain": [
       "array(['Square meters', 'Square feet', nan], dtype=object)"
      ]
     },
     "execution_count": 943,
     "metadata": {},
     "output_type": "execute_result"
    }
   ],
   "source": [
    "df_4['Unit of Measure'].unique()"
   ]
  },
  {
   "cell_type": "code",
   "execution_count": 944,
   "id": "d5a184d5",
   "metadata": {},
   "outputs": [],
   "source": [
    "imputer = SimpleImputer(strategy='most_frequent')\n",
    "\n",
    "df_4['Unit of Measure'] = imputer.fit_transform(df_4[['Unit of Measure']]).ravel()"
   ]
  },
  {
   "cell_type": "code",
   "execution_count": 945,
   "id": "f50dd1fc",
   "metadata": {},
   "outputs": [
    {
     "data": {
      "text/plain": [
       "array(['Square meters', 'Square feet'], dtype=object)"
      ]
     },
     "execution_count": 945,
     "metadata": {},
     "output_type": "execute_result"
    }
   ],
   "source": [
    "df_4['Unit of Measure'].unique()"
   ]
  },
  {
   "cell_type": "code",
   "execution_count": 946,
   "id": "ef1d117d",
   "metadata": {},
   "outputs": [
    {
     "data": {
      "text/plain": [
       "array([    0.,  5905., 17700., ..., 54712., 28841.,  2545.])"
      ]
     },
     "execution_count": 946,
     "metadata": {},
     "output_type": "execute_result"
    }
   ],
   "source": [
    "df_4['Annual Flow (M'].unique()"
   ]
  },
  {
   "cell_type": "code",
   "execution_count": 947,
   "id": "2e3e5531",
   "metadata": {},
   "outputs": [],
   "source": [
    "mean_value = df_4['Annual Flow (M'].mean()\n",
    "\n",
    "df_4['Annual Flow (M'].fillna(mean_value, inplace=True)"
   ]
  },
  {
   "cell_type": "code",
   "execution_count": 948,
   "id": "c9167dea",
   "metadata": {},
   "outputs": [
    {
     "data": {
      "text/plain": [
       "array([nan, 'No', 'Yes'], dtype=object)"
      ]
     },
     "execution_count": 948,
     "metadata": {},
     "output_type": "execute_result"
    }
   ],
   "source": [
    "df_4['Swimming Pool'].unique()"
   ]
  },
  {
   "cell_type": "code",
   "execution_count": 949,
   "id": "4006c8a3",
   "metadata": {},
   "outputs": [
    {
     "data": {
      "text/plain": [
       "Swimming Pool\n",
       "No     7729\n",
       "Yes      93\n",
       "Name: count, dtype: int64"
      ]
     },
     "execution_count": 949,
     "metadata": {},
     "output_type": "execute_result"
    }
   ],
   "source": [
    "df_4['Swimming Pool'].value_counts()"
   ]
  },
  {
   "cell_type": "code",
   "execution_count": 950,
   "id": "b1c732f3",
   "metadata": {},
   "outputs": [],
   "source": [
    "df_4['Swimming Pool'].fillna('Yes/No', inplace=True)"
   ]
  },
  {
   "cell_type": "code",
   "execution_count": 951,
   "id": "cebebcb7",
   "metadata": {},
   "outputs": [
    {
     "data": {
      "text/plain": [
       "array(['kWh', nan], dtype=object)"
      ]
     },
     "execution_count": 951,
     "metadata": {},
     "output_type": "execute_result"
    }
   ],
   "source": [
    "df_4['Electricity_Unit'].unique()"
   ]
  },
  {
   "cell_type": "code",
   "execution_count": 952,
   "id": "3dfad7ef",
   "metadata": {},
   "outputs": [],
   "source": [
    "df_4['Electricity_Unit'].fillna('kWh', inplace=True)"
   ]
  },
  {
   "cell_type": "code",
   "execution_count": 953,
   "id": "dacd3b17",
   "metadata": {},
   "outputs": [
    {
     "data": {
      "text/plain": [
       "array(['Cubic Meter', nan, 'Giga Joule', 'ekWh'], dtype=object)"
      ]
     },
     "execution_count": 953,
     "metadata": {},
     "output_type": "execute_result"
    }
   ],
   "source": [
    "df_4['NaturalGas_Unit'].unique()"
   ]
  },
  {
   "cell_type": "code",
   "execution_count": 954,
   "id": "fee5809b",
   "metadata": {},
   "outputs": [],
   "source": [
    "gas_mapping = {'ekWh': 'Cubic Meter', 'Giga Joule': 'Cubic Meter'}\n",
    "df_4['NaturalGas_Unit'] = df_4['NaturalGas_Unit'].map(gas_mapping)"
   ]
  },
  {
   "cell_type": "code",
   "execution_count": 955,
   "id": "aeccb17e",
   "metadata": {},
   "outputs": [],
   "source": [
    "df_4['NaturalGas_Unit'].fillna('Cubic Meter', inplace=True)"
   ]
  },
  {
   "cell_type": "code",
   "execution_count": 956,
   "id": "92db9931",
   "metadata": {},
   "outputs": [
    {
     "data": {
      "text/plain": [
       "array([nan, 'Litre'], dtype=object)"
      ]
     },
     "execution_count": 956,
     "metadata": {},
     "output_type": "execute_result"
    }
   ],
   "source": [
    "df_4['FuelOil12_Unit'].unique()"
   ]
  },
  {
   "cell_type": "code",
   "execution_count": 957,
   "id": "60e5971f",
   "metadata": {},
   "outputs": [],
   "source": [
    "df_4['FuelOil12_Unit'].fillna('Litre', inplace=True)"
   ]
  },
  {
   "cell_type": "code",
   "execution_count": 958,
   "id": "99e5e1d1",
   "metadata": {},
   "outputs": [
    {
     "data": {
      "text/plain": [
       "array([nan, 'Litre'], dtype=object)"
      ]
     },
     "execution_count": 958,
     "metadata": {},
     "output_type": "execute_result"
    }
   ],
   "source": [
    "df_4['FuelOil46_Unit'].unique()"
   ]
  },
  {
   "cell_type": "code",
   "execution_count": 959,
   "id": "8de8d26b",
   "metadata": {},
   "outputs": [],
   "source": [
    "df_4['FuelOil46_Unit'].fillna('Litre', inplace=True)"
   ]
  },
  {
   "cell_type": "code",
   "execution_count": 960,
   "id": "4eeea662",
   "metadata": {},
   "outputs": [
    {
     "data": {
      "text/plain": [
       "array([nan, 'Litre'], dtype=object)"
      ]
     },
     "execution_count": 960,
     "metadata": {},
     "output_type": "execute_result"
    }
   ],
   "source": [
    "df_4['Propane_Unit'].unique()"
   ]
  },
  {
   "cell_type": "code",
   "execution_count": 961,
   "id": "ada38a9f",
   "metadata": {},
   "outputs": [],
   "source": [
    "df_4['Propane_Unit'].fillna('Litre', inplace=True)"
   ]
  },
  {
   "cell_type": "code",
   "execution_count": 962,
   "id": "09014094",
   "metadata": {},
   "outputs": [
    {
     "data": {
      "text/plain": [
       "array([nan])"
      ]
     },
     "execution_count": 962,
     "metadata": {},
     "output_type": "execute_result"
    }
   ],
   "source": [
    "df_4['Coal_Unit'].unique()"
   ]
  },
  {
   "cell_type": "code",
   "execution_count": 963,
   "id": "5dd5780c",
   "metadata": {},
   "outputs": [],
   "source": [
    "df_4['Coal_Unit'].fillna('Tons', inplace=True)"
   ]
  },
  {
   "cell_type": "code",
   "execution_count": 964,
   "id": "79474b4c",
   "metadata": {},
   "outputs": [
    {
     "data": {
      "text/plain": [
       "array([nan, 'Metric Tonne'], dtype=object)"
      ]
     },
     "execution_count": 964,
     "metadata": {},
     "output_type": "execute_result"
    }
   ],
   "source": [
    "df_4['Wood_Unit'].unique()"
   ]
  },
  {
   "cell_type": "code",
   "execution_count": 965,
   "id": "f6e8063d",
   "metadata": {},
   "outputs": [],
   "source": [
    "df_4['Wood_Unit'].fillna('Metric Tonne', inplace=True)"
   ]
  },
  {
   "cell_type": "code",
   "execution_count": 966,
   "id": "77c0f124",
   "metadata": {},
   "outputs": [
    {
     "data": {
      "text/plain": [
       "array([nan, 'Giga Joule', 'Metric Tonne'], dtype=object)"
      ]
     },
     "execution_count": 966,
     "metadata": {},
     "output_type": "execute_result"
    }
   ],
   "source": [
    "df_4['DistrictHeating_Unit'].unique()"
   ]
  },
  {
   "cell_type": "code",
   "execution_count": 967,
   "id": "7703f73a",
   "metadata": {},
   "outputs": [],
   "source": [
    "heat_mapping = {'Metric Tonne': 'joule', 'Giga Joule': 'joule'}\n",
    "df_4['DistrictHeating_Unit'] = df_4['DistrictHeating_Unit'].map(heat_mapping)"
   ]
  },
  {
   "cell_type": "code",
   "execution_count": 968,
   "id": "2174f8f0",
   "metadata": {},
   "outputs": [],
   "source": [
    "df_4['DistrictHeating_Unit'].fillna('joule', inplace=True)"
   ]
  },
  {
   "cell_type": "code",
   "execution_count": 969,
   "id": "fea0878e",
   "metadata": {},
   "outputs": [
    {
     "data": {
      "text/plain": [
       "array([nan, 'No', 'Yes'], dtype=object)"
      ]
     },
     "execution_count": 969,
     "metadata": {},
     "output_type": "execute_result"
    }
   ],
   "source": [
    "df_4['DistrictHeating_IsRenewable'].unique()"
   ]
  },
  {
   "cell_type": "code",
   "execution_count": 970,
   "id": "76176c15",
   "metadata": {},
   "outputs": [],
   "source": [
    "df_4['DistrictHeating_IsRenewable'].fillna('Yes/No', inplace=True)"
   ]
  },
  {
   "cell_type": "code",
   "execution_count": 971,
   "id": "ccf32988",
   "metadata": {},
   "outputs": [
    {
     "data": {
      "text/plain": [
       "array([   0.   ,      nan, 1365.   ,   41.868,   53.64 ,   47.   ])"
      ]
     },
     "execution_count": 971,
     "metadata": {},
     "output_type": "execute_result"
    }
   ],
   "source": [
    "df_4['DistrictHeating_RenewableEmissionFactor'].unique()"
   ]
  },
  {
   "cell_type": "code",
   "execution_count": 972,
   "id": "ae314e07",
   "metadata": {},
   "outputs": [],
   "source": [
    "df_4 = df_4.dropna(subset=['DistrictHeating_RenewableEmissionFactor'])"
   ]
  },
  {
   "cell_type": "code",
   "execution_count": 973,
   "id": "0b778026",
   "metadata": {},
   "outputs": [
    {
     "data": {
      "text/plain": [
       "array([nan, 'Giga Joule', 'KL Chilled Water'], dtype=object)"
      ]
     },
     "execution_count": 973,
     "metadata": {},
     "output_type": "execute_result"
    }
   ],
   "source": [
    "df_4['DistrictCooling_Unit'].unique()"
   ]
  },
  {
   "cell_type": "code",
   "execution_count": 974,
   "id": "f66dad86",
   "metadata": {},
   "outputs": [],
   "source": [
    "cool_mapping = {'Giga Joule': 'joule','KL Chilled Water': 'joule'}\n",
    "df_4['DistrictCooling_Unit'] = df_4['DistrictCooling_Unit'].map(cool_mapping)"
   ]
  },
  {
   "cell_type": "code",
   "execution_count": 975,
   "id": "d617e2e5",
   "metadata": {},
   "outputs": [],
   "source": [
    "df_4['DistrictCooling_Unit'].fillna('joule', inplace=True)"
   ]
  },
  {
   "cell_type": "code",
   "execution_count": 976,
   "id": "b2b663fa",
   "metadata": {},
   "outputs": [
    {
     "data": {
      "text/plain": [
       "array([nan, 'No', 'Yes'], dtype=object)"
      ]
     },
     "execution_count": 976,
     "metadata": {},
     "output_type": "execute_result"
    }
   ],
   "source": [
    "df_4['DistrictCooling_IsRenewable'].unique()"
   ]
  },
  {
   "cell_type": "code",
   "execution_count": 977,
   "id": "e53e5d9b",
   "metadata": {},
   "outputs": [],
   "source": [
    "df_4['DistrictCooling_IsRenewable'].fillna('Yes/No', inplace=True)"
   ]
  },
  {
   "cell_type": "code",
   "execution_count": 978,
   "id": "32e16514",
   "metadata": {},
   "outputs": [
    {
     "data": {
      "text/plain": [
       "array([0.        , 3.71226809,        nan, 0.06      , 3.198     ,\n",
       "       2.485     ])"
      ]
     },
     "execution_count": 978,
     "metadata": {},
     "output_type": "execute_result"
    }
   ],
   "source": [
    "df_4['DistrictCooling_RenewableEmissionFactor'].unique()"
   ]
  },
  {
   "cell_type": "code",
   "execution_count": 979,
   "id": "0f389691",
   "metadata": {},
   "outputs": [],
   "source": [
    "df_4 = df_4.dropna(subset=['DistrictCooling_RenewableEmissionFactor'])"
   ]
  },
  {
   "cell_type": "code",
   "execution_count": 980,
   "id": "5caa94b2",
   "metadata": {},
   "outputs": [
    {
     "data": {
      "text/plain": [
       "array([2.49961298, 3.17747301, 0.62907779, ..., 1.91497977, 1.57515077,\n",
       "       1.00320967])"
      ]
     },
     "execution_count": 980,
     "metadata": {},
     "output_type": "execute_result"
    }
   ],
   "source": [
    "df_4['Energy Intensity GJ_m2'].unique()"
   ]
  },
  {
   "cell_type": "code",
   "execution_count": 981,
   "id": "87fc15c9",
   "metadata": {},
   "outputs": [],
   "source": [
    "mean_values = df_4['Energy Intensity GJ_m2'].mean()\n",
    "\n",
    "df_4['Energy Intensity GJ_m2'].fillna(mean_values, inplace=True)"
   ]
  },
  {
   "cell_type": "code",
   "execution_count": 982,
   "id": "d0122fbd",
   "metadata": {
    "collapsed": true
   },
   "outputs": [
    {
     "data": {
      "text/plain": [
       "Sector                                     0\n",
       "SubSector                                  0\n",
       "Organization                               0\n",
       "Operation                                  0\n",
       "Operation Type                             0\n",
       "Address                                    0\n",
       "City                                       0\n",
       "Postal Code                                0\n",
       "Total Indoor Space_x                       0\n",
       "Unit of Measure                            0\n",
       "Weekly Average Hours                       0\n",
       "Annual Flow (M                             0\n",
       "Number of Portables                        0\n",
       "Swimming Pool                              0\n",
       "Electricity_Quantity                       0\n",
       "Electricity_Unit                           0\n",
       "NaturalGas_Quantity                        0\n",
       "NaturalGas_Unit                            0\n",
       "FuelOil12_Quantity                         0\n",
       "FuelOil12_Unit                             0\n",
       "FuelOil46_Quantity                         0\n",
       "FuelOil46_Unit                             0\n",
       "Propane_Quantity                           0\n",
       "Propane_Unit                               0\n",
       "Coal_Quantity                              0\n",
       "Coal_Unit                                  0\n",
       "Wood_Quantity                              0\n",
       "Wood_Unit                                  0\n",
       "DistrictHeating_Quantity                   0\n",
       "DistrictHeating_Unit                       0\n",
       "DistrictHeating_IsRenewable                0\n",
       "DistrictHeating_RenewableEmissionFactor    0\n",
       "DistrictCooling_Quantity                   0\n",
       "DistrictCooling_Unit                       0\n",
       "DistrictCooling_IsRenewable                0\n",
       "DistrictCooling_RenewableEmissionFactor    0\n",
       "GHG Emissions KG                           0\n",
       "Energy Intensity ekWh_sqft                 0\n",
       "Energy Intensity ekWh_mega_litre           0\n",
       "Energy Intensity GJ_m2                     0\n",
       "Energy Intensity GJ_mega_litre             0\n",
       "dtype: int64"
      ]
     },
     "execution_count": 982,
     "metadata": {},
     "output_type": "execute_result"
    }
   ],
   "source": [
    "df_4.isnull().sum()"
   ]
  },
  {
   "cell_type": "code",
   "execution_count": 1145,
   "id": "11def726",
   "metadata": {
    "collapsed": true
   },
   "outputs": [
    {
     "data": {
      "text/plain": [
       "Sector                                      object\n",
       "SubSector                                   object\n",
       "Organization                                object\n",
       "Operation                                   object\n",
       "Operation Type                              object\n",
       "Address                                     object\n",
       "City                                        object\n",
       "Postal Code                                 object\n",
       "Total Indoor Space_x                       float64\n",
       "Unit of Measure                             object\n",
       "Weekly Average Hours                       float64\n",
       "Annual Flow (M                             float64\n",
       "Number of Portables                          int64\n",
       "Swimming Pool                               object\n",
       "Electricity_Quantity                       float64\n",
       "Electricity_Unit                            object\n",
       "NaturalGas_Quantity                        float64\n",
       "NaturalGas_Unit                             object\n",
       "FuelOil12_Quantity                         float64\n",
       "FuelOil12_Unit                              object\n",
       "FuelOil46_Quantity                         float64\n",
       "FuelOil46_Unit                              object\n",
       "Propane_Quantity                           float64\n",
       "Propane_Unit                                object\n",
       "Coal_Quantity                                int64\n",
       "Coal_Unit                                   object\n",
       "Wood_Quantity                              float64\n",
       "Wood_Unit                                   object\n",
       "DistrictHeating_Quantity                   float64\n",
       "DistrictHeating_Unit                        object\n",
       "DistrictHeating_IsRenewable                 object\n",
       "DistrictHeating_RenewableEmissionFactor    float64\n",
       "DistrictCooling_Quantity                   float64\n",
       "DistrictCooling_Unit                        object\n",
       "DistrictCooling_IsRenewable                 object\n",
       "DistrictCooling_RenewableEmissionFactor    float64\n",
       "GHG Emissions KG                           float64\n",
       "Energy Intensity ekWh_sqft                 float64\n",
       "Energy Intensity ekWh_mega_litre           float64\n",
       "Energy Intensity GJ_m2                     float64\n",
       "Energy Intensity GJ_mega_litre             float64\n",
       "dtype: object"
      ]
     },
     "execution_count": 1145,
     "metadata": {},
     "output_type": "execute_result"
    }
   ],
   "source": [
    "df_4.dtypes"
   ]
  },
  {
   "cell_type": "code",
   "execution_count": 1167,
   "id": "600afdb4",
   "metadata": {},
   "outputs": [],
   "source": [
    "column_mapping4 = {'Sector': 'Sector', 'SubSector': 'SubSector', 'Organization': 'Organization', 'Operation': 'Operation',\n",
    "                 'Operation Type': 'Operation Type', 'Address': 'Address', 'City': 'City', 'Postal Code': 'Postal Code', 'Total Indoor Space_x': 'Total Indoor Space_x',\n",
    "                 'Unit of Measure': 'Unit of Measure', 'Weekly Average Hours': 'Weekly Average Hours', 'Annual Flow (M': 'Annual Flow (M)', 'Number of Portables': 'Number of Portables',\n",
    "                 'Swimming Pool': 'Swimming Pool', 'Electricity_Quantity': 'Electricity_Quantity', 'Electricity_Unit': 'Electricity_Unit', 'NaturalGas_Quantity': 'NaturalGas_Quantity',\n",
    "                 'NaturalGas_Unit': 'NaturalGas_Unit', 'FuelOil12_Quantity': 'FuelOil12_Quantity', 'FuelOil12_Unit': 'FuelOil12_Unit', 'FuelOil46_Quantity': 'FuelOil46_Quantity',\n",
    "                 'FuelOil46_Unit': 'FuelOil46_Unit', 'Propane_Quantity': 'Propane_Quantity', 'Propane_Unit': 'Propane_Unit', 'Coal_Quantity': 'Coal_Quantity',\n",
    "                 'Coal_Unit': 'Coal_Unit', 'Wood_Quantity': 'Wood_Quantity', 'Wood_Unit': 'Wood_Unit', 'DistrictHeating_Quantity': 'DistrictHeating_Quantity', 'DistrictHeating_Unit': 'DistrictHeating_Unit',\n",
    "                 'DistrictHeating_IsRenewable': 'DistrictHeating_IsRenewable', 'DistrictHeating_RenewableEmissionFactor': 'DistrictHeating_RenewableEmissionFactor','DistrictCooling_Quantity': 'DistrictCooling_Quantity',\n",
    "                 'DistrictCooling_Unit': 'DistrictCooling_Unit', 'DistrictCooling_IsRenewable': 'DistrictCooling_IsRenewable', 'DistrictCooling_RenewableEmissionFactor': 'DistrictCooling_RenewableEmissionFactor',\n",
    "                 'GHG Emissions KG': 'GHG Emissions KG', 'Energy Intensity ekWh_sqft': 'Energy Intensity ekWh_sqft', 'Energy Intensity ekWh_mega_litre': 'Energy Intensity ekWh_mega_litre',\n",
    "                 'Energy Intensity GJ_m2': 'Energy Intensity GJ_m2', 'Energy Intensity GJ_mega_litre': 'Energy Intensity GJ_mega_litre'}\n"
   ]
  },
  {
   "cell_type": "code",
   "execution_count": 1168,
   "id": "bec0099e",
   "metadata": {},
   "outputs": [],
   "source": [
    "df_4.rename(columns=column_mapping4, inplace=True)"
   ]
  },
  {
   "cell_type": "code",
   "execution_count": 1169,
   "id": "53a003ba",
   "metadata": {
    "collapsed": true
   },
   "outputs": [
    {
     "data": {
      "text/plain": [
       "Index(['Sector', 'SubSector', 'Organization', 'Operation', 'Operation Type',\n",
       "       'Address', 'City', 'Postal Code', 'Total Indoor Space_x',\n",
       "       'Unit of Measure', 'Weekly Average Hours', 'Annual Flow (M)',\n",
       "       'Number of Portables', 'Swimming Pool', 'Electricity_Quantity',\n",
       "       'Electricity_Unit', 'NaturalGas_Quantity', 'NaturalGas_Unit',\n",
       "       'FuelOil12_Quantity', 'FuelOil12_Unit', 'FuelOil46_Quantity',\n",
       "       'FuelOil46_Unit', 'Propane_Quantity', 'Propane_Unit', 'Coal_Quantity',\n",
       "       'Coal_Unit', 'Wood_Quantity', 'Wood_Unit', 'DistrictHeating_Quantity',\n",
       "       'DistrictHeating_Unit', 'DistrictHeating_IsRenewable',\n",
       "       'DistrictHeating_RenewableEmissionFactor', 'DistrictCooling_Quantity',\n",
       "       'DistrictCooling_Unit', 'DistrictCooling_IsRenewable',\n",
       "       'DistrictCooling_RenewableEmissionFactor', 'GHG Emissions KG',\n",
       "       'Energy Intensity ekWh_sqft', 'Energy Intensity ekWh_mega_litre',\n",
       "       'Energy Intensity GJ_m2', 'Energy Intensity GJ_mega_litre'],\n",
       "      dtype='object')"
      ]
     },
     "execution_count": 1169,
     "metadata": {},
     "output_type": "execute_result"
    }
   ],
   "source": [
    "df_4.columns"
   ]
  },
  {
   "cell_type": "code",
   "execution_count": 1170,
   "id": "a99217a8",
   "metadata": {
    "collapsed": true
   },
   "outputs": [
    {
     "data": {
      "text/html": [
       "<div>\n",
       "<style scoped>\n",
       "    .dataframe tbody tr th:only-of-type {\n",
       "        vertical-align: middle;\n",
       "    }\n",
       "\n",
       "    .dataframe tbody tr th {\n",
       "        vertical-align: top;\n",
       "    }\n",
       "\n",
       "    .dataframe thead th {\n",
       "        text-align: right;\n",
       "    }\n",
       "</style>\n",
       "<table border=\"1\" class=\"dataframe\">\n",
       "  <thead>\n",
       "    <tr style=\"text-align: right;\">\n",
       "      <th></th>\n",
       "      <th>Sector</th>\n",
       "      <th>SubSector</th>\n",
       "      <th>Organization</th>\n",
       "      <th>Operation</th>\n",
       "      <th>Operation Type</th>\n",
       "      <th>Address</th>\n",
       "      <th>City</th>\n",
       "      <th>Postal Code</th>\n",
       "      <th>Total Indoor Space_x</th>\n",
       "      <th>Unit of Measure</th>\n",
       "      <th>...</th>\n",
       "      <th>DistrictHeating_RenewableEmissionFactor</th>\n",
       "      <th>DistrictCooling_Quantity</th>\n",
       "      <th>DistrictCooling_Unit</th>\n",
       "      <th>DistrictCooling_IsRenewable</th>\n",
       "      <th>DistrictCooling_RenewableEmissionFactor</th>\n",
       "      <th>GHG Emissions KG</th>\n",
       "      <th>Energy Intensity ekWh_sqft</th>\n",
       "      <th>Energy Intensity ekWh_mega_litre</th>\n",
       "      <th>Energy Intensity GJ_m2</th>\n",
       "      <th>Energy Intensity GJ_mega_litre</th>\n",
       "    </tr>\n",
       "  </thead>\n",
       "  <tbody>\n",
       "    <tr>\n",
       "      <th>0</th>\n",
       "      <td>Public Hospital</td>\n",
       "      <td>Acute/Chronic Hospital</td>\n",
       "      <td>Alexandra Hospital</td>\n",
       "      <td>Alexandra Hospital, Ingersoll</td>\n",
       "      <td>Facilities used for hospital purposes</td>\n",
       "      <td>29 Noxon Street</td>\n",
       "      <td>Ingersoll</td>\n",
       "      <td>N5C 3V6</td>\n",
       "      <td>8474.0</td>\n",
       "      <td>Square meters</td>\n",
       "      <td>...</td>\n",
       "      <td>0.0</td>\n",
       "      <td>0.0</td>\n",
       "      <td>joule</td>\n",
       "      <td>Yes/No</td>\n",
       "      <td>0.0</td>\n",
       "      <td>768494.191148</td>\n",
       "      <td>64.505982</td>\n",
       "      <td>0.0</td>\n",
       "      <td>2.499613</td>\n",
       "      <td>0.0</td>\n",
       "    </tr>\n",
       "    <tr>\n",
       "      <th>1</th>\n",
       "      <td>Public Hospital</td>\n",
       "      <td>Acute/Chronic Hospital</td>\n",
       "      <td>Alexandria Glengarry Memorial Hospital</td>\n",
       "      <td>Glengarry Memorial Hospital</td>\n",
       "      <td>Facilities used for hospital purposes</td>\n",
       "      <td>20260 County Road 43</td>\n",
       "      <td>Alexandria</td>\n",
       "      <td>K0C 1A0</td>\n",
       "      <td>54969.0</td>\n",
       "      <td>Square feet</td>\n",
       "      <td>...</td>\n",
       "      <td>0.0</td>\n",
       "      <td>0.0</td>\n",
       "      <td>joule</td>\n",
       "      <td>Yes/No</td>\n",
       "      <td>0.0</td>\n",
       "      <td>591993.944424</td>\n",
       "      <td>81.999100</td>\n",
       "      <td>0.0</td>\n",
       "      <td>3.177473</td>\n",
       "      <td>0.0</td>\n",
       "    </tr>\n",
       "    <tr>\n",
       "      <th>2</th>\n",
       "      <td>School Board</td>\n",
       "      <td>School Board</td>\n",
       "      <td>Algoma District School Board</td>\n",
       "      <td>Adult Ed/Con Ed - (Alex Henry)</td>\n",
       "      <td>School</td>\n",
       "      <td>232 Northern Ave E</td>\n",
       "      <td>Sault Ste. Marie</td>\n",
       "      <td>P6B4H6</td>\n",
       "      <td>130923.0</td>\n",
       "      <td>Square feet</td>\n",
       "      <td>...</td>\n",
       "      <td>0.0</td>\n",
       "      <td>0.0</td>\n",
       "      <td>joule</td>\n",
       "      <td>Yes/No</td>\n",
       "      <td>0.0</td>\n",
       "      <td>321242.100318</td>\n",
       "      <td>16.234225</td>\n",
       "      <td>0.0</td>\n",
       "      <td>0.629078</td>\n",
       "      <td>0.0</td>\n",
       "    </tr>\n",
       "    <tr>\n",
       "      <th>3</th>\n",
       "      <td>School Board</td>\n",
       "      <td>School Board</td>\n",
       "      <td>Algoma District School Board</td>\n",
       "      <td>Adult Ed/Co-op (former SF Howe)</td>\n",
       "      <td>School</td>\n",
       "      <td>440 Northland Road</td>\n",
       "      <td>Sault Ste. Marie</td>\n",
       "      <td>P6C3N6</td>\n",
       "      <td>17776.0</td>\n",
       "      <td>Square feet</td>\n",
       "      <td>...</td>\n",
       "      <td>0.0</td>\n",
       "      <td>0.0</td>\n",
       "      <td>joule</td>\n",
       "      <td>Yes/No</td>\n",
       "      <td>0.0</td>\n",
       "      <td>44990.647065</td>\n",
       "      <td>19.204553</td>\n",
       "      <td>0.0</td>\n",
       "      <td>0.744178</td>\n",
       "      <td>0.0</td>\n",
       "    </tr>\n",
       "    <tr>\n",
       "      <th>4</th>\n",
       "      <td>School Board</td>\n",
       "      <td>School Board</td>\n",
       "      <td>Algoma District School Board</td>\n",
       "      <td>Adult Education - Elliot Lake</td>\n",
       "      <td>School</td>\n",
       "      <td>50 Roman Ave</td>\n",
       "      <td>Elliot Lake</td>\n",
       "      <td>P5A 1R9</td>\n",
       "      <td>22090.0</td>\n",
       "      <td>Square feet</td>\n",
       "      <td>...</td>\n",
       "      <td>0.0</td>\n",
       "      <td>0.0</td>\n",
       "      <td>joule</td>\n",
       "      <td>Yes/No</td>\n",
       "      <td>0.0</td>\n",
       "      <td>61495.253943</td>\n",
       "      <td>19.203753</td>\n",
       "      <td>0.0</td>\n",
       "      <td>0.744147</td>\n",
       "      <td>0.0</td>\n",
       "    </tr>\n",
       "  </tbody>\n",
       "</table>\n",
       "<p>5 rows × 41 columns</p>\n",
       "</div>"
      ],
      "text/plain": [
       "            Sector               SubSector  \\\n",
       "0  Public Hospital  Acute/Chronic Hospital   \n",
       "1  Public Hospital  Acute/Chronic Hospital   \n",
       "2     School Board            School Board   \n",
       "3     School Board            School Board   \n",
       "4     School Board            School Board   \n",
       "\n",
       "                             Organization                        Operation  \\\n",
       "0                      Alexandra Hospital    Alexandra Hospital, Ingersoll   \n",
       "1  Alexandria Glengarry Memorial Hospital      Glengarry Memorial Hospital   \n",
       "2            Algoma District School Board   Adult Ed/Con Ed - (Alex Henry)   \n",
       "3            Algoma District School Board  Adult Ed/Co-op (former SF Howe)   \n",
       "4            Algoma District School Board    Adult Education - Elliot Lake   \n",
       "\n",
       "                          Operation Type               Address  \\\n",
       "0  Facilities used for hospital purposes       29 Noxon Street   \n",
       "1  Facilities used for hospital purposes  20260 County Road 43   \n",
       "2                                 School    232 Northern Ave E   \n",
       "3                                 School    440 Northland Road   \n",
       "4                                 School          50 Roman Ave   \n",
       "\n",
       "               City Postal Code  Total Indoor Space_x Unit of Measure  ...  \\\n",
       "0         Ingersoll     N5C 3V6                8474.0   Square meters  ...   \n",
       "1        Alexandria     K0C 1A0               54969.0     Square feet  ...   \n",
       "2  Sault Ste. Marie      P6B4H6              130923.0     Square feet  ...   \n",
       "3  Sault Ste. Marie      P6C3N6               17776.0     Square feet  ...   \n",
       "4       Elliot Lake     P5A 1R9               22090.0     Square feet  ...   \n",
       "\n",
       "   DistrictHeating_RenewableEmissionFactor  DistrictCooling_Quantity  \\\n",
       "0                                      0.0                       0.0   \n",
       "1                                      0.0                       0.0   \n",
       "2                                      0.0                       0.0   \n",
       "3                                      0.0                       0.0   \n",
       "4                                      0.0                       0.0   \n",
       "\n",
       "   DistrictCooling_Unit DistrictCooling_IsRenewable  \\\n",
       "0                 joule                      Yes/No   \n",
       "1                 joule                      Yes/No   \n",
       "2                 joule                      Yes/No   \n",
       "3                 joule                      Yes/No   \n",
       "4                 joule                      Yes/No   \n",
       "\n",
       "   DistrictCooling_RenewableEmissionFactor GHG Emissions KG  \\\n",
       "0                                      0.0    768494.191148   \n",
       "1                                      0.0    591993.944424   \n",
       "2                                      0.0    321242.100318   \n",
       "3                                      0.0     44990.647065   \n",
       "4                                      0.0     61495.253943   \n",
       "\n",
       "   Energy Intensity ekWh_sqft Energy Intensity ekWh_mega_litre  \\\n",
       "0                   64.505982                              0.0   \n",
       "1                   81.999100                              0.0   \n",
       "2                   16.234225                              0.0   \n",
       "3                   19.204553                              0.0   \n",
       "4                   19.203753                              0.0   \n",
       "\n",
       "   Energy Intensity GJ_m2 Energy Intensity GJ_mega_litre  \n",
       "0                2.499613                            0.0  \n",
       "1                3.177473                            0.0  \n",
       "2                0.629078                            0.0  \n",
       "3                0.744178                            0.0  \n",
       "4                0.744147                            0.0  \n",
       "\n",
       "[5 rows x 41 columns]"
      ]
     },
     "execution_count": 1170,
     "metadata": {},
     "output_type": "execute_result"
    }
   ],
   "source": [
    "df_4.head()"
   ]
  },
  {
   "cell_type": "code",
   "execution_count": 1204,
   "id": "28966e61",
   "metadata": {},
   "outputs": [],
   "source": [
    "df_4.insert(0, 'Year', 2015)"
   ]
  },
  {
   "cell_type": "code",
   "execution_count": 1205,
   "id": "7ce25217",
   "metadata": {
    "collapsed": true
   },
   "outputs": [
    {
     "data": {
      "text/html": [
       "<div>\n",
       "<style scoped>\n",
       "    .dataframe tbody tr th:only-of-type {\n",
       "        vertical-align: middle;\n",
       "    }\n",
       "\n",
       "    .dataframe tbody tr th {\n",
       "        vertical-align: top;\n",
       "    }\n",
       "\n",
       "    .dataframe thead th {\n",
       "        text-align: right;\n",
       "    }\n",
       "</style>\n",
       "<table border=\"1\" class=\"dataframe\">\n",
       "  <thead>\n",
       "    <tr style=\"text-align: right;\">\n",
       "      <th></th>\n",
       "      <th>Year</th>\n",
       "      <th>Sector</th>\n",
       "      <th>SubSector</th>\n",
       "      <th>Organization</th>\n",
       "      <th>Operation</th>\n",
       "      <th>Operation Type</th>\n",
       "      <th>Address</th>\n",
       "      <th>City</th>\n",
       "      <th>Postal Code</th>\n",
       "      <th>Total Indoor Space_x</th>\n",
       "      <th>...</th>\n",
       "      <th>DistrictHeating_RenewableEmissionFactor</th>\n",
       "      <th>DistrictCooling_Quantity</th>\n",
       "      <th>DistrictCooling_Unit</th>\n",
       "      <th>DistrictCooling_IsRenewable</th>\n",
       "      <th>DistrictCooling_RenewableEmissionFactor</th>\n",
       "      <th>GHG Emissions KG</th>\n",
       "      <th>Energy Intensity ekWh_sqft</th>\n",
       "      <th>Energy Intensity ekWh_mega_litre</th>\n",
       "      <th>Energy Intensity GJ_m2</th>\n",
       "      <th>Energy Intensity GJ_mega_litre</th>\n",
       "    </tr>\n",
       "  </thead>\n",
       "  <tbody>\n",
       "    <tr>\n",
       "      <th>0</th>\n",
       "      <td>2015</td>\n",
       "      <td>Public Hospital</td>\n",
       "      <td>Acute/Chronic Hospital</td>\n",
       "      <td>Alexandra Hospital</td>\n",
       "      <td>Alexandra Hospital, Ingersoll</td>\n",
       "      <td>Facilities used for hospital purposes</td>\n",
       "      <td>29 Noxon Street</td>\n",
       "      <td>Ingersoll</td>\n",
       "      <td>N5C 3V6</td>\n",
       "      <td>8474.0</td>\n",
       "      <td>...</td>\n",
       "      <td>0.0</td>\n",
       "      <td>0.0</td>\n",
       "      <td>joule</td>\n",
       "      <td>Yes/No</td>\n",
       "      <td>0.0</td>\n",
       "      <td>768494.191148</td>\n",
       "      <td>64.505982</td>\n",
       "      <td>0.0</td>\n",
       "      <td>2.499613</td>\n",
       "      <td>0.0</td>\n",
       "    </tr>\n",
       "    <tr>\n",
       "      <th>1</th>\n",
       "      <td>2015</td>\n",
       "      <td>Public Hospital</td>\n",
       "      <td>Acute/Chronic Hospital</td>\n",
       "      <td>Alexandria Glengarry Memorial Hospital</td>\n",
       "      <td>Glengarry Memorial Hospital</td>\n",
       "      <td>Facilities used for hospital purposes</td>\n",
       "      <td>20260 County Road 43</td>\n",
       "      <td>Alexandria</td>\n",
       "      <td>K0C 1A0</td>\n",
       "      <td>54969.0</td>\n",
       "      <td>...</td>\n",
       "      <td>0.0</td>\n",
       "      <td>0.0</td>\n",
       "      <td>joule</td>\n",
       "      <td>Yes/No</td>\n",
       "      <td>0.0</td>\n",
       "      <td>591993.944424</td>\n",
       "      <td>81.999100</td>\n",
       "      <td>0.0</td>\n",
       "      <td>3.177473</td>\n",
       "      <td>0.0</td>\n",
       "    </tr>\n",
       "    <tr>\n",
       "      <th>2</th>\n",
       "      <td>2015</td>\n",
       "      <td>School Board</td>\n",
       "      <td>School Board</td>\n",
       "      <td>Algoma District School Board</td>\n",
       "      <td>Adult Ed/Con Ed - (Alex Henry)</td>\n",
       "      <td>School</td>\n",
       "      <td>232 Northern Ave E</td>\n",
       "      <td>Sault Ste. Marie</td>\n",
       "      <td>P6B4H6</td>\n",
       "      <td>130923.0</td>\n",
       "      <td>...</td>\n",
       "      <td>0.0</td>\n",
       "      <td>0.0</td>\n",
       "      <td>joule</td>\n",
       "      <td>Yes/No</td>\n",
       "      <td>0.0</td>\n",
       "      <td>321242.100318</td>\n",
       "      <td>16.234225</td>\n",
       "      <td>0.0</td>\n",
       "      <td>0.629078</td>\n",
       "      <td>0.0</td>\n",
       "    </tr>\n",
       "    <tr>\n",
       "      <th>3</th>\n",
       "      <td>2015</td>\n",
       "      <td>School Board</td>\n",
       "      <td>School Board</td>\n",
       "      <td>Algoma District School Board</td>\n",
       "      <td>Adult Ed/Co-op (former SF Howe)</td>\n",
       "      <td>School</td>\n",
       "      <td>440 Northland Road</td>\n",
       "      <td>Sault Ste. Marie</td>\n",
       "      <td>P6C3N6</td>\n",
       "      <td>17776.0</td>\n",
       "      <td>...</td>\n",
       "      <td>0.0</td>\n",
       "      <td>0.0</td>\n",
       "      <td>joule</td>\n",
       "      <td>Yes/No</td>\n",
       "      <td>0.0</td>\n",
       "      <td>44990.647065</td>\n",
       "      <td>19.204553</td>\n",
       "      <td>0.0</td>\n",
       "      <td>0.744178</td>\n",
       "      <td>0.0</td>\n",
       "    </tr>\n",
       "    <tr>\n",
       "      <th>4</th>\n",
       "      <td>2015</td>\n",
       "      <td>School Board</td>\n",
       "      <td>School Board</td>\n",
       "      <td>Algoma District School Board</td>\n",
       "      <td>Adult Education - Elliot Lake</td>\n",
       "      <td>School</td>\n",
       "      <td>50 Roman Ave</td>\n",
       "      <td>Elliot Lake</td>\n",
       "      <td>P5A 1R9</td>\n",
       "      <td>22090.0</td>\n",
       "      <td>...</td>\n",
       "      <td>0.0</td>\n",
       "      <td>0.0</td>\n",
       "      <td>joule</td>\n",
       "      <td>Yes/No</td>\n",
       "      <td>0.0</td>\n",
       "      <td>61495.253943</td>\n",
       "      <td>19.203753</td>\n",
       "      <td>0.0</td>\n",
       "      <td>0.744147</td>\n",
       "      <td>0.0</td>\n",
       "    </tr>\n",
       "  </tbody>\n",
       "</table>\n",
       "<p>5 rows × 42 columns</p>\n",
       "</div>"
      ],
      "text/plain": [
       "   Year           Sector               SubSector  \\\n",
       "0  2015  Public Hospital  Acute/Chronic Hospital   \n",
       "1  2015  Public Hospital  Acute/Chronic Hospital   \n",
       "2  2015     School Board            School Board   \n",
       "3  2015     School Board            School Board   \n",
       "4  2015     School Board            School Board   \n",
       "\n",
       "                             Organization                        Operation  \\\n",
       "0                      Alexandra Hospital    Alexandra Hospital, Ingersoll   \n",
       "1  Alexandria Glengarry Memorial Hospital      Glengarry Memorial Hospital   \n",
       "2            Algoma District School Board   Adult Ed/Con Ed - (Alex Henry)   \n",
       "3            Algoma District School Board  Adult Ed/Co-op (former SF Howe)   \n",
       "4            Algoma District School Board    Adult Education - Elliot Lake   \n",
       "\n",
       "                          Operation Type               Address  \\\n",
       "0  Facilities used for hospital purposes       29 Noxon Street   \n",
       "1  Facilities used for hospital purposes  20260 County Road 43   \n",
       "2                                 School    232 Northern Ave E   \n",
       "3                                 School    440 Northland Road   \n",
       "4                                 School          50 Roman Ave   \n",
       "\n",
       "               City Postal Code  Total Indoor Space_x  ...  \\\n",
       "0         Ingersoll     N5C 3V6                8474.0  ...   \n",
       "1        Alexandria     K0C 1A0               54969.0  ...   \n",
       "2  Sault Ste. Marie      P6B4H6              130923.0  ...   \n",
       "3  Sault Ste. Marie      P6C3N6               17776.0  ...   \n",
       "4       Elliot Lake     P5A 1R9               22090.0  ...   \n",
       "\n",
       "  DistrictHeating_RenewableEmissionFactor  DistrictCooling_Quantity  \\\n",
       "0                                     0.0                       0.0   \n",
       "1                                     0.0                       0.0   \n",
       "2                                     0.0                       0.0   \n",
       "3                                     0.0                       0.0   \n",
       "4                                     0.0                       0.0   \n",
       "\n",
       "   DistrictCooling_Unit  DistrictCooling_IsRenewable  \\\n",
       "0                 joule                       Yes/No   \n",
       "1                 joule                       Yes/No   \n",
       "2                 joule                       Yes/No   \n",
       "3                 joule                       Yes/No   \n",
       "4                 joule                       Yes/No   \n",
       "\n",
       "  DistrictCooling_RenewableEmissionFactor  GHG Emissions KG  \\\n",
       "0                                     0.0     768494.191148   \n",
       "1                                     0.0     591993.944424   \n",
       "2                                     0.0     321242.100318   \n",
       "3                                     0.0      44990.647065   \n",
       "4                                     0.0      61495.253943   \n",
       "\n",
       "  Energy Intensity ekWh_sqft  Energy Intensity ekWh_mega_litre  \\\n",
       "0                  64.505982                               0.0   \n",
       "1                  81.999100                               0.0   \n",
       "2                  16.234225                               0.0   \n",
       "3                  19.204553                               0.0   \n",
       "4                  19.203753                               0.0   \n",
       "\n",
       "  Energy Intensity GJ_m2  Energy Intensity GJ_mega_litre  \n",
       "0               2.499613                             0.0  \n",
       "1               3.177473                             0.0  \n",
       "2               0.629078                             0.0  \n",
       "3               0.744178                             0.0  \n",
       "4               0.744147                             0.0  \n",
       "\n",
       "[5 rows x 42 columns]"
      ]
     },
     "execution_count": 1205,
     "metadata": {},
     "output_type": "execute_result"
    }
   ],
   "source": [
    "df_4.head()"
   ]
  },
  {
   "cell_type": "markdown",
   "id": "8c0a8e7f",
   "metadata": {},
   "source": [
    "# Datas for 2016"
   ]
  },
  {
   "cell_type": "code",
   "execution_count": 983,
   "id": "8a3efe39",
   "metadata": {},
   "outputs": [],
   "source": [
    "df_5 = pd.read_excel('datas/bps_2016_report_english_1.xlsx')"
   ]
  },
  {
   "cell_type": "code",
   "execution_count": 984,
   "id": "af78b21d",
   "metadata": {
    "collapsed": true
   },
   "outputs": [
    {
     "data": {
      "text/html": [
       "<div>\n",
       "<style scoped>\n",
       "    .dataframe tbody tr th:only-of-type {\n",
       "        vertical-align: middle;\n",
       "    }\n",
       "\n",
       "    .dataframe tbody tr th {\n",
       "        vertical-align: top;\n",
       "    }\n",
       "\n",
       "    .dataframe thead th {\n",
       "        text-align: right;\n",
       "    }\n",
       "</style>\n",
       "<table border=\"1\" class=\"dataframe\">\n",
       "  <thead>\n",
       "    <tr style=\"text-align: right;\">\n",
       "      <th></th>\n",
       "      <th>Sector</th>\n",
       "      <th>Sub Sector</th>\n",
       "      <th>Organization</th>\n",
       "      <th>Operation</th>\n",
       "      <th>Operation Type</th>\n",
       "      <th>Address</th>\n",
       "      <th>City</th>\n",
       "      <th>Postal Code</th>\n",
       "      <th>Total Indoor Space_x</th>\n",
       "      <th>Unit of Measure</th>\n",
       "      <th>...</th>\n",
       "      <th>DistrictHeating_RenewableEmissionFactor</th>\n",
       "      <th>DistrictCooling_Quantity</th>\n",
       "      <th>DistrictCooling_Unit</th>\n",
       "      <th>DistrictCooling_IsRenewable</th>\n",
       "      <th>DistrictCooling_RenewableEmissionFactor</th>\n",
       "      <th>GHG Emissions KG</th>\n",
       "      <th>Energy Intensity ekWh_sqft</th>\n",
       "      <th>Energy Intensity ekWh_mega_litre</th>\n",
       "      <th>Energy Intensity GJ_m2</th>\n",
       "      <th>Energy Intensity GJ_mega_litre</th>\n",
       "    </tr>\n",
       "  </thead>\n",
       "  <tbody>\n",
       "    <tr>\n",
       "      <th>0</th>\n",
       "      <td>Public Hospital</td>\n",
       "      <td>Acute/Chronic Hospital</td>\n",
       "      <td>Alexandra Hospital</td>\n",
       "      <td>Alexandra Hospital, Ingersoll</td>\n",
       "      <td>Facilities used for hospital purposes</td>\n",
       "      <td>29 Noxon Street</td>\n",
       "      <td>Ingersoll</td>\n",
       "      <td>N5C 3V6</td>\n",
       "      <td>8474.0</td>\n",
       "      <td>Square meters</td>\n",
       "      <td>...</td>\n",
       "      <td>0.0</td>\n",
       "      <td>0.0</td>\n",
       "      <td>NaN</td>\n",
       "      <td>NaN</td>\n",
       "      <td>0.0</td>\n",
       "      <td>882840.286320</td>\n",
       "      <td>72.433643</td>\n",
       "      <td>0.0</td>\n",
       "      <td>2.806804</td>\n",
       "      <td>0.0</td>\n",
       "    </tr>\n",
       "    <tr>\n",
       "      <th>1</th>\n",
       "      <td>Public Hospital</td>\n",
       "      <td>Acute/Chronic Hospital</td>\n",
       "      <td>Alexandria Glengarry Memorial Hospital</td>\n",
       "      <td>Glengarry Memorial Hospital</td>\n",
       "      <td>Facilities used for hospital purposes</td>\n",
       "      <td>20260 County Road 43</td>\n",
       "      <td>Alexandria</td>\n",
       "      <td>K0C 1A0</td>\n",
       "      <td>54969.0</td>\n",
       "      <td>Square feet</td>\n",
       "      <td>...</td>\n",
       "      <td>0.0</td>\n",
       "      <td>0.0</td>\n",
       "      <td>NaN</td>\n",
       "      <td>NaN</td>\n",
       "      <td>0.0</td>\n",
       "      <td>452486.561296</td>\n",
       "      <td>53.026440</td>\n",
       "      <td>0.0</td>\n",
       "      <td>2.054775</td>\n",
       "      <td>0.0</td>\n",
       "    </tr>\n",
       "    <tr>\n",
       "      <th>2</th>\n",
       "      <td>School Board</td>\n",
       "      <td>School Board</td>\n",
       "      <td>Algoma District School Board</td>\n",
       "      <td>Blind River PS</td>\n",
       "      <td>School</td>\n",
       "      <td>19 Hanes Ave</td>\n",
       "      <td>Blind River</td>\n",
       "      <td>P0R 1B0</td>\n",
       "      <td>48226.0</td>\n",
       "      <td>Square feet</td>\n",
       "      <td>...</td>\n",
       "      <td>0.0</td>\n",
       "      <td>0.0</td>\n",
       "      <td>NaN</td>\n",
       "      <td>NaN</td>\n",
       "      <td>0.0</td>\n",
       "      <td>122110.210331</td>\n",
       "      <td>16.663778</td>\n",
       "      <td>0.0</td>\n",
       "      <td>0.645721</td>\n",
       "      <td>0.0</td>\n",
       "    </tr>\n",
       "    <tr>\n",
       "      <th>3</th>\n",
       "      <td>School Board</td>\n",
       "      <td>School Board</td>\n",
       "      <td>Algoma District School Board</td>\n",
       "      <td>W C Eaket SS</td>\n",
       "      <td>School</td>\n",
       "      <td>147 Woodward Ave</td>\n",
       "      <td>Blind River</td>\n",
       "      <td>P0R 1B0</td>\n",
       "      <td>103260.0</td>\n",
       "      <td>Square feet</td>\n",
       "      <td>...</td>\n",
       "      <td>0.0</td>\n",
       "      <td>0.0</td>\n",
       "      <td>NaN</td>\n",
       "      <td>NaN</td>\n",
       "      <td>0.0</td>\n",
       "      <td>262055.015840</td>\n",
       "      <td>16.857132</td>\n",
       "      <td>0.0</td>\n",
       "      <td>0.653214</td>\n",
       "      <td>0.0</td>\n",
       "    </tr>\n",
       "    <tr>\n",
       "      <th>4</th>\n",
       "      <td>School Board</td>\n",
       "      <td>School Board</td>\n",
       "      <td>Algoma District School Board</td>\n",
       "      <td>Arthur Henderson PS</td>\n",
       "      <td>School</td>\n",
       "      <td>2 Henderson Lane</td>\n",
       "      <td>Bruce Mines</td>\n",
       "      <td>P0R 1C0</td>\n",
       "      <td>16764.0</td>\n",
       "      <td>Square feet</td>\n",
       "      <td>...</td>\n",
       "      <td>0.0</td>\n",
       "      <td>0.0</td>\n",
       "      <td>NaN</td>\n",
       "      <td>NaN</td>\n",
       "      <td>0.0</td>\n",
       "      <td>73294.531952</td>\n",
       "      <td>28.474672</td>\n",
       "      <td>0.0</td>\n",
       "      <td>1.103394</td>\n",
       "      <td>0.0</td>\n",
       "    </tr>\n",
       "  </tbody>\n",
       "</table>\n",
       "<p>5 rows × 41 columns</p>\n",
       "</div>"
      ],
      "text/plain": [
       "            Sector              Sub Sector  \\\n",
       "0  Public Hospital  Acute/Chronic Hospital   \n",
       "1  Public Hospital  Acute/Chronic Hospital   \n",
       "2     School Board            School Board   \n",
       "3     School Board            School Board   \n",
       "4     School Board            School Board   \n",
       "\n",
       "                             Organization                      Operation  \\\n",
       "0                      Alexandra Hospital  Alexandra Hospital, Ingersoll   \n",
       "1  Alexandria Glengarry Memorial Hospital    Glengarry Memorial Hospital   \n",
       "2            Algoma District School Board                 Blind River PS   \n",
       "3            Algoma District School Board                   W C Eaket SS   \n",
       "4            Algoma District School Board            Arthur Henderson PS   \n",
       "\n",
       "                          Operation Type               Address         City  \\\n",
       "0  Facilities used for hospital purposes       29 Noxon Street    Ingersoll   \n",
       "1  Facilities used for hospital purposes  20260 County Road 43   Alexandria   \n",
       "2                                 School          19 Hanes Ave  Blind River   \n",
       "3                                 School      147 Woodward Ave  Blind River   \n",
       "4                                 School      2 Henderson Lane  Bruce Mines   \n",
       "\n",
       "  Postal Code  Total Indoor Space_x Unit of Measure  ...  \\\n",
       "0     N5C 3V6                8474.0   Square meters  ...   \n",
       "1     K0C 1A0               54969.0     Square feet  ...   \n",
       "2     P0R 1B0               48226.0     Square feet  ...   \n",
       "3     P0R 1B0              103260.0     Square feet  ...   \n",
       "4     P0R 1C0               16764.0     Square feet  ...   \n",
       "\n",
       "   DistrictHeating_RenewableEmissionFactor  DistrictCooling_Quantity  \\\n",
       "0                                      0.0                       0.0   \n",
       "1                                      0.0                       0.0   \n",
       "2                                      0.0                       0.0   \n",
       "3                                      0.0                       0.0   \n",
       "4                                      0.0                       0.0   \n",
       "\n",
       "   DistrictCooling_Unit DistrictCooling_IsRenewable  \\\n",
       "0                   NaN                         NaN   \n",
       "1                   NaN                         NaN   \n",
       "2                   NaN                         NaN   \n",
       "3                   NaN                         NaN   \n",
       "4                   NaN                         NaN   \n",
       "\n",
       "   DistrictCooling_RenewableEmissionFactor GHG Emissions KG  \\\n",
       "0                                      0.0    882840.286320   \n",
       "1                                      0.0    452486.561296   \n",
       "2                                      0.0    122110.210331   \n",
       "3                                      0.0    262055.015840   \n",
       "4                                      0.0     73294.531952   \n",
       "\n",
       "   Energy Intensity ekWh_sqft Energy Intensity ekWh_mega_litre  \\\n",
       "0                   72.433643                              0.0   \n",
       "1                   53.026440                              0.0   \n",
       "2                   16.663778                              0.0   \n",
       "3                   16.857132                              0.0   \n",
       "4                   28.474672                              0.0   \n",
       "\n",
       "   Energy Intensity GJ_m2 Energy Intensity GJ_mega_litre  \n",
       "0                2.806804                            0.0  \n",
       "1                2.054775                            0.0  \n",
       "2                0.645721                            0.0  \n",
       "3                0.653214                            0.0  \n",
       "4                1.103394                            0.0  \n",
       "\n",
       "[5 rows x 41 columns]"
      ]
     },
     "execution_count": 984,
     "metadata": {},
     "output_type": "execute_result"
    }
   ],
   "source": [
    "df_5.head()"
   ]
  },
  {
   "cell_type": "code",
   "execution_count": 985,
   "id": "b872874b",
   "metadata": {
    "collapsed": true
   },
   "outputs": [
    {
     "data": {
      "text/plain": [
       "Index(['Sector', 'Sub Sector', 'Organization', 'Operation', 'Operation Type',\n",
       "       'Address', 'City', 'Postal Code', 'Total Indoor Space_x',\n",
       "       'Unit of Measure', 'Weekly Average Hours', 'Annual Flow (M',\n",
       "       'Number of Portables', 'Swimming Pool', 'Electricity_Quantity',\n",
       "       'Electricity_Unit', 'NaturalGas_Quantity', 'NaturalGas_Unit',\n",
       "       'FuelOil12_Quantity', 'FuelOil12_Unit', 'FuelOil46_Quantity',\n",
       "       'FuelOil46_Unit', 'Propane_Quantity', 'Propane_Unit', 'Coal_Quantity',\n",
       "       'Coal_Unit', 'Wood_Quantity', 'Wood_Unit', 'DistrictHeating_Quantity',\n",
       "       'DistrictHeating_Unit', 'DistrictHeating_IsRenewable',\n",
       "       'DistrictHeating_RenewableEmissionFactor', 'DistrictCooling_Quantity',\n",
       "       'DistrictCooling_Unit', 'DistrictCooling_IsRenewable',\n",
       "       'DistrictCooling_RenewableEmissionFactor', 'GHG Emissions KG',\n",
       "       'Energy Intensity ekWh_sqft', 'Energy Intensity ekWh_mega_litre',\n",
       "       'Energy Intensity GJ_m2', 'Energy Intensity GJ_mega_litre'],\n",
       "      dtype='object')"
      ]
     },
     "execution_count": 985,
     "metadata": {},
     "output_type": "execute_result"
    }
   ],
   "source": [
    "df_5.columns"
   ]
  },
  {
   "cell_type": "code",
   "execution_count": 986,
   "id": "40a11524",
   "metadata": {
    "collapsed": true
   },
   "outputs": [
    {
     "data": {
      "text/plain": [
       "Sector                                         0\n",
       "Sub Sector                                     0\n",
       "Organization                                   0\n",
       "Operation                                      0\n",
       "Operation Type                                 0\n",
       "Address                                       15\n",
       "City                                           0\n",
       "Postal Code                                   36\n",
       "Total Indoor Space_x                           0\n",
       "Unit of Measure                              801\n",
       "Weekly Average Hours                           0\n",
       "Annual Flow (M                               571\n",
       "Number of Portables                            0\n",
       "Swimming Pool                               9785\n",
       "Electricity_Quantity                           0\n",
       "Electricity_Unit                             309\n",
       "NaturalGas_Quantity                            0\n",
       "NaturalGas_Unit                             6064\n",
       "FuelOil12_Quantity                             0\n",
       "FuelOil12_Unit                             16911\n",
       "FuelOil46_Quantity                             0\n",
       "FuelOil46_Unit                             17515\n",
       "Propane_Quantity                               0\n",
       "Propane_Unit                               16701\n",
       "Coal_Quantity                                  0\n",
       "Coal_Unit                                  17564\n",
       "Wood_Quantity                                  0\n",
       "Wood_Unit                                  17558\n",
       "DistrictHeating_Quantity                       0\n",
       "DistrictHeating_Unit                       17406\n",
       "DistrictHeating_IsRenewable                17406\n",
       "DistrictHeating_RenewableEmissionFactor       25\n",
       "DistrictCooling_Quantity                       0\n",
       "DistrictCooling_Unit                       17461\n",
       "DistrictCooling_IsRenewable                17461\n",
       "DistrictCooling_RenewableEmissionFactor        2\n",
       "GHG Emissions KG                               0\n",
       "Energy Intensity ekWh_sqft                     0\n",
       "Energy Intensity ekWh_mega_litre               0\n",
       "Energy Intensity GJ_m2                         0\n",
       "Energy Intensity GJ_mega_litre                 0\n",
       "dtype: int64"
      ]
     },
     "execution_count": 986,
     "metadata": {},
     "output_type": "execute_result"
    }
   ],
   "source": [
    "df_5.isnull().sum()"
   ]
  },
  {
   "cell_type": "code",
   "execution_count": 987,
   "id": "95eea55f",
   "metadata": {},
   "outputs": [],
   "source": [
    "df_5 = df_5.dropna(subset=['Address'])"
   ]
  },
  {
   "cell_type": "code",
   "execution_count": 988,
   "id": "d20a5936",
   "metadata": {},
   "outputs": [],
   "source": [
    "df_5 = df_5.dropna(subset=['Postal Code'])"
   ]
  },
  {
   "cell_type": "code",
   "execution_count": 989,
   "id": "13e942a8",
   "metadata": {},
   "outputs": [
    {
     "data": {
      "text/plain": [
       "array(['Square meters', 'Square feet', nan], dtype=object)"
      ]
     },
     "execution_count": 989,
     "metadata": {},
     "output_type": "execute_result"
    }
   ],
   "source": [
    "df_5['Unit of Measure'].unique()"
   ]
  },
  {
   "cell_type": "code",
   "execution_count": 990,
   "id": "aaf2dcc9",
   "metadata": {},
   "outputs": [],
   "source": [
    "imputer = SimpleImputer(strategy='most_frequent')\n",
    "\n",
    "df_5['Unit of Measure'] = imputer.fit_transform(df_5[['Unit of Measure']]).ravel()"
   ]
  },
  {
   "cell_type": "code",
   "execution_count": 991,
   "id": "e83afaa4",
   "metadata": {},
   "outputs": [
    {
     "data": {
      "text/plain": [
       "array(['Square meters', 'Square feet'], dtype=object)"
      ]
     },
     "execution_count": 991,
     "metadata": {},
     "output_type": "execute_result"
    }
   ],
   "source": [
    "df_5['Unit of Measure'].unique()"
   ]
  },
  {
   "cell_type": "code",
   "execution_count": 992,
   "id": "c0a66c97",
   "metadata": {},
   "outputs": [
    {
     "data": {
      "text/plain": [
       "array([    0.,  6064., 17707., ..., 65388., 26594.,  2251.])"
      ]
     },
     "execution_count": 992,
     "metadata": {},
     "output_type": "execute_result"
    }
   ],
   "source": [
    "df_5['Annual Flow (M'].unique()"
   ]
  },
  {
   "cell_type": "code",
   "execution_count": 993,
   "id": "7e6c90b8",
   "metadata": {},
   "outputs": [],
   "source": [
    "mean_value = df_5['Annual Flow (M'].mean()\n",
    "\n",
    "df_5['Annual Flow (M'].fillna(mean_value, inplace=True)"
   ]
  },
  {
   "cell_type": "code",
   "execution_count": 994,
   "id": "59f74520",
   "metadata": {},
   "outputs": [
    {
     "data": {
      "text/plain": [
       "array([nan, 'No', 'Yes'], dtype=object)"
      ]
     },
     "execution_count": 994,
     "metadata": {},
     "output_type": "execute_result"
    }
   ],
   "source": [
    "df_5['Swimming Pool'].unique()"
   ]
  },
  {
   "cell_type": "code",
   "execution_count": 995,
   "id": "715079de",
   "metadata": {},
   "outputs": [
    {
     "data": {
      "text/plain": [
       "Swimming Pool\n",
       "No     7686\n",
       "Yes      93\n",
       "Name: count, dtype: int64"
      ]
     },
     "execution_count": 995,
     "metadata": {},
     "output_type": "execute_result"
    }
   ],
   "source": [
    "df_5['Swimming Pool'].value_counts()"
   ]
  },
  {
   "cell_type": "code",
   "execution_count": 996,
   "id": "eec21d13",
   "metadata": {},
   "outputs": [],
   "source": [
    "df_5['Swimming Pool'].fillna('Yes/No', inplace=True)"
   ]
  },
  {
   "cell_type": "code",
   "execution_count": 997,
   "id": "ef7d31a3",
   "metadata": {},
   "outputs": [
    {
     "data": {
      "text/plain": [
       "array(['kWh', nan], dtype=object)"
      ]
     },
     "execution_count": 997,
     "metadata": {},
     "output_type": "execute_result"
    }
   ],
   "source": [
    "df_5['Electricity_Unit'].unique()"
   ]
  },
  {
   "cell_type": "code",
   "execution_count": 998,
   "id": "dec5a6a6",
   "metadata": {},
   "outputs": [],
   "source": [
    "df_5['Electricity_Unit'].fillna('kWh', inplace=True)"
   ]
  },
  {
   "cell_type": "code",
   "execution_count": 999,
   "id": "eb594ac8",
   "metadata": {},
   "outputs": [
    {
     "data": {
      "text/plain": [
       "array(['Cubic Meter', nan, 'Giga Joule', 'ekWh'], dtype=object)"
      ]
     },
     "execution_count": 999,
     "metadata": {},
     "output_type": "execute_result"
    }
   ],
   "source": [
    "df_5['NaturalGas_Unit'].unique()"
   ]
  },
  {
   "cell_type": "code",
   "execution_count": 1000,
   "id": "6b13b391",
   "metadata": {},
   "outputs": [],
   "source": [
    "gas_mapping = {'ekWh': 'Cubic Meter', 'Giga Joule': 'Cubic Meter'}\n",
    "df_5['NaturalGas_Unit'] = df_5['NaturalGas_Unit'].map(gas_mapping)"
   ]
  },
  {
   "cell_type": "code",
   "execution_count": 1001,
   "id": "c2aa37a2",
   "metadata": {},
   "outputs": [],
   "source": [
    "df_5['NaturalGas_Unit'].fillna('Cubic Meter', inplace=True)"
   ]
  },
  {
   "cell_type": "code",
   "execution_count": 1002,
   "id": "9acf51b7",
   "metadata": {},
   "outputs": [
    {
     "data": {
      "text/plain": [
       "array([nan, 'Litre'], dtype=object)"
      ]
     },
     "execution_count": 1002,
     "metadata": {},
     "output_type": "execute_result"
    }
   ],
   "source": [
    "df_5['FuelOil12_Unit'].unique()"
   ]
  },
  {
   "cell_type": "code",
   "execution_count": 1003,
   "id": "9085899d",
   "metadata": {},
   "outputs": [],
   "source": [
    "df_5['FuelOil12_Unit'].fillna('Litre', inplace=True)"
   ]
  },
  {
   "cell_type": "code",
   "execution_count": 1004,
   "id": "86d1fda7",
   "metadata": {},
   "outputs": [
    {
     "data": {
      "text/plain": [
       "array([nan, 'Litre'], dtype=object)"
      ]
     },
     "execution_count": 1004,
     "metadata": {},
     "output_type": "execute_result"
    }
   ],
   "source": [
    "df_5['FuelOil46_Unit'].unique()"
   ]
  },
  {
   "cell_type": "code",
   "execution_count": 1005,
   "id": "e2aea8f3",
   "metadata": {},
   "outputs": [],
   "source": [
    "df_5['FuelOil46_Unit'].fillna('Litre', inplace=True)"
   ]
  },
  {
   "cell_type": "code",
   "execution_count": 1006,
   "id": "631e9951",
   "metadata": {},
   "outputs": [
    {
     "data": {
      "text/plain": [
       "array([nan, 'Litre'], dtype=object)"
      ]
     },
     "execution_count": 1006,
     "metadata": {},
     "output_type": "execute_result"
    }
   ],
   "source": [
    "df_5['Propane_Unit'].unique()"
   ]
  },
  {
   "cell_type": "code",
   "execution_count": 1007,
   "id": "f2eb0e29",
   "metadata": {},
   "outputs": [],
   "source": [
    "df_5['Propane_Unit'].fillna('Litre', inplace=True)"
   ]
  },
  {
   "cell_type": "code",
   "execution_count": 1008,
   "id": "12afe7b4",
   "metadata": {},
   "outputs": [
    {
     "data": {
      "text/plain": [
       "array([nan])"
      ]
     },
     "execution_count": 1008,
     "metadata": {},
     "output_type": "execute_result"
    }
   ],
   "source": [
    "df_5['Coal_Unit'].unique()"
   ]
  },
  {
   "cell_type": "code",
   "execution_count": 1009,
   "id": "9e50f790",
   "metadata": {},
   "outputs": [],
   "source": [
    "df_5['Coal_Unit'].fillna('Tons', inplace=True)"
   ]
  },
  {
   "cell_type": "code",
   "execution_count": 1010,
   "id": "da2dfc49",
   "metadata": {},
   "outputs": [
    {
     "data": {
      "text/plain": [
       "array([nan, 'Metric Tonne'], dtype=object)"
      ]
     },
     "execution_count": 1010,
     "metadata": {},
     "output_type": "execute_result"
    }
   ],
   "source": [
    "df_5['Wood_Unit'].unique()"
   ]
  },
  {
   "cell_type": "code",
   "execution_count": 1011,
   "id": "3a4baffe",
   "metadata": {},
   "outputs": [],
   "source": [
    "df_5['Wood_Unit'].fillna('Metric Tonne', inplace=True)"
   ]
  },
  {
   "cell_type": "code",
   "execution_count": 1012,
   "id": "fe298e8f",
   "metadata": {},
   "outputs": [
    {
     "data": {
      "text/plain": [
       "array([nan, 'Giga Joule', 'Metric Tonne'], dtype=object)"
      ]
     },
     "execution_count": 1012,
     "metadata": {},
     "output_type": "execute_result"
    }
   ],
   "source": [
    "df_5['DistrictHeating_Unit'].unique()"
   ]
  },
  {
   "cell_type": "code",
   "execution_count": 1013,
   "id": "85e34f0a",
   "metadata": {},
   "outputs": [],
   "source": [
    "heat_mapping = {'Giga Joule': 'joule'}\n",
    "df_5['DistrictHeating_Unit'] = df_5['DistrictHeating_Unit'].map(heat_mapping)"
   ]
  },
  {
   "cell_type": "code",
   "execution_count": 1014,
   "id": "dc3033c0",
   "metadata": {},
   "outputs": [],
   "source": [
    "df_5['DistrictHeating_Unit'].fillna('joule', inplace=True)"
   ]
  },
  {
   "cell_type": "code",
   "execution_count": 1015,
   "id": "5a75eba3",
   "metadata": {},
   "outputs": [
    {
     "data": {
      "text/plain": [
       "array([nan, 'Giga Joule', 'KL Chilled Water'], dtype=object)"
      ]
     },
     "execution_count": 1015,
     "metadata": {},
     "output_type": "execute_result"
    }
   ],
   "source": [
    "df_5['DistrictCooling_Unit'].unique()"
   ]
  },
  {
   "cell_type": "code",
   "execution_count": 1016,
   "id": "53cc17ac",
   "metadata": {},
   "outputs": [],
   "source": [
    "cool_mapping = {'Giga Joule': 'joule','KL Chilled Water': 'joule'}\n",
    "df_5['DistrictCooling_Unit'] = df_5['DistrictCooling_Unit'].map(cool_mapping)"
   ]
  },
  {
   "cell_type": "code",
   "execution_count": 1017,
   "id": "17a26ca3",
   "metadata": {},
   "outputs": [],
   "source": [
    "df_5['DistrictCooling_Unit'].fillna('joule', inplace=True)"
   ]
  },
  {
   "cell_type": "code",
   "execution_count": 1018,
   "id": "1116e12e",
   "metadata": {},
   "outputs": [
    {
     "data": {
      "text/plain": [
       "array([nan, 'No'], dtype=object)"
      ]
     },
     "execution_count": 1018,
     "metadata": {},
     "output_type": "execute_result"
    }
   ],
   "source": [
    "df_5['DistrictHeating_IsRenewable'].unique()"
   ]
  },
  {
   "cell_type": "code",
   "execution_count": 1019,
   "id": "d632ff91",
   "metadata": {},
   "outputs": [],
   "source": [
    "df_5['DistrictHeating_IsRenewable'].fillna('Yes/No', inplace=True)"
   ]
  },
  {
   "cell_type": "code",
   "execution_count": 1023,
   "id": "fc50611b",
   "metadata": {},
   "outputs": [
    {
     "data": {
      "text/plain": [
       "array([ 0.   ,    nan, 53.64 , 41.868, 47.   ])"
      ]
     },
     "execution_count": 1023,
     "metadata": {},
     "output_type": "execute_result"
    }
   ],
   "source": [
    "df_5['DistrictHeating_RenewableEmissionFactor'].unique()"
   ]
  },
  {
   "cell_type": "code",
   "execution_count": 1024,
   "id": "a63a9d6d",
   "metadata": {},
   "outputs": [],
   "source": [
    "df_5 = df_5.dropna(subset=['DistrictHeating_RenewableEmissionFactor'])"
   ]
  },
  {
   "cell_type": "code",
   "execution_count": 1020,
   "id": "8ac398c8",
   "metadata": {},
   "outputs": [
    {
     "data": {
      "text/plain": [
       "array([nan, 'No', 'Yes'], dtype=object)"
      ]
     },
     "execution_count": 1020,
     "metadata": {},
     "output_type": "execute_result"
    }
   ],
   "source": [
    "df_5['DistrictCooling_IsRenewable'].unique()"
   ]
  },
  {
   "cell_type": "code",
   "execution_count": 1021,
   "id": "dd272b4b",
   "metadata": {},
   "outputs": [],
   "source": [
    "df_5['DistrictCooling_IsRenewable'].fillna('Yes/No', inplace=True)"
   ]
  },
  {
   "cell_type": "code",
   "execution_count": 1025,
   "id": "a627ed12",
   "metadata": {},
   "outputs": [
    {
     "data": {
      "text/plain": [
       "array([0.        , 3.71226809, 2.485     , 3.198     ])"
      ]
     },
     "execution_count": 1025,
     "metadata": {},
     "output_type": "execute_result"
    }
   ],
   "source": [
    "df_5['DistrictCooling_RenewableEmissionFactor'].unique()"
   ]
  },
  {
   "cell_type": "code",
   "execution_count": 1026,
   "id": "85eaccb2",
   "metadata": {},
   "outputs": [],
   "source": [
    "df_5 = df_5.dropna(subset=['DistrictCooling_RenewableEmissionFactor'])"
   ]
  },
  {
   "cell_type": "code",
   "execution_count": 1027,
   "id": "9baf2972",
   "metadata": {
    "collapsed": true
   },
   "outputs": [
    {
     "data": {
      "text/plain": [
       "Sector                                     0\n",
       "Sub Sector                                 0\n",
       "Organization                               0\n",
       "Operation                                  0\n",
       "Operation Type                             0\n",
       "Address                                    0\n",
       "City                                       0\n",
       "Postal Code                                0\n",
       "Total Indoor Space_x                       0\n",
       "Unit of Measure                            0\n",
       "Weekly Average Hours                       0\n",
       "Annual Flow (M                             0\n",
       "Number of Portables                        0\n",
       "Swimming Pool                              0\n",
       "Electricity_Quantity                       0\n",
       "Electricity_Unit                           0\n",
       "NaturalGas_Quantity                        0\n",
       "NaturalGas_Unit                            0\n",
       "FuelOil12_Quantity                         0\n",
       "FuelOil12_Unit                             0\n",
       "FuelOil46_Quantity                         0\n",
       "FuelOil46_Unit                             0\n",
       "Propane_Quantity                           0\n",
       "Propane_Unit                               0\n",
       "Coal_Quantity                              0\n",
       "Coal_Unit                                  0\n",
       "Wood_Quantity                              0\n",
       "Wood_Unit                                  0\n",
       "DistrictHeating_Quantity                   0\n",
       "DistrictHeating_Unit                       0\n",
       "DistrictHeating_IsRenewable                0\n",
       "DistrictHeating_RenewableEmissionFactor    0\n",
       "DistrictCooling_Quantity                   0\n",
       "DistrictCooling_Unit                       0\n",
       "DistrictCooling_IsRenewable                0\n",
       "DistrictCooling_RenewableEmissionFactor    0\n",
       "GHG Emissions KG                           0\n",
       "Energy Intensity ekWh_sqft                 0\n",
       "Energy Intensity ekWh_mega_litre           0\n",
       "Energy Intensity GJ_m2                     0\n",
       "Energy Intensity GJ_mega_litre             0\n",
       "dtype: int64"
      ]
     },
     "execution_count": 1027,
     "metadata": {},
     "output_type": "execute_result"
    }
   ],
   "source": [
    "df_5.isnull().sum()"
   ]
  },
  {
   "cell_type": "code",
   "execution_count": 1146,
   "id": "efbaa822",
   "metadata": {
    "collapsed": true
   },
   "outputs": [
    {
     "data": {
      "text/plain": [
       "Sector                                      object\n",
       "Sub Sector                                  object\n",
       "Organization                                object\n",
       "Operation                                   object\n",
       "Operation Type                              object\n",
       "Address                                     object\n",
       "City                                        object\n",
       "Postal Code                                 object\n",
       "Total Indoor Space_x                       float64\n",
       "Unit of Measure                             object\n",
       "Weekly Average Hours                       float64\n",
       "Annual Flow (M                             float64\n",
       "Number of Portables                          int64\n",
       "Swimming Pool                               object\n",
       "Electricity_Quantity                       float64\n",
       "Electricity_Unit                            object\n",
       "NaturalGas_Quantity                        float64\n",
       "NaturalGas_Unit                             object\n",
       "FuelOil12_Quantity                         float64\n",
       "FuelOil12_Unit                              object\n",
       "FuelOil46_Quantity                         float64\n",
       "FuelOil46_Unit                              object\n",
       "Propane_Quantity                           float64\n",
       "Propane_Unit                                object\n",
       "Coal_Quantity                                int64\n",
       "Coal_Unit                                   object\n",
       "Wood_Quantity                              float64\n",
       "Wood_Unit                                   object\n",
       "DistrictHeating_Quantity                   float64\n",
       "DistrictHeating_Unit                        object\n",
       "DistrictHeating_IsRenewable                 object\n",
       "DistrictHeating_RenewableEmissionFactor    float64\n",
       "DistrictCooling_Quantity                   float64\n",
       "DistrictCooling_Unit                        object\n",
       "DistrictCooling_IsRenewable                 object\n",
       "DistrictCooling_RenewableEmissionFactor    float64\n",
       "GHG Emissions KG                           float64\n",
       "Energy Intensity ekWh_sqft                 float64\n",
       "Energy Intensity ekWh_mega_litre           float64\n",
       "Energy Intensity GJ_m2                     float64\n",
       "Energy Intensity GJ_mega_litre             float64\n",
       "dtype: object"
      ]
     },
     "execution_count": 1146,
     "metadata": {},
     "output_type": "execute_result"
    }
   ],
   "source": [
    "df_5.dtypes"
   ]
  },
  {
   "cell_type": "code",
   "execution_count": 1172,
   "id": "c4e6c2f7",
   "metadata": {},
   "outputs": [],
   "source": [
    "column_mapping5 = {'Sector': 'Sector', 'Sub Sector': 'SubSector', 'Organization': 'Organization', 'Operation': 'Operation',\n",
    "                 'Operation Type': 'Operation Type', 'Address': 'Address', 'City': 'City', 'Postal Code': 'Postal Code', 'Total Indoor Space_x': 'Total Indoor Space_x',\n",
    "                 'Unit of Measure': 'Unit of Measure', 'Weekly Average Hours': 'Weekly Average Hours', 'Annual Flow (M': 'Annual Flow (M)', 'Number of Portables': 'Number of Portables',\n",
    "                 'Swimming Pool': 'Swimming Pool', 'Electricity_Quantity': 'Electricity_Quantity', 'Electricity_Unit': 'Electricity_Unit', 'NaturalGas_Quantity': 'NaturalGas_Quantity',\n",
    "                 'NaturalGas_Unit': 'NaturalGas_Unit', 'FuelOil12_Quantity': 'FuelOil12_Quantity', 'FuelOil12_Unit': 'FuelOil12_Unit', 'FuelOil46_Quantity': 'FuelOil46_Quantity',\n",
    "                 'FuelOil46_Unit': 'FuelOil46_Unit', 'Propane_Quantity': 'Propane_Quantity', 'Propane_Unit': 'Propane_Unit', 'Coal_Quantity': 'Coal_Quantity',\n",
    "                 'Coal_Unit': 'Coal_Unit', 'Wood_Quantity': 'Wood_Quantity', 'Wood_Unit': 'Wood_Unit', 'DistrictHeating_Quantity': 'DistrictHeating_Quantity', 'DistrictHeating_Unit': 'DistrictHeating_Unit',\n",
    "                 'DistrictHeating_IsRenewable': 'DistrictHeating_IsRenewable', 'DistrictHeating_RenewableEmissionFactor': 'DistrictHeating_RenewableEmissionFactor','DistrictCooling_Quantity': 'DistrictCooling_Quantity',\n",
    "                 'DistrictCooling_Unit': 'DistrictCooling_Unit', 'DistrictCooling_IsRenewable': 'DistrictCooling_IsRenewable', 'DistrictCooling_RenewableEmissionFactor': 'DistrictCooling_RenewableEmissionFactor',\n",
    "                 'GHG Emissions KG': 'GHG Emissions KG', 'Energy Intensity ekWh_sqft': 'Energy Intensity ekWh_sqft', 'Energy Intensity ekWh_mega_litre': 'Energy Intensity ekWh_mega_litre',\n",
    "                 'Energy Intensity GJ_m2': 'Energy Intensity GJ_m2', 'Energy Intensity GJ_mega_litre': 'Energy Intensity GJ_mega_litre'}\n"
   ]
  },
  {
   "cell_type": "code",
   "execution_count": 1173,
   "id": "806a0d2b",
   "metadata": {},
   "outputs": [],
   "source": [
    "df_5.rename(columns=column_mapping5, inplace=True)"
   ]
  },
  {
   "cell_type": "code",
   "execution_count": 1174,
   "id": "5924a724",
   "metadata": {
    "collapsed": true
   },
   "outputs": [
    {
     "data": {
      "text/plain": [
       "Index(['Sector', 'SubSector', 'Organization', 'Operation', 'Operation Type',\n",
       "       'Address', 'City', 'Postal Code', 'Total Indoor Space_x',\n",
       "       'Unit of Measure', 'Weekly Average Hours', 'Annual Flow (M)',\n",
       "       'Number of Portables', 'Swimming Pool', 'Electricity_Quantity',\n",
       "       'Electricity_Unit', 'NaturalGas_Quantity', 'NaturalGas_Unit',\n",
       "       'FuelOil12_Quantity', 'FuelOil12_Unit', 'FuelOil46_Quantity',\n",
       "       'FuelOil46_Unit', 'Propane_Quantity', 'Propane_Unit', 'Coal_Quantity',\n",
       "       'Coal_Unit', 'Wood_Quantity', 'Wood_Unit', 'DistrictHeating_Quantity',\n",
       "       'DistrictHeating_Unit', 'DistrictHeating_IsRenewable',\n",
       "       'DistrictHeating_RenewableEmissionFactor', 'DistrictCooling_Quantity',\n",
       "       'DistrictCooling_Unit', 'DistrictCooling_IsRenewable',\n",
       "       'DistrictCooling_RenewableEmissionFactor', 'GHG Emissions KG',\n",
       "       'Energy Intensity ekWh_sqft', 'Energy Intensity ekWh_mega_litre',\n",
       "       'Energy Intensity GJ_m2', 'Energy Intensity GJ_mega_litre'],\n",
       "      dtype='object')"
      ]
     },
     "execution_count": 1174,
     "metadata": {},
     "output_type": "execute_result"
    }
   ],
   "source": [
    "df_5.columns"
   ]
  },
  {
   "cell_type": "code",
   "execution_count": 1175,
   "id": "1cd50d88",
   "metadata": {
    "collapsed": true
   },
   "outputs": [
    {
     "data": {
      "text/html": [
       "<div>\n",
       "<style scoped>\n",
       "    .dataframe tbody tr th:only-of-type {\n",
       "        vertical-align: middle;\n",
       "    }\n",
       "\n",
       "    .dataframe tbody tr th {\n",
       "        vertical-align: top;\n",
       "    }\n",
       "\n",
       "    .dataframe thead th {\n",
       "        text-align: right;\n",
       "    }\n",
       "</style>\n",
       "<table border=\"1\" class=\"dataframe\">\n",
       "  <thead>\n",
       "    <tr style=\"text-align: right;\">\n",
       "      <th></th>\n",
       "      <th>Sector</th>\n",
       "      <th>SubSector</th>\n",
       "      <th>Organization</th>\n",
       "      <th>Operation</th>\n",
       "      <th>Operation Type</th>\n",
       "      <th>Address</th>\n",
       "      <th>City</th>\n",
       "      <th>Postal Code</th>\n",
       "      <th>Total Indoor Space_x</th>\n",
       "      <th>Unit of Measure</th>\n",
       "      <th>...</th>\n",
       "      <th>DistrictHeating_RenewableEmissionFactor</th>\n",
       "      <th>DistrictCooling_Quantity</th>\n",
       "      <th>DistrictCooling_Unit</th>\n",
       "      <th>DistrictCooling_IsRenewable</th>\n",
       "      <th>DistrictCooling_RenewableEmissionFactor</th>\n",
       "      <th>GHG Emissions KG</th>\n",
       "      <th>Energy Intensity ekWh_sqft</th>\n",
       "      <th>Energy Intensity ekWh_mega_litre</th>\n",
       "      <th>Energy Intensity GJ_m2</th>\n",
       "      <th>Energy Intensity GJ_mega_litre</th>\n",
       "    </tr>\n",
       "  </thead>\n",
       "  <tbody>\n",
       "    <tr>\n",
       "      <th>0</th>\n",
       "      <td>Public Hospital</td>\n",
       "      <td>Acute/Chronic Hospital</td>\n",
       "      <td>Alexandra Hospital</td>\n",
       "      <td>Alexandra Hospital, Ingersoll</td>\n",
       "      <td>Facilities used for hospital purposes</td>\n",
       "      <td>29 Noxon Street</td>\n",
       "      <td>Ingersoll</td>\n",
       "      <td>N5C 3V6</td>\n",
       "      <td>8474.0</td>\n",
       "      <td>Square meters</td>\n",
       "      <td>...</td>\n",
       "      <td>0.0</td>\n",
       "      <td>0.0</td>\n",
       "      <td>joule</td>\n",
       "      <td>Yes/No</td>\n",
       "      <td>0.0</td>\n",
       "      <td>882840.286320</td>\n",
       "      <td>72.433643</td>\n",
       "      <td>0.0</td>\n",
       "      <td>2.806804</td>\n",
       "      <td>0.0</td>\n",
       "    </tr>\n",
       "    <tr>\n",
       "      <th>1</th>\n",
       "      <td>Public Hospital</td>\n",
       "      <td>Acute/Chronic Hospital</td>\n",
       "      <td>Alexandria Glengarry Memorial Hospital</td>\n",
       "      <td>Glengarry Memorial Hospital</td>\n",
       "      <td>Facilities used for hospital purposes</td>\n",
       "      <td>20260 County Road 43</td>\n",
       "      <td>Alexandria</td>\n",
       "      <td>K0C 1A0</td>\n",
       "      <td>54969.0</td>\n",
       "      <td>Square feet</td>\n",
       "      <td>...</td>\n",
       "      <td>0.0</td>\n",
       "      <td>0.0</td>\n",
       "      <td>joule</td>\n",
       "      <td>Yes/No</td>\n",
       "      <td>0.0</td>\n",
       "      <td>452486.561296</td>\n",
       "      <td>53.026440</td>\n",
       "      <td>0.0</td>\n",
       "      <td>2.054775</td>\n",
       "      <td>0.0</td>\n",
       "    </tr>\n",
       "    <tr>\n",
       "      <th>2</th>\n",
       "      <td>School Board</td>\n",
       "      <td>School Board</td>\n",
       "      <td>Algoma District School Board</td>\n",
       "      <td>Blind River PS</td>\n",
       "      <td>School</td>\n",
       "      <td>19 Hanes Ave</td>\n",
       "      <td>Blind River</td>\n",
       "      <td>P0R 1B0</td>\n",
       "      <td>48226.0</td>\n",
       "      <td>Square feet</td>\n",
       "      <td>...</td>\n",
       "      <td>0.0</td>\n",
       "      <td>0.0</td>\n",
       "      <td>joule</td>\n",
       "      <td>Yes/No</td>\n",
       "      <td>0.0</td>\n",
       "      <td>122110.210331</td>\n",
       "      <td>16.663778</td>\n",
       "      <td>0.0</td>\n",
       "      <td>0.645721</td>\n",
       "      <td>0.0</td>\n",
       "    </tr>\n",
       "    <tr>\n",
       "      <th>3</th>\n",
       "      <td>School Board</td>\n",
       "      <td>School Board</td>\n",
       "      <td>Algoma District School Board</td>\n",
       "      <td>W C Eaket SS</td>\n",
       "      <td>School</td>\n",
       "      <td>147 Woodward Ave</td>\n",
       "      <td>Blind River</td>\n",
       "      <td>P0R 1B0</td>\n",
       "      <td>103260.0</td>\n",
       "      <td>Square feet</td>\n",
       "      <td>...</td>\n",
       "      <td>0.0</td>\n",
       "      <td>0.0</td>\n",
       "      <td>joule</td>\n",
       "      <td>Yes/No</td>\n",
       "      <td>0.0</td>\n",
       "      <td>262055.015840</td>\n",
       "      <td>16.857132</td>\n",
       "      <td>0.0</td>\n",
       "      <td>0.653214</td>\n",
       "      <td>0.0</td>\n",
       "    </tr>\n",
       "    <tr>\n",
       "      <th>4</th>\n",
       "      <td>School Board</td>\n",
       "      <td>School Board</td>\n",
       "      <td>Algoma District School Board</td>\n",
       "      <td>Arthur Henderson PS</td>\n",
       "      <td>School</td>\n",
       "      <td>2 Henderson Lane</td>\n",
       "      <td>Bruce Mines</td>\n",
       "      <td>P0R 1C0</td>\n",
       "      <td>16764.0</td>\n",
       "      <td>Square feet</td>\n",
       "      <td>...</td>\n",
       "      <td>0.0</td>\n",
       "      <td>0.0</td>\n",
       "      <td>joule</td>\n",
       "      <td>Yes/No</td>\n",
       "      <td>0.0</td>\n",
       "      <td>73294.531952</td>\n",
       "      <td>28.474672</td>\n",
       "      <td>0.0</td>\n",
       "      <td>1.103394</td>\n",
       "      <td>0.0</td>\n",
       "    </tr>\n",
       "  </tbody>\n",
       "</table>\n",
       "<p>5 rows × 41 columns</p>\n",
       "</div>"
      ],
      "text/plain": [
       "            Sector               SubSector  \\\n",
       "0  Public Hospital  Acute/Chronic Hospital   \n",
       "1  Public Hospital  Acute/Chronic Hospital   \n",
       "2     School Board            School Board   \n",
       "3     School Board            School Board   \n",
       "4     School Board            School Board   \n",
       "\n",
       "                             Organization                      Operation  \\\n",
       "0                      Alexandra Hospital  Alexandra Hospital, Ingersoll   \n",
       "1  Alexandria Glengarry Memorial Hospital    Glengarry Memorial Hospital   \n",
       "2            Algoma District School Board                 Blind River PS   \n",
       "3            Algoma District School Board                   W C Eaket SS   \n",
       "4            Algoma District School Board            Arthur Henderson PS   \n",
       "\n",
       "                          Operation Type               Address         City  \\\n",
       "0  Facilities used for hospital purposes       29 Noxon Street    Ingersoll   \n",
       "1  Facilities used for hospital purposes  20260 County Road 43   Alexandria   \n",
       "2                                 School          19 Hanes Ave  Blind River   \n",
       "3                                 School      147 Woodward Ave  Blind River   \n",
       "4                                 School      2 Henderson Lane  Bruce Mines   \n",
       "\n",
       "  Postal Code  Total Indoor Space_x Unit of Measure  ...  \\\n",
       "0     N5C 3V6                8474.0   Square meters  ...   \n",
       "1     K0C 1A0               54969.0     Square feet  ...   \n",
       "2     P0R 1B0               48226.0     Square feet  ...   \n",
       "3     P0R 1B0              103260.0     Square feet  ...   \n",
       "4     P0R 1C0               16764.0     Square feet  ...   \n",
       "\n",
       "   DistrictHeating_RenewableEmissionFactor  DistrictCooling_Quantity  \\\n",
       "0                                      0.0                       0.0   \n",
       "1                                      0.0                       0.0   \n",
       "2                                      0.0                       0.0   \n",
       "3                                      0.0                       0.0   \n",
       "4                                      0.0                       0.0   \n",
       "\n",
       "   DistrictCooling_Unit DistrictCooling_IsRenewable  \\\n",
       "0                 joule                      Yes/No   \n",
       "1                 joule                      Yes/No   \n",
       "2                 joule                      Yes/No   \n",
       "3                 joule                      Yes/No   \n",
       "4                 joule                      Yes/No   \n",
       "\n",
       "   DistrictCooling_RenewableEmissionFactor GHG Emissions KG  \\\n",
       "0                                      0.0    882840.286320   \n",
       "1                                      0.0    452486.561296   \n",
       "2                                      0.0    122110.210331   \n",
       "3                                      0.0    262055.015840   \n",
       "4                                      0.0     73294.531952   \n",
       "\n",
       "   Energy Intensity ekWh_sqft Energy Intensity ekWh_mega_litre  \\\n",
       "0                   72.433643                              0.0   \n",
       "1                   53.026440                              0.0   \n",
       "2                   16.663778                              0.0   \n",
       "3                   16.857132                              0.0   \n",
       "4                   28.474672                              0.0   \n",
       "\n",
       "   Energy Intensity GJ_m2 Energy Intensity GJ_mega_litre  \n",
       "0                2.806804                            0.0  \n",
       "1                2.054775                            0.0  \n",
       "2                0.645721                            0.0  \n",
       "3                0.653214                            0.0  \n",
       "4                1.103394                            0.0  \n",
       "\n",
       "[5 rows x 41 columns]"
      ]
     },
     "execution_count": 1175,
     "metadata": {},
     "output_type": "execute_result"
    }
   ],
   "source": [
    "df_5.head()"
   ]
  },
  {
   "cell_type": "code",
   "execution_count": 1206,
   "id": "3cfcb990",
   "metadata": {},
   "outputs": [],
   "source": [
    "df_5.insert(0, 'Year', 2016)"
   ]
  },
  {
   "cell_type": "code",
   "execution_count": 1207,
   "id": "82036dca",
   "metadata": {
    "collapsed": true
   },
   "outputs": [
    {
     "data": {
      "text/html": [
       "<div>\n",
       "<style scoped>\n",
       "    .dataframe tbody tr th:only-of-type {\n",
       "        vertical-align: middle;\n",
       "    }\n",
       "\n",
       "    .dataframe tbody tr th {\n",
       "        vertical-align: top;\n",
       "    }\n",
       "\n",
       "    .dataframe thead th {\n",
       "        text-align: right;\n",
       "    }\n",
       "</style>\n",
       "<table border=\"1\" class=\"dataframe\">\n",
       "  <thead>\n",
       "    <tr style=\"text-align: right;\">\n",
       "      <th></th>\n",
       "      <th>Year</th>\n",
       "      <th>Sector</th>\n",
       "      <th>SubSector</th>\n",
       "      <th>Organization</th>\n",
       "      <th>Operation</th>\n",
       "      <th>Operation Type</th>\n",
       "      <th>Address</th>\n",
       "      <th>City</th>\n",
       "      <th>Postal Code</th>\n",
       "      <th>Total Indoor Space_x</th>\n",
       "      <th>...</th>\n",
       "      <th>DistrictHeating_RenewableEmissionFactor</th>\n",
       "      <th>DistrictCooling_Quantity</th>\n",
       "      <th>DistrictCooling_Unit</th>\n",
       "      <th>DistrictCooling_IsRenewable</th>\n",
       "      <th>DistrictCooling_RenewableEmissionFactor</th>\n",
       "      <th>GHG Emissions KG</th>\n",
       "      <th>Energy Intensity ekWh_sqft</th>\n",
       "      <th>Energy Intensity ekWh_mega_litre</th>\n",
       "      <th>Energy Intensity GJ_m2</th>\n",
       "      <th>Energy Intensity GJ_mega_litre</th>\n",
       "    </tr>\n",
       "  </thead>\n",
       "  <tbody>\n",
       "    <tr>\n",
       "      <th>0</th>\n",
       "      <td>2016</td>\n",
       "      <td>Public Hospital</td>\n",
       "      <td>Acute/Chronic Hospital</td>\n",
       "      <td>Alexandra Hospital</td>\n",
       "      <td>Alexandra Hospital, Ingersoll</td>\n",
       "      <td>Facilities used for hospital purposes</td>\n",
       "      <td>29 Noxon Street</td>\n",
       "      <td>Ingersoll</td>\n",
       "      <td>N5C 3V6</td>\n",
       "      <td>8474.0</td>\n",
       "      <td>...</td>\n",
       "      <td>0.0</td>\n",
       "      <td>0.0</td>\n",
       "      <td>joule</td>\n",
       "      <td>Yes/No</td>\n",
       "      <td>0.0</td>\n",
       "      <td>882840.286320</td>\n",
       "      <td>72.433643</td>\n",
       "      <td>0.0</td>\n",
       "      <td>2.806804</td>\n",
       "      <td>0.0</td>\n",
       "    </tr>\n",
       "    <tr>\n",
       "      <th>1</th>\n",
       "      <td>2016</td>\n",
       "      <td>Public Hospital</td>\n",
       "      <td>Acute/Chronic Hospital</td>\n",
       "      <td>Alexandria Glengarry Memorial Hospital</td>\n",
       "      <td>Glengarry Memorial Hospital</td>\n",
       "      <td>Facilities used for hospital purposes</td>\n",
       "      <td>20260 County Road 43</td>\n",
       "      <td>Alexandria</td>\n",
       "      <td>K0C 1A0</td>\n",
       "      <td>54969.0</td>\n",
       "      <td>...</td>\n",
       "      <td>0.0</td>\n",
       "      <td>0.0</td>\n",
       "      <td>joule</td>\n",
       "      <td>Yes/No</td>\n",
       "      <td>0.0</td>\n",
       "      <td>452486.561296</td>\n",
       "      <td>53.026440</td>\n",
       "      <td>0.0</td>\n",
       "      <td>2.054775</td>\n",
       "      <td>0.0</td>\n",
       "    </tr>\n",
       "    <tr>\n",
       "      <th>2</th>\n",
       "      <td>2016</td>\n",
       "      <td>School Board</td>\n",
       "      <td>School Board</td>\n",
       "      <td>Algoma District School Board</td>\n",
       "      <td>Blind River PS</td>\n",
       "      <td>School</td>\n",
       "      <td>19 Hanes Ave</td>\n",
       "      <td>Blind River</td>\n",
       "      <td>P0R 1B0</td>\n",
       "      <td>48226.0</td>\n",
       "      <td>...</td>\n",
       "      <td>0.0</td>\n",
       "      <td>0.0</td>\n",
       "      <td>joule</td>\n",
       "      <td>Yes/No</td>\n",
       "      <td>0.0</td>\n",
       "      <td>122110.210331</td>\n",
       "      <td>16.663778</td>\n",
       "      <td>0.0</td>\n",
       "      <td>0.645721</td>\n",
       "      <td>0.0</td>\n",
       "    </tr>\n",
       "    <tr>\n",
       "      <th>3</th>\n",
       "      <td>2016</td>\n",
       "      <td>School Board</td>\n",
       "      <td>School Board</td>\n",
       "      <td>Algoma District School Board</td>\n",
       "      <td>W C Eaket SS</td>\n",
       "      <td>School</td>\n",
       "      <td>147 Woodward Ave</td>\n",
       "      <td>Blind River</td>\n",
       "      <td>P0R 1B0</td>\n",
       "      <td>103260.0</td>\n",
       "      <td>...</td>\n",
       "      <td>0.0</td>\n",
       "      <td>0.0</td>\n",
       "      <td>joule</td>\n",
       "      <td>Yes/No</td>\n",
       "      <td>0.0</td>\n",
       "      <td>262055.015840</td>\n",
       "      <td>16.857132</td>\n",
       "      <td>0.0</td>\n",
       "      <td>0.653214</td>\n",
       "      <td>0.0</td>\n",
       "    </tr>\n",
       "    <tr>\n",
       "      <th>4</th>\n",
       "      <td>2016</td>\n",
       "      <td>School Board</td>\n",
       "      <td>School Board</td>\n",
       "      <td>Algoma District School Board</td>\n",
       "      <td>Arthur Henderson PS</td>\n",
       "      <td>School</td>\n",
       "      <td>2 Henderson Lane</td>\n",
       "      <td>Bruce Mines</td>\n",
       "      <td>P0R 1C0</td>\n",
       "      <td>16764.0</td>\n",
       "      <td>...</td>\n",
       "      <td>0.0</td>\n",
       "      <td>0.0</td>\n",
       "      <td>joule</td>\n",
       "      <td>Yes/No</td>\n",
       "      <td>0.0</td>\n",
       "      <td>73294.531952</td>\n",
       "      <td>28.474672</td>\n",
       "      <td>0.0</td>\n",
       "      <td>1.103394</td>\n",
       "      <td>0.0</td>\n",
       "    </tr>\n",
       "  </tbody>\n",
       "</table>\n",
       "<p>5 rows × 42 columns</p>\n",
       "</div>"
      ],
      "text/plain": [
       "   Year           Sector               SubSector  \\\n",
       "0  2016  Public Hospital  Acute/Chronic Hospital   \n",
       "1  2016  Public Hospital  Acute/Chronic Hospital   \n",
       "2  2016     School Board            School Board   \n",
       "3  2016     School Board            School Board   \n",
       "4  2016     School Board            School Board   \n",
       "\n",
       "                             Organization                      Operation  \\\n",
       "0                      Alexandra Hospital  Alexandra Hospital, Ingersoll   \n",
       "1  Alexandria Glengarry Memorial Hospital    Glengarry Memorial Hospital   \n",
       "2            Algoma District School Board                 Blind River PS   \n",
       "3            Algoma District School Board                   W C Eaket SS   \n",
       "4            Algoma District School Board            Arthur Henderson PS   \n",
       "\n",
       "                          Operation Type               Address         City  \\\n",
       "0  Facilities used for hospital purposes       29 Noxon Street    Ingersoll   \n",
       "1  Facilities used for hospital purposes  20260 County Road 43   Alexandria   \n",
       "2                                 School          19 Hanes Ave  Blind River   \n",
       "3                                 School      147 Woodward Ave  Blind River   \n",
       "4                                 School      2 Henderson Lane  Bruce Mines   \n",
       "\n",
       "  Postal Code  Total Indoor Space_x  ...  \\\n",
       "0     N5C 3V6                8474.0  ...   \n",
       "1     K0C 1A0               54969.0  ...   \n",
       "2     P0R 1B0               48226.0  ...   \n",
       "3     P0R 1B0              103260.0  ...   \n",
       "4     P0R 1C0               16764.0  ...   \n",
       "\n",
       "  DistrictHeating_RenewableEmissionFactor  DistrictCooling_Quantity  \\\n",
       "0                                     0.0                       0.0   \n",
       "1                                     0.0                       0.0   \n",
       "2                                     0.0                       0.0   \n",
       "3                                     0.0                       0.0   \n",
       "4                                     0.0                       0.0   \n",
       "\n",
       "   DistrictCooling_Unit  DistrictCooling_IsRenewable  \\\n",
       "0                 joule                       Yes/No   \n",
       "1                 joule                       Yes/No   \n",
       "2                 joule                       Yes/No   \n",
       "3                 joule                       Yes/No   \n",
       "4                 joule                       Yes/No   \n",
       "\n",
       "  DistrictCooling_RenewableEmissionFactor  GHG Emissions KG  \\\n",
       "0                                     0.0     882840.286320   \n",
       "1                                     0.0     452486.561296   \n",
       "2                                     0.0     122110.210331   \n",
       "3                                     0.0     262055.015840   \n",
       "4                                     0.0      73294.531952   \n",
       "\n",
       "  Energy Intensity ekWh_sqft  Energy Intensity ekWh_mega_litre  \\\n",
       "0                  72.433643                               0.0   \n",
       "1                  53.026440                               0.0   \n",
       "2                  16.663778                               0.0   \n",
       "3                  16.857132                               0.0   \n",
       "4                  28.474672                               0.0   \n",
       "\n",
       "  Energy Intensity GJ_m2  Energy Intensity GJ_mega_litre  \n",
       "0               2.806804                             0.0  \n",
       "1               2.054775                             0.0  \n",
       "2               0.645721                             0.0  \n",
       "3               0.653214                             0.0  \n",
       "4               1.103394                             0.0  \n",
       "\n",
       "[5 rows x 42 columns]"
      ]
     },
     "execution_count": 1207,
     "metadata": {},
     "output_type": "execute_result"
    }
   ],
   "source": [
    "df_5.head()"
   ]
  },
  {
   "cell_type": "markdown",
   "id": "5c6f8ee2",
   "metadata": {},
   "source": [
    "# Datas for 2017"
   ]
  },
  {
   "cell_type": "code",
   "execution_count": 1028,
   "id": "28f68b44",
   "metadata": {},
   "outputs": [],
   "source": [
    "df_6 = pd.read_excel('datas/bps_2017_report_english_1.xlsx')"
   ]
  },
  {
   "cell_type": "code",
   "execution_count": 1029,
   "id": "47de042f",
   "metadata": {
    "collapsed": true
   },
   "outputs": [
    {
     "data": {
      "text/html": [
       "<div>\n",
       "<style scoped>\n",
       "    .dataframe tbody tr th:only-of-type {\n",
       "        vertical-align: middle;\n",
       "    }\n",
       "\n",
       "    .dataframe tbody tr th {\n",
       "        vertical-align: top;\n",
       "    }\n",
       "\n",
       "    .dataframe thead th {\n",
       "        text-align: right;\n",
       "    }\n",
       "</style>\n",
       "<table border=\"1\" class=\"dataframe\">\n",
       "  <thead>\n",
       "    <tr style=\"text-align: right;\">\n",
       "      <th></th>\n",
       "      <th>Sector</th>\n",
       "      <th>SubSector</th>\n",
       "      <th>Organization</th>\n",
       "      <th>Operation</th>\n",
       "      <th>Operation Type</th>\n",
       "      <th>Address</th>\n",
       "      <th>City</th>\n",
       "      <th>Postal Code</th>\n",
       "      <th>Total Indoor Space_x</th>\n",
       "      <th>Unit of Measure</th>\n",
       "      <th>...</th>\n",
       "      <th>DistrictHeating_RenewableEmissionFactor</th>\n",
       "      <th>DistrictCooling_Quantity</th>\n",
       "      <th>DistrictCooling_Unit</th>\n",
       "      <th>DistrictCooling_IsRenewable</th>\n",
       "      <th>DistrictCooling_RenewableEmissionFactor</th>\n",
       "      <th>GHG Emissions KG</th>\n",
       "      <th>Energy Intensity ekWh_sqft</th>\n",
       "      <th>Energy Intensity ekWh_mega_litre</th>\n",
       "      <th>Energy Intensity GJ_m2</th>\n",
       "      <th>Energy Intensity GJ_mega_litre</th>\n",
       "    </tr>\n",
       "  </thead>\n",
       "  <tbody>\n",
       "    <tr>\n",
       "      <th>0</th>\n",
       "      <td>Public Hospital</td>\n",
       "      <td>Acute/Chronic Hospital</td>\n",
       "      <td>Alexandra Hospital</td>\n",
       "      <td>Alexandra Hospital, Ingersoll</td>\n",
       "      <td>Facilities used for hospital purposes</td>\n",
       "      <td>29 Noxon Street</td>\n",
       "      <td>Ingersoll</td>\n",
       "      <td>N5C 3V6</td>\n",
       "      <td>8474.00000</td>\n",
       "      <td>Square meters</td>\n",
       "      <td>...</td>\n",
       "      <td>0.0</td>\n",
       "      <td>0.0</td>\n",
       "      <td>NaN</td>\n",
       "      <td>NaN</td>\n",
       "      <td>0.0</td>\n",
       "      <td>818719.109374</td>\n",
       "      <td>69.475690</td>\n",
       "      <td>0.0</td>\n",
       "      <td>2.692183</td>\n",
       "      <td>0.0</td>\n",
       "    </tr>\n",
       "    <tr>\n",
       "      <th>1</th>\n",
       "      <td>Public Hospital</td>\n",
       "      <td>Acute/Chronic Hospital</td>\n",
       "      <td>Alexandria Glengarry Memorial Hospital</td>\n",
       "      <td>Glengarry Memorial Hospital</td>\n",
       "      <td>Facilities used for hospital purposes</td>\n",
       "      <td>20260 County Road 43</td>\n",
       "      <td>Alexandria</td>\n",
       "      <td>K0C 1A0</td>\n",
       "      <td>54969.00000</td>\n",
       "      <td>Square feet</td>\n",
       "      <td>...</td>\n",
       "      <td>0.0</td>\n",
       "      <td>0.0</td>\n",
       "      <td>NaN</td>\n",
       "      <td>NaN</td>\n",
       "      <td>0.0</td>\n",
       "      <td>490906.833780</td>\n",
       "      <td>74.317397</td>\n",
       "      <td>0.0</td>\n",
       "      <td>2.879799</td>\n",
       "      <td>0.0</td>\n",
       "    </tr>\n",
       "    <tr>\n",
       "      <th>2</th>\n",
       "      <td>School Board</td>\n",
       "      <td>School Board</td>\n",
       "      <td>Algoma District School Board</td>\n",
       "      <td>Adult Ed/Con Ed - (Alex Henry)</td>\n",
       "      <td>School</td>\n",
       "      <td>232 Northern Ave E</td>\n",
       "      <td>Sault Ste. Marie</td>\n",
       "      <td>P6B4H6</td>\n",
       "      <td>130923.00000</td>\n",
       "      <td>Square feet</td>\n",
       "      <td>...</td>\n",
       "      <td>0.0</td>\n",
       "      <td>0.0</td>\n",
       "      <td>NaN</td>\n",
       "      <td>NaN</td>\n",
       "      <td>0.0</td>\n",
       "      <td>215793.022020</td>\n",
       "      <td>9.927225</td>\n",
       "      <td>0.0</td>\n",
       "      <td>0.384680</td>\n",
       "      <td>0.0</td>\n",
       "    </tr>\n",
       "    <tr>\n",
       "      <th>3</th>\n",
       "      <td>School Board</td>\n",
       "      <td>School Board</td>\n",
       "      <td>Algoma District School Board</td>\n",
       "      <td>Adult Ed/Co-op (former SF Howe)</td>\n",
       "      <td>School</td>\n",
       "      <td>440 Northland Road</td>\n",
       "      <td>Sault Ste. Marie</td>\n",
       "      <td>P6C3N6</td>\n",
       "      <td>17776.00000</td>\n",
       "      <td>Square feet</td>\n",
       "      <td>...</td>\n",
       "      <td>0.0</td>\n",
       "      <td>0.0</td>\n",
       "      <td>NaN</td>\n",
       "      <td>NaN</td>\n",
       "      <td>0.0</td>\n",
       "      <td>45012.826071</td>\n",
       "      <td>19.648629</td>\n",
       "      <td>0.0</td>\n",
       "      <td>0.761384</td>\n",
       "      <td>0.0</td>\n",
       "    </tr>\n",
       "    <tr>\n",
       "      <th>4</th>\n",
       "      <td>School Board</td>\n",
       "      <td>School Board</td>\n",
       "      <td>Algoma District School Board</td>\n",
       "      <td>Anna McCrea PS</td>\n",
       "      <td>School</td>\n",
       "      <td>250 Mark St</td>\n",
       "      <td>Sault Ste. Marie</td>\n",
       "      <td>P6A 3M7</td>\n",
       "      <td>32700.75941</td>\n",
       "      <td>Square feet</td>\n",
       "      <td>...</td>\n",
       "      <td>0.0</td>\n",
       "      <td>0.0</td>\n",
       "      <td>NaN</td>\n",
       "      <td>NaN</td>\n",
       "      <td>0.0</td>\n",
       "      <td>86339.069355</td>\n",
       "      <td>18.830412</td>\n",
       "      <td>0.0</td>\n",
       "      <td>0.729678</td>\n",
       "      <td>0.0</td>\n",
       "    </tr>\n",
       "  </tbody>\n",
       "</table>\n",
       "<p>5 rows × 41 columns</p>\n",
       "</div>"
      ],
      "text/plain": [
       "            Sector               SubSector  \\\n",
       "0  Public Hospital  Acute/Chronic Hospital   \n",
       "1  Public Hospital  Acute/Chronic Hospital   \n",
       "2     School Board            School Board   \n",
       "3     School Board            School Board   \n",
       "4     School Board            School Board   \n",
       "\n",
       "                             Organization                        Operation  \\\n",
       "0                      Alexandra Hospital    Alexandra Hospital, Ingersoll   \n",
       "1  Alexandria Glengarry Memorial Hospital      Glengarry Memorial Hospital   \n",
       "2            Algoma District School Board   Adult Ed/Con Ed - (Alex Henry)   \n",
       "3            Algoma District School Board  Adult Ed/Co-op (former SF Howe)   \n",
       "4            Algoma District School Board                   Anna McCrea PS   \n",
       "\n",
       "                          Operation Type               Address  \\\n",
       "0  Facilities used for hospital purposes       29 Noxon Street   \n",
       "1  Facilities used for hospital purposes  20260 County Road 43   \n",
       "2                                 School    232 Northern Ave E   \n",
       "3                                 School    440 Northland Road   \n",
       "4                                 School           250 Mark St   \n",
       "\n",
       "               City Postal Code  Total Indoor Space_x Unit of Measure  ...  \\\n",
       "0         Ingersoll     N5C 3V6            8474.00000   Square meters  ...   \n",
       "1        Alexandria     K0C 1A0           54969.00000     Square feet  ...   \n",
       "2  Sault Ste. Marie      P6B4H6          130923.00000     Square feet  ...   \n",
       "3  Sault Ste. Marie      P6C3N6           17776.00000     Square feet  ...   \n",
       "4  Sault Ste. Marie     P6A 3M7           32700.75941     Square feet  ...   \n",
       "\n",
       "   DistrictHeating_RenewableEmissionFactor  DistrictCooling_Quantity  \\\n",
       "0                                      0.0                       0.0   \n",
       "1                                      0.0                       0.0   \n",
       "2                                      0.0                       0.0   \n",
       "3                                      0.0                       0.0   \n",
       "4                                      0.0                       0.0   \n",
       "\n",
       "   DistrictCooling_Unit DistrictCooling_IsRenewable  \\\n",
       "0                   NaN                         NaN   \n",
       "1                   NaN                         NaN   \n",
       "2                   NaN                         NaN   \n",
       "3                   NaN                         NaN   \n",
       "4                   NaN                         NaN   \n",
       "\n",
       "   DistrictCooling_RenewableEmissionFactor GHG Emissions KG  \\\n",
       "0                                      0.0    818719.109374   \n",
       "1                                      0.0    490906.833780   \n",
       "2                                      0.0    215793.022020   \n",
       "3                                      0.0     45012.826071   \n",
       "4                                      0.0     86339.069355   \n",
       "\n",
       "   Energy Intensity ekWh_sqft Energy Intensity ekWh_mega_litre  \\\n",
       "0                   69.475690                              0.0   \n",
       "1                   74.317397                              0.0   \n",
       "2                    9.927225                              0.0   \n",
       "3                   19.648629                              0.0   \n",
       "4                   18.830412                              0.0   \n",
       "\n",
       "   Energy Intensity GJ_m2 Energy Intensity GJ_mega_litre  \n",
       "0                2.692183                            0.0  \n",
       "1                2.879799                            0.0  \n",
       "2                0.384680                            0.0  \n",
       "3                0.761384                            0.0  \n",
       "4                0.729678                            0.0  \n",
       "\n",
       "[5 rows x 41 columns]"
      ]
     },
     "execution_count": 1029,
     "metadata": {},
     "output_type": "execute_result"
    }
   ],
   "source": [
    "df_6.head()"
   ]
  },
  {
   "cell_type": "code",
   "execution_count": 1030,
   "id": "22b4cd65",
   "metadata": {
    "collapsed": true
   },
   "outputs": [
    {
     "data": {
      "text/plain": [
       "Index(['Sector', 'SubSector', 'Organization', 'Operation', 'Operation Type',\n",
       "       'Address', 'City', 'Postal Code', 'Total Indoor Space_x',\n",
       "       'Unit of Measure', 'Weekly Average Hours', 'Annual Flow (M',\n",
       "       'Number of Portables', 'Swimming Pool', 'Electricity_Quantity',\n",
       "       'Electricity_Unit', 'NaturalGas_Quantity', 'NaturalGas_Unit',\n",
       "       'FuelOil12_Quantity', 'FuelOil12_Unit', 'FuelOil46_Quantity',\n",
       "       'FuelOil46_Unit', 'Propane_Quantity', 'Propane_Unit', 'Coal_Quantity',\n",
       "       'Coal_Unit', 'Wood_Quantity', 'Wood_Unit', 'DistrictHeating_Quantity',\n",
       "       'DistrictHeating_Unit', 'DistrictHeating_IsRenewable',\n",
       "       'DistrictHeating_RenewableEmissionFactor', 'DistrictCooling_Quantity',\n",
       "       'DistrictCooling_Unit', 'DistrictCooling_IsRenewable',\n",
       "       'DistrictCooling_RenewableEmissionFactor', 'GHG Emissions KG',\n",
       "       'Energy Intensity ekWh_sqft', 'Energy Intensity ekWh_mega_litre',\n",
       "       'Energy Intensity GJ_m2', 'Energy Intensity GJ_mega_litre'],\n",
       "      dtype='object')"
      ]
     },
     "execution_count": 1030,
     "metadata": {},
     "output_type": "execute_result"
    }
   ],
   "source": [
    "df_6.columns"
   ]
  },
  {
   "cell_type": "code",
   "execution_count": 1031,
   "id": "2c713bef",
   "metadata": {
    "collapsed": true
   },
   "outputs": [
    {
     "data": {
      "text/plain": [
       "Sector                                         0\n",
       "SubSector                                      0\n",
       "Organization                                   0\n",
       "Operation                                      0\n",
       "Operation Type                                 0\n",
       "Address                                       13\n",
       "City                                           1\n",
       "Postal Code                                   33\n",
       "Total Indoor Space_x                           0\n",
       "Unit of Measure                              706\n",
       "Weekly Average Hours                           0\n",
       "Annual Flow (M                              1886\n",
       "Number of Portables                            0\n",
       "Swimming Pool                               9955\n",
       "Electricity_Quantity                           0\n",
       "Electricity_Unit                             279\n",
       "NaturalGas_Quantity                            0\n",
       "NaturalGas_Unit                             5714\n",
       "FuelOil12_Quantity                             0\n",
       "FuelOil12_Unit                             16417\n",
       "FuelOil46_Quantity                             0\n",
       "FuelOil46_Unit                             16905\n",
       "Propane_Quantity                               0\n",
       "Propane_Unit                               16076\n",
       "Coal_Quantity                                  0\n",
       "Coal_Unit                                  16949\n",
       "Wood_Quantity                                  0\n",
       "Wood_Unit                                  16945\n",
       "DistrictHeating_Quantity                       0\n",
       "DistrictHeating_Unit                       16792\n",
       "DistrictHeating_IsRenewable                16792\n",
       "DistrictHeating_RenewableEmissionFactor       21\n",
       "DistrictCooling_Quantity                       0\n",
       "DistrictCooling_Unit                       16845\n",
       "DistrictCooling_IsRenewable                16845\n",
       "DistrictCooling_RenewableEmissionFactor        0\n",
       "GHG Emissions KG                               0\n",
       "Energy Intensity ekWh_sqft                     0\n",
       "Energy Intensity ekWh_mega_litre               0\n",
       "Energy Intensity GJ_m2                         0\n",
       "Energy Intensity GJ_mega_litre                 0\n",
       "dtype: int64"
      ]
     },
     "execution_count": 1031,
     "metadata": {},
     "output_type": "execute_result"
    }
   ],
   "source": [
    "df_6.isnull().sum()"
   ]
  },
  {
   "cell_type": "code",
   "execution_count": 1032,
   "id": "a6a074d2",
   "metadata": {},
   "outputs": [],
   "source": [
    "df_6 = df_6.dropna(subset=['Address'])"
   ]
  },
  {
   "cell_type": "code",
   "execution_count": 1033,
   "id": "7c5180fe",
   "metadata": {},
   "outputs": [],
   "source": [
    "df_6 = df_6.dropna(subset=['Postal Code'])"
   ]
  },
  {
   "cell_type": "code",
   "execution_count": 1034,
   "id": "1162e76b",
   "metadata": {},
   "outputs": [
    {
     "data": {
      "text/plain": [
       "array(['Square meters', 'Square feet', nan], dtype=object)"
      ]
     },
     "execution_count": 1034,
     "metadata": {},
     "output_type": "execute_result"
    }
   ],
   "source": [
    "df_6['Unit of Measure'].unique()"
   ]
  },
  {
   "cell_type": "code",
   "execution_count": 1035,
   "id": "9cf9ad74",
   "metadata": {},
   "outputs": [],
   "source": [
    "imputer = SimpleImputer(strategy='most_frequent')\n",
    "\n",
    "df_6['Unit of Measure'] = imputer.fit_transform(df_6[['Unit of Measure']]).ravel()"
   ]
  },
  {
   "cell_type": "code",
   "execution_count": 1036,
   "id": "04812001",
   "metadata": {},
   "outputs": [
    {
     "data": {
      "text/plain": [
       "array([    0., 13035., 21127., ..., 57250., 25772.,  2141.])"
      ]
     },
     "execution_count": 1036,
     "metadata": {},
     "output_type": "execute_result"
    }
   ],
   "source": [
    "df_6['Annual Flow (M'].unique()"
   ]
  },
  {
   "cell_type": "code",
   "execution_count": 1037,
   "id": "6fe8ce42",
   "metadata": {},
   "outputs": [],
   "source": [
    "mean_value = df_6['Annual Flow (M'].mean()\n",
    "\n",
    "df_6['Annual Flow (M'].fillna(mean_value, inplace=True)"
   ]
  },
  {
   "cell_type": "code",
   "execution_count": 1038,
   "id": "6e9d7b9a",
   "metadata": {},
   "outputs": [
    {
     "data": {
      "text/plain": [
       "array([nan, 'No', 'Yes'], dtype=object)"
      ]
     },
     "execution_count": 1038,
     "metadata": {},
     "output_type": "execute_result"
    }
   ],
   "source": [
    "df_6['Swimming Pool'].unique()"
   ]
  },
  {
   "cell_type": "code",
   "execution_count": 1039,
   "id": "ec31a42c",
   "metadata": {},
   "outputs": [
    {
     "data": {
      "text/plain": [
       "Swimming Pool\n",
       "No     6905\n",
       "Yes      88\n",
       "Name: count, dtype: int64"
      ]
     },
     "execution_count": 1039,
     "metadata": {},
     "output_type": "execute_result"
    }
   ],
   "source": [
    "df_6['Swimming Pool'].value_counts()"
   ]
  },
  {
   "cell_type": "code",
   "execution_count": 1040,
   "id": "fab205cf",
   "metadata": {},
   "outputs": [],
   "source": [
    "df_6['Swimming Pool'].fillna('Yes/No', inplace=True)"
   ]
  },
  {
   "cell_type": "code",
   "execution_count": 1041,
   "id": "d5649835",
   "metadata": {},
   "outputs": [
    {
     "data": {
      "text/plain": [
       "array(['kWh', nan], dtype=object)"
      ]
     },
     "execution_count": 1041,
     "metadata": {},
     "output_type": "execute_result"
    }
   ],
   "source": [
    "df_6['Electricity_Unit'].unique()"
   ]
  },
  {
   "cell_type": "code",
   "execution_count": 1042,
   "id": "c57e4d61",
   "metadata": {},
   "outputs": [],
   "source": [
    "df_6['Electricity_Unit'].fillna('kWh', inplace=True)"
   ]
  },
  {
   "cell_type": "code",
   "execution_count": 1043,
   "id": "ae817c74",
   "metadata": {},
   "outputs": [
    {
     "data": {
      "text/plain": [
       "array(['Cubic Meter', nan, 'Giga Joule', 'ekWh'], dtype=object)"
      ]
     },
     "execution_count": 1043,
     "metadata": {},
     "output_type": "execute_result"
    }
   ],
   "source": [
    "df_6['NaturalGas_Unit'].unique()"
   ]
  },
  {
   "cell_type": "code",
   "execution_count": 1044,
   "id": "755a12f4",
   "metadata": {},
   "outputs": [],
   "source": [
    "gas_mapping = {'ekWh': 'Cubic Meter', 'Giga Joule': 'Cubic Meter'}\n",
    "df_6['NaturalGas_Unit'] = df_6['NaturalGas_Unit'].map(gas_mapping)"
   ]
  },
  {
   "cell_type": "code",
   "execution_count": 1045,
   "id": "fe9280ec",
   "metadata": {},
   "outputs": [],
   "source": [
    "df_6['NaturalGas_Unit'].fillna('Cubic Meter', inplace=True)"
   ]
  },
  {
   "cell_type": "code",
   "execution_count": 1046,
   "id": "8bbb1935",
   "metadata": {},
   "outputs": [
    {
     "data": {
      "text/plain": [
       "array([nan, 'Litre'], dtype=object)"
      ]
     },
     "execution_count": 1046,
     "metadata": {},
     "output_type": "execute_result"
    }
   ],
   "source": [
    "df_6['FuelOil12_Unit'].unique()"
   ]
  },
  {
   "cell_type": "code",
   "execution_count": 1047,
   "id": "77a39ec8",
   "metadata": {},
   "outputs": [],
   "source": [
    "df_6['FuelOil12_Unit'].fillna('Litre', inplace=True)"
   ]
  },
  {
   "cell_type": "code",
   "execution_count": 1048,
   "id": "10a1f060",
   "metadata": {},
   "outputs": [
    {
     "data": {
      "text/plain": [
       "array([nan, 'Litre'], dtype=object)"
      ]
     },
     "execution_count": 1048,
     "metadata": {},
     "output_type": "execute_result"
    }
   ],
   "source": [
    "df_6['FuelOil46_Unit'].unique()"
   ]
  },
  {
   "cell_type": "code",
   "execution_count": 1049,
   "id": "e37b6f6a",
   "metadata": {},
   "outputs": [],
   "source": [
    "df_6['FuelOil46_Unit'].fillna('Litre', inplace=True)"
   ]
  },
  {
   "cell_type": "code",
   "execution_count": 1050,
   "id": "d9872557",
   "metadata": {},
   "outputs": [
    {
     "data": {
      "text/plain": [
       "array([nan, 'Litre'], dtype=object)"
      ]
     },
     "execution_count": 1050,
     "metadata": {},
     "output_type": "execute_result"
    }
   ],
   "source": [
    "df_6['Propane_Unit'].unique()"
   ]
  },
  {
   "cell_type": "code",
   "execution_count": 1051,
   "id": "66d82b34",
   "metadata": {},
   "outputs": [],
   "source": [
    "df_6['Propane_Unit'].fillna('Litre', inplace=True)"
   ]
  },
  {
   "cell_type": "code",
   "execution_count": 1052,
   "id": "29b5dd7a",
   "metadata": {},
   "outputs": [
    {
     "data": {
      "text/plain": [
       "array([nan])"
      ]
     },
     "execution_count": 1052,
     "metadata": {},
     "output_type": "execute_result"
    }
   ],
   "source": [
    "df_6['Coal_Unit'].unique()"
   ]
  },
  {
   "cell_type": "code",
   "execution_count": 1053,
   "id": "9ff3888f",
   "metadata": {},
   "outputs": [],
   "source": [
    "df_6['Coal_Unit'].fillna('Tons', inplace=True)"
   ]
  },
  {
   "cell_type": "code",
   "execution_count": 1054,
   "id": "ed48ed2f",
   "metadata": {},
   "outputs": [
    {
     "data": {
      "text/plain": [
       "array([nan, 'Metric Tonne'], dtype=object)"
      ]
     },
     "execution_count": 1054,
     "metadata": {},
     "output_type": "execute_result"
    }
   ],
   "source": [
    "df_6['Wood_Unit'].unique()"
   ]
  },
  {
   "cell_type": "code",
   "execution_count": 1055,
   "id": "553d10dc",
   "metadata": {},
   "outputs": [],
   "source": [
    "df_6['Wood_Unit'].fillna('Metric Tonne', inplace=True)"
   ]
  },
  {
   "cell_type": "code",
   "execution_count": 1056,
   "id": "e54e9cdd",
   "metadata": {},
   "outputs": [
    {
     "data": {
      "text/plain": [
       "array([nan, 'Giga Joule', 'Metric Tonne'], dtype=object)"
      ]
     },
     "execution_count": 1056,
     "metadata": {},
     "output_type": "execute_result"
    }
   ],
   "source": [
    "df_6['DistrictHeating_Unit'].unique()"
   ]
  },
  {
   "cell_type": "code",
   "execution_count": 1057,
   "id": "0e7e69b4",
   "metadata": {},
   "outputs": [],
   "source": [
    "heat_mapping = {'Giga Joule': 'joule', 'Metric Tonne': 'joule'}\n",
    "df_6['DistrictHeating_Unit'] = df_6['DistrictHeating_Unit'].map(heat_mapping)"
   ]
  },
  {
   "cell_type": "code",
   "execution_count": 1058,
   "id": "d7f8843f",
   "metadata": {},
   "outputs": [],
   "source": [
    "df_6['DistrictHeating_Unit'].fillna('joule', inplace=True)"
   ]
  },
  {
   "cell_type": "code",
   "execution_count": 1059,
   "id": "6e90b169",
   "metadata": {},
   "outputs": [
    {
     "data": {
      "text/plain": [
       "array([nan, 'Giga Joule', 'KL Chilled Water'], dtype=object)"
      ]
     },
     "execution_count": 1059,
     "metadata": {},
     "output_type": "execute_result"
    }
   ],
   "source": [
    "df_6['DistrictCooling_Unit'].unique()"
   ]
  },
  {
   "cell_type": "code",
   "execution_count": 1060,
   "id": "896630ba",
   "metadata": {},
   "outputs": [],
   "source": [
    "cool_mapping = {'Giga Joule': 'joule','KL Chilled Water': 'joule'}\n",
    "df_6['DistrictCooling_Unit'] = df_6['DistrictCooling_Unit'].map(cool_mapping)"
   ]
  },
  {
   "cell_type": "code",
   "execution_count": 1061,
   "id": "c3ee7667",
   "metadata": {},
   "outputs": [],
   "source": [
    "df_6['DistrictCooling_Unit'].fillna('joule', inplace=True)"
   ]
  },
  {
   "cell_type": "code",
   "execution_count": 1062,
   "id": "a42de2d2",
   "metadata": {},
   "outputs": [
    {
     "data": {
      "text/plain": [
       "array([nan, 'No'], dtype=object)"
      ]
     },
     "execution_count": 1062,
     "metadata": {},
     "output_type": "execute_result"
    }
   ],
   "source": [
    "df_6['DistrictHeating_IsRenewable'].unique()"
   ]
  },
  {
   "cell_type": "code",
   "execution_count": 1063,
   "id": "bf788f96",
   "metadata": {},
   "outputs": [],
   "source": [
    "df_6['DistrictHeating_IsRenewable'].fillna('Yes/No', inplace=True)"
   ]
  },
  {
   "cell_type": "code",
   "execution_count": 1064,
   "id": "529ca45d",
   "metadata": {},
   "outputs": [
    {
     "data": {
      "text/plain": [
       "array([nan, 'No', 'Yes'], dtype=object)"
      ]
     },
     "execution_count": 1064,
     "metadata": {},
     "output_type": "execute_result"
    }
   ],
   "source": [
    "df_6['DistrictCooling_IsRenewable'].unique()"
   ]
  },
  {
   "cell_type": "code",
   "execution_count": 1065,
   "id": "5a45de08",
   "metadata": {},
   "outputs": [],
   "source": [
    "df_6['DistrictCooling_IsRenewable'].fillna('Yes/No', inplace=True)"
   ]
  },
  {
   "cell_type": "code",
   "execution_count": 1066,
   "id": "009921f3",
   "metadata": {},
   "outputs": [
    {
     "data": {
      "text/plain": [
       "array([ 0.  ,   nan, 43.05, 50.97, 47.  ])"
      ]
     },
     "execution_count": 1066,
     "metadata": {},
     "output_type": "execute_result"
    }
   ],
   "source": [
    "df_6['DistrictHeating_RenewableEmissionFactor'].unique()"
   ]
  },
  {
   "cell_type": "code",
   "execution_count": 1067,
   "id": "bdd2b42f",
   "metadata": {},
   "outputs": [],
   "source": [
    "mean_values = df_6['DistrictHeating_RenewableEmissionFactor'].mean()\n",
    "\n",
    "df_6['DistrictHeating_RenewableEmissionFactor'].fillna(mean_values, inplace=True)"
   ]
  },
  {
   "cell_type": "code",
   "execution_count": 1068,
   "id": "ddad4e8f",
   "metadata": {
    "collapsed": true
   },
   "outputs": [
    {
     "data": {
      "text/plain": [
       "Sector                                     0\n",
       "SubSector                                  0\n",
       "Organization                               0\n",
       "Operation                                  0\n",
       "Operation Type                             0\n",
       "Address                                    0\n",
       "City                                       0\n",
       "Postal Code                                0\n",
       "Total Indoor Space_x                       0\n",
       "Unit of Measure                            0\n",
       "Weekly Average Hours                       0\n",
       "Annual Flow (M                             0\n",
       "Number of Portables                        0\n",
       "Swimming Pool                              0\n",
       "Electricity_Quantity                       0\n",
       "Electricity_Unit                           0\n",
       "NaturalGas_Quantity                        0\n",
       "NaturalGas_Unit                            0\n",
       "FuelOil12_Quantity                         0\n",
       "FuelOil12_Unit                             0\n",
       "FuelOil46_Quantity                         0\n",
       "FuelOil46_Unit                             0\n",
       "Propane_Quantity                           0\n",
       "Propane_Unit                               0\n",
       "Coal_Quantity                              0\n",
       "Coal_Unit                                  0\n",
       "Wood_Quantity                              0\n",
       "Wood_Unit                                  0\n",
       "DistrictHeating_Quantity                   0\n",
       "DistrictHeating_Unit                       0\n",
       "DistrictHeating_IsRenewable                0\n",
       "DistrictHeating_RenewableEmissionFactor    0\n",
       "DistrictCooling_Quantity                   0\n",
       "DistrictCooling_Unit                       0\n",
       "DistrictCooling_IsRenewable                0\n",
       "DistrictCooling_RenewableEmissionFactor    0\n",
       "GHG Emissions KG                           0\n",
       "Energy Intensity ekWh_sqft                 0\n",
       "Energy Intensity ekWh_mega_litre           0\n",
       "Energy Intensity GJ_m2                     0\n",
       "Energy Intensity GJ_mega_litre             0\n",
       "dtype: int64"
      ]
     },
     "execution_count": 1068,
     "metadata": {},
     "output_type": "execute_result"
    }
   ],
   "source": [
    "df_6.isnull().sum()"
   ]
  },
  {
   "cell_type": "code",
   "execution_count": 1147,
   "id": "13ba3302",
   "metadata": {
    "collapsed": true
   },
   "outputs": [
    {
     "data": {
      "text/plain": [
       "Sector                                      object\n",
       "SubSector                                   object\n",
       "Organization                                object\n",
       "Operation                                   object\n",
       "Operation Type                              object\n",
       "Address                                     object\n",
       "City                                        object\n",
       "Postal Code                                 object\n",
       "Total Indoor Space_x                       float64\n",
       "Unit of Measure                             object\n",
       "Weekly Average Hours                       float64\n",
       "Annual Flow (M                             float64\n",
       "Number of Portables                          int64\n",
       "Swimming Pool                               object\n",
       "Electricity_Quantity                       float64\n",
       "Electricity_Unit                            object\n",
       "NaturalGas_Quantity                        float64\n",
       "NaturalGas_Unit                             object\n",
       "FuelOil12_Quantity                         float64\n",
       "FuelOil12_Unit                              object\n",
       "FuelOil46_Quantity                         float64\n",
       "FuelOil46_Unit                              object\n",
       "Propane_Quantity                           float64\n",
       "Propane_Unit                                object\n",
       "Coal_Quantity                                int64\n",
       "Coal_Unit                                   object\n",
       "Wood_Quantity                              float64\n",
       "Wood_Unit                                   object\n",
       "DistrictHeating_Quantity                   float64\n",
       "DistrictHeating_Unit                        object\n",
       "DistrictHeating_IsRenewable                 object\n",
       "DistrictHeating_RenewableEmissionFactor    float64\n",
       "DistrictCooling_Quantity                   float64\n",
       "DistrictCooling_Unit                        object\n",
       "DistrictCooling_IsRenewable                 object\n",
       "DistrictCooling_RenewableEmissionFactor    float64\n",
       "GHG Emissions KG                           float64\n",
       "Energy Intensity ekWh_sqft                 float64\n",
       "Energy Intensity ekWh_mega_litre           float64\n",
       "Energy Intensity GJ_m2                     float64\n",
       "Energy Intensity GJ_mega_litre             float64\n",
       "dtype: object"
      ]
     },
     "execution_count": 1147,
     "metadata": {},
     "output_type": "execute_result"
    }
   ],
   "source": [
    "df_6.dtypes"
   ]
  },
  {
   "cell_type": "code",
   "execution_count": 1177,
   "id": "1785e3b0",
   "metadata": {},
   "outputs": [],
   "source": [
    "column_mapping6 = {'Sector': 'Sector', 'SubSector': 'SubSector', 'Organization': 'Organization', 'Operation': 'Operation',\n",
    "                 'Operation Type': 'Operation Type', 'Address': 'Address', 'City': 'City', 'Postal Code': 'Postal Code', 'Total Indoor Space_x': 'Total Indoor Space_x',\n",
    "                 'Unit of Measure': 'Unit of Measure', 'Weekly Average Hours': 'Weekly Average Hours', 'Annual Flow (M': 'Annual Flow (M)', 'Number of Portables': 'Number of Portables',\n",
    "                 'Swimming Pool': 'Swimming Pool', 'Electricity_Quantity': 'Electricity_Quantity', 'Electricity_Unit': 'Electricity_Unit', 'NaturalGas_Quantity': 'NaturalGas_Quantity',\n",
    "                 'NaturalGas_Unit': 'NaturalGas_Unit', 'FuelOil12_Quantity': 'FuelOil12_Quantity', 'FuelOil12_Unit': 'FuelOil12_Unit', 'FuelOil46_Quantity': 'FuelOil46_Quantity',\n",
    "                 'FuelOil46_Unit': 'FuelOil46_Unit', 'Propane_Quantity': 'Propane_Quantity', 'Propane_Unit': 'Propane_Unit', 'Coal_Quantity': 'Coal_Quantity',\n",
    "                 'Coal_Unit': 'Coal_Unit', 'Wood_Quantity': 'Wood_Quantity', 'Wood_Unit': 'Wood_Unit', 'DistrictHeating_Quantity': 'DistrictHeating_Quantity', 'DistrictHeating_Unit': 'DistrictHeating_Unit',\n",
    "                 'DistrictHeating_IsRenewable': 'DistrictHeating_IsRenewable', 'DistrictHeating_RenewableEmissionFactor': 'DistrictHeating_RenewableEmissionFactor','DistrictCooling_Quantity': 'DistrictCooling_Quantity',\n",
    "                 'DistrictCooling_Unit': 'DistrictCooling_Unit', 'DistrictCooling_IsRenewable': 'DistrictCooling_IsRenewable', 'DistrictCooling_RenewableEmissionFactor': 'DistrictCooling_RenewableEmissionFactor',\n",
    "                 'GHG Emissions KG': 'GHG Emissions KG', 'Energy Intensity ekWh_sqft': 'Energy Intensity ekWh_sqft', 'Energy Intensity ekWh_mega_litre': 'Energy Intensity ekWh_mega_litre',\n",
    "                 'Energy Intensity GJ_m2': 'Energy Intensity GJ_m2', 'Energy Intensity GJ_mega_litre': 'Energy Intensity GJ_mega_litre'}\n",
    "\n"
   ]
  },
  {
   "cell_type": "code",
   "execution_count": 1178,
   "id": "9bc1e4a9",
   "metadata": {},
   "outputs": [],
   "source": [
    "df_6.rename(columns=column_mapping6, inplace=True)"
   ]
  },
  {
   "cell_type": "code",
   "execution_count": 1179,
   "id": "99be7837",
   "metadata": {
    "collapsed": true
   },
   "outputs": [
    {
     "data": {
      "text/plain": [
       "Index(['Sector', 'SubSector', 'Organization', 'Operation', 'Operation Type',\n",
       "       'Address', 'City', 'Postal Code', 'Total Indoor Space_x',\n",
       "       'Unit of Measure', 'Weekly Average Hours', 'Annual Flow (M)',\n",
       "       'Number of Portables', 'Swimming Pool', 'Electricity_Quantity',\n",
       "       'Electricity_Unit', 'NaturalGas_Quantity', 'NaturalGas_Unit',\n",
       "       'FuelOil12_Quantity', 'FuelOil12_Unit', 'FuelOil46_Quantity',\n",
       "       'FuelOil46_Unit', 'Propane_Quantity', 'Propane_Unit', 'Coal_Quantity',\n",
       "       'Coal_Unit', 'Wood_Quantity', 'Wood_Unit', 'DistrictHeating_Quantity',\n",
       "       'DistrictHeating_Unit', 'DistrictHeating_IsRenewable',\n",
       "       'DistrictHeating_RenewableEmissionFactor', 'DistrictCooling_Quantity',\n",
       "       'DistrictCooling_Unit', 'DistrictCooling_IsRenewable',\n",
       "       'DistrictCooling_RenewableEmissionFactor', 'GHG Emissions KG',\n",
       "       'Energy Intensity ekWh_sqft', 'Energy Intensity ekWh_mega_litre',\n",
       "       'Energy Intensity GJ_m2', 'Energy Intensity GJ_mega_litre'],\n",
       "      dtype='object')"
      ]
     },
     "execution_count": 1179,
     "metadata": {},
     "output_type": "execute_result"
    }
   ],
   "source": [
    "df_6.columns"
   ]
  },
  {
   "cell_type": "code",
   "execution_count": 1180,
   "id": "6b64cf6a",
   "metadata": {
    "collapsed": true
   },
   "outputs": [
    {
     "data": {
      "text/html": [
       "<div>\n",
       "<style scoped>\n",
       "    .dataframe tbody tr th:only-of-type {\n",
       "        vertical-align: middle;\n",
       "    }\n",
       "\n",
       "    .dataframe tbody tr th {\n",
       "        vertical-align: top;\n",
       "    }\n",
       "\n",
       "    .dataframe thead th {\n",
       "        text-align: right;\n",
       "    }\n",
       "</style>\n",
       "<table border=\"1\" class=\"dataframe\">\n",
       "  <thead>\n",
       "    <tr style=\"text-align: right;\">\n",
       "      <th></th>\n",
       "      <th>Sector</th>\n",
       "      <th>SubSector</th>\n",
       "      <th>Organization</th>\n",
       "      <th>Operation</th>\n",
       "      <th>Operation Type</th>\n",
       "      <th>Address</th>\n",
       "      <th>City</th>\n",
       "      <th>Postal Code</th>\n",
       "      <th>Total Indoor Space_x</th>\n",
       "      <th>Unit of Measure</th>\n",
       "      <th>...</th>\n",
       "      <th>DistrictHeating_RenewableEmissionFactor</th>\n",
       "      <th>DistrictCooling_Quantity</th>\n",
       "      <th>DistrictCooling_Unit</th>\n",
       "      <th>DistrictCooling_IsRenewable</th>\n",
       "      <th>DistrictCooling_RenewableEmissionFactor</th>\n",
       "      <th>GHG Emissions KG</th>\n",
       "      <th>Energy Intensity ekWh_sqft</th>\n",
       "      <th>Energy Intensity ekWh_mega_litre</th>\n",
       "      <th>Energy Intensity GJ_m2</th>\n",
       "      <th>Energy Intensity GJ_mega_litre</th>\n",
       "    </tr>\n",
       "  </thead>\n",
       "  <tbody>\n",
       "    <tr>\n",
       "      <th>0</th>\n",
       "      <td>Public Hospital</td>\n",
       "      <td>Acute/Chronic Hospital</td>\n",
       "      <td>Alexandra Hospital</td>\n",
       "      <td>Alexandra Hospital, Ingersoll</td>\n",
       "      <td>Facilities used for hospital purposes</td>\n",
       "      <td>29 Noxon Street</td>\n",
       "      <td>Ingersoll</td>\n",
       "      <td>N5C 3V6</td>\n",
       "      <td>8474.00000</td>\n",
       "      <td>Square meters</td>\n",
       "      <td>...</td>\n",
       "      <td>0.0</td>\n",
       "      <td>0.0</td>\n",
       "      <td>joule</td>\n",
       "      <td>Yes/No</td>\n",
       "      <td>0.0</td>\n",
       "      <td>818719.109374</td>\n",
       "      <td>69.475690</td>\n",
       "      <td>0.0</td>\n",
       "      <td>2.692183</td>\n",
       "      <td>0.0</td>\n",
       "    </tr>\n",
       "    <tr>\n",
       "      <th>1</th>\n",
       "      <td>Public Hospital</td>\n",
       "      <td>Acute/Chronic Hospital</td>\n",
       "      <td>Alexandria Glengarry Memorial Hospital</td>\n",
       "      <td>Glengarry Memorial Hospital</td>\n",
       "      <td>Facilities used for hospital purposes</td>\n",
       "      <td>20260 County Road 43</td>\n",
       "      <td>Alexandria</td>\n",
       "      <td>K0C 1A0</td>\n",
       "      <td>54969.00000</td>\n",
       "      <td>Square feet</td>\n",
       "      <td>...</td>\n",
       "      <td>0.0</td>\n",
       "      <td>0.0</td>\n",
       "      <td>joule</td>\n",
       "      <td>Yes/No</td>\n",
       "      <td>0.0</td>\n",
       "      <td>490906.833780</td>\n",
       "      <td>74.317397</td>\n",
       "      <td>0.0</td>\n",
       "      <td>2.879799</td>\n",
       "      <td>0.0</td>\n",
       "    </tr>\n",
       "    <tr>\n",
       "      <th>2</th>\n",
       "      <td>School Board</td>\n",
       "      <td>School Board</td>\n",
       "      <td>Algoma District School Board</td>\n",
       "      <td>Adult Ed/Con Ed - (Alex Henry)</td>\n",
       "      <td>School</td>\n",
       "      <td>232 Northern Ave E</td>\n",
       "      <td>Sault Ste. Marie</td>\n",
       "      <td>P6B4H6</td>\n",
       "      <td>130923.00000</td>\n",
       "      <td>Square feet</td>\n",
       "      <td>...</td>\n",
       "      <td>0.0</td>\n",
       "      <td>0.0</td>\n",
       "      <td>joule</td>\n",
       "      <td>Yes/No</td>\n",
       "      <td>0.0</td>\n",
       "      <td>215793.022020</td>\n",
       "      <td>9.927225</td>\n",
       "      <td>0.0</td>\n",
       "      <td>0.384680</td>\n",
       "      <td>0.0</td>\n",
       "    </tr>\n",
       "    <tr>\n",
       "      <th>3</th>\n",
       "      <td>School Board</td>\n",
       "      <td>School Board</td>\n",
       "      <td>Algoma District School Board</td>\n",
       "      <td>Adult Ed/Co-op (former SF Howe)</td>\n",
       "      <td>School</td>\n",
       "      <td>440 Northland Road</td>\n",
       "      <td>Sault Ste. Marie</td>\n",
       "      <td>P6C3N6</td>\n",
       "      <td>17776.00000</td>\n",
       "      <td>Square feet</td>\n",
       "      <td>...</td>\n",
       "      <td>0.0</td>\n",
       "      <td>0.0</td>\n",
       "      <td>joule</td>\n",
       "      <td>Yes/No</td>\n",
       "      <td>0.0</td>\n",
       "      <td>45012.826071</td>\n",
       "      <td>19.648629</td>\n",
       "      <td>0.0</td>\n",
       "      <td>0.761384</td>\n",
       "      <td>0.0</td>\n",
       "    </tr>\n",
       "    <tr>\n",
       "      <th>4</th>\n",
       "      <td>School Board</td>\n",
       "      <td>School Board</td>\n",
       "      <td>Algoma District School Board</td>\n",
       "      <td>Anna McCrea PS</td>\n",
       "      <td>School</td>\n",
       "      <td>250 Mark St</td>\n",
       "      <td>Sault Ste. Marie</td>\n",
       "      <td>P6A 3M7</td>\n",
       "      <td>32700.75941</td>\n",
       "      <td>Square feet</td>\n",
       "      <td>...</td>\n",
       "      <td>0.0</td>\n",
       "      <td>0.0</td>\n",
       "      <td>joule</td>\n",
       "      <td>Yes/No</td>\n",
       "      <td>0.0</td>\n",
       "      <td>86339.069355</td>\n",
       "      <td>18.830412</td>\n",
       "      <td>0.0</td>\n",
       "      <td>0.729678</td>\n",
       "      <td>0.0</td>\n",
       "    </tr>\n",
       "  </tbody>\n",
       "</table>\n",
       "<p>5 rows × 41 columns</p>\n",
       "</div>"
      ],
      "text/plain": [
       "            Sector               SubSector  \\\n",
       "0  Public Hospital  Acute/Chronic Hospital   \n",
       "1  Public Hospital  Acute/Chronic Hospital   \n",
       "2     School Board            School Board   \n",
       "3     School Board            School Board   \n",
       "4     School Board            School Board   \n",
       "\n",
       "                             Organization                        Operation  \\\n",
       "0                      Alexandra Hospital    Alexandra Hospital, Ingersoll   \n",
       "1  Alexandria Glengarry Memorial Hospital      Glengarry Memorial Hospital   \n",
       "2            Algoma District School Board   Adult Ed/Con Ed - (Alex Henry)   \n",
       "3            Algoma District School Board  Adult Ed/Co-op (former SF Howe)   \n",
       "4            Algoma District School Board                   Anna McCrea PS   \n",
       "\n",
       "                          Operation Type               Address  \\\n",
       "0  Facilities used for hospital purposes       29 Noxon Street   \n",
       "1  Facilities used for hospital purposes  20260 County Road 43   \n",
       "2                                 School    232 Northern Ave E   \n",
       "3                                 School    440 Northland Road   \n",
       "4                                 School           250 Mark St   \n",
       "\n",
       "               City Postal Code  Total Indoor Space_x Unit of Measure  ...  \\\n",
       "0         Ingersoll     N5C 3V6            8474.00000   Square meters  ...   \n",
       "1        Alexandria     K0C 1A0           54969.00000     Square feet  ...   \n",
       "2  Sault Ste. Marie      P6B4H6          130923.00000     Square feet  ...   \n",
       "3  Sault Ste. Marie      P6C3N6           17776.00000     Square feet  ...   \n",
       "4  Sault Ste. Marie     P6A 3M7           32700.75941     Square feet  ...   \n",
       "\n",
       "   DistrictHeating_RenewableEmissionFactor  DistrictCooling_Quantity  \\\n",
       "0                                      0.0                       0.0   \n",
       "1                                      0.0                       0.0   \n",
       "2                                      0.0                       0.0   \n",
       "3                                      0.0                       0.0   \n",
       "4                                      0.0                       0.0   \n",
       "\n",
       "   DistrictCooling_Unit DistrictCooling_IsRenewable  \\\n",
       "0                 joule                      Yes/No   \n",
       "1                 joule                      Yes/No   \n",
       "2                 joule                      Yes/No   \n",
       "3                 joule                      Yes/No   \n",
       "4                 joule                      Yes/No   \n",
       "\n",
       "   DistrictCooling_RenewableEmissionFactor GHG Emissions KG  \\\n",
       "0                                      0.0    818719.109374   \n",
       "1                                      0.0    490906.833780   \n",
       "2                                      0.0    215793.022020   \n",
       "3                                      0.0     45012.826071   \n",
       "4                                      0.0     86339.069355   \n",
       "\n",
       "   Energy Intensity ekWh_sqft Energy Intensity ekWh_mega_litre  \\\n",
       "0                   69.475690                              0.0   \n",
       "1                   74.317397                              0.0   \n",
       "2                    9.927225                              0.0   \n",
       "3                   19.648629                              0.0   \n",
       "4                   18.830412                              0.0   \n",
       "\n",
       "   Energy Intensity GJ_m2 Energy Intensity GJ_mega_litre  \n",
       "0                2.692183                            0.0  \n",
       "1                2.879799                            0.0  \n",
       "2                0.384680                            0.0  \n",
       "3                0.761384                            0.0  \n",
       "4                0.729678                            0.0  \n",
       "\n",
       "[5 rows x 41 columns]"
      ]
     },
     "execution_count": 1180,
     "metadata": {},
     "output_type": "execute_result"
    }
   ],
   "source": [
    "df_6.head()"
   ]
  },
  {
   "cell_type": "code",
   "execution_count": 1208,
   "id": "53633a68",
   "metadata": {},
   "outputs": [],
   "source": [
    "df_6.insert(0, 'Year', 2017)"
   ]
  },
  {
   "cell_type": "code",
   "execution_count": 1209,
   "id": "a24d8618",
   "metadata": {
    "collapsed": true
   },
   "outputs": [
    {
     "data": {
      "text/html": [
       "<div>\n",
       "<style scoped>\n",
       "    .dataframe tbody tr th:only-of-type {\n",
       "        vertical-align: middle;\n",
       "    }\n",
       "\n",
       "    .dataframe tbody tr th {\n",
       "        vertical-align: top;\n",
       "    }\n",
       "\n",
       "    .dataframe thead th {\n",
       "        text-align: right;\n",
       "    }\n",
       "</style>\n",
       "<table border=\"1\" class=\"dataframe\">\n",
       "  <thead>\n",
       "    <tr style=\"text-align: right;\">\n",
       "      <th></th>\n",
       "      <th>Year</th>\n",
       "      <th>Sector</th>\n",
       "      <th>SubSector</th>\n",
       "      <th>Organization</th>\n",
       "      <th>Operation</th>\n",
       "      <th>Operation Type</th>\n",
       "      <th>Address</th>\n",
       "      <th>City</th>\n",
       "      <th>Postal Code</th>\n",
       "      <th>Total Indoor Space_x</th>\n",
       "      <th>...</th>\n",
       "      <th>DistrictHeating_RenewableEmissionFactor</th>\n",
       "      <th>DistrictCooling_Quantity</th>\n",
       "      <th>DistrictCooling_Unit</th>\n",
       "      <th>DistrictCooling_IsRenewable</th>\n",
       "      <th>DistrictCooling_RenewableEmissionFactor</th>\n",
       "      <th>GHG Emissions KG</th>\n",
       "      <th>Energy Intensity ekWh_sqft</th>\n",
       "      <th>Energy Intensity ekWh_mega_litre</th>\n",
       "      <th>Energy Intensity GJ_m2</th>\n",
       "      <th>Energy Intensity GJ_mega_litre</th>\n",
       "    </tr>\n",
       "  </thead>\n",
       "  <tbody>\n",
       "    <tr>\n",
       "      <th>0</th>\n",
       "      <td>2017</td>\n",
       "      <td>Public Hospital</td>\n",
       "      <td>Acute/Chronic Hospital</td>\n",
       "      <td>Alexandra Hospital</td>\n",
       "      <td>Alexandra Hospital, Ingersoll</td>\n",
       "      <td>Facilities used for hospital purposes</td>\n",
       "      <td>29 Noxon Street</td>\n",
       "      <td>Ingersoll</td>\n",
       "      <td>N5C 3V6</td>\n",
       "      <td>8474.00000</td>\n",
       "      <td>...</td>\n",
       "      <td>0.0</td>\n",
       "      <td>0.0</td>\n",
       "      <td>joule</td>\n",
       "      <td>Yes/No</td>\n",
       "      <td>0.0</td>\n",
       "      <td>818719.109374</td>\n",
       "      <td>69.475690</td>\n",
       "      <td>0.0</td>\n",
       "      <td>2.692183</td>\n",
       "      <td>0.0</td>\n",
       "    </tr>\n",
       "    <tr>\n",
       "      <th>1</th>\n",
       "      <td>2017</td>\n",
       "      <td>Public Hospital</td>\n",
       "      <td>Acute/Chronic Hospital</td>\n",
       "      <td>Alexandria Glengarry Memorial Hospital</td>\n",
       "      <td>Glengarry Memorial Hospital</td>\n",
       "      <td>Facilities used for hospital purposes</td>\n",
       "      <td>20260 County Road 43</td>\n",
       "      <td>Alexandria</td>\n",
       "      <td>K0C 1A0</td>\n",
       "      <td>54969.00000</td>\n",
       "      <td>...</td>\n",
       "      <td>0.0</td>\n",
       "      <td>0.0</td>\n",
       "      <td>joule</td>\n",
       "      <td>Yes/No</td>\n",
       "      <td>0.0</td>\n",
       "      <td>490906.833780</td>\n",
       "      <td>74.317397</td>\n",
       "      <td>0.0</td>\n",
       "      <td>2.879799</td>\n",
       "      <td>0.0</td>\n",
       "    </tr>\n",
       "    <tr>\n",
       "      <th>2</th>\n",
       "      <td>2017</td>\n",
       "      <td>School Board</td>\n",
       "      <td>School Board</td>\n",
       "      <td>Algoma District School Board</td>\n",
       "      <td>Adult Ed/Con Ed - (Alex Henry)</td>\n",
       "      <td>School</td>\n",
       "      <td>232 Northern Ave E</td>\n",
       "      <td>Sault Ste. Marie</td>\n",
       "      <td>P6B4H6</td>\n",
       "      <td>130923.00000</td>\n",
       "      <td>...</td>\n",
       "      <td>0.0</td>\n",
       "      <td>0.0</td>\n",
       "      <td>joule</td>\n",
       "      <td>Yes/No</td>\n",
       "      <td>0.0</td>\n",
       "      <td>215793.022020</td>\n",
       "      <td>9.927225</td>\n",
       "      <td>0.0</td>\n",
       "      <td>0.384680</td>\n",
       "      <td>0.0</td>\n",
       "    </tr>\n",
       "    <tr>\n",
       "      <th>3</th>\n",
       "      <td>2017</td>\n",
       "      <td>School Board</td>\n",
       "      <td>School Board</td>\n",
       "      <td>Algoma District School Board</td>\n",
       "      <td>Adult Ed/Co-op (former SF Howe)</td>\n",
       "      <td>School</td>\n",
       "      <td>440 Northland Road</td>\n",
       "      <td>Sault Ste. Marie</td>\n",
       "      <td>P6C3N6</td>\n",
       "      <td>17776.00000</td>\n",
       "      <td>...</td>\n",
       "      <td>0.0</td>\n",
       "      <td>0.0</td>\n",
       "      <td>joule</td>\n",
       "      <td>Yes/No</td>\n",
       "      <td>0.0</td>\n",
       "      <td>45012.826071</td>\n",
       "      <td>19.648629</td>\n",
       "      <td>0.0</td>\n",
       "      <td>0.761384</td>\n",
       "      <td>0.0</td>\n",
       "    </tr>\n",
       "    <tr>\n",
       "      <th>4</th>\n",
       "      <td>2017</td>\n",
       "      <td>School Board</td>\n",
       "      <td>School Board</td>\n",
       "      <td>Algoma District School Board</td>\n",
       "      <td>Anna McCrea PS</td>\n",
       "      <td>School</td>\n",
       "      <td>250 Mark St</td>\n",
       "      <td>Sault Ste. Marie</td>\n",
       "      <td>P6A 3M7</td>\n",
       "      <td>32700.75941</td>\n",
       "      <td>...</td>\n",
       "      <td>0.0</td>\n",
       "      <td>0.0</td>\n",
       "      <td>joule</td>\n",
       "      <td>Yes/No</td>\n",
       "      <td>0.0</td>\n",
       "      <td>86339.069355</td>\n",
       "      <td>18.830412</td>\n",
       "      <td>0.0</td>\n",
       "      <td>0.729678</td>\n",
       "      <td>0.0</td>\n",
       "    </tr>\n",
       "  </tbody>\n",
       "</table>\n",
       "<p>5 rows × 42 columns</p>\n",
       "</div>"
      ],
      "text/plain": [
       "   Year           Sector               SubSector  \\\n",
       "0  2017  Public Hospital  Acute/Chronic Hospital   \n",
       "1  2017  Public Hospital  Acute/Chronic Hospital   \n",
       "2  2017     School Board            School Board   \n",
       "3  2017     School Board            School Board   \n",
       "4  2017     School Board            School Board   \n",
       "\n",
       "                             Organization                        Operation  \\\n",
       "0                      Alexandra Hospital    Alexandra Hospital, Ingersoll   \n",
       "1  Alexandria Glengarry Memorial Hospital      Glengarry Memorial Hospital   \n",
       "2            Algoma District School Board   Adult Ed/Con Ed - (Alex Henry)   \n",
       "3            Algoma District School Board  Adult Ed/Co-op (former SF Howe)   \n",
       "4            Algoma District School Board                   Anna McCrea PS   \n",
       "\n",
       "                          Operation Type               Address  \\\n",
       "0  Facilities used for hospital purposes       29 Noxon Street   \n",
       "1  Facilities used for hospital purposes  20260 County Road 43   \n",
       "2                                 School    232 Northern Ave E   \n",
       "3                                 School    440 Northland Road   \n",
       "4                                 School           250 Mark St   \n",
       "\n",
       "               City Postal Code  Total Indoor Space_x  ...  \\\n",
       "0         Ingersoll     N5C 3V6            8474.00000  ...   \n",
       "1        Alexandria     K0C 1A0           54969.00000  ...   \n",
       "2  Sault Ste. Marie      P6B4H6          130923.00000  ...   \n",
       "3  Sault Ste. Marie      P6C3N6           17776.00000  ...   \n",
       "4  Sault Ste. Marie     P6A 3M7           32700.75941  ...   \n",
       "\n",
       "  DistrictHeating_RenewableEmissionFactor  DistrictCooling_Quantity  \\\n",
       "0                                     0.0                       0.0   \n",
       "1                                     0.0                       0.0   \n",
       "2                                     0.0                       0.0   \n",
       "3                                     0.0                       0.0   \n",
       "4                                     0.0                       0.0   \n",
       "\n",
       "   DistrictCooling_Unit  DistrictCooling_IsRenewable  \\\n",
       "0                 joule                       Yes/No   \n",
       "1                 joule                       Yes/No   \n",
       "2                 joule                       Yes/No   \n",
       "3                 joule                       Yes/No   \n",
       "4                 joule                       Yes/No   \n",
       "\n",
       "  DistrictCooling_RenewableEmissionFactor  GHG Emissions KG  \\\n",
       "0                                     0.0     818719.109374   \n",
       "1                                     0.0     490906.833780   \n",
       "2                                     0.0     215793.022020   \n",
       "3                                     0.0      45012.826071   \n",
       "4                                     0.0      86339.069355   \n",
       "\n",
       "  Energy Intensity ekWh_sqft  Energy Intensity ekWh_mega_litre  \\\n",
       "0                  69.475690                               0.0   \n",
       "1                  74.317397                               0.0   \n",
       "2                   9.927225                               0.0   \n",
       "3                  19.648629                               0.0   \n",
       "4                  18.830412                               0.0   \n",
       "\n",
       "  Energy Intensity GJ_m2  Energy Intensity GJ_mega_litre  \n",
       "0               2.692183                             0.0  \n",
       "1               2.879799                             0.0  \n",
       "2               0.384680                             0.0  \n",
       "3               0.761384                             0.0  \n",
       "4               0.729678                             0.0  \n",
       "\n",
       "[5 rows x 42 columns]"
      ]
     },
     "execution_count": 1209,
     "metadata": {},
     "output_type": "execute_result"
    }
   ],
   "source": [
    "df_6.head()"
   ]
  },
  {
   "cell_type": "markdown",
   "id": "9cdc4443",
   "metadata": {},
   "source": [
    "# Datas for 2018"
   ]
  },
  {
   "cell_type": "code",
   "execution_count": 701,
   "id": "f37367e6",
   "metadata": {},
   "outputs": [],
   "source": [
    "df_7 = pd.read_excel('datas/bps_2018_report_english_1.xlsx')"
   ]
  },
  {
   "cell_type": "code",
   "execution_count": 703,
   "id": "1b5666b8",
   "metadata": {
    "collapsed": true
   },
   "outputs": [
    {
     "data": {
      "text/html": [
       "<div>\n",
       "<style scoped>\n",
       "    .dataframe tbody tr th:only-of-type {\n",
       "        vertical-align: middle;\n",
       "    }\n",
       "\n",
       "    .dataframe tbody tr th {\n",
       "        vertical-align: top;\n",
       "    }\n",
       "\n",
       "    .dataframe thead th {\n",
       "        text-align: right;\n",
       "    }\n",
       "</style>\n",
       "<table border=\"1\" class=\"dataframe\">\n",
       "  <thead>\n",
       "    <tr style=\"text-align: right;\">\n",
       "      <th></th>\n",
       "      <th>Sector</th>\n",
       "      <th>SubSector</th>\n",
       "      <th>Organization</th>\n",
       "      <th>Operation</th>\n",
       "      <th>Operation Type</th>\n",
       "      <th>Address</th>\n",
       "      <th>City</th>\n",
       "      <th>Postal Code</th>\n",
       "      <th>Total Indoor Space_x</th>\n",
       "      <th>Unit of Measure</th>\n",
       "      <th>...</th>\n",
       "      <th>DistrictHeating_RenewableEmissionFactor</th>\n",
       "      <th>DistrictCooling_Quantity</th>\n",
       "      <th>DistrictCooling_Unit</th>\n",
       "      <th>DistrictCooling_IsRenewable</th>\n",
       "      <th>DistrictCooling_RenewableEmissionFactor</th>\n",
       "      <th>GHG Emissions KG</th>\n",
       "      <th>Energy Intensity ekWh_sqft</th>\n",
       "      <th>Energy Intensity ekWh_mega_litre</th>\n",
       "      <th>Energy Intensity GJ_m2</th>\n",
       "      <th>Energy Intensity GJ_mega_litre</th>\n",
       "    </tr>\n",
       "  </thead>\n",
       "  <tbody>\n",
       "    <tr>\n",
       "      <th>0</th>\n",
       "      <td>Public Hospital</td>\n",
       "      <td>Acute/Chronic Hospital</td>\n",
       "      <td>Alexandra Hospital</td>\n",
       "      <td>Alexandra Hospital, Ingersoll</td>\n",
       "      <td>Facilities used for hospital purposes</td>\n",
       "      <td>29 Noxon Street</td>\n",
       "      <td>Ingersoll</td>\n",
       "      <td>N5C 3V6</td>\n",
       "      <td>8474.0</td>\n",
       "      <td>Square meters</td>\n",
       "      <td>...</td>\n",
       "      <td>0.0</td>\n",
       "      <td>0.0</td>\n",
       "      <td>NaN</td>\n",
       "      <td>NaN</td>\n",
       "      <td>0.0</td>\n",
       "      <td>888399.643901</td>\n",
       "      <td>72.686736</td>\n",
       "      <td>0.0</td>\n",
       "      <td>2.816611</td>\n",
       "      <td>0.0</td>\n",
       "    </tr>\n",
       "    <tr>\n",
       "      <th>1</th>\n",
       "      <td>School Board</td>\n",
       "      <td>School Board</td>\n",
       "      <td>Algoma District School Board</td>\n",
       "      <td>Adult Ed/Con Ed - (Alex Henry)</td>\n",
       "      <td>School</td>\n",
       "      <td>232 Northern Ave E</td>\n",
       "      <td>Sault Ste. Marie</td>\n",
       "      <td>P6B4H6</td>\n",
       "      <td>130923.0</td>\n",
       "      <td>Square feet</td>\n",
       "      <td>...</td>\n",
       "      <td>0.0</td>\n",
       "      <td>0.0</td>\n",
       "      <td>NaN</td>\n",
       "      <td>NaN</td>\n",
       "      <td>0.0</td>\n",
       "      <td>270965.739786</td>\n",
       "      <td>16.085611</td>\n",
       "      <td>0.0</td>\n",
       "      <td>0.623317</td>\n",
       "      <td>0.0</td>\n",
       "    </tr>\n",
       "    <tr>\n",
       "      <th>2</th>\n",
       "      <td>School Board</td>\n",
       "      <td>School Board</td>\n",
       "      <td>Algoma District School Board</td>\n",
       "      <td>Adult Ed/Co-op (former SF Howe)</td>\n",
       "      <td>School</td>\n",
       "      <td>440 Northland Road</td>\n",
       "      <td>Sault Ste. Marie</td>\n",
       "      <td>P6C3N6</td>\n",
       "      <td>17776.0</td>\n",
       "      <td>Square feet</td>\n",
       "      <td>...</td>\n",
       "      <td>0.0</td>\n",
       "      <td>0.0</td>\n",
       "      <td>NaN</td>\n",
       "      <td>NaN</td>\n",
       "      <td>0.0</td>\n",
       "      <td>54147.817427</td>\n",
       "      <td>22.067258</td>\n",
       "      <td>0.0</td>\n",
       "      <td>0.855106</td>\n",
       "      <td>0.0</td>\n",
       "    </tr>\n",
       "    <tr>\n",
       "      <th>3</th>\n",
       "      <td>School Board</td>\n",
       "      <td>School Board</td>\n",
       "      <td>Algoma District School Board</td>\n",
       "      <td>Blind River PS</td>\n",
       "      <td>School</td>\n",
       "      <td>19 Hanes Ave</td>\n",
       "      <td>Blind River</td>\n",
       "      <td>P0R 1B0</td>\n",
       "      <td>48226.0</td>\n",
       "      <td>Square feet</td>\n",
       "      <td>...</td>\n",
       "      <td>0.0</td>\n",
       "      <td>0.0</td>\n",
       "      <td>NaN</td>\n",
       "      <td>NaN</td>\n",
       "      <td>0.0</td>\n",
       "      <td>142790.154462</td>\n",
       "      <td>19.187774</td>\n",
       "      <td>0.0</td>\n",
       "      <td>0.743526</td>\n",
       "      <td>0.0</td>\n",
       "    </tr>\n",
       "    <tr>\n",
       "      <th>4</th>\n",
       "      <td>School Board</td>\n",
       "      <td>School Board</td>\n",
       "      <td>Algoma District School Board</td>\n",
       "      <td>Central Algoma SS</td>\n",
       "      <td>School</td>\n",
       "      <td>32 Kensington Rd</td>\n",
       "      <td>Desbarats</td>\n",
       "      <td>P0R 1E0</td>\n",
       "      <td>131114.0</td>\n",
       "      <td>Square feet</td>\n",
       "      <td>...</td>\n",
       "      <td>0.0</td>\n",
       "      <td>0.0</td>\n",
       "      <td>NaN</td>\n",
       "      <td>NaN</td>\n",
       "      <td>0.0</td>\n",
       "      <td>185636.636634</td>\n",
       "      <td>14.055774</td>\n",
       "      <td>0.0</td>\n",
       "      <td>0.544661</td>\n",
       "      <td>0.0</td>\n",
       "    </tr>\n",
       "  </tbody>\n",
       "</table>\n",
       "<p>5 rows × 41 columns</p>\n",
       "</div>"
      ],
      "text/plain": [
       "            Sector               SubSector                  Organization  \\\n",
       "0  Public Hospital  Acute/Chronic Hospital            Alexandra Hospital   \n",
       "1     School Board            School Board  Algoma District School Board   \n",
       "2     School Board            School Board  Algoma District School Board   \n",
       "3     School Board            School Board  Algoma District School Board   \n",
       "4     School Board            School Board  Algoma District School Board   \n",
       "\n",
       "                         Operation                         Operation Type  \\\n",
       "0    Alexandra Hospital, Ingersoll  Facilities used for hospital purposes   \n",
       "1   Adult Ed/Con Ed - (Alex Henry)                                 School   \n",
       "2  Adult Ed/Co-op (former SF Howe)                                 School   \n",
       "3                   Blind River PS                                 School   \n",
       "4                Central Algoma SS                                 School   \n",
       "\n",
       "              Address              City Postal Code  Total Indoor Space_x  \\\n",
       "0     29 Noxon Street         Ingersoll     N5C 3V6                8474.0   \n",
       "1  232 Northern Ave E  Sault Ste. Marie      P6B4H6              130923.0   \n",
       "2  440 Northland Road  Sault Ste. Marie      P6C3N6               17776.0   \n",
       "3        19 Hanes Ave       Blind River     P0R 1B0               48226.0   \n",
       "4    32 Kensington Rd         Desbarats     P0R 1E0              131114.0   \n",
       "\n",
       "  Unit of Measure  ...  DistrictHeating_RenewableEmissionFactor  \\\n",
       "0   Square meters  ...                                      0.0   \n",
       "1     Square feet  ...                                      0.0   \n",
       "2     Square feet  ...                                      0.0   \n",
       "3     Square feet  ...                                      0.0   \n",
       "4     Square feet  ...                                      0.0   \n",
       "\n",
       "   DistrictCooling_Quantity  DistrictCooling_Unit DistrictCooling_IsRenewable  \\\n",
       "0                       0.0                   NaN                         NaN   \n",
       "1                       0.0                   NaN                         NaN   \n",
       "2                       0.0                   NaN                         NaN   \n",
       "3                       0.0                   NaN                         NaN   \n",
       "4                       0.0                   NaN                         NaN   \n",
       "\n",
       "   DistrictCooling_RenewableEmissionFactor GHG Emissions KG  \\\n",
       "0                                      0.0    888399.643901   \n",
       "1                                      0.0    270965.739786   \n",
       "2                                      0.0     54147.817427   \n",
       "3                                      0.0    142790.154462   \n",
       "4                                      0.0    185636.636634   \n",
       "\n",
       "   Energy Intensity ekWh_sqft Energy Intensity ekWh_mega_litre  \\\n",
       "0                   72.686736                              0.0   \n",
       "1                   16.085611                              0.0   \n",
       "2                   22.067258                              0.0   \n",
       "3                   19.187774                              0.0   \n",
       "4                   14.055774                              0.0   \n",
       "\n",
       "   Energy Intensity GJ_m2 Energy Intensity GJ_mega_litre  \n",
       "0                2.816611                            0.0  \n",
       "1                0.623317                            0.0  \n",
       "2                0.855106                            0.0  \n",
       "3                0.743526                            0.0  \n",
       "4                0.544661                            0.0  \n",
       "\n",
       "[5 rows x 41 columns]"
      ]
     },
     "execution_count": 703,
     "metadata": {},
     "output_type": "execute_result"
    }
   ],
   "source": [
    "df_7.head()"
   ]
  },
  {
   "cell_type": "code",
   "execution_count": 704,
   "id": "211a9bfd",
   "metadata": {
    "collapsed": true
   },
   "outputs": [
    {
     "data": {
      "text/plain": [
       "Index(['Sector', 'SubSector', 'Organization', 'Operation', 'Operation Type',\n",
       "       'Address', 'City', 'Postal Code', 'Total Indoor Space_x',\n",
       "       'Unit of Measure', 'Weekly Average Hours', 'Annual Flow (M',\n",
       "       'Number of Portables', 'Swimming Pool', 'Electricity_Quantity',\n",
       "       'Electricity_Unit', 'NaturalGas_Quantity', 'NaturalGas_Unit',\n",
       "       'FuelOil12_Quantity', 'FuelOil12_Unit', 'FuelOil46_Quantity',\n",
       "       'FuelOil46_Unit', 'Propane_Quantity', 'Propane_Unit', 'Coal_Quantity',\n",
       "       'Coal_Unit', 'Wood_Quantity', 'Wood_Unit', 'DistrictHeating_Quantity',\n",
       "       'DistrictHeating_Unit', 'DistrictHeating_IsRenewable',\n",
       "       'DistrictHeating_RenewableEmissionFactor', 'DistrictCooling_Quantity',\n",
       "       'DistrictCooling_Unit', 'DistrictCooling_IsRenewable',\n",
       "       'DistrictCooling_RenewableEmissionFactor', 'GHG Emissions KG',\n",
       "       'Energy Intensity ekWh_sqft', 'Energy Intensity ekWh_mega_litre',\n",
       "       'Energy Intensity GJ_m2', 'Energy Intensity GJ_mega_litre'],\n",
       "      dtype='object')"
      ]
     },
     "execution_count": 704,
     "metadata": {},
     "output_type": "execute_result"
    }
   ],
   "source": [
    "df_7.columns"
   ]
  },
  {
   "cell_type": "code",
   "execution_count": 705,
   "id": "4c1efaf8",
   "metadata": {
    "collapsed": true
   },
   "outputs": [
    {
     "data": {
      "text/plain": [
       "Sector                                         0\n",
       "SubSector                                      0\n",
       "Organization                                   0\n",
       "Operation                                      0\n",
       "Operation Type                                 0\n",
       "Address                                       12\n",
       "City                                           0\n",
       "Postal Code                                   15\n",
       "Total Indoor Space_x                           0\n",
       "Unit of Measure                              593\n",
       "Weekly Average Hours                           0\n",
       "Annual Flow (M                              2100\n",
       "Number of Portables                            0\n",
       "Swimming Pool                              10098\n",
       "Electricity_Quantity                          10\n",
       "Electricity_Unit                             290\n",
       "NaturalGas_Quantity                          340\n",
       "NaturalGas_Unit                             5591\n",
       "FuelOil12_Quantity                           542\n",
       "FuelOil12_Unit                             16184\n",
       "FuelOil46_Quantity                           564\n",
       "FuelOil46_Unit                             16611\n",
       "Propane_Quantity                             521\n",
       "Propane_Unit                               15810\n",
       "Coal_Quantity                                568\n",
       "Coal_Unit                                  16653\n",
       "Wood_Quantity                                571\n",
       "Wood_Unit                                  16648\n",
       "DistrictHeating_Quantity                     571\n",
       "DistrictHeating_Unit                       16493\n",
       "DistrictHeating_IsRenewable                16463\n",
       "DistrictHeating_RenewableEmissionFactor      612\n",
       "DistrictCooling_Quantity                     572\n",
       "DistrictCooling_Unit                       16548\n",
       "DistrictCooling_IsRenewable                16548\n",
       "DistrictCooling_RenewableEmissionFactor      602\n",
       "GHG Emissions KG                              33\n",
       "Energy Intensity ekWh_sqft                     2\n",
       "Energy Intensity ekWh_mega_litre              14\n",
       "Energy Intensity GJ_m2                       602\n",
       "Energy Intensity GJ_mega_litre               602\n",
       "dtype: int64"
      ]
     },
     "execution_count": 705,
     "metadata": {},
     "output_type": "execute_result"
    }
   ],
   "source": [
    "df_7.isnull().sum()"
   ]
  },
  {
   "cell_type": "code",
   "execution_count": 706,
   "id": "784f3b60",
   "metadata": {},
   "outputs": [],
   "source": [
    "df_7 = df_7.dropna(subset=['Address'])"
   ]
  },
  {
   "cell_type": "code",
   "execution_count": 707,
   "id": "e7eb7d18",
   "metadata": {},
   "outputs": [],
   "source": [
    "df_7 = df_7.dropna(subset=['Postal Code'])"
   ]
  },
  {
   "cell_type": "code",
   "execution_count": 708,
   "id": "c7e8cb1f",
   "metadata": {},
   "outputs": [
    {
     "data": {
      "text/plain": [
       "array(['Square meters', 'Square feet', nan, 'Mètres carrés'], dtype=object)"
      ]
     },
     "execution_count": 708,
     "metadata": {},
     "output_type": "execute_result"
    }
   ],
   "source": [
    "df_7['Unit of Measure'].unique()"
   ]
  },
  {
   "cell_type": "code",
   "execution_count": 709,
   "id": "4cae81e6",
   "metadata": {},
   "outputs": [],
   "source": [
    "unit_mapping = {'Mètres carrés': 'Square meters'}\n",
    "df_7['Unit of Measure'] = df_7['Unit of Measure'].map(unit_mapping)"
   ]
  },
  {
   "cell_type": "code",
   "execution_count": 710,
   "id": "f60df37e",
   "metadata": {},
   "outputs": [],
   "source": [
    "imputer = SimpleImputer(strategy='most_frequent')\n",
    "\n",
    "df_7['Unit of Measure'] = imputer.fit_transform(df_7[['Unit of Measure']]).ravel()"
   ]
  },
  {
   "cell_type": "code",
   "execution_count": 711,
   "id": "350e88ff",
   "metadata": {},
   "outputs": [
    {
     "data": {
      "text/plain": [
       "array([0.0000e+00, 1.3318e+04, 2.0331e+04, ..., 1.2170e+01, 3.3560e+01,\n",
       "       4.6906e+02])"
      ]
     },
     "execution_count": 711,
     "metadata": {},
     "output_type": "execute_result"
    }
   ],
   "source": [
    "df_7['Annual Flow (M'].unique()"
   ]
  },
  {
   "cell_type": "code",
   "execution_count": 712,
   "id": "773e1c3c",
   "metadata": {},
   "outputs": [],
   "source": [
    "mean_value = df_7['Annual Flow (M'].mean()\n",
    "\n",
    "df_7['Annual Flow (M'].fillna(mean_value, inplace=True)"
   ]
  },
  {
   "cell_type": "code",
   "execution_count": 713,
   "id": "a8fdb8b0",
   "metadata": {},
   "outputs": [
    {
     "data": {
      "text/plain": [
       "array([nan, 'No', 'Yes'], dtype=object)"
      ]
     },
     "execution_count": 713,
     "metadata": {},
     "output_type": "execute_result"
    }
   ],
   "source": [
    "df_7['Swimming Pool'].unique()"
   ]
  },
  {
   "cell_type": "code",
   "execution_count": 714,
   "id": "a6605225",
   "metadata": {},
   "outputs": [],
   "source": [
    "df_7['Swimming Pool'].fillna('Yes/No', inplace=True)"
   ]
  },
  {
   "cell_type": "code",
   "execution_count": 715,
   "id": "d009ecb4",
   "metadata": {},
   "outputs": [
    {
     "data": {
      "text/plain": [
       "array([1961917.48516129,  698880.        ,  105392.        , ...,\n",
       "         41633.        ,    7901.        ,    2372.        ])"
      ]
     },
     "execution_count": 715,
     "metadata": {},
     "output_type": "execute_result"
    }
   ],
   "source": [
    "df_7['Electricity_Quantity'].unique()"
   ]
  },
  {
   "cell_type": "code",
   "execution_count": 716,
   "id": "c8081912",
   "metadata": {},
   "outputs": [],
   "source": [
    "mean_value = df_7['Electricity_Quantity'].mean()\n",
    "\n",
    "df_7['Electricity_Quantity'].fillna(mean_value, inplace=True)"
   ]
  },
  {
   "cell_type": "code",
   "execution_count": 717,
   "id": "fad9bff5",
   "metadata": {},
   "outputs": [
    {
     "data": {
      "text/plain": [
       "array(['kWh', nan, 'KWh'], dtype=object)"
      ]
     },
     "execution_count": 717,
     "metadata": {},
     "output_type": "execute_result"
    }
   ],
   "source": [
    "df_7['Electricity_Unit'].unique()"
   ]
  },
  {
   "cell_type": "code",
   "execution_count": 718,
   "id": "deff57ef",
   "metadata": {},
   "outputs": [],
   "source": [
    "df_7['Electricity_Unit'].fillna('kWh', inplace=True)"
   ]
  },
  {
   "cell_type": "code",
   "execution_count": 719,
   "id": "75c09744",
   "metadata": {},
   "outputs": [
    {
     "data": {
      "text/plain": [
       "array([439234.65921569, 132398.        ,  26993.        , ...,\n",
       "        33485.        ,   5306.625     ,   4189.15      ])"
      ]
     },
     "execution_count": 719,
     "metadata": {},
     "output_type": "execute_result"
    }
   ],
   "source": [
    "df_7['NaturalGas_Quantity'].unique()"
   ]
  },
  {
   "cell_type": "code",
   "execution_count": 720,
   "id": "ef3bc954",
   "metadata": {},
   "outputs": [],
   "source": [
    "mean_value = df_7['NaturalGas_Quantity'].mean()\n",
    "\n",
    "df_7['NaturalGas_Quantity'].fillna(mean_value, inplace=True)"
   ]
  },
  {
   "cell_type": "code",
   "execution_count": 721,
   "id": "82a6ce3b",
   "metadata": {},
   "outputs": [
    {
     "data": {
      "text/plain": [
       "array(['Cubic Meter', nan, 'Giga Joule', 'ekWh', 'mètre cube',\n",
       "       'Cubic meter'], dtype=object)"
      ]
     },
     "execution_count": 721,
     "metadata": {},
     "output_type": "execute_result"
    }
   ],
   "source": [
    "df_7['NaturalGas_Unit'].unique()"
   ]
  },
  {
   "cell_type": "code",
   "execution_count": 722,
   "id": "85d693db",
   "metadata": {},
   "outputs": [],
   "source": [
    "gas_mapping = {'ekWh': 'Cubic Meter', 'Giga Joule': 'Cubic Meter', 'mètre cube': 'Cubic Meter'}\n",
    "df_7['NaturalGas_Unit'] = df_7['NaturalGas_Unit'].map(gas_mapping)"
   ]
  },
  {
   "cell_type": "code",
   "execution_count": 723,
   "id": "f15a4e82",
   "metadata": {},
   "outputs": [],
   "source": [
    "df_7['NaturalGas_Unit'].fillna('Cubic Meter', inplace=True)"
   ]
  },
  {
   "cell_type": "code",
   "execution_count": 724,
   "id": "55fda251",
   "metadata": {
    "collapsed": true
   },
   "outputs": [
    {
     "data": {
      "text/plain": [
       "array([0.00000000e+00, 1.66040000e+04, 1.35722000e+04, 1.80700000e+03,\n",
       "       1.16000000e+02, 1.64589000e+05, 1.57770000e+03, 6.32038000e+04,\n",
       "       2.06640000e+03, 1.02470000e+03, 4.83470000e+03, 5.36110000e+03,\n",
       "       9.54510000e+03, 6.36530000e+03, 2.04275000e+04, 6.41010000e+03,\n",
       "       1.50658000e+04, 1.94197000e+04, 6.69600000e+02, 2.18633000e+04,\n",
       "       4.36250000e+03, 2.39200000e+03, 1.68930000e+04, 3.78500000e+03,\n",
       "       7.31500000e+02, 2.01560000e+03, 5.19120000e+03, 4.29390000e+03,\n",
       "       6.56200000e+02, 3.12393039e+04, 2.70507592e+04, 2.81188002e+04,\n",
       "       4.32949496e+04, 9.37624137e+03, 3.73205355e+04, 9.07000000e+03,\n",
       "       6.22130997e+04, 1.55400000e+03, 2.18700000e+03, 1.72500000e+03,\n",
       "       1.63027832e+03, 4.91240000e+03, 6.08260000e+03, 1.80310000e+03,\n",
       "       2.50220000e+03, 3.67430000e+03, 1.08321000e+04, 2.26770000e+03,\n",
       "       3.98102000e+04, 5.00000000e+02, 6.15669000e+03, 1.13050000e+04,\n",
       "       3.41824600e+04, 2.79220000e+03, 2.25144700e+04, 5.57360002e+03,\n",
       "       9.02020000e+04, 1.41925000e+05, 3.08623000e+04, 4.28864000e+04,\n",
       "       3.04426003e+04, 3.99339999e+04, 1.61985788e+04, 3.20625494e+04,\n",
       "       1.62318206e+04, 2.99171047e+04, 3.09865268e+04, 1.27500000e+04,\n",
       "       2.02783000e+04, 2.14438000e+04, 1.04161200e+05, 4.05810100e+04,\n",
       "       3.84037000e+04, 8.66250000e+03, 3.03756000e+04, 3.70206000e+04,\n",
       "       1.30118000e+05, 1.97370170e+05, 3.96873600e+04, 4.10158000e+04,\n",
       "       2.76175000e+04, 1.78560000e+04, 2.20020000e+04, 1.42850000e+04,\n",
       "       3.39070000e+03, 6.16310000e+03, 1.30110000e+03, 8.94870000e+03,\n",
       "       3.64930000e+03, 3.13530000e+03, 6.94690000e+03, 5.20130000e+03,\n",
       "       1.00000000e-05, 6.07670000e+03, 3.55500000e+03, 3.74120000e+03,\n",
       "       1.07456000e+04, 2.74070000e+04, 8.91790000e+03, 1.14933000e+04,\n",
       "       2.08150000e+03, 5.81000000e+03, 5.83820000e+03, 3.96520000e+03,\n",
       "       7.01850000e+03, 8.38260000e+03, 1.23680000e+03, 4.74130000e+03,\n",
       "       9.45890000e+02, 1.92300000e+03, 1.20220000e+03, 1.36524000e+03,\n",
       "       9.10280000e+02, 4.62800000e+03, 2.19600000e+03, 9.53375000e+03,\n",
       "       2.84310000e+03, 5.01400000e+03, 2.50000000e+03, 5.42090000e+03,\n",
       "       2.88880000e+03, 1.06317000e+04, 3.56840000e+03, 3.87160000e+03,\n",
       "       3.56560000e+03, 1.82470000e+03, 1.00689000e+04, 2.91480000e+03,\n",
       "       2.54710000e+04, 2.65058000e+04, 2.13000000e+03, 1.39360000e+04,\n",
       "       4.55500000e+03, 3.03750000e+03, 4.25900000e+03, 2.00570000e+03,\n",
       "       7.07460000e+03, 8.29920000e+03, 1.46237000e+04, 6.48860000e+03,\n",
       "       2.27770000e+03, 1.84630000e+03, 3.39200000e+03, 9.41310210e+03,\n",
       "       7.22443500e+03, 5.50481290e+03, 4.24921000e+03, 3.59677690e+03,\n",
       "       2.39895000e+04, 1.42879000e+04, 2.12259000e+04, 6.50000000e+02,\n",
       "       1.32567400e+05, 2.80953377e+04, 1.51420000e+04, 1.10219000e+05,\n",
       "       2.00525002e+04, 1.82394000e+04, 6.11786891e+04, 3.76768385e+04,\n",
       "       3.65761341e+04, 6.27116480e+04, 2.02326744e+04, 2.82838065e+04,\n",
       "       1.21488000e+05, 5.47110000e+04, 1.74086000e+05, 2.49780000e+04,\n",
       "       4.16720000e+04, 3.52980000e+04, 7.51201400e+05, 5.70752500e+04,\n",
       "       1.00000000e+02, 4.33289194e+04, 2.57624803e+04, 1.46828171e+04,\n",
       "       2.48909996e+04, 2.25279540e+04, 2.11101970e+04, 2.37965000e+04,\n",
       "       3.94240000e+04, 9.70564000e+04, 6.94120000e+03, 1.12346000e+04,\n",
       "       5.04622000e+04, 1.94832557e+04, 5.65083891e+04, 1.25650000e+04,\n",
       "       1.00000000e+03, 1.00000000e+00, 6.50000000e+03, 2.00000000e+02,\n",
       "       3.81600000e+03, 7.88800000e+03, 2.07919000e+04, 2.12570000e+03,\n",
       "       1.49955000e+04, 7.02700000e+03, 3.41300000e+03, 1.70200000e+03,\n",
       "       1.78140000e+04, 4.18000000e+03, 2.32100000e+03, 1.86600000e+03,\n",
       "       3.72218000e+04, 8.90027000e+04, 2.98740000e+03, 3.96990000e+03,\n",
       "       5.73360000e+03, 1.59300000e+03, 7.49864000e+03, 1.11263000e+04,\n",
       "       9.49500000e+02, 4.48460000e+03, 2.20754000e+04, 1.46900000e+02,\n",
       "       1.19629000e+04, 6.65400000e+02, 4.82510000e+03, 5.71800000e+03,\n",
       "       4.37100000e+03, 1.02689900e+04, 3.86233000e+03, 2.07736000e+03,\n",
       "       4.22532000e+03, 4.52072000e+03, 6.08706000e+03, 1.25599000e+04,\n",
       "       7.61860000e+03, 2.54410000e+03, 3.64390000e+03, 7.15530000e+03,\n",
       "       3.81610000e+03, 8.13940000e+03, 3.46160000e+03, 3.04824000e+03,\n",
       "       6.46534000e+03, 1.44726000e+03, 7.27857000e+03, 9.48869000e+03,\n",
       "       2.67642000e+03, 8.04840000e+03, 2.10730000e+03, 1.60960000e+03,\n",
       "       6.53430000e+03, 3.29300000e+03, 3.72780000e+03, 4.30830000e+03,\n",
       "       1.53760000e+03, 2.51000000e+03, 2.46500000e+03, 2.14100000e+03,\n",
       "       6.58000000e+02, 4.04050000e+03, 5.06330000e+03, 1.79550000e+03,\n",
       "       3.81585000e+03, 9.29780000e+03, 1.07310000e+04, 3.15900000e+03,\n",
       "       2.69100000e+03, 3.81500000e+03, 1.54200000e+03, 1.81800000e+03,\n",
       "       5.62400000e+03, 1.38100000e+03, 2.55200000e+03, 3.33230000e+03,\n",
       "       7.69150000e+03, 1.50990000e+03, 1.40213000e+04, 4.53020000e+03,\n",
       "       1.99820000e+04, 6.12000000e+03, 1.92930000e+03, 4.35400000e+03,\n",
       "       9.72790000e+03, 8.65340000e+03, 1.82400000e+03, 1.69320000e+04,\n",
       "       2.15460000e+03, 3.57740000e+03, 3.09100000e+03, 2.30800000e+03,\n",
       "       2.07500000e+03, 2.00000000e+03, 7.38760000e+03, 1.10061000e+04,\n",
       "       5.76040000e+03, 1.09390000e+04, 3.47550000e+03, 3.27904500e+03,\n",
       "       3.16076000e+03, 4.49034500e+03, 1.38510000e+03, 1.74930000e+03,\n",
       "       3.76520000e+03, 2.90970000e+03, 2.56850000e+03, 3.76530000e+03,\n",
       "       4.73770000e+03, 3.96740000e+03, 6.67426300e+03, 1.47770000e+03,\n",
       "       1.87100000e+03, 1.57530000e+03, 3.30500000e+03, 3.61100000e+03,\n",
       "       2.07300000e+03, 1.20400000e+03, 1.10080000e+04, 5.81300000e+03,\n",
       "       1.11004000e+04, 1.36205200e+04, 7.19655000e+03, 5.46910000e+03,\n",
       "       2.65338000e+04, 4.58147000e+04, 3.65191000e+03, 3.86672000e+03,\n",
       "       5.52838000e+03, 3.22227000e+03, 6.37890000e+02, 1.38490000e+04,\n",
       "       2.37120000e+03, 1.31540000e+03, 4.41800000e+03, 1.74500000e+03,\n",
       "       8.40200000e+02, 6.40940000e+03, 1.65280000e+03, 2.84820000e+03,\n",
       "       1.32040000e+04, 1.05370000e+04, 3.93300000e+03, 1.11365000e+04,\n",
       "       1.82903100e+04, 2.00110000e+03, 1.74075000e+04, 4.74500000e+03,\n",
       "       4.98200000e+03, 3.69500000e+03, 6.39100000e+03, 1.15590000e+04,\n",
       "       3.59000000e+03, 1.52108000e+04, 8.97335000e+03, 4.14800000e+03,\n",
       "       3.16700000e+03, 2.95600000e+03, 2.85050000e+03, 5.36180000e+03,\n",
       "       2.39180000e+03, 2.19001000e+03, 4.77230000e+02, 7.68470000e+02,\n",
       "       1.79740000e+03, 1.80100000e+02, 4.00970000e+03, 2.56450000e+03,\n",
       "       2.61501000e+04, 5.51310000e+03, 1.53652000e+04, 2.79930000e+03,\n",
       "       5.58903000e+04, 3.93570000e+04, 1.11709000e+04, 2.57905000e+03,\n",
       "       1.09350000e+03, 5.01500000e+03, 5.96320000e+03, 5.28910000e+03,\n",
       "       2.96750000e+03, 1.11850000e+03, 2.59060000e+03, 5.69970000e+03,\n",
       "       3.14785000e+04, 8.76640000e+03, 1.82500000e+03, 1.18092000e+04,\n",
       "       1.12769000e+04, 6.44060000e+03, 3.19621000e+03, 2.72700000e+02,\n",
       "       1.02958700e+05, 2.83801000e+04, 7.06190000e+03, 1.49890000e+03,\n",
       "       4.04700000e+03, 3.71870000e+03, 4.47605000e+03, 6.70885000e+03,\n",
       "       5.47070000e+03, 9.48440000e+03, 1.42269000e+04, 2.92370000e+03,\n",
       "       3.60320000e+03, 5.05860000e+03, 3.48060000e+03, 6.24020000e+03,\n",
       "       4.77370000e+03, 1.79450000e+04, 5.05500000e+03, 6.78100000e+03,\n",
       "       1.88648821e+04, 3.81120641e+04, 6.48200012e+03, 4.07015991e+04,\n",
       "       1.49266000e+04, 8.30440000e+03, 1.00247000e+04, 1.97500000e+03,\n",
       "       3.76000000e+04, 2.12481055e+04, 2.90125795e+04, 1.88916088e+04,\n",
       "       2.56592723e+04, 2.95396408e+04, 1.99140157e+04, 1.15445341e+04,\n",
       "       4.11717093e+04, 1.30211999e+04, 9.68239395e+04, 2.56472509e+04,\n",
       "       2.22279600e+04, 3.61660000e+03, 2.27970000e+03, 1.50000000e+03,\n",
       "       1.69930000e+04, 2.84000000e+03, 1.89088251e+04, 3.51273019e+04,\n",
       "                  nan, 1.49800000e+03, 4.88500000e+03, 2.80000000e+03,\n",
       "       6.43400000e+03, 2.05100000e+03, 8.85900000e+03, 5.02244400e+04,\n",
       "       5.07740000e+03, 1.53900000e+03, 6.91200000e+03, 4.29100000e+05,\n",
       "       6.58620000e+03, 5.00160000e+03, 4.69539700e+03, 3.45842000e+04,\n",
       "       2.19044800e+04, 3.09880000e+03, 4.74800000e+03, 3.33410000e+03,\n",
       "       3.07007000e+04, 8.76890000e+03, 4.10540000e+03, 6.93560000e+03,\n",
       "       3.29920000e+03, 2.24790000e+03, 4.26310000e+03])"
      ]
     },
     "execution_count": 724,
     "metadata": {},
     "output_type": "execute_result"
    }
   ],
   "source": [
    "df_7['FuelOil12_Quantity'].unique()"
   ]
  },
  {
   "cell_type": "code",
   "execution_count": 725,
   "id": "ddd686be",
   "metadata": {},
   "outputs": [],
   "source": [
    "mean_value = df_7['FuelOil12_Quantity'].mean()\n",
    "\n",
    "df_7['FuelOil12_Quantity'].fillna(mean_value, inplace=True)"
   ]
  },
  {
   "cell_type": "code",
   "execution_count": 726,
   "id": "00b0d858",
   "metadata": {},
   "outputs": [
    {
     "data": {
      "text/plain": [
       "array([nan, 'Litre'], dtype=object)"
      ]
     },
     "execution_count": 726,
     "metadata": {},
     "output_type": "execute_result"
    }
   ],
   "source": [
    "df_7['FuelOil12_Unit'].unique()"
   ]
  },
  {
   "cell_type": "code",
   "execution_count": 727,
   "id": "fc423486",
   "metadata": {},
   "outputs": [],
   "source": [
    "df_7['FuelOil12_Unit'].fillna('Litre', inplace=True)"
   ]
  },
  {
   "cell_type": "code",
   "execution_count": 728,
   "id": "c34244cd",
   "metadata": {
    "collapsed": true
   },
   "outputs": [
    {
     "data": {
      "text/plain": [
       "array([     0.        ,  30002.        ,  28673.        ,  31411.        ,\n",
       "       105850.        ,  12518.        ,  12658.        ,   1531.        ,\n",
       "         8748.28      ,   8277.41      ,  32688.32      ,   5404.        ,\n",
       "         9903.4       ,   5065.        ,   3317.7       ,    628.8       ,\n",
       "         2469.5       ,    256.1       ,  12394.1       ,   1794.2       ,\n",
       "       119043.        ,  24410.        ,   8276.8       ,   2578.6       ,\n",
       "         1013.3       ,  12539.        ,   3847.        ,  15980.9       ,\n",
       "         5548.        ,   8359.        ,   2429.27653061,   3286.14729064,\n",
       "         4954.8184265 ,   1866.8       ,  28176.        ,   9663.        ,\n",
       "         1812.        ,   6450.2       ,             nan,    827.        ,\n",
       "        15576.        ,   3546.        ])"
      ]
     },
     "execution_count": 728,
     "metadata": {},
     "output_type": "execute_result"
    }
   ],
   "source": [
    "df_7['FuelOil46_Quantity'].unique()"
   ]
  },
  {
   "cell_type": "code",
   "execution_count": 729,
   "id": "4a768adf",
   "metadata": {},
   "outputs": [],
   "source": [
    "mean_value = df_7['FuelOil46_Quantity'].mean()\n",
    "\n",
    "df_7['FuelOil46_Quantity'].fillna(mean_value, inplace=True)"
   ]
  },
  {
   "cell_type": "code",
   "execution_count": 730,
   "id": "d479edc0",
   "metadata": {},
   "outputs": [
    {
     "data": {
      "text/plain": [
       "array([nan, 'Litre'], dtype=object)"
      ]
     },
     "execution_count": 730,
     "metadata": {},
     "output_type": "execute_result"
    }
   ],
   "source": [
    "df_7['FuelOil46_Unit'].unique()"
   ]
  },
  {
   "cell_type": "code",
   "execution_count": 731,
   "id": "d547da14",
   "metadata": {},
   "outputs": [],
   "source": [
    "df_7['FuelOil46_Unit'].fillna('Litre', inplace=True)"
   ]
  },
  {
   "cell_type": "code",
   "execution_count": 732,
   "id": "54c6aae5",
   "metadata": {
    "collapsed": true
   },
   "outputs": [
    {
     "data": {
      "text/plain": [
       "array([0.00000000e+00, 1.69091000e+05, 4.61028004e+04, 5.66296000e+04,\n",
       "       1.34161000e+04, 2.23293001e+04, 5.85722000e+04, 5.24403918e+04,\n",
       "       6.15367570e+04, 7.34406692e+02, 3.95943533e+04, 2.71352331e+04,\n",
       "       2.38360000e+03, 2.70759000e+04, 5.29909000e+03, 1.00682700e+05,\n",
       "       1.40723776e+05, 4.84574654e+04, 5.68640898e+04, 8.31927496e+04,\n",
       "       3.05403566e+04, 4.48954830e+04, 1.42411347e+04, 1.03066492e+05,\n",
       "       1.34537674e+04, 6.03911407e+04, 5.02621321e+04, 7.14426386e+04,\n",
       "       4.55306200e+04, 3.98100200e+04, 2.69879000e+04, 2.95380000e+04,\n",
       "       3.81200000e+02, 3.75200000e+03, 5.01932000e+04, 1.77730000e+03,\n",
       "       8.18150000e+03, 3.47396000e+04, 2.00146000e+04, 9.67030000e+03,\n",
       "       1.90882000e+04, 2.42555000e+04, 8.01800000e+03, 3.20380000e+04,\n",
       "       2.70100000e+03, 2.41390000e+03, 8.88914000e+04, 7.18580000e+03,\n",
       "       3.80070000e+03, 4.68330000e+03, 4.51780000e+03, 5.22180000e+03,\n",
       "       5.18430000e+03, 2.11130000e+03, 7.91006000e+03, 4.45388000e+03,\n",
       "       3.70960000e+03, 3.05050000e+03, 5.93980000e+03, 1.98040000e+03,\n",
       "       4.50700000e+03, 6.15549100e+04, 4.52814200e+04, 9.59370000e+03,\n",
       "       1.00401000e+04, 1.22954000e+04, 4.65218000e+04, 1.76020000e+04,\n",
       "       1.15060000e+04, 1.76506000e+04, 6.09916670e+04, 4.96317814e+04,\n",
       "       4.30721826e+04, 5.05721614e+04, 7.29730920e+04, 6.43364631e+04,\n",
       "       5.42460303e+04, 4.18480000e+04, 2.18900000e+03, 3.28990000e+04,\n",
       "       3.21200000e+04, 3.40679149e+04, 2.52056994e+04, 3.59976000e+03,\n",
       "       2.42600000e+04, 6.09730000e+03, 5.99960000e+03, 5.39964000e+03,\n",
       "       1.15880000e+04, 4.90448200e+03, 2.43834700e+04, 2.90354800e+04,\n",
       "       4.59280000e+03, 2.46290182e+04, 1.12250000e+03, 8.38350000e+03,\n",
       "       3.29410000e+03, 1.05527000e+04, 1.42440000e+04, 5.45580000e+03,\n",
       "       1.75587000e+04, 5.76350000e+03, 1.76574000e+04, 4.57340000e+03,\n",
       "       9.13930000e+03, 1.79320000e+04, 4.45503000e+04, 8.13500000e+03,\n",
       "       7.95600000e+03, 2.13030000e+03, 6.73790000e+03, 2.01787000e+04,\n",
       "       4.07720000e+03, 7.17740000e+03, 9.96430000e+03, 2.95224800e+03,\n",
       "       2.17016800e+03, 5.10770000e+03, 5.60680000e+03, 9.01440000e+03,\n",
       "       8.27830000e+03, 1.93868300e+04, 1.14536000e+04, 1.89757000e+04,\n",
       "       4.53420000e+03, 1.51630000e+03, 4.44910000e+03, 2.34970000e+03,\n",
       "       5.49940000e+03, 1.25470500e+04, 2.78940000e+03, 1.60740000e+03,\n",
       "       8.90600000e+03, 1.90280000e+04, 2.68010000e+04, 1.16590000e+04,\n",
       "       3.16980000e+04, 3.14520000e+04, 8.34108277e+03, 2.20781473e+04,\n",
       "       3.80120000e+02, 3.48910899e+04, 9.94330000e+03, 1.09873000e+04,\n",
       "       2.88270000e+04, 1.76270600e+04, 8.15405992e+04, 5.77050004e+04,\n",
       "       3.91352999e+04, 2.63908701e+05, 6.65808994e+04, 1.01498199e+05,\n",
       "       5.73651784e+04, 4.18498850e+04, 3.29372204e+04, 3.21417252e+04,\n",
       "       3.57648600e+04, 3.92711475e+04, 1.62706085e+05, 8.77152000e+03,\n",
       "       2.14821480e+05, 4.02370000e+04, 3.36600000e+03, 2.46000000e+03,\n",
       "       1.00000000e+00, 3.22800000e+03, 2.97400000e+03, 2.36200000e+03,\n",
       "       1.42550000e+03, 2.31300000e+03, 3.38700000e+03, 1.32200000e+03,\n",
       "       4.38520600e+04, 1.94982000e+04, 3.77017000e+04, 2.69968700e+05,\n",
       "       1.87364000e+04, 4.18676000e+04, 4.53810000e+03, 9.25710000e+03,\n",
       "       2.20009000e+04, 3.76722000e+04, 2.22100000e+03, 9.86750000e+03,\n",
       "       4.28450000e+03, 1.43539000e+04, 2.48802000e+04, 8.34440000e+03,\n",
       "       2.27968000e+04, 7.73290000e+03, 1.24545000e+04, 3.05090000e+03,\n",
       "       1.37270000e+04, 2.77116000e+04, 1.59198000e+04, 1.01985000e+04,\n",
       "       1.71585000e+04, 2.79520000e+03, 1.69679000e+04, 7.71040000e+03,\n",
       "       5.06390000e+03, 3.89181000e+04, 1.24280000e+04, 3.79240000e+04,\n",
       "       2.36489000e+03, 2.23760000e+03, 8.83651000e+03, 1.51001000e+03,\n",
       "       9.50990000e+02, 1.00000000e-01, 5.81000000e+03, 3.06671000e+04,\n",
       "       3.30860000e+03, 1.76700000e+04, 3.09130000e+03, 2.22591000e+04,\n",
       "       2.87640000e+03, 6.49630000e+02, 3.49970000e+02, 3.91160000e+03,\n",
       "       1.21179000e+04, 4.79080000e+03, 1.88650000e+03, 8.61140000e+03,\n",
       "       9.44020000e+03, 1.05250000e+04, 7.14700000e+03, 2.38200000e+03,\n",
       "       1.51960000e+04, 1.02090000e+04, 1.46560000e+04, 9.31400000e+02,\n",
       "       6.50900000e+02, 1.03229000e+04, 1.49432000e+04, 2.41341000e+04,\n",
       "       2.68528000e+05, 2.07938000e+04, 1.40288000e+04, 1.93050000e+03,\n",
       "       3.03850000e+03, 9.63630000e+03, 1.94398000e+04, 1.72195500e+04,\n",
       "       8.41410000e+03, 1.81185000e+04, 5.16380000e+03, 2.08640000e+04,\n",
       "       1.47760000e+03, 8.89000000e+02, 1.43104600e+04, 1.97130000e+03,\n",
       "       2.44090000e+04, 2.07460000e+04, 1.42560000e+04, 2.19210000e+04,\n",
       "       9.89300000e+03, 5.29300000e+03, 5.84300000e+03, 6.79500000e+03,\n",
       "       1.41770000e+04, 5.79200000e+03, 3.03300000e+03, 1.52012000e+04,\n",
       "       1.45519000e+04, 5.03770000e+03, 9.83080000e+03, 2.31790000e+03,\n",
       "       9.54600000e+03, 7.11880000e+03, 6.35440000e+03, 1.06597000e+04,\n",
       "       1.74680000e+04, 3.19141330e+03, 1.15460000e+03, 5.42143000e+04,\n",
       "       8.22831300e+04, 7.89487982e+04, 7.81715817e+04, 1.01020000e+04,\n",
       "       4.41920003e+04, 3.10420000e+04, 2.76132900e+04, 1.94344400e+04,\n",
       "       2.82850800e+05, 5.31772300e+04, 3.12076500e+05, 4.70918000e+04,\n",
       "       1.29707300e+04, 1.11861492e+04, 7.28233932e+04, 1.21174036e+04,\n",
       "       1.12757272e+04, 4.86465237e+04, 9.23453618e+04, 6.53368873e+04,\n",
       "       1.12475400e+06, 1.17626900e+05, 3.71189000e+04, 4.48364000e+04,\n",
       "       2.00000000e+02, 5.59739709e+03, 3.03516064e+04, 9.35976712e+02,\n",
       "       5.72400000e+03, 5.98200000e+03, 5.03980000e+04, 1.49620000e+04,\n",
       "       6.90070000e+04, 7.28500000e+03, 2.53400000e+03, 3.05600000e+03,\n",
       "       1.06900000e+03, 3.34700000e+03, 1.08530000e+04, 6.43200000e+03,\n",
       "       2.07450000e+04, 5.23920000e+03, 2.02780000e+03, 1.42910000e+04,\n",
       "       2.89000000e+04, 2.86180000e+03, 2.14600000e+03, 4.29000000e+03,\n",
       "       1.72260000e+03, 2.75280000e+03, 1.53920000e+03, 6.74650000e+03,\n",
       "       6.67680000e+03, 8.46300000e+03, 7.83140000e+03, 8.04200000e+03,\n",
       "       7.40230000e+03, 1.00700000e+03, 7.80800000e+03, 9.79000000e+03,\n",
       "       5.44100000e+03, 5.01600000e+03, 1.81329000e+04, 1.02155000e+04,\n",
       "       6.37560000e+03, 1.34160000e+04, 1.39790000e+04, 1.55150000e+04,\n",
       "       4.54800000e+03, 8.26060000e+04, 2.33420000e+04, 4.12400000e+03,\n",
       "       1.77367000e+04, 5.70660000e+03, 1.67040000e+04, 2.33350000e+04,\n",
       "       3.22410000e+04, 1.93293000e+04, 9.45770000e+03, 6.75410000e+03,\n",
       "       1.24155000e+03, 3.72465000e+03, 7.33630000e+03, 7.67490000e+03,\n",
       "       5.81370000e+03, 2.78690000e+03, 4.79200000e+03, 7.37700000e+03,\n",
       "       4.28900000e+03, 1.58810000e+04, 1.81100000e+03, 2.34310000e+04,\n",
       "       5.53400000e+03, 1.47930000e+04, 5.43300000e+03, 1.38020000e+04,\n",
       "       2.02918000e+04, 1.51590000e+04, 1.95268000e+03, 7.18450000e+02,\n",
       "       5.81140000e+02, 1.55610400e+04, 2.55458000e+03, 5.75720000e+02,\n",
       "       6.60390000e+02, 2.17376000e+03, 7.07833000e+03, 1.62851300e+04,\n",
       "       1.54804000e+03, 5.38460000e+02, 1.49683600e+04, 1.79826000e+04,\n",
       "       2.43086000e+04, 2.92637000e+04, 5.76380000e+03, 7.82100000e+03,\n",
       "       4.30400000e+03, 1.32310000e+04, 6.15000000e+03, 1.32970000e+04,\n",
       "       1.33730000e+04, 2.23600000e+04, 3.77350000e+04, 3.66000000e+03,\n",
       "       3.00400000e+03, 5.15900000e+03, 7.73260000e+03, 4.68700000e+03,\n",
       "       1.27500000e+03, 1.21890000e+04, 3.54800000e+03, 2.30400000e+03,\n",
       "       1.71700000e+03, 6.20700000e+03, 6.48200000e+03, 1.06300000e+04,\n",
       "       4.81500000e+03, 4.88297000e+03, 1.95477000e+03, 3.01870000e+03,\n",
       "       2.68975000e+03, 5.62140000e+03, 1.23487000e+04, 2.47630000e+03,\n",
       "       7.91100000e+02, 3.26580000e+03, 1.74860000e+03, 2.52300000e+04,\n",
       "       5.07500000e+03, 5.55000000e+03, 3.59300000e+03, 1.29680000e+04,\n",
       "       2.86700000e+03, 1.09580000e+04, 4.18600000e+03, 1.65665000e+04,\n",
       "       1.84776000e+04, 1.41170000e+04, 5.63980000e+03, 1.03625000e+04,\n",
       "       1.00784000e+04, 7.85000000e+03, 3.31900000e+03, 3.57400000e+03,\n",
       "       2.74400000e+03, 2.48640000e+04, 2.11100000e+03, 2.20290000e+03,\n",
       "       1.56845000e+04, 9.26060000e+03, 1.23891000e+04, 1.51288000e+04,\n",
       "       6.30830000e+03, 3.67680000e+03, 1.02092000e+04, 5.21569000e+03,\n",
       "       1.55340000e+04, 1.59990000e+04, 8.18300000e+03, 7.36200000e+03,\n",
       "       1.37740000e+03, 4.03010000e+03, 5.35670000e+03, 3.47210000e+03,\n",
       "       6.13150000e+03, 3.36920000e+03, 2.58267000e+04, 6.82800000e+03,\n",
       "       1.05025000e+04, 8.59940000e+03, 2.92950000e+03, 3.72490000e+03,\n",
       "       1.21921000e+04, 2.08614000e+04, 3.01158000e+04, 1.08078000e+04,\n",
       "       1.63810000e+04, 1.13110000e+04, 2.06910000e+04, 4.91600000e+03,\n",
       "       8.23000000e+03, 2.74300000e+03, 9.95500000e+03, 3.64500000e+03,\n",
       "       1.87616000e+04, 6.87900000e+03, 7.36000000e+02, 1.85000000e+02,\n",
       "       1.58822000e+04, 5.63930000e+03, 1.92317000e+04, 4.76050000e+03,\n",
       "       2.62689000e+04, 3.81950000e+03, 3.52540000e+03, 1.83436000e+04,\n",
       "       7.82070000e+03, 1.06312000e+04, 1.00379000e+04, 1.08216000e+04,\n",
       "       2.38060000e+03, 6.38340000e+03, 9.33720000e+03, 9.56790000e+03,\n",
       "       5.88190000e+03, 1.39800000e+03, 3.85712800e+04, 1.73580000e+03,\n",
       "       8.70050000e+03, 5.04433000e+04, 4.08300000e+03, 5.04435000e+03,\n",
       "       8.23242700e+03, 4.59301900e+03, 1.40446400e+03, 2.23110000e+03,\n",
       "       2.21820000e+03, 2.36480000e+03, 3.79630000e+03, 2.27780000e+03,\n",
       "       1.06300000e+03, 4.09100000e+03, 6.35500000e+03, 4.96800000e+03,\n",
       "       2.25100000e+03, 1.85443000e+04, 3.21470000e+03, 3.61990000e+04,\n",
       "       2.63740000e+04, 4.62300000e+03, 2.44290000e+04, 3.04000000e+02,\n",
       "       4.97430000e+04, 8.98244000e+03, 4.00358600e+04, 2.00000000e+01,\n",
       "       3.94900000e+03, 4.57800000e+03, 2.43340000e+04, 1.32690000e+04,\n",
       "       3.46000000e+02, 4.72374500e+04, 7.46700000e+03, 1.01900000e+03,\n",
       "       5.55000000e+02, 9.40330000e+03, 1.32546000e+04, 7.34340000e+03,\n",
       "       8.59930000e+03, 4.09900000e+02, 4.08100000e+02, 3.24490000e+03,\n",
       "       9.88290000e+03, 5.67722000e+04, 6.64430000e+03, 8.60992000e+04,\n",
       "       1.71147000e+04, 8.11820000e+03, 1.53372000e+04, 3.62200000e+03,\n",
       "       6.77950000e+03, 6.98320000e+03, 3.98100000e+02, 6.72520000e+02,\n",
       "       7.33340000e+03, 3.63600000e+02, 4.00880000e+03, 4.81100000e+03,\n",
       "       7.98990000e+03, 8.97800000e+02, 6.03900000e+03, 8.25000000e+02,\n",
       "       4.98680000e+03, 2.46363000e+04, 1.61936000e+04, 1.10654000e+04,\n",
       "       9.32860000e+03, 4.00020000e+03, 2.31918000e+04, 4.53018000e+04,\n",
       "       3.39700000e+03, 1.33475000e+04, 9.59830000e+03, 1.16452000e+04,\n",
       "       2.31225000e+04, 5.29475000e+03, 4.39670000e+03, 2.00760000e+04,\n",
       "       3.23000000e+02, 1.39900000e+03, 2.14560000e+04, 1.00000000e+02,\n",
       "       6.80000000e+03, 1.07730000e+04, 2.94000000e+02, 5.98300000e+03,\n",
       "       5.50680000e+04, 6.98100000e+03, 2.26320000e+04, 1.76770000e+03,\n",
       "       4.67593000e+03, 4.45930000e+03, 2.19620000e+03, 1.05848000e+04,\n",
       "       2.51570000e+04, 1.82847000e+04, 5.90330000e+03, 1.41677000e+04,\n",
       "       1.13809100e+05, 3.73800000e+03, 1.92804100e+03, 2.47634900e+03,\n",
       "       3.69392800e+03, 4.94510000e+03, 3.86990000e+03, 1.30351000e+04,\n",
       "       9.93610000e+03, 6.49750000e+03, 4.75323000e+03, 4.48417000e+03,\n",
       "       6.12000000e+03, 3.20250000e+04, 2.00615000e+04, 4.71250000e+03,\n",
       "       1.20110000e+03, 1.03688000e+04, 9.59000000e+02, 5.93750000e+03,\n",
       "       3.46970000e+03, 2.57680000e+03, 7.13650000e+03, 3.70420000e+03,\n",
       "       1.90390000e+03, 9.26050000e+02, 1.55077000e+04, 6.95400000e+02,\n",
       "       1.46360000e+03, 2.41262000e+04, 1.83310000e+03, 2.81392000e+04,\n",
       "       5.52970000e+03, 7.88500000e+03, 4.67250000e+03, 1.80000000e+02,\n",
       "       1.32710000e+04, 9.81000000e+02, 3.30000000e+01, 1.91000000e+03,\n",
       "       2.26290000e+04, 1.37090000e+04, 1.86466000e+04, 2.40507700e+04,\n",
       "       3.86951000e+03, 1.92783900e+04, 1.27000000e+03, 7.45400000e+02,\n",
       "       2.68543000e+03, 1.02261000e+04, 2.34781000e+04, 4.39640000e+03,\n",
       "       3.36866000e+04, 2.94880000e+03, 3.14030000e+03, 1.23429135e+03,\n",
       "       1.48176713e+03, 1.12704167e+03, 5.49300000e+03, 2.86334000e+04,\n",
       "       1.28447000e+04, 1.26419000e+04, 9.02790000e+03, 5.49461000e+04,\n",
       "       1.10200000e+03, 9.23010000e+03, 1.26380000e+04, 4.51500000e+03,\n",
       "       5.87700000e+03, 3.27890000e+04, 2.44260000e+03, 7.20951000e+03,\n",
       "       4.51143000e+03, 7.67228000e+03, 6.39570000e+03, 8.85450000e+03,\n",
       "       6.19813000e+03, 2.65637500e+03, 1.70444000e+04, 6.65320000e+03,\n",
       "       8.63914000e+03, 1.67784000e+04, 2.59350000e+03, 1.19710000e+03,\n",
       "       2.50260000e+04, 1.71825000e+04, 3.60640000e+03, 5.54031000e+03,\n",
       "       2.15600000e+04, 3.72290000e+03, 1.10770000e+04, 1.60200000e+04,\n",
       "       2.07500000e+03, 2.80260000e+04, 8.96300000e+03, 1.37510000e+04,\n",
       "       7.41100000e+03, 1.48220000e+04, 5.03209290e+03, 6.17964000e+03,\n",
       "       7.59359000e+03, 9.86000000e+02, 4.04800000e+03, 3.57410000e+03,\n",
       "       2.61590000e+03, 4.19850000e+03, 6.10230000e+03, 2.74468000e+04,\n",
       "       1.82788000e+04, 2.79272000e+04, 1.09781000e+04, 9.38900000e+03,\n",
       "       3.18755000e+03, 6.41115000e+04, 8.59570000e+03, 1.89220000e+04,\n",
       "       1.25460000e+04, 1.93729000e+04, 1.08304000e+04, 1.47548300e+04,\n",
       "       3.09991000e+03, 1.87788700e+04, 2.23745000e+03, 1.17431200e+04,\n",
       "       1.75024500e+04, 1.43289000e+04, 1.10570000e+04, 6.03400000e+02,\n",
       "       8.10670000e+02, 2.57040000e+03, 4.35000000e+02, 4.45900000e+03,\n",
       "       6.08707133e+03, 1.21339747e+05, 8.85895581e+04, 7.20665655e+04,\n",
       "       4.42796005e+04, 2.65748095e+04, 2.67128512e+03, 4.09435977e+04,\n",
       "       2.35560688e+04, 3.03573662e+04, 2.48605575e+04, 2.71176941e+05,\n",
       "       5.43578432e+04, 2.32787619e+05, 1.33650850e+04, 6.61544923e+04,\n",
       "       5.25037773e+03, 5.09635255e+03, 8.32924407e+04, 5.45681305e+03,\n",
       "       1.14517800e+04, 3.13900000e+03, 2.60467000e+04, 5.36000000e+03,\n",
       "       4.15910000e+04, 4.56720000e+03, 2.95440000e+03, 1.28770000e+04,\n",
       "       5.06618600e+04, 1.29967400e+04, 5.13650000e+03, 1.11300000e+03,\n",
       "       4.18790000e+03, 4.05774000e+03, 1.06109000e+04, 8.40100000e+03,\n",
       "       3.58391726e+03, 3.23316997e+04, 1.58872140e+04,            nan,\n",
       "       5.85600000e+03, 1.02226500e+05, 1.92800000e+03, 1.57695300e+04,\n",
       "       8.41557000e+03, 5.23243000e+03, 8.94511000e+03, 2.34312000e+03,\n",
       "       5.47778000e+03, 1.05431700e+04, 2.64014000e+03, 9.08232000e+03,\n",
       "       1.59233000e+03, 8.27300000e+03, 1.39830000e+04, 2.97800000e+03,\n",
       "       6.92080000e+03, 1.51182000e+04, 5.37010000e+03, 6.80980000e+03,\n",
       "       1.37667000e+04, 1.23866000e+04, 2.02770000e+03, 1.60350000e+03,\n",
       "       8.46600000e+02, 3.08960000e+03, 9.23900000e+02, 1.10530000e+04,\n",
       "       1.55731000e+04, 2.58620000e+03, 4.47680000e+03, 9.09971000e+04,\n",
       "       1.90000000e+02, 2.49200000e+03, 3.26200000e+03, 3.59600000e+03,\n",
       "       1.58620000e+04, 4.29800000e+03, 2.10120000e+04, 6.64000000e+02,\n",
       "       2.54000000e+02, 2.07900000e+04, 3.61980000e+03, 9.01570000e+03,\n",
       "       4.19960000e+03, 2.78110000e+03, 1.67420000e+03, 6.50800000e+03,\n",
       "       1.64142000e+04])"
      ]
     },
     "execution_count": 732,
     "metadata": {},
     "output_type": "execute_result"
    }
   ],
   "source": [
    "df_7['Propane_Quantity'].unique()"
   ]
  },
  {
   "cell_type": "code",
   "execution_count": 733,
   "id": "440c55f0",
   "metadata": {},
   "outputs": [],
   "source": [
    "mean_value = df_7['Propane_Quantity'].mean()\n",
    "\n",
    "df_7['Propane_Quantity'].fillna(mean_value, inplace=True)"
   ]
  },
  {
   "cell_type": "code",
   "execution_count": 734,
   "id": "162b1ced",
   "metadata": {},
   "outputs": [
    {
     "data": {
      "text/plain": [
       "array([nan, 'Litre'], dtype=object)"
      ]
     },
     "execution_count": 734,
     "metadata": {},
     "output_type": "execute_result"
    }
   ],
   "source": [
    "df_7['Propane_Unit'].unique()"
   ]
  },
  {
   "cell_type": "code",
   "execution_count": 736,
   "id": "213655d4",
   "metadata": {},
   "outputs": [],
   "source": [
    "df_7['Propane_Unit'].fillna('Litre', inplace=True)"
   ]
  },
  {
   "cell_type": "code",
   "execution_count": 735,
   "id": "f012094c",
   "metadata": {},
   "outputs": [
    {
     "data": {
      "text/plain": [
       "array([     0.  ,       nan, 125544.62,  36052.69, 123351.09,  18181.02])"
      ]
     },
     "execution_count": 735,
     "metadata": {},
     "output_type": "execute_result"
    }
   ],
   "source": [
    "df_7['Coal_Quantity'].unique()"
   ]
  },
  {
   "cell_type": "code",
   "execution_count": 737,
   "id": "28f0ddef",
   "metadata": {},
   "outputs": [],
   "source": [
    "mean_value = df_7['Coal_Quantity'].mean()\n",
    "\n",
    "df_7['Coal_Quantity'].fillna(mean_value, inplace=True)"
   ]
  },
  {
   "cell_type": "code",
   "execution_count": 738,
   "id": "45339ac3",
   "metadata": {},
   "outputs": [
    {
     "data": {
      "text/plain": [
       "array([nan])"
      ]
     },
     "execution_count": 738,
     "metadata": {},
     "output_type": "execute_result"
    }
   ],
   "source": [
    "df_7['Coal_Unit'].unique()"
   ]
  },
  {
   "cell_type": "code",
   "execution_count": 739,
   "id": "bd9eb66b",
   "metadata": {},
   "outputs": [],
   "source": [
    "df_7['Coal_Unit'].fillna('Tons', inplace=True)"
   ]
  },
  {
   "cell_type": "code",
   "execution_count": 740,
   "id": "ff9192cd",
   "metadata": {},
   "outputs": [
    {
     "data": {
      "text/plain": [
       "array([  0.  ,  22.8 ,  12.4 ,   2.46, 110.  ,    nan, 100.  ])"
      ]
     },
     "execution_count": 740,
     "metadata": {},
     "output_type": "execute_result"
    }
   ],
   "source": [
    "df_7['Wood_Quantity'].unique()"
   ]
  },
  {
   "cell_type": "code",
   "execution_count": 741,
   "id": "30a55d42",
   "metadata": {},
   "outputs": [],
   "source": [
    "mean_value = df_7['Wood_Quantity'].mean()\n",
    "\n",
    "df_7['Wood_Quantity'].fillna(mean_value, inplace=True)"
   ]
  },
  {
   "cell_type": "code",
   "execution_count": 742,
   "id": "1b28e1cd",
   "metadata": {},
   "outputs": [
    {
     "data": {
      "text/plain": [
       "array([nan, 'Metric Tonne'], dtype=object)"
      ]
     },
     "execution_count": 742,
     "metadata": {},
     "output_type": "execute_result"
    }
   ],
   "source": [
    "df_7['Wood_Unit'].unique()"
   ]
  },
  {
   "cell_type": "code",
   "execution_count": 743,
   "id": "9c2e6be1",
   "metadata": {},
   "outputs": [],
   "source": [
    "df_7['Wood_Unit'].fillna('Metric Tonne', inplace=True)"
   ]
  },
  {
   "cell_type": "code",
   "execution_count": 744,
   "id": "ed0e97ba",
   "metadata": {
    "collapsed": true
   },
   "outputs": [
    {
     "data": {
      "text/plain": [
       "array([0.00000000e+00, 8.99888400e+02, 1.00000000e+00, 2.67300000e+01,\n",
       "       1.04493653e+03, 3.71740062e+03, 5.22418700e+02, 7.83677615e+03,\n",
       "       1.95682090e+03, 6.72039501e+02, 5.68836000e+03, 8.06760000e+03,\n",
       "       6.14700000e+03, 7.37650120e+02, 4.93681444e+03, 1.34152595e+04,\n",
       "       6.95179073e+03, 1.11943641e+04, 6.83318091e+03, 1.96897744e+03,\n",
       "       5.27908420e+02, 2.25900000e+03, 7.17200000e+03, 1.16500000e+03,\n",
       "       3.60992577e+04, 2.52610099e+04, 2.18997044e+04, 8.59904826e+02,\n",
       "       2.93554899e+03, 6.87312433e+03, 5.44730613e+03, 4.74425881e+04,\n",
       "       6.22908000e+02, 3.79692000e+03, 7.10640000e+02, 4.14177120e+04,\n",
       "       1.09846800e+04, 1.88600000e+03, 4.34500000e+03, 2.52000000e+02,\n",
       "       9.31700000e+03, 9.26600000e+03, 6.81100000e+03, 5.87000000e+02,\n",
       "       7.83400000e+03, 2.28790000e+02, 5.02810000e+02, 5.03200000e+02,\n",
       "       2.87890000e+02, 1.88370000e+03, 7.90529600e+02, 1.69358150e+03,\n",
       "       2.70510000e+02, 1.12290000e+03, 6.06150000e+02, 6.44500000e+02,\n",
       "       1.78461000e+02, 7.09127976e+03, 1.82762599e+05, 4.40515166e+04,\n",
       "       1.47179410e+05, 8.27010000e+04, 2.69900000e+03, 1.50981790e+05,\n",
       "       5.20785494e+03, 2.42877167e+03, 1.21621852e+03, 3.86398381e+03,\n",
       "       7.85171051e+02, 1.68271369e+04, 6.48500482e+03, 4.54981171e+04,\n",
       "       4.34579000e+03, 9.66390000e+04, 1.01387000e+03, 5.09300000e+04,\n",
       "       3.95140000e+04, 3.12730000e+04, 4.23279100e+04, 1.15179200e+05,\n",
       "       2.86282684e+03, 2.05100000e+04, 4.84164800e+04, 3.01074849e+04,\n",
       "       8.29967732e+04, 3.85480721e+04, 1.43437293e+04, 1.04555489e+05,\n",
       "       1.25300000e+03, 1.41770000e+04, 5.21300000e+03, 8.60000000e+02,\n",
       "       2.18340000e+04, 1.44000000e+02, 1.28160000e+03, 4.88305584e+03,\n",
       "       7.00153313e+02, 5.01492004e+03, 3.99600000e+03, 3.45200000e+03,\n",
       "       1.25680000e+04, 2.65400000e+03, 8.39200000e+03, 6.51600000e+03,\n",
       "       5.12400000e+03, 8.38300000e+03, 1.19100000e+03, 3.12400000e+03,\n",
       "       5.04000000e+02, 4.39900000e+03, 9.87400000e+03, 4.42500000e+03,\n",
       "       6.32300000e+03, 1.30600000e+03, 4.26100000e+03, 7.92000000e+03,\n",
       "       2.34300000e+03, 3.44600000e+03, 7.75500000e+03, 1.07240000e+04,\n",
       "       6.19600000e+03, 1.54000000e+04, 9.90900000e+03, 8.83800000e+03,\n",
       "       8.06800000e+03, 3.44700000e+03, 4.76400000e+03, 9.75100000e+03,\n",
       "       5.38400000e+03, 9.84300000e+03, 7.82900000e+03, 1.00190000e+04,\n",
       "       3.68300000e+03, 5.40700000e+03, 3.57900000e+03, 1.72330000e+04,\n",
       "       1.55390000e+04, 1.02910000e+04, 1.21990000e+04, 8.84900000e+03,\n",
       "       8.02200000e+03, 1.12560000e+04, 1.33910000e+04, 1.09010000e+04,\n",
       "       9.25800000e+03, 3.68100000e+03, 5.64600000e+03, 1.91300000e+04,\n",
       "       1.13600000e+03, 2.82800000e+03, 6.63500000e+03, 2.77000000e+03,\n",
       "       1.14440000e+04, 5.68400000e+03, 5.68100000e+03, 4.74300000e+03,\n",
       "       6.12900000e+03, 8.76600000e+03, 5.18300000e+03,            nan,\n",
       "       6.71838560e+04])"
      ]
     },
     "execution_count": 744,
     "metadata": {},
     "output_type": "execute_result"
    }
   ],
   "source": [
    "df_7['DistrictHeating_Quantity'].unique()"
   ]
  },
  {
   "cell_type": "code",
   "execution_count": 745,
   "id": "408ec1f7",
   "metadata": {},
   "outputs": [],
   "source": [
    "mean_value = df_7['DistrictHeating_Quantity'].mean()\n",
    "\n",
    "df_7['DistrictHeating_Quantity'].fillna(mean_value, inplace=True)"
   ]
  },
  {
   "cell_type": "code",
   "execution_count": 746,
   "id": "3f9072ee",
   "metadata": {},
   "outputs": [
    {
     "data": {
      "text/plain": [
       "array([nan, 'Giga Joule', 'Metric Tonne'], dtype=object)"
      ]
     },
     "execution_count": 746,
     "metadata": {},
     "output_type": "execute_result"
    }
   ],
   "source": [
    "df_7['DistrictHeating_Unit'].unique()"
   ]
  },
  {
   "cell_type": "code",
   "execution_count": 747,
   "id": "602808d8",
   "metadata": {},
   "outputs": [],
   "source": [
    "heat_mapping = {'Giga Joule': 'joule', 'Metric Tonne': 'joule'}\n",
    "df_7['DistrictHeating_Unit'] = df_7['DistrictHeating_Unit'].map(heat_mapping)"
   ]
  },
  {
   "cell_type": "code",
   "execution_count": 748,
   "id": "aa427694",
   "metadata": {},
   "outputs": [],
   "source": [
    "df_7['DistrictHeating_Unit'].fillna('joule', inplace=True)"
   ]
  },
  {
   "cell_type": "code",
   "execution_count": 749,
   "id": "2ac458db",
   "metadata": {},
   "outputs": [
    {
     "data": {
      "text/plain": [
       "array([nan, 'No', 'Yes', 0], dtype=object)"
      ]
     },
     "execution_count": 749,
     "metadata": {},
     "output_type": "execute_result"
    }
   ],
   "source": [
    "df_7['DistrictHeating_IsRenewable'].unique()"
   ]
  },
  {
   "cell_type": "code",
   "execution_count": 750,
   "id": "cd9f0d0a",
   "metadata": {},
   "outputs": [],
   "source": [
    "df_7['DistrictHeating_IsRenewable'].fillna('Yes/No', inplace=True)"
   ]
  },
  {
   "cell_type": "code",
   "execution_count": 751,
   "id": "cd857633",
   "metadata": {},
   "outputs": [
    {
     "data": {
      "text/plain": [
       "array([ 0.  ,  1.  ,   nan, 44.35, 50.58, 47.  ])"
      ]
     },
     "execution_count": 751,
     "metadata": {},
     "output_type": "execute_result"
    }
   ],
   "source": [
    "df_7['DistrictHeating_RenewableEmissionFactor'].unique()"
   ]
  },
  {
   "cell_type": "code",
   "execution_count": 549,
   "id": "8f665481",
   "metadata": {
    "collapsed": true
   },
   "outputs": [
    {
     "data": {
      "text/plain": [
       "DistrictHeating_RenewableEmissionFactor\n",
       "0.00     16017\n",
       "44.35        3\n",
       "50.58        2\n",
       "1.00         1\n",
       "47.00        1\n",
       "Name: count, dtype: int64"
      ]
     },
     "execution_count": 549,
     "metadata": {},
     "output_type": "execute_result"
    }
   ],
   "source": [
    "df_7['DistrictHeating_RenewableEmissionFactor'].value_counts()"
   ]
  },
  {
   "cell_type": "code",
   "execution_count": 752,
   "id": "ff6e5d3c",
   "metadata": {},
   "outputs": [],
   "source": [
    "df_7 = df_7.dropna(subset=['DistrictHeating_RenewableEmissionFactor'])"
   ]
  },
  {
   "cell_type": "code",
   "execution_count": 753,
   "id": "237c31bb",
   "metadata": {
    "collapsed": true
   },
   "outputs": [
    {
     "data": {
      "text/plain": [
       "array([0.00000000e+00, 2.05060000e+01, 1.16676000e+03, 1.69100000e+03,\n",
       "       6.20469500e+02, 4.45582346e+03, 1.33238192e+03, 1.27244812e+03,\n",
       "       1.30926215e+03, 2.68382606e+03, 6.52015120e+02, 6.75000000e+02,\n",
       "       3.50400000e+03, 1.29700000e+03, 2.48132741e+04, 4.97124000e+03,\n",
       "       4.39560000e+02, 1.81059480e+04, 1.06873200e+04, 1.39456400e+04,\n",
       "       7.09926916e+03, 6.56527200e+04, 1.13570911e+03, 1.00327403e+05,\n",
       "       1.31654870e+04, 4.15905535e+03, 1.18440000e+03, 9.05400000e+03,\n",
       "       2.70000000e+03, 3.10000000e+02, 1.48608000e+04, 1.70000000e+02,\n",
       "       7.87000000e+02, 3.96000000e+02, 6.68500000e+03, 8.50000000e+01,\n",
       "       2.24200000e+03, 2.70000000e+02, 1.41900000e+04, 2.25000000e+02,\n",
       "       1.51000000e+02, 6.70000000e+01, 2.31275982e+03, 1.12991000e+03,\n",
       "       9.73000000e+02, 1.51700000e+03, 7.83500000e+03, 2.32100000e+03,\n",
       "       6.72400000e+03, 2.36900000e+03, 3.55000000e+03, 2.27500000e+03,\n",
       "       1.48000000e+03, 2.70700000e+03, 1.71600000e+03, 3.52100000e+03,\n",
       "       2.23200000e+03, 2.38700000e+03, 2.38900000e+03, 2.97300000e+03,\n",
       "       6.41700000e+03, 1.07090000e+04, 3.91200000e+03, 6.64100000e+03,\n",
       "       3.27700000e+03, 2.17000000e+03, 1.44700000e+03, 3.88700000e+03,\n",
       "       4.18200000e+03, 8.17900000e+03, 2.20700000e+03, 7.87800000e+03,\n",
       "       5.13400000e+03, 9.38300000e+03, 1.00900000e+03, 4.49200000e+03,\n",
       "       4.38100000e+03, 3.93700000e+03, 4.20200000e+03, 2.49500000e+03,\n",
       "       2.26200000e+03, 3.17300000e+03, 3.75800000e+03, 3.07300000e+03,\n",
       "       2.61000000e+03, 1.34900000e+03, 3.13300000e+03, 3.36600000e+03,\n",
       "       3.45000000e+02, 1.14200000e+03, 4.50700000e+03, 8.76000000e+02,\n",
       "       3.58600000e+03, 2.34200000e+03, 2.28800000e+03, 2.30600000e+03,\n",
       "       3.88200000e+03, 3.36500000e+03, 2.95600000e+03,            nan])"
      ]
     },
     "execution_count": 753,
     "metadata": {},
     "output_type": "execute_result"
    }
   ],
   "source": [
    "df_7['DistrictCooling_Quantity'].unique()"
   ]
  },
  {
   "cell_type": "code",
   "execution_count": 754,
   "id": "d90e9dac",
   "metadata": {},
   "outputs": [],
   "source": [
    "mean_value = df_7['DistrictCooling_Quantity'].mean()\n",
    "\n",
    "df_7['DistrictCooling_Quantity'].fillna(mean_value, inplace=True)"
   ]
  },
  {
   "cell_type": "code",
   "execution_count": 755,
   "id": "5468aece",
   "metadata": {},
   "outputs": [
    {
     "data": {
      "text/plain": [
       "array([nan, 'Giga Joule', 'KL Chilled Water'], dtype=object)"
      ]
     },
     "execution_count": 755,
     "metadata": {},
     "output_type": "execute_result"
    }
   ],
   "source": [
    "df_7['DistrictCooling_Unit'].unique()"
   ]
  },
  {
   "cell_type": "code",
   "execution_count": 756,
   "id": "4115d6c5",
   "metadata": {},
   "outputs": [],
   "source": [
    "cool_mapping = {'Giga Joule': 'joule','KL Chilled Water': 'joule'}\n",
    "df_7['DistrictCooling_Unit'] = df_7['DistrictCooling_Unit'].map(cool_mapping)"
   ]
  },
  {
   "cell_type": "code",
   "execution_count": 757,
   "id": "8a5f7901",
   "metadata": {},
   "outputs": [],
   "source": [
    "df_7['DistrictCooling_Unit'].fillna('joule', inplace=True)"
   ]
  },
  {
   "cell_type": "code",
   "execution_count": 758,
   "id": "a58ceac9",
   "metadata": {},
   "outputs": [
    {
     "data": {
      "text/plain": [
       "array([nan, 'No', 'Yes'], dtype=object)"
      ]
     },
     "execution_count": 758,
     "metadata": {},
     "output_type": "execute_result"
    }
   ],
   "source": [
    "df_7['DistrictCooling_IsRenewable'].unique()"
   ]
  },
  {
   "cell_type": "code",
   "execution_count": 759,
   "id": "7e5a8bb1",
   "metadata": {},
   "outputs": [],
   "source": [
    "df_7['DistrictCooling_IsRenewable'].fillna('Yes/No', inplace=True)"
   ]
  },
  {
   "cell_type": "code",
   "execution_count": 760,
   "id": "2a80d5d5",
   "metadata": {},
   "outputs": [
    {
     "data": {
      "text/plain": [
       "array([0.        , 3.26205685, 0.06      , 2.78      , 2.12      ,\n",
       "              nan])"
      ]
     },
     "execution_count": 760,
     "metadata": {},
     "output_type": "execute_result"
    }
   ],
   "source": [
    "df_7['DistrictCooling_RenewableEmissionFactor'].unique()"
   ]
  },
  {
   "cell_type": "code",
   "execution_count": 761,
   "id": "eb8d2e00",
   "metadata": {
    "collapsed": true
   },
   "outputs": [
    {
     "data": {
      "text/plain": [
       "DistrictCooling_RenewableEmissionFactor\n",
       "0.000000    16015\n",
       "2.780000        3\n",
       "0.060000        2\n",
       "2.120000        2\n",
       "3.262057        1\n",
       "Name: count, dtype: int64"
      ]
     },
     "execution_count": 761,
     "metadata": {},
     "output_type": "execute_result"
    }
   ],
   "source": [
    "df_7['DistrictCooling_RenewableEmissionFactor'].value_counts()"
   ]
  },
  {
   "cell_type": "code",
   "execution_count": 762,
   "id": "5fc106fd",
   "metadata": {},
   "outputs": [],
   "source": [
    "df_7 = df_7.dropna(subset=['DistrictCooling_RenewableEmissionFactor'])"
   ]
  },
  {
   "cell_type": "code",
   "execution_count": 763,
   "id": "2fa2c750",
   "metadata": {},
   "outputs": [
    {
     "data": {
      "text/plain": [
       "array([888399.64390052, 270965.739786  ,  54147.817427  , ...,\n",
       "       321425.0234176 , 547021.4176292 ,  81940.013768  ])"
      ]
     },
     "execution_count": 763,
     "metadata": {},
     "output_type": "execute_result"
    }
   ],
   "source": [
    "df_7['GHG Emissions KG'].unique()"
   ]
  },
  {
   "cell_type": "code",
   "execution_count": 764,
   "id": "39868053",
   "metadata": {},
   "outputs": [],
   "source": [
    "df_7 = df_7.dropna(subset=['GHG Emissions KG'])"
   ]
  },
  {
   "cell_type": "code",
   "execution_count": 765,
   "id": "9cce991c",
   "metadata": {},
   "outputs": [
    {
     "data": {
      "text/plain": [
       "array([  0.        , 110.21618875, 823.15857588, ...,  49.22582666,\n",
       "       120.64068726, 245.1958739 ])"
      ]
     },
     "execution_count": 765,
     "metadata": {},
     "output_type": "execute_result"
    }
   ],
   "source": [
    "df_7['Energy Intensity ekWh_mega_litre'].unique()"
   ]
  },
  {
   "cell_type": "code",
   "execution_count": 766,
   "id": "b0d71886",
   "metadata": {},
   "outputs": [],
   "source": [
    "df_7 = df_7.dropna(subset=['Energy Intensity ekWh_mega_litre'])"
   ]
  },
  {
   "cell_type": "code",
   "execution_count": 767,
   "id": "0264ad2c",
   "metadata": {},
   "outputs": [
    {
     "data": {
      "text/plain": [
       "array([2.81661102, 0.62331742, 0.85510626, ..., 1.30876853, 1.29011856,\n",
       "       1.15063659])"
      ]
     },
     "execution_count": 767,
     "metadata": {},
     "output_type": "execute_result"
    }
   ],
   "source": [
    "df_7['Energy Intensity GJ_m2'].unique()"
   ]
  },
  {
   "cell_type": "code",
   "execution_count": 768,
   "id": "96df9a9b",
   "metadata": {},
   "outputs": [],
   "source": [
    "mean_value = df_7['Energy Intensity GJ_m2'].mean()\n",
    "\n",
    "df_7['Energy Intensity GJ_m2'].fillna(mean_value, inplace=True)"
   ]
  },
  {
   "cell_type": "code",
   "execution_count": 769,
   "id": "7c1755f4",
   "metadata": {},
   "outputs": [
    {
     "data": {
      "text/plain": [
       "array([0.        , 0.39677829, 2.96337098, ..., 0.17721298, 0.43430647,\n",
       "       0.88270515])"
      ]
     },
     "execution_count": 769,
     "metadata": {},
     "output_type": "execute_result"
    }
   ],
   "source": [
    "df_7['Energy Intensity GJ_mega_litre'].unique()"
   ]
  },
  {
   "cell_type": "code",
   "execution_count": 770,
   "id": "bf87b527",
   "metadata": {},
   "outputs": [],
   "source": [
    "mean_value = df_7['Energy Intensity GJ_mega_litre'].mean()\n",
    "\n",
    "df_7['Energy Intensity GJ_mega_litre'].fillna(mean_value, inplace=True)"
   ]
  },
  {
   "cell_type": "code",
   "execution_count": 771,
   "id": "65df3b5d",
   "metadata": {
    "collapsed": true
   },
   "outputs": [
    {
     "data": {
      "text/plain": [
       "Sector                                     0\n",
       "SubSector                                  0\n",
       "Organization                               0\n",
       "Operation                                  0\n",
       "Operation Type                             0\n",
       "Address                                    0\n",
       "City                                       0\n",
       "Postal Code                                0\n",
       "Total Indoor Space_x                       0\n",
       "Unit of Measure                            0\n",
       "Weekly Average Hours                       0\n",
       "Annual Flow (M                             0\n",
       "Number of Portables                        0\n",
       "Swimming Pool                              0\n",
       "Electricity_Quantity                       0\n",
       "Electricity_Unit                           0\n",
       "NaturalGas_Quantity                        0\n",
       "NaturalGas_Unit                            0\n",
       "FuelOil12_Quantity                         0\n",
       "FuelOil12_Unit                             0\n",
       "FuelOil46_Quantity                         0\n",
       "FuelOil46_Unit                             0\n",
       "Propane_Quantity                           0\n",
       "Propane_Unit                               0\n",
       "Coal_Quantity                              0\n",
       "Coal_Unit                                  0\n",
       "Wood_Quantity                              0\n",
       "Wood_Unit                                  0\n",
       "DistrictHeating_Quantity                   0\n",
       "DistrictHeating_Unit                       0\n",
       "DistrictHeating_IsRenewable                0\n",
       "DistrictHeating_RenewableEmissionFactor    0\n",
       "DistrictCooling_Quantity                   0\n",
       "DistrictCooling_Unit                       0\n",
       "DistrictCooling_IsRenewable                0\n",
       "DistrictCooling_RenewableEmissionFactor    0\n",
       "GHG Emissions KG                           0\n",
       "Energy Intensity ekWh_sqft                 0\n",
       "Energy Intensity ekWh_mega_litre           0\n",
       "Energy Intensity GJ_m2                     0\n",
       "Energy Intensity GJ_mega_litre             0\n",
       "dtype: int64"
      ]
     },
     "execution_count": 771,
     "metadata": {},
     "output_type": "execute_result"
    }
   ],
   "source": [
    "df_7.isnull().sum()"
   ]
  },
  {
   "cell_type": "code",
   "execution_count": 1148,
   "id": "fbdaf857",
   "metadata": {
    "collapsed": true
   },
   "outputs": [
    {
     "data": {
      "text/plain": [
       "Sector                                      object\n",
       "SubSector                                   object\n",
       "Organization                                object\n",
       "Operation                                   object\n",
       "Operation Type                              object\n",
       "Address                                     object\n",
       "City                                        object\n",
       "Postal Code                                 object\n",
       "Total Indoor Space_x                       float64\n",
       "Unit of Measure                             object\n",
       "Weekly Average Hours                       float64\n",
       "Annual Flow (M                             float64\n",
       "Number of Portables                          int64\n",
       "Swimming Pool                               object\n",
       "Electricity_Quantity                       float64\n",
       "Electricity_Unit                            object\n",
       "NaturalGas_Quantity                        float64\n",
       "NaturalGas_Unit                             object\n",
       "FuelOil12_Quantity                         float64\n",
       "FuelOil12_Unit                              object\n",
       "FuelOil46_Quantity                         float64\n",
       "FuelOil46_Unit                              object\n",
       "Propane_Quantity                           float64\n",
       "Propane_Unit                                object\n",
       "Coal_Quantity                              float64\n",
       "Coal_Unit                                   object\n",
       "Wood_Quantity                              float64\n",
       "Wood_Unit                                   object\n",
       "DistrictHeating_Quantity                   float64\n",
       "DistrictHeating_Unit                        object\n",
       "DistrictHeating_IsRenewable                 object\n",
       "DistrictHeating_RenewableEmissionFactor    float64\n",
       "DistrictCooling_Quantity                   float64\n",
       "DistrictCooling_Unit                        object\n",
       "DistrictCooling_IsRenewable                 object\n",
       "DistrictCooling_RenewableEmissionFactor    float64\n",
       "GHG Emissions KG                           float64\n",
       "Energy Intensity ekWh_sqft                 float64\n",
       "Energy Intensity ekWh_mega_litre           float64\n",
       "Energy Intensity GJ_m2                     float64\n",
       "Energy Intensity GJ_mega_litre             float64\n",
       "dtype: object"
      ]
     },
     "execution_count": 1148,
     "metadata": {},
     "output_type": "execute_result"
    }
   ],
   "source": [
    "df_7.dtypes"
   ]
  },
  {
   "cell_type": "code",
   "execution_count": 1182,
   "id": "ad47e7e6",
   "metadata": {},
   "outputs": [],
   "source": [
    "column_mapping7 = {'Sector': 'Sector', 'SubSector': 'SubSector', 'Organization': 'Organization', 'Operation': 'Operation',\n",
    "                 'Operation Type': 'Operation Type', 'Address': 'Address', 'City': 'City', 'Postal Code': 'Postal Code', 'Total Indoor Space_x': 'Total Indoor Space_x',\n",
    "                 'Unit of Measure': 'Unit of Measure', 'Weekly Average Hours': 'Weekly Average Hours', 'Annual Flow (M': 'Annual Flow (M)', 'Number of Portables': 'Number of Portables',\n",
    "                 'Swimming Pool': 'Swimming Pool', 'Electricity_Quantity': 'Electricity_Quantity', 'Electricity_Unit': 'Electricity_Unit', 'NaturalGas_Quantity': 'NaturalGas_Quantity',\n",
    "                 'NaturalGas_Unit': 'NaturalGas_Unit', 'FuelOil12_Quantity': 'FuelOil12_Quantity', 'FuelOil12_Unit': 'FuelOil12_Unit', 'FuelOil46_Quantity': 'FuelOil46_Quantity',\n",
    "                 'FuelOil46_Unit': 'FuelOil46_Unit', 'Propane_Quantity': 'Propane_Quantity', 'Propane_Unit': 'Propane_Unit', 'Coal_Quantity': 'Coal_Quantity',\n",
    "                 'Coal_Unit': 'Coal_Unit', 'Wood_Quantity': 'Wood_Quantity', 'Wood_Unit': 'Wood_Unit', 'DistrictHeating_Quantity': 'DistrictHeating_Quantity', 'DistrictHeating_Unit': 'DistrictHeating_Unit',\n",
    "                 'DistrictHeating_IsRenewable': 'DistrictHeating_IsRenewable', 'DistrictHeating_RenewableEmissionFactor': 'DistrictHeating_RenewableEmissionFactor','DistrictCooling_Quantity': 'DistrictCooling_Quantity',\n",
    "                 'DistrictCooling_Unit': 'DistrictCooling_Unit', 'DistrictCooling_IsRenewable': 'DistrictCooling_IsRenewable', 'DistrictCooling_RenewableEmissionFactor': 'DistrictCooling_RenewableEmissionFactor',\n",
    "                 'GHG Emissions KG': 'GHG Emissions KG', 'Energy Intensity ekWh_sqft': 'Energy Intensity ekWh_sqft', 'Energy Intensity ekWh_mega_litre': 'Energy Intensity ekWh_mega_litre',\n",
    "                 'Energy Intensity GJ_m2': 'Energy Intensity GJ_m2', 'Energy Intensity GJ_mega_litre': 'Energy Intensity GJ_mega_litre'}\n"
   ]
  },
  {
   "cell_type": "code",
   "execution_count": 1183,
   "id": "145fb818",
   "metadata": {},
   "outputs": [],
   "source": [
    "df_7.rename(columns=column_mapping7, inplace=True)"
   ]
  },
  {
   "cell_type": "code",
   "execution_count": 1184,
   "id": "494562c9",
   "metadata": {},
   "outputs": [
    {
     "data": {
      "text/plain": [
       "Index(['Sector', 'SubSector', 'Organization', 'Operation', 'Operation Type',\n",
       "       'Address', 'City', 'Postal Code', 'Total Indoor Space_x',\n",
       "       'Unit of Measure', 'Weekly Average Hours', 'Annual Flow (M)',\n",
       "       'Number of Portables', 'Swimming Pool', 'Electricity_Quantity',\n",
       "       'Electricity_Unit', 'NaturalGas_Quantity', 'NaturalGas_Unit',\n",
       "       'FuelOil12_Quantity', 'FuelOil12_Unit', 'FuelOil46_Quantity',\n",
       "       'FuelOil46_Unit', 'Propane_Quantity', 'Propane_Unit', 'Coal_Quantity',\n",
       "       'Coal_Unit', 'Wood_Quantity', 'Wood_Unit', 'DistrictHeating_Quantity',\n",
       "       'DistrictHeating_Unit', 'DistrictHeating_IsRenewable',\n",
       "       'DistrictHeating_RenewableEmissionFactor', 'DistrictCooling_Quantity',\n",
       "       'DistrictCooling_Unit', 'DistrictCooling_IsRenewable',\n",
       "       'DistrictCooling_RenewableEmissionFactor', 'GHG Emissions KG',\n",
       "       'Energy Intensity ekWh_sqft', 'Energy Intensity ekWh_mega_litre',\n",
       "       'Energy Intensity GJ_m2', 'Energy Intensity GJ_mega_litre'],\n",
       "      dtype='object')"
      ]
     },
     "execution_count": 1184,
     "metadata": {},
     "output_type": "execute_result"
    }
   ],
   "source": [
    "df_7.columns"
   ]
  },
  {
   "cell_type": "code",
   "execution_count": 1185,
   "id": "50542db9",
   "metadata": {
    "collapsed": true
   },
   "outputs": [
    {
     "data": {
      "text/html": [
       "<div>\n",
       "<style scoped>\n",
       "    .dataframe tbody tr th:only-of-type {\n",
       "        vertical-align: middle;\n",
       "    }\n",
       "\n",
       "    .dataframe tbody tr th {\n",
       "        vertical-align: top;\n",
       "    }\n",
       "\n",
       "    .dataframe thead th {\n",
       "        text-align: right;\n",
       "    }\n",
       "</style>\n",
       "<table border=\"1\" class=\"dataframe\">\n",
       "  <thead>\n",
       "    <tr style=\"text-align: right;\">\n",
       "      <th></th>\n",
       "      <th>Sector</th>\n",
       "      <th>SubSector</th>\n",
       "      <th>Organization</th>\n",
       "      <th>Operation</th>\n",
       "      <th>Operation Type</th>\n",
       "      <th>Address</th>\n",
       "      <th>City</th>\n",
       "      <th>Postal Code</th>\n",
       "      <th>Total Indoor Space_x</th>\n",
       "      <th>Unit of Measure</th>\n",
       "      <th>...</th>\n",
       "      <th>DistrictHeating_RenewableEmissionFactor</th>\n",
       "      <th>DistrictCooling_Quantity</th>\n",
       "      <th>DistrictCooling_Unit</th>\n",
       "      <th>DistrictCooling_IsRenewable</th>\n",
       "      <th>DistrictCooling_RenewableEmissionFactor</th>\n",
       "      <th>GHG Emissions KG</th>\n",
       "      <th>Energy Intensity ekWh_sqft</th>\n",
       "      <th>Energy Intensity ekWh_mega_litre</th>\n",
       "      <th>Energy Intensity GJ_m2</th>\n",
       "      <th>Energy Intensity GJ_mega_litre</th>\n",
       "    </tr>\n",
       "  </thead>\n",
       "  <tbody>\n",
       "    <tr>\n",
       "      <th>0</th>\n",
       "      <td>Public Hospital</td>\n",
       "      <td>Acute/Chronic Hospital</td>\n",
       "      <td>Alexandra Hospital</td>\n",
       "      <td>Alexandra Hospital, Ingersoll</td>\n",
       "      <td>Facilities used for hospital purposes</td>\n",
       "      <td>29 Noxon Street</td>\n",
       "      <td>Ingersoll</td>\n",
       "      <td>N5C 3V6</td>\n",
       "      <td>8474.0</td>\n",
       "      <td>Square meters</td>\n",
       "      <td>...</td>\n",
       "      <td>0.0</td>\n",
       "      <td>0.0</td>\n",
       "      <td>joule</td>\n",
       "      <td>Yes/No</td>\n",
       "      <td>0.0</td>\n",
       "      <td>888399.643901</td>\n",
       "      <td>72.686736</td>\n",
       "      <td>0.0</td>\n",
       "      <td>2.816611</td>\n",
       "      <td>0.0</td>\n",
       "    </tr>\n",
       "    <tr>\n",
       "      <th>1</th>\n",
       "      <td>School Board</td>\n",
       "      <td>School Board</td>\n",
       "      <td>Algoma District School Board</td>\n",
       "      <td>Adult Ed/Con Ed - (Alex Henry)</td>\n",
       "      <td>School</td>\n",
       "      <td>232 Northern Ave E</td>\n",
       "      <td>Sault Ste. Marie</td>\n",
       "      <td>P6B4H6</td>\n",
       "      <td>130923.0</td>\n",
       "      <td>Square meters</td>\n",
       "      <td>...</td>\n",
       "      <td>0.0</td>\n",
       "      <td>0.0</td>\n",
       "      <td>joule</td>\n",
       "      <td>Yes/No</td>\n",
       "      <td>0.0</td>\n",
       "      <td>270965.739786</td>\n",
       "      <td>16.085611</td>\n",
       "      <td>0.0</td>\n",
       "      <td>0.623317</td>\n",
       "      <td>0.0</td>\n",
       "    </tr>\n",
       "    <tr>\n",
       "      <th>2</th>\n",
       "      <td>School Board</td>\n",
       "      <td>School Board</td>\n",
       "      <td>Algoma District School Board</td>\n",
       "      <td>Adult Ed/Co-op (former SF Howe)</td>\n",
       "      <td>School</td>\n",
       "      <td>440 Northland Road</td>\n",
       "      <td>Sault Ste. Marie</td>\n",
       "      <td>P6C3N6</td>\n",
       "      <td>17776.0</td>\n",
       "      <td>Square meters</td>\n",
       "      <td>...</td>\n",
       "      <td>0.0</td>\n",
       "      <td>0.0</td>\n",
       "      <td>joule</td>\n",
       "      <td>Yes/No</td>\n",
       "      <td>0.0</td>\n",
       "      <td>54147.817427</td>\n",
       "      <td>22.067258</td>\n",
       "      <td>0.0</td>\n",
       "      <td>0.855106</td>\n",
       "      <td>0.0</td>\n",
       "    </tr>\n",
       "    <tr>\n",
       "      <th>3</th>\n",
       "      <td>School Board</td>\n",
       "      <td>School Board</td>\n",
       "      <td>Algoma District School Board</td>\n",
       "      <td>Blind River PS</td>\n",
       "      <td>School</td>\n",
       "      <td>19 Hanes Ave</td>\n",
       "      <td>Blind River</td>\n",
       "      <td>P0R 1B0</td>\n",
       "      <td>48226.0</td>\n",
       "      <td>Square meters</td>\n",
       "      <td>...</td>\n",
       "      <td>0.0</td>\n",
       "      <td>0.0</td>\n",
       "      <td>joule</td>\n",
       "      <td>Yes/No</td>\n",
       "      <td>0.0</td>\n",
       "      <td>142790.154462</td>\n",
       "      <td>19.187774</td>\n",
       "      <td>0.0</td>\n",
       "      <td>0.743526</td>\n",
       "      <td>0.0</td>\n",
       "    </tr>\n",
       "    <tr>\n",
       "      <th>4</th>\n",
       "      <td>School Board</td>\n",
       "      <td>School Board</td>\n",
       "      <td>Algoma District School Board</td>\n",
       "      <td>Central Algoma SS</td>\n",
       "      <td>School</td>\n",
       "      <td>32 Kensington Rd</td>\n",
       "      <td>Desbarats</td>\n",
       "      <td>P0R 1E0</td>\n",
       "      <td>131114.0</td>\n",
       "      <td>Square meters</td>\n",
       "      <td>...</td>\n",
       "      <td>0.0</td>\n",
       "      <td>0.0</td>\n",
       "      <td>joule</td>\n",
       "      <td>Yes/No</td>\n",
       "      <td>0.0</td>\n",
       "      <td>185636.636634</td>\n",
       "      <td>14.055774</td>\n",
       "      <td>0.0</td>\n",
       "      <td>0.544661</td>\n",
       "      <td>0.0</td>\n",
       "    </tr>\n",
       "  </tbody>\n",
       "</table>\n",
       "<p>5 rows × 41 columns</p>\n",
       "</div>"
      ],
      "text/plain": [
       "            Sector               SubSector                  Organization  \\\n",
       "0  Public Hospital  Acute/Chronic Hospital            Alexandra Hospital   \n",
       "1     School Board            School Board  Algoma District School Board   \n",
       "2     School Board            School Board  Algoma District School Board   \n",
       "3     School Board            School Board  Algoma District School Board   \n",
       "4     School Board            School Board  Algoma District School Board   \n",
       "\n",
       "                         Operation                         Operation Type  \\\n",
       "0    Alexandra Hospital, Ingersoll  Facilities used for hospital purposes   \n",
       "1   Adult Ed/Con Ed - (Alex Henry)                                 School   \n",
       "2  Adult Ed/Co-op (former SF Howe)                                 School   \n",
       "3                   Blind River PS                                 School   \n",
       "4                Central Algoma SS                                 School   \n",
       "\n",
       "              Address              City Postal Code  Total Indoor Space_x  \\\n",
       "0     29 Noxon Street         Ingersoll     N5C 3V6                8474.0   \n",
       "1  232 Northern Ave E  Sault Ste. Marie      P6B4H6              130923.0   \n",
       "2  440 Northland Road  Sault Ste. Marie      P6C3N6               17776.0   \n",
       "3        19 Hanes Ave       Blind River     P0R 1B0               48226.0   \n",
       "4    32 Kensington Rd         Desbarats     P0R 1E0              131114.0   \n",
       "\n",
       "  Unit of Measure  ...  DistrictHeating_RenewableEmissionFactor  \\\n",
       "0   Square meters  ...                                      0.0   \n",
       "1   Square meters  ...                                      0.0   \n",
       "2   Square meters  ...                                      0.0   \n",
       "3   Square meters  ...                                      0.0   \n",
       "4   Square meters  ...                                      0.0   \n",
       "\n",
       "   DistrictCooling_Quantity  DistrictCooling_Unit DistrictCooling_IsRenewable  \\\n",
       "0                       0.0                 joule                      Yes/No   \n",
       "1                       0.0                 joule                      Yes/No   \n",
       "2                       0.0                 joule                      Yes/No   \n",
       "3                       0.0                 joule                      Yes/No   \n",
       "4                       0.0                 joule                      Yes/No   \n",
       "\n",
       "   DistrictCooling_RenewableEmissionFactor GHG Emissions KG  \\\n",
       "0                                      0.0    888399.643901   \n",
       "1                                      0.0    270965.739786   \n",
       "2                                      0.0     54147.817427   \n",
       "3                                      0.0    142790.154462   \n",
       "4                                      0.0    185636.636634   \n",
       "\n",
       "   Energy Intensity ekWh_sqft Energy Intensity ekWh_mega_litre  \\\n",
       "0                   72.686736                              0.0   \n",
       "1                   16.085611                              0.0   \n",
       "2                   22.067258                              0.0   \n",
       "3                   19.187774                              0.0   \n",
       "4                   14.055774                              0.0   \n",
       "\n",
       "   Energy Intensity GJ_m2 Energy Intensity GJ_mega_litre  \n",
       "0                2.816611                            0.0  \n",
       "1                0.623317                            0.0  \n",
       "2                0.855106                            0.0  \n",
       "3                0.743526                            0.0  \n",
       "4                0.544661                            0.0  \n",
       "\n",
       "[5 rows x 41 columns]"
      ]
     },
     "execution_count": 1185,
     "metadata": {},
     "output_type": "execute_result"
    }
   ],
   "source": [
    "df_7.head()"
   ]
  },
  {
   "cell_type": "code",
   "execution_count": 1210,
   "id": "19b72837",
   "metadata": {},
   "outputs": [],
   "source": [
    "df_7.insert(0, 'Year', 2018)"
   ]
  },
  {
   "cell_type": "code",
   "execution_count": 1211,
   "id": "b7f03ccf",
   "metadata": {
    "collapsed": true
   },
   "outputs": [
    {
     "data": {
      "text/html": [
       "<div>\n",
       "<style scoped>\n",
       "    .dataframe tbody tr th:only-of-type {\n",
       "        vertical-align: middle;\n",
       "    }\n",
       "\n",
       "    .dataframe tbody tr th {\n",
       "        vertical-align: top;\n",
       "    }\n",
       "\n",
       "    .dataframe thead th {\n",
       "        text-align: right;\n",
       "    }\n",
       "</style>\n",
       "<table border=\"1\" class=\"dataframe\">\n",
       "  <thead>\n",
       "    <tr style=\"text-align: right;\">\n",
       "      <th></th>\n",
       "      <th>Year</th>\n",
       "      <th>Sector</th>\n",
       "      <th>SubSector</th>\n",
       "      <th>Organization</th>\n",
       "      <th>Operation</th>\n",
       "      <th>Operation Type</th>\n",
       "      <th>Address</th>\n",
       "      <th>City</th>\n",
       "      <th>Postal Code</th>\n",
       "      <th>Total Indoor Space_x</th>\n",
       "      <th>...</th>\n",
       "      <th>DistrictHeating_RenewableEmissionFactor</th>\n",
       "      <th>DistrictCooling_Quantity</th>\n",
       "      <th>DistrictCooling_Unit</th>\n",
       "      <th>DistrictCooling_IsRenewable</th>\n",
       "      <th>DistrictCooling_RenewableEmissionFactor</th>\n",
       "      <th>GHG Emissions KG</th>\n",
       "      <th>Energy Intensity ekWh_sqft</th>\n",
       "      <th>Energy Intensity ekWh_mega_litre</th>\n",
       "      <th>Energy Intensity GJ_m2</th>\n",
       "      <th>Energy Intensity GJ_mega_litre</th>\n",
       "    </tr>\n",
       "  </thead>\n",
       "  <tbody>\n",
       "    <tr>\n",
       "      <th>0</th>\n",
       "      <td>2018</td>\n",
       "      <td>Public Hospital</td>\n",
       "      <td>Acute/Chronic Hospital</td>\n",
       "      <td>Alexandra Hospital</td>\n",
       "      <td>Alexandra Hospital, Ingersoll</td>\n",
       "      <td>Facilities used for hospital purposes</td>\n",
       "      <td>29 Noxon Street</td>\n",
       "      <td>Ingersoll</td>\n",
       "      <td>N5C 3V6</td>\n",
       "      <td>8474.0</td>\n",
       "      <td>...</td>\n",
       "      <td>0.0</td>\n",
       "      <td>0.0</td>\n",
       "      <td>joule</td>\n",
       "      <td>Yes/No</td>\n",
       "      <td>0.0</td>\n",
       "      <td>888399.643901</td>\n",
       "      <td>72.686736</td>\n",
       "      <td>0.0</td>\n",
       "      <td>2.816611</td>\n",
       "      <td>0.0</td>\n",
       "    </tr>\n",
       "    <tr>\n",
       "      <th>1</th>\n",
       "      <td>2018</td>\n",
       "      <td>School Board</td>\n",
       "      <td>School Board</td>\n",
       "      <td>Algoma District School Board</td>\n",
       "      <td>Adult Ed/Con Ed - (Alex Henry)</td>\n",
       "      <td>School</td>\n",
       "      <td>232 Northern Ave E</td>\n",
       "      <td>Sault Ste. Marie</td>\n",
       "      <td>P6B4H6</td>\n",
       "      <td>130923.0</td>\n",
       "      <td>...</td>\n",
       "      <td>0.0</td>\n",
       "      <td>0.0</td>\n",
       "      <td>joule</td>\n",
       "      <td>Yes/No</td>\n",
       "      <td>0.0</td>\n",
       "      <td>270965.739786</td>\n",
       "      <td>16.085611</td>\n",
       "      <td>0.0</td>\n",
       "      <td>0.623317</td>\n",
       "      <td>0.0</td>\n",
       "    </tr>\n",
       "    <tr>\n",
       "      <th>2</th>\n",
       "      <td>2018</td>\n",
       "      <td>School Board</td>\n",
       "      <td>School Board</td>\n",
       "      <td>Algoma District School Board</td>\n",
       "      <td>Adult Ed/Co-op (former SF Howe)</td>\n",
       "      <td>School</td>\n",
       "      <td>440 Northland Road</td>\n",
       "      <td>Sault Ste. Marie</td>\n",
       "      <td>P6C3N6</td>\n",
       "      <td>17776.0</td>\n",
       "      <td>...</td>\n",
       "      <td>0.0</td>\n",
       "      <td>0.0</td>\n",
       "      <td>joule</td>\n",
       "      <td>Yes/No</td>\n",
       "      <td>0.0</td>\n",
       "      <td>54147.817427</td>\n",
       "      <td>22.067258</td>\n",
       "      <td>0.0</td>\n",
       "      <td>0.855106</td>\n",
       "      <td>0.0</td>\n",
       "    </tr>\n",
       "    <tr>\n",
       "      <th>3</th>\n",
       "      <td>2018</td>\n",
       "      <td>School Board</td>\n",
       "      <td>School Board</td>\n",
       "      <td>Algoma District School Board</td>\n",
       "      <td>Blind River PS</td>\n",
       "      <td>School</td>\n",
       "      <td>19 Hanes Ave</td>\n",
       "      <td>Blind River</td>\n",
       "      <td>P0R 1B0</td>\n",
       "      <td>48226.0</td>\n",
       "      <td>...</td>\n",
       "      <td>0.0</td>\n",
       "      <td>0.0</td>\n",
       "      <td>joule</td>\n",
       "      <td>Yes/No</td>\n",
       "      <td>0.0</td>\n",
       "      <td>142790.154462</td>\n",
       "      <td>19.187774</td>\n",
       "      <td>0.0</td>\n",
       "      <td>0.743526</td>\n",
       "      <td>0.0</td>\n",
       "    </tr>\n",
       "    <tr>\n",
       "      <th>4</th>\n",
       "      <td>2018</td>\n",
       "      <td>School Board</td>\n",
       "      <td>School Board</td>\n",
       "      <td>Algoma District School Board</td>\n",
       "      <td>Central Algoma SS</td>\n",
       "      <td>School</td>\n",
       "      <td>32 Kensington Rd</td>\n",
       "      <td>Desbarats</td>\n",
       "      <td>P0R 1E0</td>\n",
       "      <td>131114.0</td>\n",
       "      <td>...</td>\n",
       "      <td>0.0</td>\n",
       "      <td>0.0</td>\n",
       "      <td>joule</td>\n",
       "      <td>Yes/No</td>\n",
       "      <td>0.0</td>\n",
       "      <td>185636.636634</td>\n",
       "      <td>14.055774</td>\n",
       "      <td>0.0</td>\n",
       "      <td>0.544661</td>\n",
       "      <td>0.0</td>\n",
       "    </tr>\n",
       "  </tbody>\n",
       "</table>\n",
       "<p>5 rows × 42 columns</p>\n",
       "</div>"
      ],
      "text/plain": [
       "   Year           Sector               SubSector  \\\n",
       "0  2018  Public Hospital  Acute/Chronic Hospital   \n",
       "1  2018     School Board            School Board   \n",
       "2  2018     School Board            School Board   \n",
       "3  2018     School Board            School Board   \n",
       "4  2018     School Board            School Board   \n",
       "\n",
       "                   Organization                        Operation  \\\n",
       "0            Alexandra Hospital    Alexandra Hospital, Ingersoll   \n",
       "1  Algoma District School Board   Adult Ed/Con Ed - (Alex Henry)   \n",
       "2  Algoma District School Board  Adult Ed/Co-op (former SF Howe)   \n",
       "3  Algoma District School Board                   Blind River PS   \n",
       "4  Algoma District School Board                Central Algoma SS   \n",
       "\n",
       "                          Operation Type             Address  \\\n",
       "0  Facilities used for hospital purposes     29 Noxon Street   \n",
       "1                                 School  232 Northern Ave E   \n",
       "2                                 School  440 Northland Road   \n",
       "3                                 School        19 Hanes Ave   \n",
       "4                                 School    32 Kensington Rd   \n",
       "\n",
       "               City Postal Code  Total Indoor Space_x  ...  \\\n",
       "0         Ingersoll     N5C 3V6                8474.0  ...   \n",
       "1  Sault Ste. Marie      P6B4H6              130923.0  ...   \n",
       "2  Sault Ste. Marie      P6C3N6               17776.0  ...   \n",
       "3       Blind River     P0R 1B0               48226.0  ...   \n",
       "4         Desbarats     P0R 1E0              131114.0  ...   \n",
       "\n",
       "  DistrictHeating_RenewableEmissionFactor  DistrictCooling_Quantity  \\\n",
       "0                                     0.0                       0.0   \n",
       "1                                     0.0                       0.0   \n",
       "2                                     0.0                       0.0   \n",
       "3                                     0.0                       0.0   \n",
       "4                                     0.0                       0.0   \n",
       "\n",
       "   DistrictCooling_Unit  DistrictCooling_IsRenewable  \\\n",
       "0                 joule                       Yes/No   \n",
       "1                 joule                       Yes/No   \n",
       "2                 joule                       Yes/No   \n",
       "3                 joule                       Yes/No   \n",
       "4                 joule                       Yes/No   \n",
       "\n",
       "  DistrictCooling_RenewableEmissionFactor  GHG Emissions KG  \\\n",
       "0                                     0.0     888399.643901   \n",
       "1                                     0.0     270965.739786   \n",
       "2                                     0.0      54147.817427   \n",
       "3                                     0.0     142790.154462   \n",
       "4                                     0.0     185636.636634   \n",
       "\n",
       "  Energy Intensity ekWh_sqft  Energy Intensity ekWh_mega_litre  \\\n",
       "0                  72.686736                               0.0   \n",
       "1                  16.085611                               0.0   \n",
       "2                  22.067258                               0.0   \n",
       "3                  19.187774                               0.0   \n",
       "4                  14.055774                               0.0   \n",
       "\n",
       "  Energy Intensity GJ_m2  Energy Intensity GJ_mega_litre  \n",
       "0               2.816611                             0.0  \n",
       "1               0.623317                             0.0  \n",
       "2               0.855106                             0.0  \n",
       "3               0.743526                             0.0  \n",
       "4               0.544661                             0.0  \n",
       "\n",
       "[5 rows x 42 columns]"
      ]
     },
     "execution_count": 1211,
     "metadata": {},
     "output_type": "execute_result"
    }
   ],
   "source": [
    "df_7.head()"
   ]
  },
  {
   "cell_type": "markdown",
   "id": "92b10830",
   "metadata": {},
   "source": [
    "# Datas for 2019"
   ]
  },
  {
   "cell_type": "code",
   "execution_count": 1069,
   "id": "0b747b35",
   "metadata": {},
   "outputs": [],
   "source": [
    "df_8 = pd.read_excel('datas/bps_2019_report_english_1.xlsx')"
   ]
  },
  {
   "cell_type": "code",
   "execution_count": 1070,
   "id": "541d400a",
   "metadata": {
    "collapsed": true
   },
   "outputs": [
    {
     "data": {
      "text/html": [
       "<div>\n",
       "<style scoped>\n",
       "    .dataframe tbody tr th:only-of-type {\n",
       "        vertical-align: middle;\n",
       "    }\n",
       "\n",
       "    .dataframe tbody tr th {\n",
       "        vertical-align: top;\n",
       "    }\n",
       "\n",
       "    .dataframe thead th {\n",
       "        text-align: right;\n",
       "    }\n",
       "</style>\n",
       "<table border=\"1\" class=\"dataframe\">\n",
       "  <thead>\n",
       "    <tr style=\"text-align: right;\">\n",
       "      <th></th>\n",
       "      <th>Sector</th>\n",
       "      <th>SubSector</th>\n",
       "      <th>Organization</th>\n",
       "      <th>Operation</th>\n",
       "      <th>Operation Type</th>\n",
       "      <th>Address</th>\n",
       "      <th>City</th>\n",
       "      <th>Postal Code</th>\n",
       "      <th>Total Indoor Space_x</th>\n",
       "      <th>Unit of Measure</th>\n",
       "      <th>...</th>\n",
       "      <th>DistrictHeating_RenewableEmissionFactor</th>\n",
       "      <th>DistrictCooling_Quantity</th>\n",
       "      <th>DistrictCooling_Unit</th>\n",
       "      <th>DistrictCooling_IsRenewable</th>\n",
       "      <th>DistrictCooling_RenewableEmissionFactor</th>\n",
       "      <th>GHG Emissions KG</th>\n",
       "      <th>Energy Intensity ekWh_sqft</th>\n",
       "      <th>Energy Intensity ekWh_mega_litre</th>\n",
       "      <th>Energy Intensity GJ_m2</th>\n",
       "      <th>Energy Intensity GJ_mega_litre</th>\n",
       "    </tr>\n",
       "  </thead>\n",
       "  <tbody>\n",
       "    <tr>\n",
       "      <th>0</th>\n",
       "      <td>Public Hospital</td>\n",
       "      <td>Acute/Chronic Hospital</td>\n",
       "      <td>Alexandra Hospital</td>\n",
       "      <td>Alexandra Hospital, Ingersoll</td>\n",
       "      <td>Facilities used for hospital purposes</td>\n",
       "      <td>29 Noxon Street</td>\n",
       "      <td>Ingersoll</td>\n",
       "      <td>N5C 3V6</td>\n",
       "      <td>8474.00</td>\n",
       "      <td>Square meters</td>\n",
       "      <td>...</td>\n",
       "      <td>0.0</td>\n",
       "      <td>0.0</td>\n",
       "      <td>NaN</td>\n",
       "      <td>NaN</td>\n",
       "      <td>0.0</td>\n",
       "      <td>904038.214491</td>\n",
       "      <td>72.721431</td>\n",
       "      <td>0.0</td>\n",
       "      <td>2.817955</td>\n",
       "      <td>0.0</td>\n",
       "    </tr>\n",
       "    <tr>\n",
       "      <th>1</th>\n",
       "      <td>Public Hospital</td>\n",
       "      <td>Acute/Chronic Hospital</td>\n",
       "      <td>Alexandria Glengarry Memorial Hospital</td>\n",
       "      <td>Glengarry Memorial Hospital</td>\n",
       "      <td>Facilities used for hospital purposes</td>\n",
       "      <td>20260 County Road 43</td>\n",
       "      <td>Alexandria</td>\n",
       "      <td>K0C 1A0</td>\n",
       "      <td>54969.00</td>\n",
       "      <td>Square feet</td>\n",
       "      <td>...</td>\n",
       "      <td>0.0</td>\n",
       "      <td>0.0</td>\n",
       "      <td>NaN</td>\n",
       "      <td>NaN</td>\n",
       "      <td>0.0</td>\n",
       "      <td>483223.250177</td>\n",
       "      <td>50.161246</td>\n",
       "      <td>0.0</td>\n",
       "      <td>1.943748</td>\n",
       "      <td>0.0</td>\n",
       "    </tr>\n",
       "    <tr>\n",
       "      <th>2</th>\n",
       "      <td>School Board</td>\n",
       "      <td>School Board</td>\n",
       "      <td>Algoma District School Board</td>\n",
       "      <td>Alexander Henry HS (now Boreal FI)</td>\n",
       "      <td>School</td>\n",
       "      <td>232 Northern Ave E</td>\n",
       "      <td>Sault Ste. Marie</td>\n",
       "      <td>P6B 4H6</td>\n",
       "      <td>129920.40</td>\n",
       "      <td>Square feet</td>\n",
       "      <td>...</td>\n",
       "      <td>0.0</td>\n",
       "      <td>0.0</td>\n",
       "      <td>NaN</td>\n",
       "      <td>NaN</td>\n",
       "      <td>0.0</td>\n",
       "      <td>320953.238741</td>\n",
       "      <td>13.886762</td>\n",
       "      <td>0.0</td>\n",
       "      <td>0.538112</td>\n",
       "      <td>0.0</td>\n",
       "    </tr>\n",
       "    <tr>\n",
       "      <th>3</th>\n",
       "      <td>School Board</td>\n",
       "      <td>School Board</td>\n",
       "      <td>Algoma District School Board</td>\n",
       "      <td>Anna McCrea PS</td>\n",
       "      <td>School</td>\n",
       "      <td>250 Mark St</td>\n",
       "      <td>Sault Ste. Marie</td>\n",
       "      <td>P6A 3M7</td>\n",
       "      <td>32700.76</td>\n",
       "      <td>Square feet</td>\n",
       "      <td>...</td>\n",
       "      <td>0.0</td>\n",
       "      <td>0.0</td>\n",
       "      <td>NaN</td>\n",
       "      <td>NaN</td>\n",
       "      <td>0.0</td>\n",
       "      <td>89846.250100</td>\n",
       "      <td>18.920321</td>\n",
       "      <td>0.0</td>\n",
       "      <td>0.733162</td>\n",
       "      <td>0.0</td>\n",
       "    </tr>\n",
       "    <tr>\n",
       "      <th>4</th>\n",
       "      <td>School Board</td>\n",
       "      <td>School Board</td>\n",
       "      <td>Algoma District School Board</td>\n",
       "      <td>Arthur Henderson PS</td>\n",
       "      <td>School</td>\n",
       "      <td>2 Henderson Lane</td>\n",
       "      <td>Bruce Mines</td>\n",
       "      <td>P0R 1C0</td>\n",
       "      <td>24810.81</td>\n",
       "      <td>Square feet</td>\n",
       "      <td>...</td>\n",
       "      <td>0.0</td>\n",
       "      <td>0.0</td>\n",
       "      <td>NaN</td>\n",
       "      <td>NaN</td>\n",
       "      <td>0.0</td>\n",
       "      <td>80322.730478</td>\n",
       "      <td>20.695796</td>\n",
       "      <td>0.0</td>\n",
       "      <td>0.801962</td>\n",
       "      <td>0.0</td>\n",
       "    </tr>\n",
       "  </tbody>\n",
       "</table>\n",
       "<p>5 rows × 41 columns</p>\n",
       "</div>"
      ],
      "text/plain": [
       "            Sector               SubSector  \\\n",
       "0  Public Hospital  Acute/Chronic Hospital   \n",
       "1  Public Hospital  Acute/Chronic Hospital   \n",
       "2     School Board            School Board   \n",
       "3     School Board            School Board   \n",
       "4     School Board            School Board   \n",
       "\n",
       "                             Organization                           Operation  \\\n",
       "0                      Alexandra Hospital       Alexandra Hospital, Ingersoll   \n",
       "1  Alexandria Glengarry Memorial Hospital         Glengarry Memorial Hospital   \n",
       "2            Algoma District School Board  Alexander Henry HS (now Boreal FI)   \n",
       "3            Algoma District School Board                      Anna McCrea PS   \n",
       "4            Algoma District School Board                 Arthur Henderson PS   \n",
       "\n",
       "                          Operation Type               Address  \\\n",
       "0  Facilities used for hospital purposes       29 Noxon Street   \n",
       "1  Facilities used for hospital purposes  20260 County Road 43   \n",
       "2                                 School    232 Northern Ave E   \n",
       "3                                 School           250 Mark St   \n",
       "4                                 School      2 Henderson Lane   \n",
       "\n",
       "               City Postal Code  Total Indoor Space_x Unit of Measure  ...  \\\n",
       "0         Ingersoll     N5C 3V6               8474.00   Square meters  ...   \n",
       "1        Alexandria     K0C 1A0              54969.00     Square feet  ...   \n",
       "2  Sault Ste. Marie     P6B 4H6             129920.40     Square feet  ...   \n",
       "3  Sault Ste. Marie     P6A 3M7              32700.76     Square feet  ...   \n",
       "4       Bruce Mines     P0R 1C0              24810.81     Square feet  ...   \n",
       "\n",
       "   DistrictHeating_RenewableEmissionFactor  DistrictCooling_Quantity  \\\n",
       "0                                      0.0                       0.0   \n",
       "1                                      0.0                       0.0   \n",
       "2                                      0.0                       0.0   \n",
       "3                                      0.0                       0.0   \n",
       "4                                      0.0                       0.0   \n",
       "\n",
       "   DistrictCooling_Unit DistrictCooling_IsRenewable  \\\n",
       "0                   NaN                         NaN   \n",
       "1                   NaN                         NaN   \n",
       "2                   NaN                         NaN   \n",
       "3                   NaN                         NaN   \n",
       "4                   NaN                         NaN   \n",
       "\n",
       "   DistrictCooling_RenewableEmissionFactor GHG Emissions KG  \\\n",
       "0                                      0.0    904038.214491   \n",
       "1                                      0.0    483223.250177   \n",
       "2                                      0.0    320953.238741   \n",
       "3                                      0.0     89846.250100   \n",
       "4                                      0.0     80322.730478   \n",
       "\n",
       "   Energy Intensity ekWh_sqft Energy Intensity ekWh_mega_litre  \\\n",
       "0                   72.721431                              0.0   \n",
       "1                   50.161246                              0.0   \n",
       "2                   13.886762                              0.0   \n",
       "3                   18.920321                              0.0   \n",
       "4                   20.695796                              0.0   \n",
       "\n",
       "   Energy Intensity GJ_m2 Energy Intensity GJ_mega_litre  \n",
       "0                2.817955                            0.0  \n",
       "1                1.943748                            0.0  \n",
       "2                0.538112                            0.0  \n",
       "3                0.733162                            0.0  \n",
       "4                0.801962                            0.0  \n",
       "\n",
       "[5 rows x 41 columns]"
      ]
     },
     "execution_count": 1070,
     "metadata": {},
     "output_type": "execute_result"
    }
   ],
   "source": [
    "df_8.head()"
   ]
  },
  {
   "cell_type": "code",
   "execution_count": 1071,
   "id": "b73f28ab",
   "metadata": {
    "collapsed": true
   },
   "outputs": [
    {
     "data": {
      "text/plain": [
       "Index(['Sector', 'SubSector', 'Organization', 'Operation', 'Operation Type',\n",
       "       'Address', 'City', 'Postal Code', 'Total Indoor Space_x',\n",
       "       'Unit of Measure', 'Weekly Average Hours', 'Annual Flow (M',\n",
       "       'Number of Portables', 'Swimming Pool', 'Electricity_Quantity',\n",
       "       'Electricity_Unit', 'NaturalGas_Quantity', 'NaturalGas_Unit',\n",
       "       'FuelOil12_Quantity', 'FuelOil12_Unit', 'FuelOil46_Quantity',\n",
       "       'FuelOil46_Unit', 'Propane_Quantity', 'Propane_Unit', 'Coal_Quantity',\n",
       "       'Coal_Unit', 'Wood_Quantity', 'Wood_Unit', 'DistrictHeating_Quantity',\n",
       "       'DistrictHeating_Unit', 'DistrictHeating_IsRenewable',\n",
       "       'DistrictHeating_RenewableEmissionFactor', 'DistrictCooling_Quantity',\n",
       "       'DistrictCooling_Unit', 'DistrictCooling_IsRenewable',\n",
       "       'DistrictCooling_RenewableEmissionFactor', 'GHG Emissions KG',\n",
       "       'Energy Intensity ekWh_sqft', 'Energy Intensity ekWh_mega_litre',\n",
       "       'Energy Intensity GJ_m2', 'Energy Intensity GJ_mega_litre'],\n",
       "      dtype='object')"
      ]
     },
     "execution_count": 1071,
     "metadata": {},
     "output_type": "execute_result"
    }
   ],
   "source": [
    "df_8.columns"
   ]
  },
  {
   "cell_type": "code",
   "execution_count": 1072,
   "id": "888cb34c",
   "metadata": {
    "collapsed": true
   },
   "outputs": [
    {
     "data": {
      "text/plain": [
       "Sector                                         0\n",
       "SubSector                                      0\n",
       "Organization                                   0\n",
       "Operation                                      0\n",
       "Operation Type                                 0\n",
       "Address                                       12\n",
       "City                                           0\n",
       "Postal Code                                   16\n",
       "Total Indoor Space_x                           0\n",
       "Unit of Measure                              737\n",
       "Weekly Average Hours                           0\n",
       "Annual Flow (M                              2116\n",
       "Number of Portables                           26\n",
       "Swimming Pool                              10747\n",
       "Electricity_Quantity                           0\n",
       "Electricity_Unit                             298\n",
       "NaturalGas_Quantity                           17\n",
       "NaturalGas_Unit                             5977\n",
       "FuelOil12_Quantity                            25\n",
       "FuelOil12_Unit                             16724\n",
       "FuelOil46_Quantity                            26\n",
       "FuelOil46_Unit                             17170\n",
       "Propane_Quantity                              22\n",
       "Propane_Unit                               16292\n",
       "Coal_Quantity                                 26\n",
       "Coal_Unit                                  17207\n",
       "Wood_Quantity                                 25\n",
       "Wood_Unit                                  17203\n",
       "DistrictHeating_Quantity                      26\n",
       "DistrictHeating_Unit                       17063\n",
       "DistrictHeating_IsRenewable                17063\n",
       "DistrictHeating_RenewableEmissionFactor       39\n",
       "DistrictCooling_Quantity                      26\n",
       "DistrictCooling_Unit                       17095\n",
       "DistrictCooling_IsRenewable                17095\n",
       "DistrictCooling_RenewableEmissionFactor       37\n",
       "GHG Emissions KG                               0\n",
       "Energy Intensity ekWh_sqft                     0\n",
       "Energy Intensity ekWh_mega_litre               0\n",
       "Energy Intensity GJ_m2                         0\n",
       "Energy Intensity GJ_mega_litre                 0\n",
       "dtype: int64"
      ]
     },
     "execution_count": 1072,
     "metadata": {},
     "output_type": "execute_result"
    }
   ],
   "source": [
    "df_8.isnull().sum()"
   ]
  },
  {
   "cell_type": "code",
   "execution_count": 1073,
   "id": "bf9d98a8",
   "metadata": {},
   "outputs": [],
   "source": [
    "df_8 = df_8.dropna(subset=['Address'])"
   ]
  },
  {
   "cell_type": "code",
   "execution_count": 1074,
   "id": "ac098dc1",
   "metadata": {},
   "outputs": [],
   "source": [
    "df_8 = df_8.dropna(subset=['Postal Code'])"
   ]
  },
  {
   "cell_type": "code",
   "execution_count": 1075,
   "id": "a920e70e",
   "metadata": {},
   "outputs": [
    {
     "data": {
      "text/plain": [
       "array(['Square meters', 'Square feet', nan], dtype=object)"
      ]
     },
     "execution_count": 1075,
     "metadata": {},
     "output_type": "execute_result"
    }
   ],
   "source": [
    "df_8['Unit of Measure'].unique()"
   ]
  },
  {
   "cell_type": "code",
   "execution_count": 1076,
   "id": "8d9f2067",
   "metadata": {},
   "outputs": [],
   "source": [
    "imputer = SimpleImputer(strategy='most_frequent')\n",
    "\n",
    "df_8['Unit of Measure'] = imputer.fit_transform(df_8[['Unit of Measure']]).ravel()"
   ]
  },
  {
   "cell_type": "code",
   "execution_count": 1077,
   "id": "60f2e23e",
   "metadata": {},
   "outputs": [
    {
     "data": {
      "text/plain": [
       "array([0.000000e+00, 1.311692e+04, 2.034548e+04, ..., 5.495200e+02,\n",
       "       7.000000e-03, 2.220000e-01])"
      ]
     },
     "execution_count": 1077,
     "metadata": {},
     "output_type": "execute_result"
    }
   ],
   "source": [
    "df_8['Annual Flow (M'].unique()"
   ]
  },
  {
   "cell_type": "code",
   "execution_count": 1078,
   "id": "7c0a8f4c",
   "metadata": {},
   "outputs": [],
   "source": [
    "mean_value = df_8['Annual Flow (M'].mean()\n",
    "\n",
    "df_8['Annual Flow (M'].fillna(mean_value, inplace=True)"
   ]
  },
  {
   "cell_type": "code",
   "execution_count": 1079,
   "id": "a6dab5ec",
   "metadata": {},
   "outputs": [
    {
     "data": {
      "text/plain": [
       "array([ 0.,  4.,  5.,  2.,  1.,  3.,  6., 12., 20.,  8.,  9.,  7., 17.,\n",
       "       18., 10., 11., 14., 16., 22., 50., 23., 15., 38., 13., 19., 26.,\n",
       "       21., 24., nan, 29., 25.])"
      ]
     },
     "execution_count": 1079,
     "metadata": {},
     "output_type": "execute_result"
    }
   ],
   "source": [
    "df_8['Number of Portables'].unique()"
   ]
  },
  {
   "cell_type": "code",
   "execution_count": 1080,
   "id": "eae14db3",
   "metadata": {
    "collapsed": true
   },
   "outputs": [
    {
     "data": {
      "text/plain": [
       "Number of Portables\n",
       "0.0     15335\n",
       "1.0       389\n",
       "2.0       356\n",
       "3.0       239\n",
       "4.0       228\n",
       "6.0       159\n",
       "5.0       131\n",
       "8.0        61\n",
       "9.0        56\n",
       "7.0        54\n",
       "10.0       43\n",
       "12.0       28\n",
       "11.0       22\n",
       "16.0       10\n",
       "13.0        9\n",
       "17.0        8\n",
       "15.0        7\n",
       "18.0        6\n",
       "14.0        6\n",
       "20.0        4\n",
       "22.0        2\n",
       "19.0        2\n",
       "24.0        2\n",
       "50.0        1\n",
       "23.0        1\n",
       "38.0        1\n",
       "26.0        1\n",
       "21.0        1\n",
       "29.0        1\n",
       "25.0        1\n",
       "Name: count, dtype: int64"
      ]
     },
     "execution_count": 1080,
     "metadata": {},
     "output_type": "execute_result"
    }
   ],
   "source": [
    "df_8['Number of Portables'].value_counts()"
   ]
  },
  {
   "cell_type": "code",
   "execution_count": 1081,
   "id": "42bf1b84",
   "metadata": {},
   "outputs": [],
   "source": [
    "mean_value = df_8['Number of Portables'].mean()\n",
    "\n",
    "df_8['Number of Portables'].fillna(mean_value, inplace=True)"
   ]
  },
  {
   "cell_type": "code",
   "execution_count": 1082,
   "id": "17b69e36",
   "metadata": {},
   "outputs": [
    {
     "data": {
      "text/plain": [
       "array([nan, 'No', 'Yes'], dtype=object)"
      ]
     },
     "execution_count": 1082,
     "metadata": {},
     "output_type": "execute_result"
    }
   ],
   "source": [
    "df_8['Swimming Pool'].unique()"
   ]
  },
  {
   "cell_type": "code",
   "execution_count": 1083,
   "id": "977ca508",
   "metadata": {},
   "outputs": [],
   "source": [
    "df_8['Swimming Pool'].fillna('Yes/No', inplace=True)"
   ]
  },
  {
   "cell_type": "code",
   "execution_count": 1084,
   "id": "b3041358",
   "metadata": {},
   "outputs": [
    {
     "data": {
      "text/plain": [
       "array(['kWh', nan], dtype=object)"
      ]
     },
     "execution_count": 1084,
     "metadata": {},
     "output_type": "execute_result"
    }
   ],
   "source": [
    "df_8['Electricity_Unit'].unique()"
   ]
  },
  {
   "cell_type": "code",
   "execution_count": 1085,
   "id": "364f06c7",
   "metadata": {},
   "outputs": [],
   "source": [
    "df_8['Electricity_Unit'].fillna('kWh', inplace=True)"
   ]
  },
  {
   "cell_type": "code",
   "execution_count": 1086,
   "id": "c1ba0e3f",
   "metadata": {},
   "outputs": [
    {
     "data": {
      "text/plain": [
       "array([447996.24448276, 254792.        , 169760.21115798, ...,\n",
       "         6407.96      ,  25631.82      ,   3332.04      ])"
      ]
     },
     "execution_count": 1086,
     "metadata": {},
     "output_type": "execute_result"
    }
   ],
   "source": [
    "df_8['NaturalGas_Quantity'].unique()"
   ]
  },
  {
   "cell_type": "code",
   "execution_count": 1087,
   "id": "1198beb9",
   "metadata": {},
   "outputs": [],
   "source": [
    "mean_value = df_8['NaturalGas_Quantity'].mean()\n",
    "\n",
    "df_8['NaturalGas_Quantity'].fillna(mean_value, inplace=True)"
   ]
  },
  {
   "cell_type": "code",
   "execution_count": 1088,
   "id": "c8e16dc9",
   "metadata": {},
   "outputs": [
    {
     "data": {
      "text/plain": [
       "array(['Cubic Meter', nan, 'Giga Joule', 'ekWh'], dtype=object)"
      ]
     },
     "execution_count": 1088,
     "metadata": {},
     "output_type": "execute_result"
    }
   ],
   "source": [
    "df_8['NaturalGas_Unit'].unique()"
   ]
  },
  {
   "cell_type": "code",
   "execution_count": 1089,
   "id": "7021b2a1",
   "metadata": {},
   "outputs": [],
   "source": [
    "gas_mapping = {'ekWh': 'Cubic Meter', 'Giga Joule': 'Cubic Meter'}\n",
    "df_8['NaturalGas_Unit'] = df_8['NaturalGas_Unit'].map(gas_mapping)"
   ]
  },
  {
   "cell_type": "code",
   "execution_count": 1090,
   "id": "7fbe4a36",
   "metadata": {},
   "outputs": [],
   "source": [
    "df_8['NaturalGas_Unit'].fillna('Cubic Meter', inplace=True)"
   ]
  },
  {
   "cell_type": "code",
   "execution_count": 1091,
   "id": "b92a0d51",
   "metadata": {
    "collapsed": true
   },
   "outputs": [
    {
     "data": {
      "text/plain": [
       "array([0.00000000e+00, 2.08100000e+03, 1.05836001e+04, 9.26580000e+03,\n",
       "       1.31469003e+04, 1.04000000e+02, 1.61600000e+03, 1.00000000e+03,\n",
       "       4.87590000e+04, 1.84965000e+05, 1.30255000e+04, 3.90600000e+03,\n",
       "       2.12901000e+04, 5.78740000e+03, 3.66880000e+03, 2.87166000e+04,\n",
       "       6.25951000e+04, 7.32700000e+02, 1.79800000e+04, 3.50400000e+03,\n",
       "       8.59000000e+02, 1.92000000e+03, 3.84670000e+03, 4.02300000e+03,\n",
       "       1.71310000e+03, 1.10000000e+03, 3.23404000e+04, 2.62767000e+04,\n",
       "       1.97461000e+04, 3.57414973e+04, 3.74460944e+04, 6.27952877e+04,\n",
       "       2.45400000e+03, 3.55100000e+03, 4.03400000e+03, 1.46188600e+03,\n",
       "       5.37690000e+03, 5.93300000e+03, 4.10740000e+03, 1.21206400e+04,\n",
       "       3.35234006e+04, 5.00000000e+02, 7.05933000e+03, 1.25702500e+04,\n",
       "       1.87954000e+03, 2.42829800e+04, 2.08906900e+04, 2.53300000e+03,\n",
       "       4.00000000e+03, 1.04380000e+04, 9.33440000e+04, 1.10607000e+05,\n",
       "       2.78165000e+04, 3.20444000e+04, 2.22962995e+04, 2.84631999e+04,\n",
       "       1.54543000e+04, 3.04538000e+04, 6.47500000e+03, 1.74942000e+04,\n",
       "       2.88620000e+04, 3.00000000e+03, 4.57126000e+04, 8.13840000e+03,\n",
       "       2.29752000e+04, 3.68060000e+03, 1.09972000e+05, 4.50371000e+04,\n",
       "       4.98742000e+04, 1.40183300e+05, 4.28659000e+04, 3.12110000e+04,\n",
       "       2.61118000e+04, 2.02591700e+05, 1.10164860e+05, 1.54178700e+04,\n",
       "       9.01527000e+03, 7.75933000e+03, 5.04356700e+04, 7.82709000e+04,\n",
       "       2.41987000e+04, 1.73510000e+04, 1.97540500e+05, 1.33490000e+03,\n",
       "       5.77640000e+03, 6.42000000e+02, 2.59060000e+04, 9.18820000e+03,\n",
       "       8.71880000e+03, 7.68790000e+03, 2.82202000e+03, 9.14700000e+02,\n",
       "       2.72736000e+03, 2.01532000e+03, 2.15994000e+03, 1.31586000e+04,\n",
       "       3.64930000e+03, 3.13530000e+03, 6.94690000e+03, 5.20130000e+03,\n",
       "       6.07670000e+03, 3.55500000e+03, 1.00293000e+04, 8.21240000e+03,\n",
       "       3.30054000e+04, 1.02479000e+04, 9.71950000e+03, 4.85810000e+03,\n",
       "       3.65040000e+03, 4.49940000e+03, 6.63960000e+03, 9.14980000e+03,\n",
       "       9.01400000e+02, 4.52120000e+03, 1.16450000e+04, 1.20560000e+04,\n",
       "       2.47800000e+03, 4.15200000e+03, 1.19330000e+04, 1.42577064e+03,\n",
       "       7.01199580e+02, 1.19720000e+03, 7.68360000e+02, 1.15254000e+03,\n",
       "       7.29400000e+03, 3.43300000e+03, 1.23826300e+04, 4.81547000e+03,\n",
       "       1.06467000e+04, 2.21140000e+03, 6.90270000e+03, 1.25000000e+03,\n",
       "       4.49990000e+03, 3.06840000e+03, 9.73240000e+03, 3.72910000e+03,\n",
       "       3.73850000e+03, 3.65450000e+03, 2.79310000e+03, 9.96300000e+03,\n",
       "       3.10180000e+03, 4.85300000e+02, 1.06208000e+04, 3.70100000e+03,\n",
       "       1.44700000e+04, 4.30000000e+03, 7.68490000e+03, 4.12400000e+03,\n",
       "       6.64850000e+03, 8.38920000e+03, 3.70040000e+03, 1.49767000e+04,\n",
       "       1.54312000e+04, 1.24796000e+04, 1.72860000e+03, 1.36350000e+03,\n",
       "       9.69930000e+03, 8.05859000e+03, 5.71994000e+03, 3.74284000e+03,\n",
       "       4.44844000e+03, 2.02343000e+04, 1.50042000e+04, 1.16173002e+04,\n",
       "       3.84619429e+04, 1.97060000e+04, 1.83182000e+04, 4.63547276e+04,\n",
       "       2.65063295e+04, 2.67047496e+04, 4.40366848e+04, 2.56597200e+04,\n",
       "       1.75637000e+04, 2.06655625e+04, 4.88370000e+04, 2.98100000e+04,\n",
       "       3.89890000e+04, 1.74687000e+05, 5.52651400e+05, 4.92082900e+04,\n",
       "       9.83600000e+03, 1.35191456e+04, 1.61977779e+04, 2.38511000e+04,\n",
       "       8.20760000e+04, 7.29280000e+03, 1.48584300e+04, 1.42063100e+05,\n",
       "       1.00000000e+00, 7.88800000e+03, 1.48770000e+04, 8.65400000e+03,\n",
       "       1.14200000e+03, 5.22100000e+03, 6.08400000e+03, 1.13280000e+04,\n",
       "       5.52460000e+04, 9.16000000e+02, 1.32560000e+04, 1.68300000e+04,\n",
       "       1.44030000e+04, 1.67870000e+04, 2.02800000e+03, 2.10800000e+04,\n",
       "       1.95030000e+04, 1.70800000e+04, 8.30200000e+03, 2.29910000e+03,\n",
       "       8.14300000e+03, 3.52260000e+03, 2.32790000e+04, 7.63300000e+03,\n",
       "       4.09100000e+03, 1.87100000e+03, 1.53370000e+04, 6.77400000e+03,\n",
       "       1.76142000e+04, 5.41700000e+03, 3.73800000e+03, 2.32200000e+03,\n",
       "       3.19350000e+04, 6.61580000e+04, 2.54920000e+03, 3.89390000e+03,\n",
       "       5.73360000e+03, 8.54290000e+03, 2.88950000e+03, 4.47260000e+03,\n",
       "       2.43420000e+03, 9.63290000e+03, 5.14333000e+03, 2.47120000e+03,\n",
       "       1.94244700e+04, 1.21000000e+02, 2.35083000e+04, 1.81361000e+04,\n",
       "       4.50370000e+03, 5.81410000e+03, 4.61320000e+03, 1.91030000e+04,\n",
       "       3.62814000e+04, 4.00880000e+03, 4.71400000e+03, 6.28500000e+03,\n",
       "       4.90000000e+03, 5.19300000e+03, 2.70000000e+03, 2.07800000e+03,\n",
       "       2.06000000e+03, 5.69500000e+03, 9.26000000e+03, 5.60530000e+03,\n",
       "       1.27144000e+04, 6.09880000e+03, 3.38460000e+03, 3.51270000e+03,\n",
       "       8.77100000e+03, 3.93060000e+03, 5.32800000e+03, 3.06721000e+03,\n",
       "       9.12270000e+03, 1.02132000e+03, 5.83430000e+03, 2.94390000e+03,\n",
       "       6.58700000e+03, 9.17680000e+03, 3.61900000e+03, 3.02050000e+03,\n",
       "       2.23880000e+03, 7.81090000e+03, 5.23160000e+03, 3.26170000e+03,\n",
       "       5.73330000e+03, 5.50528800e+04, 9.35187700e+04, 3.96945500e+04,\n",
       "       2.74186600e+04, 3.84910000e+03, 1.83220000e+03, 6.94870000e+03,\n",
       "       2.82525000e+03, 7.45500000e+03, 6.27400000e+03, 9.46000000e+02,\n",
       "       3.04600000e+03, 4.29800000e+03, 7.18900000e+03, 2.34200000e+03,\n",
       "       1.37800000e+03, 2.88610000e+03, 6.56210000e+03, 6.70397000e+03,\n",
       "       1.66540000e+02, 3.11740000e+02, 1.42940000e+03, 5.47720000e+03,\n",
       "       1.81457000e+04, 2.05490000e+04, 1.78900000e+03, 1.76351000e+04,\n",
       "       3.35420000e+03, 2.14530000e+03, 6.08640000e+03, 8.59540000e+03,\n",
       "       4.93340000e+03, 1.85900000e+03, 1.85130000e+03, 2.56510000e+03,\n",
       "       2.26600000e+03, 3.45300000e+03, 1.92613000e+04, 9.01460000e+03,\n",
       "       1.63323600e+04, 3.96150000e+03, 5.36699000e+03, 3.22035000e+03,\n",
       "       2.14716000e+03, 1.26900000e+03, 3.74510000e+03, 3.74505000e+03,\n",
       "       4.64850000e+03, 2.91810000e+03, 2.30700000e+03,            nan,\n",
       "       7.18649100e+03, 7.47440000e+03, 3.46200000e+03, 3.30950000e+03,\n",
       "       9.51480000e+03, 1.84636000e+04, 3.97376600e+04, 4.05244400e+04,\n",
       "       1.73185900e+04, 2.35063300e+04, 1.76100000e+03, 1.30900000e+03,\n",
       "       5.19100000e+03, 4.01900000e+03, 7.60840000e+03, 4.79586000e+03,\n",
       "       1.58229000e+04, 2.71622000e+04, 2.60721000e+04, 1.62420000e+03,\n",
       "       7.18470000e+03, 3.40100000e+02, 1.35600000e+02, 9.27400000e+02,\n",
       "       7.55844000e+03, 6.77653000e+03, 1.31895000e+04, 6.29354000e+03,\n",
       "       7.81910000e+02, 5.58106000e+03, 1.18746000e+04, 2.11500000e+03,\n",
       "       3.55270000e+03, 6.13057400e+04, 4.30570000e+03, 3.73690000e+03,\n",
       "       2.00000000e+03, 1.44991000e+04, 9.76760000e+03, 1.72221000e+04,\n",
       "       3.88360000e+03, 1.24239000e+04, 1.03599000e+04, 8.14600000e+03,\n",
       "       3.21190000e+03, 4.57320000e+03, 1.23052800e+04, 4.67740000e+03,\n",
       "       4.76120000e+03, 2.81030000e+03, 1.36200000e+03, 5.04140000e+03,\n",
       "       1.85290000e+04, 2.83000000e+03, 4.35700000e+03, 4.34200000e+03,\n",
       "       6.08800000e+03, 8.29300000e+03, 1.66930000e+03, 1.54117000e+04,\n",
       "       3.73480000e+03, 3.38500000e+03, 2.87800000e+03, 2.90900000e+03,\n",
       "       2.49310000e+03, 3.30680000e+03, 5.89420000e+03, 2.32010000e+03,\n",
       "       4.46840000e+03, 4.24890000e+03, 1.98370000e+03, 1.20151000e+04,\n",
       "       1.95306000e+04, 2.79590000e+03, 2.06900000e+02, 4.82311000e+04,\n",
       "       5.70200000e+03, 2.89740000e+03, 1.40870000e+03, 2.87240000e+03,\n",
       "       6.58600000e+03, 4.44200000e+03, 1.73600000e+03, 3.03400000e+03,\n",
       "       2.41430000e+04, 9.06600000e+03, 4.18400000e+03, 3.46600000e+03,\n",
       "       9.84400000e+02, 1.09400000e+04, 9.57300000e+03, 2.37500000e+03,\n",
       "       4.86000000e+03, 3.80530000e+03, 4.84920000e+03, 2.46180000e+03,\n",
       "       3.07007000e+04, 2.66200000e+02, 8.28363000e+04, 2.52789000e+04,\n",
       "       4.84360000e+03, 1.38430000e+03, 4.01180000e+03, 1.07410000e+03,\n",
       "       3.89660000e+03, 9.26610000e+03, 5.40500000e+03, 7.56110000e+03,\n",
       "       3.90930000e+03, 5.44170000e+03, 5.34270000e+03, 8.20000000e+01,\n",
       "       2.70680000e+03, 1.51816000e+04, 3.79100000e+03, 4.92100000e+03,\n",
       "       4.41500000e+03, 6.67270000e+03, 2.80080000e+03, 1.88050000e+04,\n",
       "       5.21500000e+03, 6.32800000e+03, 6.33826569e+04, 1.84805611e+04,\n",
       "       7.05643338e+03, 4.57838548e+04, 7.09790000e+03, 9.63620000e+03,\n",
       "       1.57605000e+04, 9.39770000e+03, 5.34337000e+05, 9.76500000e+03,\n",
       "       2.57000000e+03, 5.44500000e+04, 2.25050998e+04, 2.08172999e+04,\n",
       "       3.33149998e+04, 9.90856983e+04, 1.97620002e+04, 2.55801997e+04,\n",
       "       2.11224002e+04, 1.16122002e+04, 2.44887997e+04, 3.63177997e+04,\n",
       "       2.68964846e+04, 2.82920000e+03, 2.23870000e+03, 3.28710000e+03,\n",
       "       7.40920000e+03, 3.47910000e+04, 1.77960000e+04, 1.54631400e+04,\n",
       "       4.51212000e+04])"
      ]
     },
     "execution_count": 1091,
     "metadata": {},
     "output_type": "execute_result"
    }
   ],
   "source": [
    "df_8['FuelOil12_Quantity'].unique()"
   ]
  },
  {
   "cell_type": "code",
   "execution_count": 1092,
   "id": "d12a99ff",
   "metadata": {},
   "outputs": [],
   "source": [
    "mean_value = df_8['FuelOil12_Quantity'].mean()\n",
    "\n",
    "df_8['FuelOil12_Quantity'].fillna(mean_value, inplace=True)"
   ]
  },
  {
   "cell_type": "code",
   "execution_count": 1093,
   "id": "26ada2e8",
   "metadata": {},
   "outputs": [
    {
     "data": {
      "text/plain": [
       "array([nan, 'Litre'], dtype=object)"
      ]
     },
     "execution_count": 1093,
     "metadata": {},
     "output_type": "execute_result"
    }
   ],
   "source": [
    "df_8['FuelOil12_Unit'].unique()"
   ]
  },
  {
   "cell_type": "code",
   "execution_count": 1094,
   "id": "2e881873",
   "metadata": {},
   "outputs": [],
   "source": [
    "df_8['FuelOil12_Unit'].fillna('Litre', inplace=True)"
   ]
  },
  {
   "cell_type": "code",
   "execution_count": 1095,
   "id": "f182a397",
   "metadata": {
    "collapsed": true
   },
   "outputs": [
    {
     "data": {
      "text/plain": [
       "array([     0.        ,  55542.60049986,  32933.00017033,   7623.30013947,\n",
       "        19917.10024409,   2303.        ,  12942.        ,   1386.        ,\n",
       "        37303.        ,   9446.        ,   9986.        ,   3383.        ,\n",
       "         8633.3       ,   4973.        ,   3921.8       ,   4698.7       ,\n",
       "         2542.        ,  21847.6       ,   1485.        ,  11486.1       ,\n",
       "        20259.        ,   3905.896     ,   2409.35      ,  10391.30053   ,\n",
       "         5436.13636   ,   9842.2       ,   3201.        ,    538.5       ,\n",
       "        10090.8       ,   5438.5       ,             nan,  13195.5       ,\n",
       "         2017.41590909,   5342.00320366,   6013.35217391,  17431.        ,\n",
       "         1087.        ,   7118.5       , 500470.        ])"
      ]
     },
     "execution_count": 1095,
     "metadata": {},
     "output_type": "execute_result"
    }
   ],
   "source": [
    "df_8['FuelOil46_Quantity'].unique()"
   ]
  },
  {
   "cell_type": "code",
   "execution_count": 1096,
   "id": "9391a898",
   "metadata": {},
   "outputs": [],
   "source": [
    "df_8 = df_8.dropna(subset=['FuelOil46_Quantity'])"
   ]
  },
  {
   "cell_type": "code",
   "execution_count": 1097,
   "id": "95c696f5",
   "metadata": {},
   "outputs": [
    {
     "data": {
      "text/plain": [
       "array([nan, 'Litre'], dtype=object)"
      ]
     },
     "execution_count": 1097,
     "metadata": {},
     "output_type": "execute_result"
    }
   ],
   "source": [
    "df_8['FuelOil46_Unit'].unique()"
   ]
  },
  {
   "cell_type": "code",
   "execution_count": 1098,
   "id": "9fb088fe",
   "metadata": {},
   "outputs": [],
   "source": [
    "df_8['FuelOil46_Unit'].fillna('Litre', inplace=True)"
   ]
  },
  {
   "cell_type": "code",
   "execution_count": 1099,
   "id": "02b8930c",
   "metadata": {},
   "outputs": [
    {
     "data": {
      "text/plain": [
       "array([nan, 'Litre'], dtype=object)"
      ]
     },
     "execution_count": 1099,
     "metadata": {},
     "output_type": "execute_result"
    }
   ],
   "source": [
    "df_8['Propane_Unit'].unique()"
   ]
  },
  {
   "cell_type": "code",
   "execution_count": 1100,
   "id": "d049fa36",
   "metadata": {},
   "outputs": [],
   "source": [
    "df_8['Propane_Unit'].fillna('Litre', inplace=True)"
   ]
  },
  {
   "cell_type": "code",
   "execution_count": 1101,
   "id": "bd44cc80",
   "metadata": {},
   "outputs": [
    {
     "data": {
      "text/plain": [
       "array([nan, 'Metric Tonne'], dtype=object)"
      ]
     },
     "execution_count": 1101,
     "metadata": {},
     "output_type": "execute_result"
    }
   ],
   "source": [
    "df_8['Coal_Unit'].unique()"
   ]
  },
  {
   "cell_type": "code",
   "execution_count": 1102,
   "id": "f704a96e",
   "metadata": {},
   "outputs": [],
   "source": [
    "df_8['Coal_Unit'].fillna('Metric Tonne', inplace=True)"
   ]
  },
  {
   "cell_type": "code",
   "execution_count": 1103,
   "id": "60ab9b2d",
   "metadata": {},
   "outputs": [
    {
     "data": {
      "text/plain": [
       "array([nan, 'Metric Tonne'], dtype=object)"
      ]
     },
     "execution_count": 1103,
     "metadata": {},
     "output_type": "execute_result"
    }
   ],
   "source": [
    "df_8['Wood_Unit'].unique()"
   ]
  },
  {
   "cell_type": "code",
   "execution_count": 1104,
   "id": "dd94c604",
   "metadata": {},
   "outputs": [],
   "source": [
    "df_8['Wood_Unit'].fillna('Metric Tonne', inplace=True)"
   ]
  },
  {
   "cell_type": "code",
   "execution_count": 1105,
   "id": "b70b35f5",
   "metadata": {},
   "outputs": [
    {
     "data": {
      "text/plain": [
       "array([nan, 'Giga Joule', 'Metric Tonne'], dtype=object)"
      ]
     },
     "execution_count": 1105,
     "metadata": {},
     "output_type": "execute_result"
    }
   ],
   "source": [
    "df_8['DistrictHeating_Unit'].unique()"
   ]
  },
  {
   "cell_type": "code",
   "execution_count": 1106,
   "id": "963f796d",
   "metadata": {},
   "outputs": [],
   "source": [
    "heat_mapping = {'Giga Joule': 'joule', 'Metric Tonne': 'joule'}\n",
    "df_8['DistrictHeating_Unit'] = df_8['DistrictHeating_Unit'].map(heat_mapping)"
   ]
  },
  {
   "cell_type": "code",
   "execution_count": 1107,
   "id": "97a4599f",
   "metadata": {},
   "outputs": [],
   "source": [
    "df_8['DistrictHeating_Unit'].fillna('joule', inplace=True)"
   ]
  },
  {
   "cell_type": "code",
   "execution_count": 1108,
   "id": "043e1ad2",
   "metadata": {},
   "outputs": [
    {
     "data": {
      "text/plain": [
       "array([nan, 'No', 'Yes'], dtype=object)"
      ]
     },
     "execution_count": 1108,
     "metadata": {},
     "output_type": "execute_result"
    }
   ],
   "source": [
    "df_8['DistrictHeating_IsRenewable'].unique()"
   ]
  },
  {
   "cell_type": "code",
   "execution_count": 1109,
   "id": "38b0dc6e",
   "metadata": {},
   "outputs": [],
   "source": [
    "df_8['DistrictHeating_IsRenewable'].fillna('Yes/No', inplace=True)"
   ]
  },
  {
   "cell_type": "code",
   "execution_count": 1110,
   "id": "128ef374",
   "metadata": {},
   "outputs": [
    {
     "data": {
      "text/plain": [
       "array([  0.        ,          nan, 166.22868128,  52.92      ,\n",
       "        48.3       ,  47.        ])"
      ]
     },
     "execution_count": 1110,
     "metadata": {},
     "output_type": "execute_result"
    }
   ],
   "source": [
    "df_8['DistrictHeating_RenewableEmissionFactor'].unique()"
   ]
  },
  {
   "cell_type": "code",
   "execution_count": 1111,
   "id": "58e660a3",
   "metadata": {},
   "outputs": [],
   "source": [
    "df_8 = df_8.dropna(subset=['DistrictHeating_RenewableEmissionFactor'])"
   ]
  },
  {
   "cell_type": "code",
   "execution_count": 1112,
   "id": "906172bd",
   "metadata": {},
   "outputs": [
    {
     "data": {
      "text/plain": [
       "array([nan, 'Giga Joule', 'KL Chilled Water'], dtype=object)"
      ]
     },
     "execution_count": 1112,
     "metadata": {},
     "output_type": "execute_result"
    }
   ],
   "source": [
    "df_8['DistrictCooling_Unit'].unique()"
   ]
  },
  {
   "cell_type": "code",
   "execution_count": 1113,
   "id": "092bb3bf",
   "metadata": {},
   "outputs": [],
   "source": [
    "cool_mapping = {'Giga Joule': 'joule','KL Chilled Water': 'joule'}\n",
    "df_8['DistrictCooling_Unit'] = df_8['DistrictCooling_Unit'].map(cool_mapping)"
   ]
  },
  {
   "cell_type": "code",
   "execution_count": 1114,
   "id": "5e980ce7",
   "metadata": {},
   "outputs": [],
   "source": [
    "df_8['DistrictCooling_Unit'].fillna('joule', inplace=True)"
   ]
  },
  {
   "cell_type": "code",
   "execution_count": 1115,
   "id": "ce489590",
   "metadata": {},
   "outputs": [
    {
     "data": {
      "text/plain": [
       "array([nan, 'No', 'Yes'], dtype=object)"
      ]
     },
     "execution_count": 1115,
     "metadata": {},
     "output_type": "execute_result"
    }
   ],
   "source": [
    "df_8['DistrictCooling_IsRenewable'].unique()"
   ]
  },
  {
   "cell_type": "code",
   "execution_count": 1116,
   "id": "df39380f",
   "metadata": {},
   "outputs": [],
   "source": [
    "df_8['DistrictCooling_IsRenewable'].fillna('Yes/No', inplace=True)"
   ]
  },
  {
   "cell_type": "code",
   "execution_count": 1117,
   "id": "08e5929c",
   "metadata": {},
   "outputs": [
    {
     "data": {
      "text/plain": [
       "array([0.        , 1.84033716, 0.06      , 1.95      , 2.21      ,\n",
       "              nan])"
      ]
     },
     "execution_count": 1117,
     "metadata": {},
     "output_type": "execute_result"
    }
   ],
   "source": [
    "df_8['DistrictCooling_RenewableEmissionFactor'].unique()"
   ]
  },
  {
   "cell_type": "code",
   "execution_count": 1118,
   "id": "8b4f3002",
   "metadata": {},
   "outputs": [],
   "source": [
    "df_8 = df_8.dropna(subset=['DistrictCooling_RenewableEmissionFactor'])"
   ]
  },
  {
   "cell_type": "code",
   "execution_count": 1119,
   "id": "c2d486c6",
   "metadata": {
    "collapsed": true
   },
   "outputs": [
    {
     "data": {
      "text/plain": [
       "Sector                                     0\n",
       "SubSector                                  0\n",
       "Organization                               0\n",
       "Operation                                  0\n",
       "Operation Type                             0\n",
       "Address                                    0\n",
       "City                                       0\n",
       "Postal Code                                0\n",
       "Total Indoor Space_x                       0\n",
       "Unit of Measure                            0\n",
       "Weekly Average Hours                       0\n",
       "Annual Flow (M                             0\n",
       "Number of Portables                        0\n",
       "Swimming Pool                              0\n",
       "Electricity_Quantity                       0\n",
       "Electricity_Unit                           0\n",
       "NaturalGas_Quantity                        0\n",
       "NaturalGas_Unit                            0\n",
       "FuelOil12_Quantity                         0\n",
       "FuelOil12_Unit                             0\n",
       "FuelOil46_Quantity                         0\n",
       "FuelOil46_Unit                             0\n",
       "Propane_Quantity                           0\n",
       "Propane_Unit                               0\n",
       "Coal_Quantity                              0\n",
       "Coal_Unit                                  0\n",
       "Wood_Quantity                              0\n",
       "Wood_Unit                                  0\n",
       "DistrictHeating_Quantity                   0\n",
       "DistrictHeating_Unit                       0\n",
       "DistrictHeating_IsRenewable                0\n",
       "DistrictHeating_RenewableEmissionFactor    0\n",
       "DistrictCooling_Quantity                   0\n",
       "DistrictCooling_Unit                       0\n",
       "DistrictCooling_IsRenewable                0\n",
       "DistrictCooling_RenewableEmissionFactor    0\n",
       "GHG Emissions KG                           0\n",
       "Energy Intensity ekWh_sqft                 0\n",
       "Energy Intensity ekWh_mega_litre           0\n",
       "Energy Intensity GJ_m2                     0\n",
       "Energy Intensity GJ_mega_litre             0\n",
       "dtype: int64"
      ]
     },
     "execution_count": 1119,
     "metadata": {},
     "output_type": "execute_result"
    }
   ],
   "source": [
    "df_8.isnull().sum()"
   ]
  },
  {
   "cell_type": "code",
   "execution_count": 1149,
   "id": "dbd92363",
   "metadata": {
    "collapsed": true
   },
   "outputs": [
    {
     "data": {
      "text/plain": [
       "Sector                                      object\n",
       "SubSector                                   object\n",
       "Organization                                object\n",
       "Operation                                   object\n",
       "Operation Type                              object\n",
       "Address                                     object\n",
       "City                                        object\n",
       "Postal Code                                 object\n",
       "Total Indoor Space_x                       float64\n",
       "Unit of Measure                             object\n",
       "Weekly Average Hours                       float64\n",
       "Annual Flow (M                             float64\n",
       "Number of Portables                        float64\n",
       "Swimming Pool                               object\n",
       "Electricity_Quantity                       float64\n",
       "Electricity_Unit                            object\n",
       "NaturalGas_Quantity                        float64\n",
       "NaturalGas_Unit                             object\n",
       "FuelOil12_Quantity                         float64\n",
       "FuelOil12_Unit                              object\n",
       "FuelOil46_Quantity                         float64\n",
       "FuelOil46_Unit                              object\n",
       "Propane_Quantity                           float64\n",
       "Propane_Unit                                object\n",
       "Coal_Quantity                              float64\n",
       "Coal_Unit                                   object\n",
       "Wood_Quantity                              float64\n",
       "Wood_Unit                                   object\n",
       "DistrictHeating_Quantity                   float64\n",
       "DistrictHeating_Unit                        object\n",
       "DistrictHeating_IsRenewable                 object\n",
       "DistrictHeating_RenewableEmissionFactor    float64\n",
       "DistrictCooling_Quantity                   float64\n",
       "DistrictCooling_Unit                        object\n",
       "DistrictCooling_IsRenewable                 object\n",
       "DistrictCooling_RenewableEmissionFactor    float64\n",
       "GHG Emissions KG                           float64\n",
       "Energy Intensity ekWh_sqft                 float64\n",
       "Energy Intensity ekWh_mega_litre           float64\n",
       "Energy Intensity GJ_m2                     float64\n",
       "Energy Intensity GJ_mega_litre             float64\n",
       "dtype: object"
      ]
     },
     "execution_count": 1149,
     "metadata": {},
     "output_type": "execute_result"
    }
   ],
   "source": [
    "df_8.dtypes"
   ]
  },
  {
   "cell_type": "code",
   "execution_count": 1187,
   "id": "ebed9c67",
   "metadata": {},
   "outputs": [],
   "source": [
    "column_mapping8 = {'Sector': 'Sector', 'SubSector': 'SubSector', 'Organization': 'Organization', 'Operation': 'Operation',\n",
    "                 'Operation Type': 'Operation Type', 'Address': 'Address', 'City': 'City', 'Postal Code': 'Postal Code', 'Total Indoor Space_x': 'Total Indoor Space_x',\n",
    "                 'Unit of Measure': 'Unit of Measure', 'Weekly Average Hours': 'Weekly Average Hours', 'Annual Flow (M': 'Annual Flow (M)', 'Number of Portables': 'Number of Portables',\n",
    "                 'Swimming Pool': 'Swimming Pool', 'Electricity_Quantity': 'Electricity_Quantity', 'Electricity_Unit': 'Electricity_Unit', 'NaturalGas_Quantity': 'NaturalGas_Quantity',\n",
    "                 'NaturalGas_Unit': 'NaturalGas_Unit', 'FuelOil12_Quantity': 'FuelOil12_Quantity', 'FuelOil12_Unit': 'FuelOil12_Unit', 'FuelOil46_Quantity': 'FuelOil46_Quantity',\n",
    "                 'FuelOil46_Unit': 'FuelOil46_Unit', 'Propane_Quantity': 'Propane_Quantity', 'Propane_Unit': 'Propane_Unit', 'Coal_Quantity': 'Coal_Quantity',\n",
    "                 'Coal_Unit': 'Coal_Unit', 'Wood_Quantity': 'Wood_Quantity', 'Wood_Unit': 'Wood_Unit', 'DistrictHeating_Quantity': 'DistrictHeating_Quantity', 'DistrictHeating_Unit': 'DistrictHeating_Unit',\n",
    "                 'DistrictHeating_IsRenewable': 'DistrictHeating_IsRenewable', 'DistrictHeating_RenewableEmissionFactor': 'DistrictHeating_RenewableEmissionFactor','DistrictCooling_Quantity': 'DistrictCooling_Quantity',\n",
    "                 'DistrictCooling_Unit': 'DistrictCooling_Unit', 'DistrictCooling_IsRenewable': 'DistrictCooling_IsRenewable', 'DistrictCooling_RenewableEmissionFactor': 'DistrictCooling_RenewableEmissionFactor',\n",
    "                 'GHG Emissions KG': 'GHG Emissions KG', 'Energy Intensity ekWh_sqft': 'Energy Intensity ekWh_sqft', 'Energy Intensity ekWh_mega_litre': 'Energy Intensity ekWh_mega_litre',\n",
    "                 'Energy Intensity GJ_m2': 'Energy Intensity GJ_m2', 'Energy Intensity GJ_mega_litre': 'Energy Intensity GJ_mega_litre'}\n",
    "\n"
   ]
  },
  {
   "cell_type": "code",
   "execution_count": 1188,
   "id": "c10db130",
   "metadata": {},
   "outputs": [],
   "source": [
    "df_8.rename(columns=column_mapping8, inplace=True)"
   ]
  },
  {
   "cell_type": "code",
   "execution_count": 1189,
   "id": "c3ea7cb6",
   "metadata": {
    "collapsed": true
   },
   "outputs": [
    {
     "data": {
      "text/plain": [
       "Index(['Sector', 'SubSector', 'Organization', 'Operation', 'Operation Type',\n",
       "       'Address', 'City', 'Postal Code', 'Total Indoor Space_x',\n",
       "       'Unit of Measure', 'Weekly Average Hours', 'Annual Flow (M)',\n",
       "       'Number of Portables', 'Swimming Pool', 'Electricity_Quantity',\n",
       "       'Electricity_Unit', 'NaturalGas_Quantity', 'NaturalGas_Unit',\n",
       "       'FuelOil12_Quantity', 'FuelOil12_Unit', 'FuelOil46_Quantity',\n",
       "       'FuelOil46_Unit', 'Propane_Quantity', 'Propane_Unit', 'Coal_Quantity',\n",
       "       'Coal_Unit', 'Wood_Quantity', 'Wood_Unit', 'DistrictHeating_Quantity',\n",
       "       'DistrictHeating_Unit', 'DistrictHeating_IsRenewable',\n",
       "       'DistrictHeating_RenewableEmissionFactor', 'DistrictCooling_Quantity',\n",
       "       'DistrictCooling_Unit', 'DistrictCooling_IsRenewable',\n",
       "       'DistrictCooling_RenewableEmissionFactor', 'GHG Emissions KG',\n",
       "       'Energy Intensity ekWh_sqft', 'Energy Intensity ekWh_mega_litre',\n",
       "       'Energy Intensity GJ_m2', 'Energy Intensity GJ_mega_litre'],\n",
       "      dtype='object')"
      ]
     },
     "execution_count": 1189,
     "metadata": {},
     "output_type": "execute_result"
    }
   ],
   "source": [
    "df_8.columns"
   ]
  },
  {
   "cell_type": "code",
   "execution_count": 1190,
   "id": "769f39a8",
   "metadata": {
    "collapsed": true
   },
   "outputs": [
    {
     "data": {
      "text/html": [
       "<div>\n",
       "<style scoped>\n",
       "    .dataframe tbody tr th:only-of-type {\n",
       "        vertical-align: middle;\n",
       "    }\n",
       "\n",
       "    .dataframe tbody tr th {\n",
       "        vertical-align: top;\n",
       "    }\n",
       "\n",
       "    .dataframe thead th {\n",
       "        text-align: right;\n",
       "    }\n",
       "</style>\n",
       "<table border=\"1\" class=\"dataframe\">\n",
       "  <thead>\n",
       "    <tr style=\"text-align: right;\">\n",
       "      <th></th>\n",
       "      <th>Sector</th>\n",
       "      <th>SubSector</th>\n",
       "      <th>Organization</th>\n",
       "      <th>Operation</th>\n",
       "      <th>Operation Type</th>\n",
       "      <th>Address</th>\n",
       "      <th>City</th>\n",
       "      <th>Postal Code</th>\n",
       "      <th>Total Indoor Space_x</th>\n",
       "      <th>Unit of Measure</th>\n",
       "      <th>...</th>\n",
       "      <th>DistrictHeating_RenewableEmissionFactor</th>\n",
       "      <th>DistrictCooling_Quantity</th>\n",
       "      <th>DistrictCooling_Unit</th>\n",
       "      <th>DistrictCooling_IsRenewable</th>\n",
       "      <th>DistrictCooling_RenewableEmissionFactor</th>\n",
       "      <th>GHG Emissions KG</th>\n",
       "      <th>Energy Intensity ekWh_sqft</th>\n",
       "      <th>Energy Intensity ekWh_mega_litre</th>\n",
       "      <th>Energy Intensity GJ_m2</th>\n",
       "      <th>Energy Intensity GJ_mega_litre</th>\n",
       "    </tr>\n",
       "  </thead>\n",
       "  <tbody>\n",
       "    <tr>\n",
       "      <th>0</th>\n",
       "      <td>Public Hospital</td>\n",
       "      <td>Acute/Chronic Hospital</td>\n",
       "      <td>Alexandra Hospital</td>\n",
       "      <td>Alexandra Hospital, Ingersoll</td>\n",
       "      <td>Facilities used for hospital purposes</td>\n",
       "      <td>29 Noxon Street</td>\n",
       "      <td>Ingersoll</td>\n",
       "      <td>N5C 3V6</td>\n",
       "      <td>8474.00</td>\n",
       "      <td>Square meters</td>\n",
       "      <td>...</td>\n",
       "      <td>0.0</td>\n",
       "      <td>0.0</td>\n",
       "      <td>joule</td>\n",
       "      <td>Yes/No</td>\n",
       "      <td>0.0</td>\n",
       "      <td>904038.214491</td>\n",
       "      <td>72.721431</td>\n",
       "      <td>0.0</td>\n",
       "      <td>2.817955</td>\n",
       "      <td>0.0</td>\n",
       "    </tr>\n",
       "    <tr>\n",
       "      <th>1</th>\n",
       "      <td>Public Hospital</td>\n",
       "      <td>Acute/Chronic Hospital</td>\n",
       "      <td>Alexandria Glengarry Memorial Hospital</td>\n",
       "      <td>Glengarry Memorial Hospital</td>\n",
       "      <td>Facilities used for hospital purposes</td>\n",
       "      <td>20260 County Road 43</td>\n",
       "      <td>Alexandria</td>\n",
       "      <td>K0C 1A0</td>\n",
       "      <td>54969.00</td>\n",
       "      <td>Square feet</td>\n",
       "      <td>...</td>\n",
       "      <td>0.0</td>\n",
       "      <td>0.0</td>\n",
       "      <td>joule</td>\n",
       "      <td>Yes/No</td>\n",
       "      <td>0.0</td>\n",
       "      <td>483223.250177</td>\n",
       "      <td>50.161246</td>\n",
       "      <td>0.0</td>\n",
       "      <td>1.943748</td>\n",
       "      <td>0.0</td>\n",
       "    </tr>\n",
       "    <tr>\n",
       "      <th>2</th>\n",
       "      <td>School Board</td>\n",
       "      <td>School Board</td>\n",
       "      <td>Algoma District School Board</td>\n",
       "      <td>Alexander Henry HS (now Boreal FI)</td>\n",
       "      <td>School</td>\n",
       "      <td>232 Northern Ave E</td>\n",
       "      <td>Sault Ste. Marie</td>\n",
       "      <td>P6B 4H6</td>\n",
       "      <td>129920.40</td>\n",
       "      <td>Square feet</td>\n",
       "      <td>...</td>\n",
       "      <td>0.0</td>\n",
       "      <td>0.0</td>\n",
       "      <td>joule</td>\n",
       "      <td>Yes/No</td>\n",
       "      <td>0.0</td>\n",
       "      <td>320953.238741</td>\n",
       "      <td>13.886762</td>\n",
       "      <td>0.0</td>\n",
       "      <td>0.538112</td>\n",
       "      <td>0.0</td>\n",
       "    </tr>\n",
       "    <tr>\n",
       "      <th>3</th>\n",
       "      <td>School Board</td>\n",
       "      <td>School Board</td>\n",
       "      <td>Algoma District School Board</td>\n",
       "      <td>Anna McCrea PS</td>\n",
       "      <td>School</td>\n",
       "      <td>250 Mark St</td>\n",
       "      <td>Sault Ste. Marie</td>\n",
       "      <td>P6A 3M7</td>\n",
       "      <td>32700.76</td>\n",
       "      <td>Square feet</td>\n",
       "      <td>...</td>\n",
       "      <td>0.0</td>\n",
       "      <td>0.0</td>\n",
       "      <td>joule</td>\n",
       "      <td>Yes/No</td>\n",
       "      <td>0.0</td>\n",
       "      <td>89846.250100</td>\n",
       "      <td>18.920321</td>\n",
       "      <td>0.0</td>\n",
       "      <td>0.733162</td>\n",
       "      <td>0.0</td>\n",
       "    </tr>\n",
       "    <tr>\n",
       "      <th>4</th>\n",
       "      <td>School Board</td>\n",
       "      <td>School Board</td>\n",
       "      <td>Algoma District School Board</td>\n",
       "      <td>Arthur Henderson PS</td>\n",
       "      <td>School</td>\n",
       "      <td>2 Henderson Lane</td>\n",
       "      <td>Bruce Mines</td>\n",
       "      <td>P0R 1C0</td>\n",
       "      <td>24810.81</td>\n",
       "      <td>Square feet</td>\n",
       "      <td>...</td>\n",
       "      <td>0.0</td>\n",
       "      <td>0.0</td>\n",
       "      <td>joule</td>\n",
       "      <td>Yes/No</td>\n",
       "      <td>0.0</td>\n",
       "      <td>80322.730478</td>\n",
       "      <td>20.695796</td>\n",
       "      <td>0.0</td>\n",
       "      <td>0.801962</td>\n",
       "      <td>0.0</td>\n",
       "    </tr>\n",
       "  </tbody>\n",
       "</table>\n",
       "<p>5 rows × 41 columns</p>\n",
       "</div>"
      ],
      "text/plain": [
       "            Sector               SubSector  \\\n",
       "0  Public Hospital  Acute/Chronic Hospital   \n",
       "1  Public Hospital  Acute/Chronic Hospital   \n",
       "2     School Board            School Board   \n",
       "3     School Board            School Board   \n",
       "4     School Board            School Board   \n",
       "\n",
       "                             Organization                           Operation  \\\n",
       "0                      Alexandra Hospital       Alexandra Hospital, Ingersoll   \n",
       "1  Alexandria Glengarry Memorial Hospital         Glengarry Memorial Hospital   \n",
       "2            Algoma District School Board  Alexander Henry HS (now Boreal FI)   \n",
       "3            Algoma District School Board                      Anna McCrea PS   \n",
       "4            Algoma District School Board                 Arthur Henderson PS   \n",
       "\n",
       "                          Operation Type               Address  \\\n",
       "0  Facilities used for hospital purposes       29 Noxon Street   \n",
       "1  Facilities used for hospital purposes  20260 County Road 43   \n",
       "2                                 School    232 Northern Ave E   \n",
       "3                                 School           250 Mark St   \n",
       "4                                 School      2 Henderson Lane   \n",
       "\n",
       "               City Postal Code  Total Indoor Space_x Unit of Measure  ...  \\\n",
       "0         Ingersoll     N5C 3V6               8474.00   Square meters  ...   \n",
       "1        Alexandria     K0C 1A0              54969.00     Square feet  ...   \n",
       "2  Sault Ste. Marie     P6B 4H6             129920.40     Square feet  ...   \n",
       "3  Sault Ste. Marie     P6A 3M7              32700.76     Square feet  ...   \n",
       "4       Bruce Mines     P0R 1C0              24810.81     Square feet  ...   \n",
       "\n",
       "   DistrictHeating_RenewableEmissionFactor  DistrictCooling_Quantity  \\\n",
       "0                                      0.0                       0.0   \n",
       "1                                      0.0                       0.0   \n",
       "2                                      0.0                       0.0   \n",
       "3                                      0.0                       0.0   \n",
       "4                                      0.0                       0.0   \n",
       "\n",
       "   DistrictCooling_Unit DistrictCooling_IsRenewable  \\\n",
       "0                 joule                      Yes/No   \n",
       "1                 joule                      Yes/No   \n",
       "2                 joule                      Yes/No   \n",
       "3                 joule                      Yes/No   \n",
       "4                 joule                      Yes/No   \n",
       "\n",
       "   DistrictCooling_RenewableEmissionFactor GHG Emissions KG  \\\n",
       "0                                      0.0    904038.214491   \n",
       "1                                      0.0    483223.250177   \n",
       "2                                      0.0    320953.238741   \n",
       "3                                      0.0     89846.250100   \n",
       "4                                      0.0     80322.730478   \n",
       "\n",
       "   Energy Intensity ekWh_sqft Energy Intensity ekWh_mega_litre  \\\n",
       "0                   72.721431                              0.0   \n",
       "1                   50.161246                              0.0   \n",
       "2                   13.886762                              0.0   \n",
       "3                   18.920321                              0.0   \n",
       "4                   20.695796                              0.0   \n",
       "\n",
       "   Energy Intensity GJ_m2 Energy Intensity GJ_mega_litre  \n",
       "0                2.817955                            0.0  \n",
       "1                1.943748                            0.0  \n",
       "2                0.538112                            0.0  \n",
       "3                0.733162                            0.0  \n",
       "4                0.801962                            0.0  \n",
       "\n",
       "[5 rows x 41 columns]"
      ]
     },
     "execution_count": 1190,
     "metadata": {},
     "output_type": "execute_result"
    }
   ],
   "source": [
    "df_8.head()"
   ]
  },
  {
   "cell_type": "code",
   "execution_count": 1212,
   "id": "48e3afd5",
   "metadata": {},
   "outputs": [],
   "source": [
    "df_8.insert(0, 'Year', 2019)"
   ]
  },
  {
   "cell_type": "code",
   "execution_count": 1213,
   "id": "98ee0365",
   "metadata": {
    "collapsed": true
   },
   "outputs": [
    {
     "data": {
      "text/html": [
       "<div>\n",
       "<style scoped>\n",
       "    .dataframe tbody tr th:only-of-type {\n",
       "        vertical-align: middle;\n",
       "    }\n",
       "\n",
       "    .dataframe tbody tr th {\n",
       "        vertical-align: top;\n",
       "    }\n",
       "\n",
       "    .dataframe thead th {\n",
       "        text-align: right;\n",
       "    }\n",
       "</style>\n",
       "<table border=\"1\" class=\"dataframe\">\n",
       "  <thead>\n",
       "    <tr style=\"text-align: right;\">\n",
       "      <th></th>\n",
       "      <th>Year</th>\n",
       "      <th>Sector</th>\n",
       "      <th>SubSector</th>\n",
       "      <th>Organization</th>\n",
       "      <th>Operation</th>\n",
       "      <th>Operation Type</th>\n",
       "      <th>Address</th>\n",
       "      <th>City</th>\n",
       "      <th>Postal Code</th>\n",
       "      <th>Total Indoor Space_x</th>\n",
       "      <th>...</th>\n",
       "      <th>DistrictHeating_RenewableEmissionFactor</th>\n",
       "      <th>DistrictCooling_Quantity</th>\n",
       "      <th>DistrictCooling_Unit</th>\n",
       "      <th>DistrictCooling_IsRenewable</th>\n",
       "      <th>DistrictCooling_RenewableEmissionFactor</th>\n",
       "      <th>GHG Emissions KG</th>\n",
       "      <th>Energy Intensity ekWh_sqft</th>\n",
       "      <th>Energy Intensity ekWh_mega_litre</th>\n",
       "      <th>Energy Intensity GJ_m2</th>\n",
       "      <th>Energy Intensity GJ_mega_litre</th>\n",
       "    </tr>\n",
       "  </thead>\n",
       "  <tbody>\n",
       "    <tr>\n",
       "      <th>0</th>\n",
       "      <td>2019</td>\n",
       "      <td>Public Hospital</td>\n",
       "      <td>Acute/Chronic Hospital</td>\n",
       "      <td>Alexandra Hospital</td>\n",
       "      <td>Alexandra Hospital, Ingersoll</td>\n",
       "      <td>Facilities used for hospital purposes</td>\n",
       "      <td>29 Noxon Street</td>\n",
       "      <td>Ingersoll</td>\n",
       "      <td>N5C 3V6</td>\n",
       "      <td>8474.00</td>\n",
       "      <td>...</td>\n",
       "      <td>0.0</td>\n",
       "      <td>0.0</td>\n",
       "      <td>joule</td>\n",
       "      <td>Yes/No</td>\n",
       "      <td>0.0</td>\n",
       "      <td>904038.214491</td>\n",
       "      <td>72.721431</td>\n",
       "      <td>0.0</td>\n",
       "      <td>2.817955</td>\n",
       "      <td>0.0</td>\n",
       "    </tr>\n",
       "    <tr>\n",
       "      <th>1</th>\n",
       "      <td>2019</td>\n",
       "      <td>Public Hospital</td>\n",
       "      <td>Acute/Chronic Hospital</td>\n",
       "      <td>Alexandria Glengarry Memorial Hospital</td>\n",
       "      <td>Glengarry Memorial Hospital</td>\n",
       "      <td>Facilities used for hospital purposes</td>\n",
       "      <td>20260 County Road 43</td>\n",
       "      <td>Alexandria</td>\n",
       "      <td>K0C 1A0</td>\n",
       "      <td>54969.00</td>\n",
       "      <td>...</td>\n",
       "      <td>0.0</td>\n",
       "      <td>0.0</td>\n",
       "      <td>joule</td>\n",
       "      <td>Yes/No</td>\n",
       "      <td>0.0</td>\n",
       "      <td>483223.250177</td>\n",
       "      <td>50.161246</td>\n",
       "      <td>0.0</td>\n",
       "      <td>1.943748</td>\n",
       "      <td>0.0</td>\n",
       "    </tr>\n",
       "    <tr>\n",
       "      <th>2</th>\n",
       "      <td>2019</td>\n",
       "      <td>School Board</td>\n",
       "      <td>School Board</td>\n",
       "      <td>Algoma District School Board</td>\n",
       "      <td>Alexander Henry HS (now Boreal FI)</td>\n",
       "      <td>School</td>\n",
       "      <td>232 Northern Ave E</td>\n",
       "      <td>Sault Ste. Marie</td>\n",
       "      <td>P6B 4H6</td>\n",
       "      <td>129920.40</td>\n",
       "      <td>...</td>\n",
       "      <td>0.0</td>\n",
       "      <td>0.0</td>\n",
       "      <td>joule</td>\n",
       "      <td>Yes/No</td>\n",
       "      <td>0.0</td>\n",
       "      <td>320953.238741</td>\n",
       "      <td>13.886762</td>\n",
       "      <td>0.0</td>\n",
       "      <td>0.538112</td>\n",
       "      <td>0.0</td>\n",
       "    </tr>\n",
       "    <tr>\n",
       "      <th>3</th>\n",
       "      <td>2019</td>\n",
       "      <td>School Board</td>\n",
       "      <td>School Board</td>\n",
       "      <td>Algoma District School Board</td>\n",
       "      <td>Anna McCrea PS</td>\n",
       "      <td>School</td>\n",
       "      <td>250 Mark St</td>\n",
       "      <td>Sault Ste. Marie</td>\n",
       "      <td>P6A 3M7</td>\n",
       "      <td>32700.76</td>\n",
       "      <td>...</td>\n",
       "      <td>0.0</td>\n",
       "      <td>0.0</td>\n",
       "      <td>joule</td>\n",
       "      <td>Yes/No</td>\n",
       "      <td>0.0</td>\n",
       "      <td>89846.250100</td>\n",
       "      <td>18.920321</td>\n",
       "      <td>0.0</td>\n",
       "      <td>0.733162</td>\n",
       "      <td>0.0</td>\n",
       "    </tr>\n",
       "    <tr>\n",
       "      <th>4</th>\n",
       "      <td>2019</td>\n",
       "      <td>School Board</td>\n",
       "      <td>School Board</td>\n",
       "      <td>Algoma District School Board</td>\n",
       "      <td>Arthur Henderson PS</td>\n",
       "      <td>School</td>\n",
       "      <td>2 Henderson Lane</td>\n",
       "      <td>Bruce Mines</td>\n",
       "      <td>P0R 1C0</td>\n",
       "      <td>24810.81</td>\n",
       "      <td>...</td>\n",
       "      <td>0.0</td>\n",
       "      <td>0.0</td>\n",
       "      <td>joule</td>\n",
       "      <td>Yes/No</td>\n",
       "      <td>0.0</td>\n",
       "      <td>80322.730478</td>\n",
       "      <td>20.695796</td>\n",
       "      <td>0.0</td>\n",
       "      <td>0.801962</td>\n",
       "      <td>0.0</td>\n",
       "    </tr>\n",
       "  </tbody>\n",
       "</table>\n",
       "<p>5 rows × 42 columns</p>\n",
       "</div>"
      ],
      "text/plain": [
       "   Year           Sector               SubSector  \\\n",
       "0  2019  Public Hospital  Acute/Chronic Hospital   \n",
       "1  2019  Public Hospital  Acute/Chronic Hospital   \n",
       "2  2019     School Board            School Board   \n",
       "3  2019     School Board            School Board   \n",
       "4  2019     School Board            School Board   \n",
       "\n",
       "                             Organization                           Operation  \\\n",
       "0                      Alexandra Hospital       Alexandra Hospital, Ingersoll   \n",
       "1  Alexandria Glengarry Memorial Hospital         Glengarry Memorial Hospital   \n",
       "2            Algoma District School Board  Alexander Henry HS (now Boreal FI)   \n",
       "3            Algoma District School Board                      Anna McCrea PS   \n",
       "4            Algoma District School Board                 Arthur Henderson PS   \n",
       "\n",
       "                          Operation Type               Address  \\\n",
       "0  Facilities used for hospital purposes       29 Noxon Street   \n",
       "1  Facilities used for hospital purposes  20260 County Road 43   \n",
       "2                                 School    232 Northern Ave E   \n",
       "3                                 School           250 Mark St   \n",
       "4                                 School      2 Henderson Lane   \n",
       "\n",
       "               City Postal Code  Total Indoor Space_x  ...  \\\n",
       "0         Ingersoll     N5C 3V6               8474.00  ...   \n",
       "1        Alexandria     K0C 1A0              54969.00  ...   \n",
       "2  Sault Ste. Marie     P6B 4H6             129920.40  ...   \n",
       "3  Sault Ste. Marie     P6A 3M7              32700.76  ...   \n",
       "4       Bruce Mines     P0R 1C0              24810.81  ...   \n",
       "\n",
       "  DistrictHeating_RenewableEmissionFactor  DistrictCooling_Quantity  \\\n",
       "0                                     0.0                       0.0   \n",
       "1                                     0.0                       0.0   \n",
       "2                                     0.0                       0.0   \n",
       "3                                     0.0                       0.0   \n",
       "4                                     0.0                       0.0   \n",
       "\n",
       "   DistrictCooling_Unit  DistrictCooling_IsRenewable  \\\n",
       "0                 joule                       Yes/No   \n",
       "1                 joule                       Yes/No   \n",
       "2                 joule                       Yes/No   \n",
       "3                 joule                       Yes/No   \n",
       "4                 joule                       Yes/No   \n",
       "\n",
       "  DistrictCooling_RenewableEmissionFactor  GHG Emissions KG  \\\n",
       "0                                     0.0     904038.214491   \n",
       "1                                     0.0     483223.250177   \n",
       "2                                     0.0     320953.238741   \n",
       "3                                     0.0      89846.250100   \n",
       "4                                     0.0      80322.730478   \n",
       "\n",
       "  Energy Intensity ekWh_sqft  Energy Intensity ekWh_mega_litre  \\\n",
       "0                  72.721431                               0.0   \n",
       "1                  50.161246                               0.0   \n",
       "2                  13.886762                               0.0   \n",
       "3                  18.920321                               0.0   \n",
       "4                  20.695796                               0.0   \n",
       "\n",
       "  Energy Intensity GJ_m2  Energy Intensity GJ_mega_litre  \n",
       "0               2.817955                             0.0  \n",
       "1               1.943748                             0.0  \n",
       "2               0.538112                             0.0  \n",
       "3               0.733162                             0.0  \n",
       "4               0.801962                             0.0  \n",
       "\n",
       "[5 rows x 42 columns]"
      ]
     },
     "execution_count": 1213,
     "metadata": {},
     "output_type": "execute_result"
    }
   ],
   "source": [
    "df_8.head()"
   ]
  },
  {
   "cell_type": "markdown",
   "id": "4996a187",
   "metadata": {},
   "source": [
    "# Datas for 2020"
   ]
  },
  {
   "cell_type": "code",
   "execution_count": 31,
   "id": "0bf848b6",
   "metadata": {},
   "outputs": [],
   "source": [
    "df_9 = pd.read_excel('datas/bps_2020_report_english_1.xlsx')"
   ]
  },
  {
   "cell_type": "code",
   "execution_count": 32,
   "id": "0a1d4841",
   "metadata": {
    "collapsed": true
   },
   "outputs": [
    {
     "data": {
      "text/html": [
       "<div>\n",
       "<style scoped>\n",
       "    .dataframe tbody tr th:only-of-type {\n",
       "        vertical-align: middle;\n",
       "    }\n",
       "\n",
       "    .dataframe tbody tr th {\n",
       "        vertical-align: top;\n",
       "    }\n",
       "\n",
       "    .dataframe thead th {\n",
       "        text-align: right;\n",
       "    }\n",
       "</style>\n",
       "<table border=\"1\" class=\"dataframe\">\n",
       "  <thead>\n",
       "    <tr style=\"text-align: right;\">\n",
       "      <th></th>\n",
       "      <th>Sector</th>\n",
       "      <th>SubSector</th>\n",
       "      <th>Organization</th>\n",
       "      <th>Operation</th>\n",
       "      <th>Operation Type</th>\n",
       "      <th>Address</th>\n",
       "      <th>City</th>\n",
       "      <th>Postal Code</th>\n",
       "      <th>Total Indoor Space_x</th>\n",
       "      <th>Unit of Measure</th>\n",
       "      <th>...</th>\n",
       "      <th>DistrictHeating_RenewableEmissionFactor</th>\n",
       "      <th>DistrictCooling_Quantity</th>\n",
       "      <th>DistrictCooling_Unit</th>\n",
       "      <th>DistrictCooling_IsRenewable</th>\n",
       "      <th>DistrictCooling_RenewableEmissionFactor</th>\n",
       "      <th>GHG Emissions KG</th>\n",
       "      <th>Energy Intensity ekWh_sqft</th>\n",
       "      <th>Energy Intensity ekWh_mega_litre</th>\n",
       "      <th>Energy Intensity GJ_m2</th>\n",
       "      <th>Energy Intensity GJ_mega_litre</th>\n",
       "    </tr>\n",
       "  </thead>\n",
       "  <tbody>\n",
       "    <tr>\n",
       "      <th>0</th>\n",
       "      <td>Public Hospital</td>\n",
       "      <td>Acute/Chronic Hospital</td>\n",
       "      <td>Alexandra Hospital</td>\n",
       "      <td>Alexandra Hospital, Ingersoll</td>\n",
       "      <td>Facilities used for hospital purposes</td>\n",
       "      <td>29 Noxon Street</td>\n",
       "      <td>Ingersoll</td>\n",
       "      <td>N5C 3V6</td>\n",
       "      <td>91213.2886</td>\n",
       "      <td>Square feet</td>\n",
       "      <td>...</td>\n",
       "      <td>0.0</td>\n",
       "      <td>0.0</td>\n",
       "      <td>NaN</td>\n",
       "      <td>NaN</td>\n",
       "      <td>0.0</td>\n",
       "      <td>850748.303252</td>\n",
       "      <td>71.059125</td>\n",
       "      <td>0.0</td>\n",
       "      <td>2.753541</td>\n",
       "      <td>0.0</td>\n",
       "    </tr>\n",
       "    <tr>\n",
       "      <th>1</th>\n",
       "      <td>School Board</td>\n",
       "      <td>School Board</td>\n",
       "      <td>Algoma District School Board</td>\n",
       "      <td>Ben R McMullin PS</td>\n",
       "      <td>School</td>\n",
       "      <td>24 Paradise Ave</td>\n",
       "      <td>Sault Ste. Marie</td>\n",
       "      <td>P6B 5K2</td>\n",
       "      <td>22098.3100</td>\n",
       "      <td>Square feet</td>\n",
       "      <td>...</td>\n",
       "      <td>0.0</td>\n",
       "      <td>0.0</td>\n",
       "      <td>NaN</td>\n",
       "      <td>NaN</td>\n",
       "      <td>0.0</td>\n",
       "      <td>77791.063715</td>\n",
       "      <td>25.206437</td>\n",
       "      <td>0.0</td>\n",
       "      <td>0.976749</td>\n",
       "      <td>0.0</td>\n",
       "    </tr>\n",
       "    <tr>\n",
       "      <th>2</th>\n",
       "      <td>School Board</td>\n",
       "      <td>School Board</td>\n",
       "      <td>Algoma District School Board</td>\n",
       "      <td>Blind River PS</td>\n",
       "      <td>School</td>\n",
       "      <td>19 Hanes Ave</td>\n",
       "      <td>Blind River</td>\n",
       "      <td>P0R 1B0</td>\n",
       "      <td>48243.8500</td>\n",
       "      <td>Square feet</td>\n",
       "      <td>...</td>\n",
       "      <td>0.0</td>\n",
       "      <td>0.0</td>\n",
       "      <td>NaN</td>\n",
       "      <td>NaN</td>\n",
       "      <td>0.0</td>\n",
       "      <td>77792.354431</td>\n",
       "      <td>11.546075</td>\n",
       "      <td>0.0</td>\n",
       "      <td>0.447410</td>\n",
       "      <td>0.0</td>\n",
       "    </tr>\n",
       "    <tr>\n",
       "      <th>3</th>\n",
       "      <td>School Board</td>\n",
       "      <td>School Board</td>\n",
       "      <td>Algoma District School Board</td>\n",
       "      <td>Central Algoma SS</td>\n",
       "      <td>School</td>\n",
       "      <td>32 Kensington Rd</td>\n",
       "      <td>Desbarats</td>\n",
       "      <td>P0R 1E0</td>\n",
       "      <td>112881.1000</td>\n",
       "      <td>Square feet</td>\n",
       "      <td>...</td>\n",
       "      <td>0.0</td>\n",
       "      <td>0.0</td>\n",
       "      <td>NaN</td>\n",
       "      <td>NaN</td>\n",
       "      <td>0.0</td>\n",
       "      <td>488110.028273</td>\n",
       "      <td>31.241545</td>\n",
       "      <td>0.0</td>\n",
       "      <td>1.210610</td>\n",
       "      <td>0.0</td>\n",
       "    </tr>\n",
       "    <tr>\n",
       "      <th>4</th>\n",
       "      <td>School Board</td>\n",
       "      <td>School Board</td>\n",
       "      <td>Algoma District School Board</td>\n",
       "      <td>Boreal FI</td>\n",
       "      <td>School</td>\n",
       "      <td>232 Northern Ave E</td>\n",
       "      <td>Sault Ste. Marie</td>\n",
       "      <td>P6B 4H6</td>\n",
       "      <td>129920.4000</td>\n",
       "      <td>Square feet</td>\n",
       "      <td>...</td>\n",
       "      <td>0.0</td>\n",
       "      <td>0.0</td>\n",
       "      <td>NaN</td>\n",
       "      <td>NaN</td>\n",
       "      <td>0.0</td>\n",
       "      <td>320655.801505</td>\n",
       "      <td>17.954876</td>\n",
       "      <td>0.0</td>\n",
       "      <td>0.695751</td>\n",
       "      <td>0.0</td>\n",
       "    </tr>\n",
       "  </tbody>\n",
       "</table>\n",
       "<p>5 rows × 41 columns</p>\n",
       "</div>"
      ],
      "text/plain": [
       "            Sector               SubSector                  Organization  \\\n",
       "0  Public Hospital  Acute/Chronic Hospital            Alexandra Hospital   \n",
       "1     School Board            School Board  Algoma District School Board   \n",
       "2     School Board            School Board  Algoma District School Board   \n",
       "3     School Board            School Board  Algoma District School Board   \n",
       "4     School Board            School Board  Algoma District School Board   \n",
       "\n",
       "                       Operation                         Operation Type  \\\n",
       "0  Alexandra Hospital, Ingersoll  Facilities used for hospital purposes   \n",
       "1              Ben R McMullin PS                                 School   \n",
       "2                 Blind River PS                                 School   \n",
       "3              Central Algoma SS                                 School   \n",
       "4                      Boreal FI                                 School   \n",
       "\n",
       "              Address              City Postal Code  Total Indoor Space_x  \\\n",
       "0     29 Noxon Street         Ingersoll     N5C 3V6            91213.2886   \n",
       "1     24 Paradise Ave  Sault Ste. Marie     P6B 5K2            22098.3100   \n",
       "2        19 Hanes Ave       Blind River     P0R 1B0            48243.8500   \n",
       "3    32 Kensington Rd         Desbarats     P0R 1E0           112881.1000   \n",
       "4  232 Northern Ave E  Sault Ste. Marie     P6B 4H6           129920.4000   \n",
       "\n",
       "  Unit of Measure  ...  DistrictHeating_RenewableEmissionFactor  \\\n",
       "0     Square feet  ...                                      0.0   \n",
       "1     Square feet  ...                                      0.0   \n",
       "2     Square feet  ...                                      0.0   \n",
       "3     Square feet  ...                                      0.0   \n",
       "4     Square feet  ...                                      0.0   \n",
       "\n",
       "   DistrictCooling_Quantity  DistrictCooling_Unit DistrictCooling_IsRenewable  \\\n",
       "0                       0.0                   NaN                         NaN   \n",
       "1                       0.0                   NaN                         NaN   \n",
       "2                       0.0                   NaN                         NaN   \n",
       "3                       0.0                   NaN                         NaN   \n",
       "4                       0.0                   NaN                         NaN   \n",
       "\n",
       "   DistrictCooling_RenewableEmissionFactor GHG Emissions KG  \\\n",
       "0                                      0.0    850748.303252   \n",
       "1                                      0.0     77791.063715   \n",
       "2                                      0.0     77792.354431   \n",
       "3                                      0.0    488110.028273   \n",
       "4                                      0.0    320655.801505   \n",
       "\n",
       "   Energy Intensity ekWh_sqft Energy Intensity ekWh_mega_litre  \\\n",
       "0                   71.059125                              0.0   \n",
       "1                   25.206437                              0.0   \n",
       "2                   11.546075                              0.0   \n",
       "3                   31.241545                              0.0   \n",
       "4                   17.954876                              0.0   \n",
       "\n",
       "   Energy Intensity GJ_m2 Energy Intensity GJ_mega_litre  \n",
       "0                2.753541                            0.0  \n",
       "1                0.976749                            0.0  \n",
       "2                0.447410                            0.0  \n",
       "3                1.210610                            0.0  \n",
       "4                0.695751                            0.0  \n",
       "\n",
       "[5 rows x 41 columns]"
      ]
     },
     "execution_count": 32,
     "metadata": {},
     "output_type": "execute_result"
    }
   ],
   "source": [
    "df_9.head()"
   ]
  },
  {
   "cell_type": "code",
   "execution_count": 33,
   "id": "fb798d36",
   "metadata": {
    "collapsed": true
   },
   "outputs": [
    {
     "data": {
      "text/plain": [
       "Index(['Sector', 'SubSector', 'Organization', 'Operation', 'Operation Type',\n",
       "       'Address', 'City', 'Postal Code', 'Total Indoor Space_x',\n",
       "       'Unit of Measure', 'Weekly Average Hours', 'Annual Flow (M)',\n",
       "       'Number of Portables', 'Swimming Pool', 'Electricity_Quantity',\n",
       "       'Electricity_Unit', 'NaturalGas_Quantity', 'NaturalGas_Unit',\n",
       "       'FuelOil12_Quantity', 'FuelOil12_Unit', 'FuelOil46_Quantity',\n",
       "       'FuelOil46_Unit', 'Propane_Quantity', 'Propane_Unit', 'Coal_Quantity',\n",
       "       'Coal_Unit', 'Wood_Quantity', 'Wood_Unit', 'DistrictHeating_Quantity',\n",
       "       'DistrictHeating_Unit', 'DistrictHeating_IsRenewable',\n",
       "       'DistrictHeating_RenewableEmissionFactor', 'DistrictCooling_Quantity',\n",
       "       'DistrictCooling_Unit', 'DistrictCooling_IsRenewable',\n",
       "       'DistrictCooling_RenewableEmissionFactor', 'GHG Emissions KG',\n",
       "       'Energy Intensity ekWh_sqft', 'Energy Intensity ekWh_mega_litre',\n",
       "       'Energy Intensity GJ_m2', 'Energy Intensity GJ_mega_litre'],\n",
       "      dtype='object')"
      ]
     },
     "execution_count": 33,
     "metadata": {},
     "output_type": "execute_result"
    }
   ],
   "source": [
    "df_9.columns"
   ]
  },
  {
   "cell_type": "code",
   "execution_count": 579,
   "id": "a2ad5d71",
   "metadata": {
    "collapsed": true
   },
   "outputs": [
    {
     "data": {
      "text/plain": [
       "Sector                                         0\n",
       "SubSector                                      0\n",
       "Organization                                   0\n",
       "Operation                                      0\n",
       "Operation Type                                 0\n",
       "Address                                        9\n",
       "City                                           0\n",
       "Postal Code                                   14\n",
       "Total Indoor Space_x                           0\n",
       "Unit of Measure                                0\n",
       "Weekly Average Hours                           0\n",
       "Annual Flow (M)                              929\n",
       "Number of Portables                            0\n",
       "Swimming Pool                              11002\n",
       "Electricity_Quantity                           0\n",
       "Electricity_Unit                             294\n",
       "NaturalGas_Quantity                            0\n",
       "NaturalGas_Unit                             5924\n",
       "FuelOil12_Quantity                             0\n",
       "FuelOil12_Unit                             16437\n",
       "FuelOil46_Quantity                             0\n",
       "FuelOil46_Unit                             16810\n",
       "Propane_Quantity                               0\n",
       "Propane_Unit                               15935\n",
       "Coal_Quantity                                  0\n",
       "Coal_Unit                                  16848\n",
       "Wood_Quantity                                  0\n",
       "Wood_Unit                                  16843\n",
       "DistrictHeating_Quantity                       0\n",
       "DistrictHeating_Unit                       16708\n",
       "DistrictHeating_IsRenewable                16708\n",
       "DistrictHeating_RenewableEmissionFactor        8\n",
       "DistrictCooling_Quantity                       0\n",
       "DistrictCooling_Unit                       16744\n",
       "DistrictCooling_IsRenewable                16744\n",
       "DistrictCooling_RenewableEmissionFactor        3\n",
       "GHG Emissions KG                               0\n",
       "Energy Intensity ekWh_sqft                     0\n",
       "Energy Intensity ekWh_mega_litre               0\n",
       "Energy Intensity GJ_m2                         0\n",
       "Energy Intensity GJ_mega_litre                 0\n",
       "dtype: int64"
      ]
     },
     "execution_count": 579,
     "metadata": {},
     "output_type": "execute_result"
    }
   ],
   "source": [
    "df_9.isnull().sum()"
   ]
  },
  {
   "cell_type": "code",
   "execution_count": 646,
   "id": "1f2ffc66",
   "metadata": {},
   "outputs": [],
   "source": [
    "df_9 = df_9.dropna(subset=['Address'])"
   ]
  },
  {
   "cell_type": "code",
   "execution_count": 647,
   "id": "6bdc242e",
   "metadata": {},
   "outputs": [],
   "source": [
    "df_9 = df_9.dropna(subset=['Postal Code'])"
   ]
  },
  {
   "cell_type": "code",
   "execution_count": 648,
   "id": "38276a7b",
   "metadata": {},
   "outputs": [
    {
     "data": {
      "text/plain": [
       "array(['Square feet'], dtype=object)"
      ]
     },
     "execution_count": 648,
     "metadata": {},
     "output_type": "execute_result"
    }
   ],
   "source": [
    "df_9['Unit of Measure'].unique()"
   ]
  },
  {
   "cell_type": "code",
   "execution_count": 649,
   "id": "ae918e0f",
   "metadata": {},
   "outputs": [
    {
     "data": {
      "text/plain": [
       "array([0.0000e+00, 1.0000e-05, 1.5590e+03, ..., 7.9685e+04, 5.4304e+04,\n",
       "       2.0350e+03])"
      ]
     },
     "execution_count": 649,
     "metadata": {},
     "output_type": "execute_result"
    }
   ],
   "source": [
    "df_9['Annual Flow (M)'].unique()"
   ]
  },
  {
   "cell_type": "code",
   "execution_count": 651,
   "id": "b27081d8",
   "metadata": {},
   "outputs": [],
   "source": [
    "mean_value = df_9['Annual Flow (M)'].mean()\n",
    "\n",
    "df_9['Annual Flow (M)'].fillna(mean_value, inplace=True)"
   ]
  },
  {
   "cell_type": "code",
   "execution_count": 653,
   "id": "a2c73018",
   "metadata": {},
   "outputs": [
    {
     "data": {
      "text/plain": [
       "array([nan, 'No', 'Yes'], dtype=object)"
      ]
     },
     "execution_count": 653,
     "metadata": {},
     "output_type": "execute_result"
    }
   ],
   "source": [
    "df_9['Swimming Pool'].unique()"
   ]
  },
  {
   "cell_type": "code",
   "execution_count": 654,
   "id": "3b908e07",
   "metadata": {},
   "outputs": [],
   "source": [
    "df_9['Swimming Pool'].fillna('Yes/No', inplace=True)"
   ]
  },
  {
   "cell_type": "code",
   "execution_count": 656,
   "id": "a0d189ca",
   "metadata": {},
   "outputs": [
    {
     "data": {
      "text/plain": [
       "array(['kWh', nan], dtype=object)"
      ]
     },
     "execution_count": 656,
     "metadata": {},
     "output_type": "execute_result"
    }
   ],
   "source": [
    "df_9['Electricity_Unit'].unique()"
   ]
  },
  {
   "cell_type": "code",
   "execution_count": 657,
   "id": "22996ac9",
   "metadata": {},
   "outputs": [],
   "source": [
    "df_9['Electricity_Unit'].fillna('kWh', inplace=True)"
   ]
  },
  {
   "cell_type": "code",
   "execution_count": 659,
   "id": "7805dbd6",
   "metadata": {},
   "outputs": [
    {
     "data": {
      "text/plain": [
       "array(['Cubic Meter', nan, 'ekWh', 'Giga Joule'], dtype=object)"
      ]
     },
     "execution_count": 659,
     "metadata": {},
     "output_type": "execute_result"
    }
   ],
   "source": [
    "df_9['NaturalGas_Unit'].unique()"
   ]
  },
  {
   "cell_type": "code",
   "execution_count": 660,
   "id": "79abe036",
   "metadata": {},
   "outputs": [],
   "source": [
    "gas_mapping = {'ekWh': 'Cubic Meter', 'Giga Joule': 'Cubic Meter'}\n",
    "df_9['NaturalGas_Unit'] = df_9['NaturalGas_Unit'].map(gas_mapping)"
   ]
  },
  {
   "cell_type": "code",
   "execution_count": 661,
   "id": "781b0f7f",
   "metadata": {},
   "outputs": [],
   "source": [
    "df_9['NaturalGas_Unit'].fillna('Cubic Meter', inplace=True)"
   ]
  },
  {
   "cell_type": "code",
   "execution_count": 663,
   "id": "b9ed2e92",
   "metadata": {},
   "outputs": [
    {
     "data": {
      "text/plain": [
       "array([nan, 'Litre'], dtype=object)"
      ]
     },
     "execution_count": 663,
     "metadata": {},
     "output_type": "execute_result"
    }
   ],
   "source": [
    "df_9['FuelOil12_Unit'].unique()"
   ]
  },
  {
   "cell_type": "code",
   "execution_count": 664,
   "id": "c637ccb6",
   "metadata": {},
   "outputs": [],
   "source": [
    "df_9['FuelOil12_Unit'].fillna('Litre', inplace=True)"
   ]
  },
  {
   "cell_type": "code",
   "execution_count": 666,
   "id": "94889a77",
   "metadata": {},
   "outputs": [
    {
     "data": {
      "text/plain": [
       "array([nan, 'Litre'], dtype=object)"
      ]
     },
     "execution_count": 666,
     "metadata": {},
     "output_type": "execute_result"
    }
   ],
   "source": [
    "df_9['FuelOil46_Unit'].unique()"
   ]
  },
  {
   "cell_type": "code",
   "execution_count": 667,
   "id": "4f28ec67",
   "metadata": {},
   "outputs": [],
   "source": [
    "df_9['FuelOil46_Unit'].fillna('Litre', inplace=True)"
   ]
  },
  {
   "cell_type": "code",
   "execution_count": 669,
   "id": "044cb1fe",
   "metadata": {},
   "outputs": [
    {
     "data": {
      "text/plain": [
       "array([nan, 'Litre'], dtype=object)"
      ]
     },
     "execution_count": 669,
     "metadata": {},
     "output_type": "execute_result"
    }
   ],
   "source": [
    "df_9['Propane_Unit'].unique()"
   ]
  },
  {
   "cell_type": "code",
   "execution_count": 670,
   "id": "7d592e94",
   "metadata": {},
   "outputs": [],
   "source": [
    "df_9['Propane_Unit'].fillna('Litre', inplace=True)"
   ]
  },
  {
   "cell_type": "code",
   "execution_count": 672,
   "id": "e8a253c1",
   "metadata": {},
   "outputs": [
    {
     "data": {
      "text/plain": [
       "array([nan])"
      ]
     },
     "execution_count": 672,
     "metadata": {},
     "output_type": "execute_result"
    }
   ],
   "source": [
    "df_9['Coal_Unit'].unique()"
   ]
  },
  {
   "cell_type": "code",
   "execution_count": 676,
   "id": "e2cde52d",
   "metadata": {},
   "outputs": [],
   "source": [
    "df_9['Coal_Unit'].fillna('Tons', inplace=True)"
   ]
  },
  {
   "cell_type": "code",
   "execution_count": 678,
   "id": "eda53bb3",
   "metadata": {},
   "outputs": [
    {
     "data": {
      "text/plain": [
       "array([nan, 'Metric Tonne'], dtype=object)"
      ]
     },
     "execution_count": 678,
     "metadata": {},
     "output_type": "execute_result"
    }
   ],
   "source": [
    "df_9['Wood_Unit'].unique()"
   ]
  },
  {
   "cell_type": "code",
   "execution_count": 679,
   "id": "c12e7aae",
   "metadata": {},
   "outputs": [],
   "source": [
    "df_9['Wood_Unit'].fillna('Metric Tonne', inplace=True)"
   ]
  },
  {
   "cell_type": "code",
   "execution_count": 681,
   "id": "9352e059",
   "metadata": {},
   "outputs": [
    {
     "data": {
      "text/plain": [
       "array([nan, 'Giga Joule', 'KL Hot Water', 'Metric Tonne'], dtype=object)"
      ]
     },
     "execution_count": 681,
     "metadata": {},
     "output_type": "execute_result"
    }
   ],
   "source": [
    "df_9['DistrictHeating_Unit'].unique()"
   ]
  },
  {
   "cell_type": "code",
   "execution_count": 682,
   "id": "aabd68dd",
   "metadata": {},
   "outputs": [],
   "source": [
    "heat_mapping = {'Giga Joule': 'joule', 'Metric Tonne': 'joule', 'KL Hot Water': 'joule'}\n",
    "df_9['DistrictHeating_Unit'] = df_9['DistrictHeating_Unit'].map(heat_mapping)"
   ]
  },
  {
   "cell_type": "code",
   "execution_count": 683,
   "id": "39d224f5",
   "metadata": {},
   "outputs": [],
   "source": [
    "df_9['DistrictHeating_Unit'].fillna('joule', inplace=True)"
   ]
  },
  {
   "cell_type": "code",
   "execution_count": 685,
   "id": "a6c1e83d",
   "metadata": {},
   "outputs": [
    {
     "data": {
      "text/plain": [
       "array([nan, 'No', 'Yes'], dtype=object)"
      ]
     },
     "execution_count": 685,
     "metadata": {},
     "output_type": "execute_result"
    }
   ],
   "source": [
    "df_9['DistrictHeating_IsRenewable'].unique()"
   ]
  },
  {
   "cell_type": "code",
   "execution_count": 686,
   "id": "620d51a6",
   "metadata": {},
   "outputs": [],
   "source": [
    "df_9['DistrictHeating_IsRenewable'].fillna('Yes/No', inplace=True)"
   ]
  },
  {
   "cell_type": "code",
   "execution_count": 688,
   "id": "076b53b2",
   "metadata": {},
   "outputs": [
    {
     "data": {
      "text/plain": [
       "array([  0.        , 871.308     ,          nan, 157.409868  ,\n",
       "        56.65222158,  47.59006302,  47.        ])"
      ]
     },
     "execution_count": 688,
     "metadata": {},
     "output_type": "execute_result"
    }
   ],
   "source": [
    "df_9['DistrictHeating_RenewableEmissionFactor'].unique()"
   ]
  },
  {
   "cell_type": "code",
   "execution_count": 689,
   "id": "ff4cd243",
   "metadata": {},
   "outputs": [],
   "source": [
    "df_9 = df_9.dropna(subset=['DistrictHeating_RenewableEmissionFactor'])"
   ]
  },
  {
   "cell_type": "code",
   "execution_count": 691,
   "id": "7fdde19d",
   "metadata": {},
   "outputs": [
    {
     "data": {
      "text/plain": [
       "array([nan, 'Giga Joule', 'KL Chilled Water'], dtype=object)"
      ]
     },
     "execution_count": 691,
     "metadata": {},
     "output_type": "execute_result"
    }
   ],
   "source": [
    "df_9['DistrictCooling_Unit'].unique()"
   ]
  },
  {
   "cell_type": "code",
   "execution_count": 692,
   "id": "4abe33f7",
   "metadata": {
    "collapsed": true
   },
   "outputs": [
    {
     "name": "stderr",
     "output_type": "stream",
     "text": [
      "/var/folders/5_/gr87l7990pq6c1zhr9t2t40r0000gn/T/ipykernel_3988/3116071332.py:2: SettingWithCopyWarning: \n",
      "A value is trying to be set on a copy of a slice from a DataFrame.\n",
      "Try using .loc[row_indexer,col_indexer] = value instead\n",
      "\n",
      "See the caveats in the documentation: https://pandas.pydata.org/pandas-docs/stable/user_guide/indexing.html#returning-a-view-versus-a-copy\n",
      "  df_9['DistrictCooling_Unit'] = df_9['DistrictCooling_Unit'].map(cool_mapping)\n"
     ]
    }
   ],
   "source": [
    "cool_mapping = {'Giga Joule': 'joule','KL Chilled Water': 'joule'}\n",
    "df_9['DistrictCooling_Unit'] = df_9['DistrictCooling_Unit'].map(cool_mapping)"
   ]
  },
  {
   "cell_type": "code",
   "execution_count": 693,
   "id": "7c791279",
   "metadata": {
    "collapsed": true
   },
   "outputs": [
    {
     "name": "stderr",
     "output_type": "stream",
     "text": [
      "/var/folders/5_/gr87l7990pq6c1zhr9t2t40r0000gn/T/ipykernel_3988/3170675739.py:1: SettingWithCopyWarning: \n",
      "A value is trying to be set on a copy of a slice from a DataFrame\n",
      "\n",
      "See the caveats in the documentation: https://pandas.pydata.org/pandas-docs/stable/user_guide/indexing.html#returning-a-view-versus-a-copy\n",
      "  df_9['DistrictCooling_Unit'].fillna('joule', inplace=True)\n"
     ]
    }
   ],
   "source": [
    "df_9['DistrictCooling_Unit'].fillna('joule', inplace=True)"
   ]
  },
  {
   "cell_type": "code",
   "execution_count": 695,
   "id": "5db740c3",
   "metadata": {},
   "outputs": [
    {
     "data": {
      "text/plain": [
       "array([nan, 'No', 'Yes'], dtype=object)"
      ]
     },
     "execution_count": 695,
     "metadata": {},
     "output_type": "execute_result"
    }
   ],
   "source": [
    "df_9['DistrictCooling_IsRenewable'].unique()"
   ]
  },
  {
   "cell_type": "code",
   "execution_count": 696,
   "id": "e8cf1acb",
   "metadata": {
    "collapsed": true
   },
   "outputs": [
    {
     "name": "stderr",
     "output_type": "stream",
     "text": [
      "/var/folders/5_/gr87l7990pq6c1zhr9t2t40r0000gn/T/ipykernel_3988/1220811927.py:1: SettingWithCopyWarning: \n",
      "A value is trying to be set on a copy of a slice from a DataFrame\n",
      "\n",
      "See the caveats in the documentation: https://pandas.pydata.org/pandas-docs/stable/user_guide/indexing.html#returning-a-view-versus-a-copy\n",
      "  df_9['DistrictCooling_IsRenewable'].fillna('Yes/No', inplace=True)\n"
     ]
    }
   ],
   "source": [
    "df_9['DistrictCooling_IsRenewable'].fillna('Yes/No', inplace=True)"
   ]
  },
  {
   "cell_type": "code",
   "execution_count": 698,
   "id": "849793b6",
   "metadata": {},
   "outputs": [
    {
     "data": {
      "text/plain": [
       "array([0.        ,        nan, 1.54809478, 0.06468006])"
      ]
     },
     "execution_count": 698,
     "metadata": {},
     "output_type": "execute_result"
    }
   ],
   "source": [
    "df_9['DistrictCooling_RenewableEmissionFactor'].unique()"
   ]
  },
  {
   "cell_type": "code",
   "execution_count": 699,
   "id": "5ae2eb6d",
   "metadata": {},
   "outputs": [],
   "source": [
    "df_9 = df_9.dropna(subset=['DistrictCooling_RenewableEmissionFactor'])"
   ]
  },
  {
   "cell_type": "code",
   "execution_count": 700,
   "id": "2a839583",
   "metadata": {
    "collapsed": true
   },
   "outputs": [
    {
     "data": {
      "text/plain": [
       "Sector                                     0\n",
       "SubSector                                  0\n",
       "Organization                               0\n",
       "Operation                                  0\n",
       "Operation Type                             0\n",
       "Address                                    0\n",
       "City                                       0\n",
       "Postal Code                                0\n",
       "Total Indoor Space_x                       0\n",
       "Unit of Measure                            0\n",
       "Weekly Average Hours                       0\n",
       "Annual Flow (M)                            0\n",
       "Number of Portables                        0\n",
       "Swimming Pool                              0\n",
       "Electricity_Quantity                       0\n",
       "Electricity_Unit                           0\n",
       "NaturalGas_Quantity                        0\n",
       "NaturalGas_Unit                            0\n",
       "FuelOil12_Quantity                         0\n",
       "FuelOil12_Unit                             0\n",
       "FuelOil46_Quantity                         0\n",
       "FuelOil46_Unit                             0\n",
       "Propane_Quantity                           0\n",
       "Propane_Unit                               0\n",
       "Coal_Quantity                              0\n",
       "Coal_Unit                                  0\n",
       "Wood_Quantity                              0\n",
       "Wood_Unit                                  0\n",
       "DistrictHeating_Quantity                   0\n",
       "DistrictHeating_Unit                       0\n",
       "DistrictHeating_IsRenewable                0\n",
       "DistrictHeating_RenewableEmissionFactor    0\n",
       "DistrictCooling_Quantity                   0\n",
       "DistrictCooling_Unit                       0\n",
       "DistrictCooling_IsRenewable                0\n",
       "DistrictCooling_RenewableEmissionFactor    0\n",
       "GHG Emissions KG                           0\n",
       "Energy Intensity ekWh_sqft                 0\n",
       "Energy Intensity ekWh_mega_litre           0\n",
       "Energy Intensity GJ_m2                     0\n",
       "Energy Intensity GJ_mega_litre             0\n",
       "dtype: int64"
      ]
     },
     "execution_count": 700,
     "metadata": {},
     "output_type": "execute_result"
    }
   ],
   "source": [
    "df_9.isnull().sum()"
   ]
  },
  {
   "cell_type": "code",
   "execution_count": 1150,
   "id": "d50860e3",
   "metadata": {
    "collapsed": true
   },
   "outputs": [
    {
     "data": {
      "text/plain": [
       "Sector                                      object\n",
       "SubSector                                   object\n",
       "Organization                                object\n",
       "Operation                                   object\n",
       "Operation Type                              object\n",
       "Address                                     object\n",
       "City                                        object\n",
       "Postal Code                                 object\n",
       "Total Indoor Space_x                       float64\n",
       "Unit of Measure                             object\n",
       "Weekly Average Hours                       float64\n",
       "Annual Flow (M)                            float64\n",
       "Number of Portables                          int64\n",
       "Swimming Pool                               object\n",
       "Electricity_Quantity                       float64\n",
       "Electricity_Unit                            object\n",
       "NaturalGas_Quantity                        float64\n",
       "NaturalGas_Unit                             object\n",
       "FuelOil12_Quantity                         float64\n",
       "FuelOil12_Unit                              object\n",
       "FuelOil46_Quantity                         float64\n",
       "FuelOil46_Unit                              object\n",
       "Propane_Quantity                           float64\n",
       "Propane_Unit                                object\n",
       "Coal_Quantity                                int64\n",
       "Coal_Unit                                   object\n",
       "Wood_Quantity                              float64\n",
       "Wood_Unit                                   object\n",
       "DistrictHeating_Quantity                   float64\n",
       "DistrictHeating_Unit                        object\n",
       "DistrictHeating_IsRenewable                 object\n",
       "DistrictHeating_RenewableEmissionFactor    float64\n",
       "DistrictCooling_Quantity                   float64\n",
       "DistrictCooling_Unit                        object\n",
       "DistrictCooling_IsRenewable                 object\n",
       "DistrictCooling_RenewableEmissionFactor    float64\n",
       "GHG Emissions KG                           float64\n",
       "Energy Intensity ekWh_sqft                 float64\n",
       "Energy Intensity ekWh_mega_litre           float64\n",
       "Energy Intensity GJ_m2                     float64\n",
       "Energy Intensity GJ_mega_litre             float64\n",
       "dtype: object"
      ]
     },
     "execution_count": 1150,
     "metadata": {},
     "output_type": "execute_result"
    }
   ],
   "source": [
    "df_9.dtypes"
   ]
  },
  {
   "cell_type": "code",
   "execution_count": 1192,
   "id": "9f82a64f",
   "metadata": {},
   "outputs": [],
   "source": [
    "column_mapping9 = {'Sector': 'Sector', 'SubSector': 'SubSector', 'Organization': 'Organization', 'Operation': 'Operation',\n",
    "                 'Operation Type': 'Operation Type', 'Address': 'Address', 'City': 'City', 'Postal Code': 'Postal Code', 'Total Indoor Space_x': 'Total Indoor Space_x',\n",
    "                 'Unit of Measure': 'Unit of Measure', 'Weekly Average Hours': 'Weekly Average Hours', 'Annual Flow (M)': 'Annual Flow (M)', 'Number of Portables': 'Number of Portables',\n",
    "                 'Swimming Pool': 'Swimming Pool', 'Electricity_Quantity': 'Electricity_Quantity', 'Electricity_Unit': 'Electricity_Unit', 'NaturalGas_Quantity': 'NaturalGas_Quantity',\n",
    "                 'NaturalGas_Unit': 'NaturalGas_Unit', 'FuelOil12_Quantity': 'FuelOil12_Quantity', 'FuelOil12_Unit': 'FuelOil12_Unit', 'FuelOil46_Quantity': 'FuelOil46_Quantity',\n",
    "                 'FuelOil46_Unit': 'FuelOil46_Unit', 'Propane_Quantity': 'Propane_Quantity', 'Propane_Unit': 'Propane_Unit', 'Coal_Quantity': 'Coal_Quantity',\n",
    "                 'Coal_Unit': 'Coal_Unit', 'Wood_Quantity': 'Wood_Quantity', 'Wood_Unit': 'Wood_Unit', 'DistrictHeating_Quantity': 'DistrictHeating_Quantity', 'DistrictHeating_Unit': 'DistrictHeating_Unit',\n",
    "                 'DistrictHeating_IsRenewable': 'DistrictHeating_IsRenewable', 'DistrictHeating_RenewableEmissionFactor': 'DistrictHeating_RenewableEmissionFactor','DistrictCooling_Quantity': 'DistrictCooling_Quantity',\n",
    "                 'DistrictCooling_Unit': 'DistrictCooling_Unit', 'DistrictCooling_IsRenewable': 'DistrictCooling_IsRenewable', 'DistrictCooling_RenewableEmissionFactor': 'DistrictCooling_RenewableEmissionFactor',\n",
    "                 'GHG Emissions KG': 'GHG Emissions KG', 'Energy Intensity ekWh_sqft': 'Energy Intensity ekWh_sqft', 'Energy Intensity ekWh_mega_litre': 'Energy Intensity ekWh_mega_litre',\n",
    "                 'Energy Intensity GJ_m2': 'Energy Intensity GJ_m2', 'Energy Intensity GJ_mega_litre': 'Energy Intensity GJ_mega_litre'}\n",
    "\n"
   ]
  },
  {
   "cell_type": "code",
   "execution_count": 1193,
   "id": "c5e7dd51",
   "metadata": {},
   "outputs": [],
   "source": [
    "df_9.rename(columns=column_mapping9, inplace=True)"
   ]
  },
  {
   "cell_type": "code",
   "execution_count": 1194,
   "id": "d1981c42",
   "metadata": {
    "collapsed": true
   },
   "outputs": [
    {
     "data": {
      "text/plain": [
       "Index(['Sector', 'SubSector', 'Organization', 'Operation', 'Operation Type',\n",
       "       'Address', 'City', 'Postal Code', 'Total Indoor Space_x',\n",
       "       'Unit of Measure', 'Weekly Average Hours', 'Annual Flow (M)',\n",
       "       'Number of Portables', 'Swimming Pool', 'Electricity_Quantity',\n",
       "       'Electricity_Unit', 'NaturalGas_Quantity', 'NaturalGas_Unit',\n",
       "       'FuelOil12_Quantity', 'FuelOil12_Unit', 'FuelOil46_Quantity',\n",
       "       'FuelOil46_Unit', 'Propane_Quantity', 'Propane_Unit', 'Coal_Quantity',\n",
       "       'Coal_Unit', 'Wood_Quantity', 'Wood_Unit', 'DistrictHeating_Quantity',\n",
       "       'DistrictHeating_Unit', 'DistrictHeating_IsRenewable',\n",
       "       'DistrictHeating_RenewableEmissionFactor', 'DistrictCooling_Quantity',\n",
       "       'DistrictCooling_Unit', 'DistrictCooling_IsRenewable',\n",
       "       'DistrictCooling_RenewableEmissionFactor', 'GHG Emissions KG',\n",
       "       'Energy Intensity ekWh_sqft', 'Energy Intensity ekWh_mega_litre',\n",
       "       'Energy Intensity GJ_m2', 'Energy Intensity GJ_mega_litre'],\n",
       "      dtype='object')"
      ]
     },
     "execution_count": 1194,
     "metadata": {},
     "output_type": "execute_result"
    }
   ],
   "source": [
    "df_9.columns"
   ]
  },
  {
   "cell_type": "code",
   "execution_count": 1195,
   "id": "9a058147",
   "metadata": {
    "collapsed": true
   },
   "outputs": [
    {
     "data": {
      "text/html": [
       "<div>\n",
       "<style scoped>\n",
       "    .dataframe tbody tr th:only-of-type {\n",
       "        vertical-align: middle;\n",
       "    }\n",
       "\n",
       "    .dataframe tbody tr th {\n",
       "        vertical-align: top;\n",
       "    }\n",
       "\n",
       "    .dataframe thead th {\n",
       "        text-align: right;\n",
       "    }\n",
       "</style>\n",
       "<table border=\"1\" class=\"dataframe\">\n",
       "  <thead>\n",
       "    <tr style=\"text-align: right;\">\n",
       "      <th></th>\n",
       "      <th>Sector</th>\n",
       "      <th>SubSector</th>\n",
       "      <th>Organization</th>\n",
       "      <th>Operation</th>\n",
       "      <th>Operation Type</th>\n",
       "      <th>Address</th>\n",
       "      <th>City</th>\n",
       "      <th>Postal Code</th>\n",
       "      <th>Total Indoor Space_x</th>\n",
       "      <th>Unit of Measure</th>\n",
       "      <th>...</th>\n",
       "      <th>DistrictHeating_RenewableEmissionFactor</th>\n",
       "      <th>DistrictCooling_Quantity</th>\n",
       "      <th>DistrictCooling_Unit</th>\n",
       "      <th>DistrictCooling_IsRenewable</th>\n",
       "      <th>DistrictCooling_RenewableEmissionFactor</th>\n",
       "      <th>GHG Emissions KG</th>\n",
       "      <th>Energy Intensity ekWh_sqft</th>\n",
       "      <th>Energy Intensity ekWh_mega_litre</th>\n",
       "      <th>Energy Intensity GJ_m2</th>\n",
       "      <th>Energy Intensity GJ_mega_litre</th>\n",
       "    </tr>\n",
       "  </thead>\n",
       "  <tbody>\n",
       "    <tr>\n",
       "      <th>0</th>\n",
       "      <td>Public Hospital</td>\n",
       "      <td>Acute/Chronic Hospital</td>\n",
       "      <td>Alexandra Hospital</td>\n",
       "      <td>Alexandra Hospital, Ingersoll</td>\n",
       "      <td>Facilities used for hospital purposes</td>\n",
       "      <td>29 Noxon Street</td>\n",
       "      <td>Ingersoll</td>\n",
       "      <td>N5C 3V6</td>\n",
       "      <td>91213.2886</td>\n",
       "      <td>Square feet</td>\n",
       "      <td>...</td>\n",
       "      <td>0.0</td>\n",
       "      <td>0.0</td>\n",
       "      <td>joule</td>\n",
       "      <td>Yes/No</td>\n",
       "      <td>0.0</td>\n",
       "      <td>850748.303252</td>\n",
       "      <td>71.059125</td>\n",
       "      <td>0.0</td>\n",
       "      <td>2.753541</td>\n",
       "      <td>0.0</td>\n",
       "    </tr>\n",
       "    <tr>\n",
       "      <th>1</th>\n",
       "      <td>School Board</td>\n",
       "      <td>School Board</td>\n",
       "      <td>Algoma District School Board</td>\n",
       "      <td>Ben R McMullin PS</td>\n",
       "      <td>School</td>\n",
       "      <td>24 Paradise Ave</td>\n",
       "      <td>Sault Ste. Marie</td>\n",
       "      <td>P6B 5K2</td>\n",
       "      <td>22098.3100</td>\n",
       "      <td>Square feet</td>\n",
       "      <td>...</td>\n",
       "      <td>0.0</td>\n",
       "      <td>0.0</td>\n",
       "      <td>joule</td>\n",
       "      <td>Yes/No</td>\n",
       "      <td>0.0</td>\n",
       "      <td>77791.063715</td>\n",
       "      <td>25.206437</td>\n",
       "      <td>0.0</td>\n",
       "      <td>0.976749</td>\n",
       "      <td>0.0</td>\n",
       "    </tr>\n",
       "    <tr>\n",
       "      <th>2</th>\n",
       "      <td>School Board</td>\n",
       "      <td>School Board</td>\n",
       "      <td>Algoma District School Board</td>\n",
       "      <td>Blind River PS</td>\n",
       "      <td>School</td>\n",
       "      <td>19 Hanes Ave</td>\n",
       "      <td>Blind River</td>\n",
       "      <td>P0R 1B0</td>\n",
       "      <td>48243.8500</td>\n",
       "      <td>Square feet</td>\n",
       "      <td>...</td>\n",
       "      <td>0.0</td>\n",
       "      <td>0.0</td>\n",
       "      <td>joule</td>\n",
       "      <td>Yes/No</td>\n",
       "      <td>0.0</td>\n",
       "      <td>77792.354431</td>\n",
       "      <td>11.546075</td>\n",
       "      <td>0.0</td>\n",
       "      <td>0.447410</td>\n",
       "      <td>0.0</td>\n",
       "    </tr>\n",
       "    <tr>\n",
       "      <th>3</th>\n",
       "      <td>School Board</td>\n",
       "      <td>School Board</td>\n",
       "      <td>Algoma District School Board</td>\n",
       "      <td>Central Algoma SS</td>\n",
       "      <td>School</td>\n",
       "      <td>32 Kensington Rd</td>\n",
       "      <td>Desbarats</td>\n",
       "      <td>P0R 1E0</td>\n",
       "      <td>112881.1000</td>\n",
       "      <td>Square feet</td>\n",
       "      <td>...</td>\n",
       "      <td>0.0</td>\n",
       "      <td>0.0</td>\n",
       "      <td>joule</td>\n",
       "      <td>Yes/No</td>\n",
       "      <td>0.0</td>\n",
       "      <td>488110.028273</td>\n",
       "      <td>31.241545</td>\n",
       "      <td>0.0</td>\n",
       "      <td>1.210610</td>\n",
       "      <td>0.0</td>\n",
       "    </tr>\n",
       "    <tr>\n",
       "      <th>4</th>\n",
       "      <td>School Board</td>\n",
       "      <td>School Board</td>\n",
       "      <td>Algoma District School Board</td>\n",
       "      <td>Boreal FI</td>\n",
       "      <td>School</td>\n",
       "      <td>232 Northern Ave E</td>\n",
       "      <td>Sault Ste. Marie</td>\n",
       "      <td>P6B 4H6</td>\n",
       "      <td>129920.4000</td>\n",
       "      <td>Square feet</td>\n",
       "      <td>...</td>\n",
       "      <td>0.0</td>\n",
       "      <td>0.0</td>\n",
       "      <td>joule</td>\n",
       "      <td>Yes/No</td>\n",
       "      <td>0.0</td>\n",
       "      <td>320655.801505</td>\n",
       "      <td>17.954876</td>\n",
       "      <td>0.0</td>\n",
       "      <td>0.695751</td>\n",
       "      <td>0.0</td>\n",
       "    </tr>\n",
       "  </tbody>\n",
       "</table>\n",
       "<p>5 rows × 41 columns</p>\n",
       "</div>"
      ],
      "text/plain": [
       "            Sector               SubSector                  Organization  \\\n",
       "0  Public Hospital  Acute/Chronic Hospital            Alexandra Hospital   \n",
       "1     School Board            School Board  Algoma District School Board   \n",
       "2     School Board            School Board  Algoma District School Board   \n",
       "3     School Board            School Board  Algoma District School Board   \n",
       "4     School Board            School Board  Algoma District School Board   \n",
       "\n",
       "                       Operation                         Operation Type  \\\n",
       "0  Alexandra Hospital, Ingersoll  Facilities used for hospital purposes   \n",
       "1              Ben R McMullin PS                                 School   \n",
       "2                 Blind River PS                                 School   \n",
       "3              Central Algoma SS                                 School   \n",
       "4                      Boreal FI                                 School   \n",
       "\n",
       "              Address              City Postal Code  Total Indoor Space_x  \\\n",
       "0     29 Noxon Street         Ingersoll     N5C 3V6            91213.2886   \n",
       "1     24 Paradise Ave  Sault Ste. Marie     P6B 5K2            22098.3100   \n",
       "2        19 Hanes Ave       Blind River     P0R 1B0            48243.8500   \n",
       "3    32 Kensington Rd         Desbarats     P0R 1E0           112881.1000   \n",
       "4  232 Northern Ave E  Sault Ste. Marie     P6B 4H6           129920.4000   \n",
       "\n",
       "  Unit of Measure  ...  DistrictHeating_RenewableEmissionFactor  \\\n",
       "0     Square feet  ...                                      0.0   \n",
       "1     Square feet  ...                                      0.0   \n",
       "2     Square feet  ...                                      0.0   \n",
       "3     Square feet  ...                                      0.0   \n",
       "4     Square feet  ...                                      0.0   \n",
       "\n",
       "   DistrictCooling_Quantity  DistrictCooling_Unit DistrictCooling_IsRenewable  \\\n",
       "0                       0.0                 joule                      Yes/No   \n",
       "1                       0.0                 joule                      Yes/No   \n",
       "2                       0.0                 joule                      Yes/No   \n",
       "3                       0.0                 joule                      Yes/No   \n",
       "4                       0.0                 joule                      Yes/No   \n",
       "\n",
       "   DistrictCooling_RenewableEmissionFactor GHG Emissions KG  \\\n",
       "0                                      0.0    850748.303252   \n",
       "1                                      0.0     77791.063715   \n",
       "2                                      0.0     77792.354431   \n",
       "3                                      0.0    488110.028273   \n",
       "4                                      0.0    320655.801505   \n",
       "\n",
       "   Energy Intensity ekWh_sqft Energy Intensity ekWh_mega_litre  \\\n",
       "0                   71.059125                              0.0   \n",
       "1                   25.206437                              0.0   \n",
       "2                   11.546075                              0.0   \n",
       "3                   31.241545                              0.0   \n",
       "4                   17.954876                              0.0   \n",
       "\n",
       "   Energy Intensity GJ_m2 Energy Intensity GJ_mega_litre  \n",
       "0                2.753541                            0.0  \n",
       "1                0.976749                            0.0  \n",
       "2                0.447410                            0.0  \n",
       "3                1.210610                            0.0  \n",
       "4                0.695751                            0.0  \n",
       "\n",
       "[5 rows x 41 columns]"
      ]
     },
     "execution_count": 1195,
     "metadata": {},
     "output_type": "execute_result"
    }
   ],
   "source": [
    "df_9.head()"
   ]
  },
  {
   "cell_type": "code",
   "execution_count": 1214,
   "id": "75bd88eb",
   "metadata": {},
   "outputs": [],
   "source": [
    "df_9.insert(0, 'Year', 2020)"
   ]
  },
  {
   "cell_type": "code",
   "execution_count": 1215,
   "id": "6e23b532",
   "metadata": {
    "collapsed": true
   },
   "outputs": [
    {
     "data": {
      "text/html": [
       "<div>\n",
       "<style scoped>\n",
       "    .dataframe tbody tr th:only-of-type {\n",
       "        vertical-align: middle;\n",
       "    }\n",
       "\n",
       "    .dataframe tbody tr th {\n",
       "        vertical-align: top;\n",
       "    }\n",
       "\n",
       "    .dataframe thead th {\n",
       "        text-align: right;\n",
       "    }\n",
       "</style>\n",
       "<table border=\"1\" class=\"dataframe\">\n",
       "  <thead>\n",
       "    <tr style=\"text-align: right;\">\n",
       "      <th></th>\n",
       "      <th>Year</th>\n",
       "      <th>Sector</th>\n",
       "      <th>SubSector</th>\n",
       "      <th>Organization</th>\n",
       "      <th>Operation</th>\n",
       "      <th>Operation Type</th>\n",
       "      <th>Address</th>\n",
       "      <th>City</th>\n",
       "      <th>Postal Code</th>\n",
       "      <th>Total Indoor Space_x</th>\n",
       "      <th>...</th>\n",
       "      <th>DistrictHeating_RenewableEmissionFactor</th>\n",
       "      <th>DistrictCooling_Quantity</th>\n",
       "      <th>DistrictCooling_Unit</th>\n",
       "      <th>DistrictCooling_IsRenewable</th>\n",
       "      <th>DistrictCooling_RenewableEmissionFactor</th>\n",
       "      <th>GHG Emissions KG</th>\n",
       "      <th>Energy Intensity ekWh_sqft</th>\n",
       "      <th>Energy Intensity ekWh_mega_litre</th>\n",
       "      <th>Energy Intensity GJ_m2</th>\n",
       "      <th>Energy Intensity GJ_mega_litre</th>\n",
       "    </tr>\n",
       "  </thead>\n",
       "  <tbody>\n",
       "    <tr>\n",
       "      <th>0</th>\n",
       "      <td>2020</td>\n",
       "      <td>Public Hospital</td>\n",
       "      <td>Acute/Chronic Hospital</td>\n",
       "      <td>Alexandra Hospital</td>\n",
       "      <td>Alexandra Hospital, Ingersoll</td>\n",
       "      <td>Facilities used for hospital purposes</td>\n",
       "      <td>29 Noxon Street</td>\n",
       "      <td>Ingersoll</td>\n",
       "      <td>N5C 3V6</td>\n",
       "      <td>91213.2886</td>\n",
       "      <td>...</td>\n",
       "      <td>0.0</td>\n",
       "      <td>0.0</td>\n",
       "      <td>joule</td>\n",
       "      <td>Yes/No</td>\n",
       "      <td>0.0</td>\n",
       "      <td>850748.303252</td>\n",
       "      <td>71.059125</td>\n",
       "      <td>0.0</td>\n",
       "      <td>2.753541</td>\n",
       "      <td>0.0</td>\n",
       "    </tr>\n",
       "    <tr>\n",
       "      <th>1</th>\n",
       "      <td>2020</td>\n",
       "      <td>School Board</td>\n",
       "      <td>School Board</td>\n",
       "      <td>Algoma District School Board</td>\n",
       "      <td>Ben R McMullin PS</td>\n",
       "      <td>School</td>\n",
       "      <td>24 Paradise Ave</td>\n",
       "      <td>Sault Ste. Marie</td>\n",
       "      <td>P6B 5K2</td>\n",
       "      <td>22098.3100</td>\n",
       "      <td>...</td>\n",
       "      <td>0.0</td>\n",
       "      <td>0.0</td>\n",
       "      <td>joule</td>\n",
       "      <td>Yes/No</td>\n",
       "      <td>0.0</td>\n",
       "      <td>77791.063715</td>\n",
       "      <td>25.206437</td>\n",
       "      <td>0.0</td>\n",
       "      <td>0.976749</td>\n",
       "      <td>0.0</td>\n",
       "    </tr>\n",
       "    <tr>\n",
       "      <th>2</th>\n",
       "      <td>2020</td>\n",
       "      <td>School Board</td>\n",
       "      <td>School Board</td>\n",
       "      <td>Algoma District School Board</td>\n",
       "      <td>Blind River PS</td>\n",
       "      <td>School</td>\n",
       "      <td>19 Hanes Ave</td>\n",
       "      <td>Blind River</td>\n",
       "      <td>P0R 1B0</td>\n",
       "      <td>48243.8500</td>\n",
       "      <td>...</td>\n",
       "      <td>0.0</td>\n",
       "      <td>0.0</td>\n",
       "      <td>joule</td>\n",
       "      <td>Yes/No</td>\n",
       "      <td>0.0</td>\n",
       "      <td>77792.354431</td>\n",
       "      <td>11.546075</td>\n",
       "      <td>0.0</td>\n",
       "      <td>0.447410</td>\n",
       "      <td>0.0</td>\n",
       "    </tr>\n",
       "    <tr>\n",
       "      <th>3</th>\n",
       "      <td>2020</td>\n",
       "      <td>School Board</td>\n",
       "      <td>School Board</td>\n",
       "      <td>Algoma District School Board</td>\n",
       "      <td>Central Algoma SS</td>\n",
       "      <td>School</td>\n",
       "      <td>32 Kensington Rd</td>\n",
       "      <td>Desbarats</td>\n",
       "      <td>P0R 1E0</td>\n",
       "      <td>112881.1000</td>\n",
       "      <td>...</td>\n",
       "      <td>0.0</td>\n",
       "      <td>0.0</td>\n",
       "      <td>joule</td>\n",
       "      <td>Yes/No</td>\n",
       "      <td>0.0</td>\n",
       "      <td>488110.028273</td>\n",
       "      <td>31.241545</td>\n",
       "      <td>0.0</td>\n",
       "      <td>1.210610</td>\n",
       "      <td>0.0</td>\n",
       "    </tr>\n",
       "    <tr>\n",
       "      <th>4</th>\n",
       "      <td>2020</td>\n",
       "      <td>School Board</td>\n",
       "      <td>School Board</td>\n",
       "      <td>Algoma District School Board</td>\n",
       "      <td>Boreal FI</td>\n",
       "      <td>School</td>\n",
       "      <td>232 Northern Ave E</td>\n",
       "      <td>Sault Ste. Marie</td>\n",
       "      <td>P6B 4H6</td>\n",
       "      <td>129920.4000</td>\n",
       "      <td>...</td>\n",
       "      <td>0.0</td>\n",
       "      <td>0.0</td>\n",
       "      <td>joule</td>\n",
       "      <td>Yes/No</td>\n",
       "      <td>0.0</td>\n",
       "      <td>320655.801505</td>\n",
       "      <td>17.954876</td>\n",
       "      <td>0.0</td>\n",
       "      <td>0.695751</td>\n",
       "      <td>0.0</td>\n",
       "    </tr>\n",
       "  </tbody>\n",
       "</table>\n",
       "<p>5 rows × 42 columns</p>\n",
       "</div>"
      ],
      "text/plain": [
       "   Year           Sector               SubSector  \\\n",
       "0  2020  Public Hospital  Acute/Chronic Hospital   \n",
       "1  2020     School Board            School Board   \n",
       "2  2020     School Board            School Board   \n",
       "3  2020     School Board            School Board   \n",
       "4  2020     School Board            School Board   \n",
       "\n",
       "                   Organization                      Operation  \\\n",
       "0            Alexandra Hospital  Alexandra Hospital, Ingersoll   \n",
       "1  Algoma District School Board              Ben R McMullin PS   \n",
       "2  Algoma District School Board                 Blind River PS   \n",
       "3  Algoma District School Board              Central Algoma SS   \n",
       "4  Algoma District School Board                      Boreal FI   \n",
       "\n",
       "                          Operation Type             Address  \\\n",
       "0  Facilities used for hospital purposes     29 Noxon Street   \n",
       "1                                 School     24 Paradise Ave   \n",
       "2                                 School        19 Hanes Ave   \n",
       "3                                 School    32 Kensington Rd   \n",
       "4                                 School  232 Northern Ave E   \n",
       "\n",
       "               City Postal Code  Total Indoor Space_x  ...  \\\n",
       "0         Ingersoll     N5C 3V6            91213.2886  ...   \n",
       "1  Sault Ste. Marie     P6B 5K2            22098.3100  ...   \n",
       "2       Blind River     P0R 1B0            48243.8500  ...   \n",
       "3         Desbarats     P0R 1E0           112881.1000  ...   \n",
       "4  Sault Ste. Marie     P6B 4H6           129920.4000  ...   \n",
       "\n",
       "  DistrictHeating_RenewableEmissionFactor  DistrictCooling_Quantity  \\\n",
       "0                                     0.0                       0.0   \n",
       "1                                     0.0                       0.0   \n",
       "2                                     0.0                       0.0   \n",
       "3                                     0.0                       0.0   \n",
       "4                                     0.0                       0.0   \n",
       "\n",
       "   DistrictCooling_Unit  DistrictCooling_IsRenewable  \\\n",
       "0                 joule                       Yes/No   \n",
       "1                 joule                       Yes/No   \n",
       "2                 joule                       Yes/No   \n",
       "3                 joule                       Yes/No   \n",
       "4                 joule                       Yes/No   \n",
       "\n",
       "  DistrictCooling_RenewableEmissionFactor  GHG Emissions KG  \\\n",
       "0                                     0.0     850748.303252   \n",
       "1                                     0.0      77791.063715   \n",
       "2                                     0.0      77792.354431   \n",
       "3                                     0.0     488110.028273   \n",
       "4                                     0.0     320655.801505   \n",
       "\n",
       "  Energy Intensity ekWh_sqft  Energy Intensity ekWh_mega_litre  \\\n",
       "0                  71.059125                               0.0   \n",
       "1                  25.206437                               0.0   \n",
       "2                  11.546075                               0.0   \n",
       "3                  31.241545                               0.0   \n",
       "4                  17.954876                               0.0   \n",
       "\n",
       "  Energy Intensity GJ_m2  Energy Intensity GJ_mega_litre  \n",
       "0               2.753541                             0.0  \n",
       "1               0.976749                             0.0  \n",
       "2               0.447410                             0.0  \n",
       "3               1.210610                             0.0  \n",
       "4               0.695751                             0.0  \n",
       "\n",
       "[5 rows x 42 columns]"
      ]
     },
     "execution_count": 1215,
     "metadata": {},
     "output_type": "execute_result"
    }
   ],
   "source": [
    "df_9.head()"
   ]
  },
  {
   "cell_type": "markdown",
   "id": "e746ecf4",
   "metadata": {},
   "source": [
    "# Concat the datas"
   ]
  },
  {
   "cell_type": "code",
   "execution_count": 1331,
   "id": "ee5bc9fa",
   "metadata": {},
   "outputs": [],
   "source": [
    "dfs = [df_1, df_2, df_3, df_4, df_5, df_6, df_7, df_8, df_9]"
   ]
  },
  {
   "cell_type": "code",
   "execution_count": 1332,
   "id": "950234f4",
   "metadata": {},
   "outputs": [],
   "source": [
    "d_f = pd.concat(dfs, ignore_index=True)"
   ]
  },
  {
   "cell_type": "code",
   "execution_count": 1333,
   "id": "6e6525c1",
   "metadata": {
    "collapsed": true
   },
   "outputs": [
    {
     "data": {
      "text/html": [
       "<div>\n",
       "<style scoped>\n",
       "    .dataframe tbody tr th:only-of-type {\n",
       "        vertical-align: middle;\n",
       "    }\n",
       "\n",
       "    .dataframe tbody tr th {\n",
       "        vertical-align: top;\n",
       "    }\n",
       "\n",
       "    .dataframe thead th {\n",
       "        text-align: right;\n",
       "    }\n",
       "</style>\n",
       "<table border=\"1\" class=\"dataframe\">\n",
       "  <thead>\n",
       "    <tr style=\"text-align: right;\">\n",
       "      <th></th>\n",
       "      <th>Year</th>\n",
       "      <th>Sector</th>\n",
       "      <th>SubSector</th>\n",
       "      <th>Organization</th>\n",
       "      <th>Operation</th>\n",
       "      <th>Operation Type</th>\n",
       "      <th>Address</th>\n",
       "      <th>City</th>\n",
       "      <th>Postal Code</th>\n",
       "      <th>Total Indoor Space_x</th>\n",
       "      <th>...</th>\n",
       "      <th>DistrictCooling_Unit</th>\n",
       "      <th>DistrictCooling_IsRenewable</th>\n",
       "      <th>DistrictCooling_RenewableEmissionFactor</th>\n",
       "      <th>Number of Portables</th>\n",
       "      <th>Swimming Pool</th>\n",
       "      <th>GHG Emissions KG</th>\n",
       "      <th>Energy Intensity ekWh_sqft</th>\n",
       "      <th>Energy Intensity ekWh_mega_litre</th>\n",
       "      <th>Energy Intensity GJ_m2</th>\n",
       "      <th>Energy Intensity GJ_mega_litre</th>\n",
       "    </tr>\n",
       "  </thead>\n",
       "  <tbody>\n",
       "    <tr>\n",
       "      <th>0</th>\n",
       "      <td>2012</td>\n",
       "      <td>Public Hospital</td>\n",
       "      <td>Acute/Chronic</td>\n",
       "      <td>Alexandra Hospital</td>\n",
       "      <td>Alexandra Hospital</td>\n",
       "      <td>Facilities used for hospital purposes</td>\n",
       "      <td>29 Noxon Street</td>\n",
       "      <td>Ingersoll</td>\n",
       "      <td>N5C3V6</td>\n",
       "      <td>4660.700000</td>\n",
       "      <td>...</td>\n",
       "      <td>joule</td>\n",
       "      <td>False</td>\n",
       "      <td>0.0</td>\n",
       "      <td>0.0</td>\n",
       "      <td>False</td>\n",
       "      <td>5.275600e+05</td>\n",
       "      <td>69.597090</td>\n",
       "      <td>0.0</td>\n",
       "      <td>2.696894</td>\n",
       "      <td>0.0</td>\n",
       "    </tr>\n",
       "    <tr>\n",
       "      <th>1</th>\n",
       "      <td>2012</td>\n",
       "      <td>Public Hospital</td>\n",
       "      <td>Acute/Chronic</td>\n",
       "      <td>Alexandra Hospital</td>\n",
       "      <td>Alexandra Hospital</td>\n",
       "      <td>Administrative offices and related facilities</td>\n",
       "      <td>29 Noxon Street</td>\n",
       "      <td>Ingersoll</td>\n",
       "      <td>N5C3V6</td>\n",
       "      <td>3813.300000</td>\n",
       "      <td>...</td>\n",
       "      <td>joule</td>\n",
       "      <td>False</td>\n",
       "      <td>0.0</td>\n",
       "      <td>0.0</td>\n",
       "      <td>False</td>\n",
       "      <td>4.316400e+05</td>\n",
       "      <td>69.597090</td>\n",
       "      <td>0.0</td>\n",
       "      <td>2.696894</td>\n",
       "      <td>0.0</td>\n",
       "    </tr>\n",
       "    <tr>\n",
       "      <th>2</th>\n",
       "      <td>2012</td>\n",
       "      <td>Public Hospital</td>\n",
       "      <td>Acute/Chronic</td>\n",
       "      <td>Alexandria Glengarry Memorial Hospital</td>\n",
       "      <td>Glengarry Memorial Hospital</td>\n",
       "      <td>Facilities used for hospital purposes</td>\n",
       "      <td>20260 County Road 43</td>\n",
       "      <td>Alexandria</td>\n",
       "      <td>K0C1A0</td>\n",
       "      <td>51016.000000</td>\n",
       "      <td>...</td>\n",
       "      <td>joule</td>\n",
       "      <td>False</td>\n",
       "      <td>0.0</td>\n",
       "      <td>0.0</td>\n",
       "      <td>False</td>\n",
       "      <td>5.865300e+05</td>\n",
       "      <td>79.689235</td>\n",
       "      <td>0.0</td>\n",
       "      <td>3.087966</td>\n",
       "      <td>0.0</td>\n",
       "    </tr>\n",
       "    <tr>\n",
       "      <th>3</th>\n",
       "      <td>2012</td>\n",
       "      <td>Public Hospital</td>\n",
       "      <td>Acute/Chronic</td>\n",
       "      <td>Alexandria Glengarry Memorial Hospital</td>\n",
       "      <td>Glengarry Memorial Hospital</td>\n",
       "      <td>Administrative offices and related facilities</td>\n",
       "      <td>20260 County Road 43</td>\n",
       "      <td>Alexandria</td>\n",
       "      <td>K0C1A0</td>\n",
       "      <td>3953.000000</td>\n",
       "      <td>...</td>\n",
       "      <td>joule</td>\n",
       "      <td>False</td>\n",
       "      <td>0.0</td>\n",
       "      <td>0.0</td>\n",
       "      <td>False</td>\n",
       "      <td>4.544946e+04</td>\n",
       "      <td>79.691924</td>\n",
       "      <td>0.0</td>\n",
       "      <td>3.088070</td>\n",
       "      <td>0.0</td>\n",
       "    </tr>\n",
       "    <tr>\n",
       "      <th>4</th>\n",
       "      <td>2012</td>\n",
       "      <td>School Board</td>\n",
       "      <td>School Board</td>\n",
       "      <td>Algoma District School Board</td>\n",
       "      <td>Adult Ed - Blind River (WC Eaket)</td>\n",
       "      <td>Schools</td>\n",
       "      <td>147 Woodward Ave</td>\n",
       "      <td>Blind River</td>\n",
       "      <td>P0R1B0</td>\n",
       "      <td>1128.811234</td>\n",
       "      <td>...</td>\n",
       "      <td>joule</td>\n",
       "      <td>False</td>\n",
       "      <td>0.0</td>\n",
       "      <td>0.0</td>\n",
       "      <td>False</td>\n",
       "      <td>5.259300e+04</td>\n",
       "      <td>266.361078</td>\n",
       "      <td>0.0</td>\n",
       "      <td>10.321518</td>\n",
       "      <td>0.0</td>\n",
       "    </tr>\n",
       "    <tr>\n",
       "      <th>...</th>\n",
       "      <td>...</td>\n",
       "      <td>...</td>\n",
       "      <td>...</td>\n",
       "      <td>...</td>\n",
       "      <td>...</td>\n",
       "      <td>...</td>\n",
       "      <td>...</td>\n",
       "      <td>...</td>\n",
       "      <td>...</td>\n",
       "      <td>...</td>\n",
       "      <td>...</td>\n",
       "      <td>...</td>\n",
       "      <td>...</td>\n",
       "      <td>...</td>\n",
       "      <td>...</td>\n",
       "      <td>...</td>\n",
       "      <td>...</td>\n",
       "      <td>...</td>\n",
       "      <td>...</td>\n",
       "      <td>...</td>\n",
       "      <td>...</td>\n",
       "    </tr>\n",
       "    <tr>\n",
       "      <th>154084</th>\n",
       "      <td>2020</td>\n",
       "      <td>Post-Secondary Educational Institution</td>\n",
       "      <td>University</td>\n",
       "      <td>York University</td>\n",
       "      <td>Technology Enhanced Learning (483)</td>\n",
       "      <td>Classrooms and related facilities</td>\n",
       "      <td>4700 Keele Street</td>\n",
       "      <td>Toronto</td>\n",
       "      <td>M3J 1P3</td>\n",
       "      <td>344634.352279</td>\n",
       "      <td>...</td>\n",
       "      <td>joule</td>\n",
       "      <td>No</td>\n",
       "      <td>0.0</td>\n",
       "      <td>0.0</td>\n",
       "      <td>No</td>\n",
       "      <td>1.231972e+06</td>\n",
       "      <td>23.226565</td>\n",
       "      <td>0.0</td>\n",
       "      <td>0.900029</td>\n",
       "      <td>0.0</td>\n",
       "    </tr>\n",
       "    <tr>\n",
       "      <th>154085</th>\n",
       "      <td>2020</td>\n",
       "      <td>Post-Secondary Educational Institution</td>\n",
       "      <td>University</td>\n",
       "      <td>York University</td>\n",
       "      <td>Atkinson Residence (365)</td>\n",
       "      <td>Student residences</td>\n",
       "      <td>4700 Keele Street</td>\n",
       "      <td>Toronto</td>\n",
       "      <td>M3J 1P3</td>\n",
       "      <td>126608.005692</td>\n",
       "      <td>...</td>\n",
       "      <td>joule</td>\n",
       "      <td>No</td>\n",
       "      <td>0.0</td>\n",
       "      <td>0.0</td>\n",
       "      <td>No</td>\n",
       "      <td>6.970769e+05</td>\n",
       "      <td>33.125556</td>\n",
       "      <td>0.0</td>\n",
       "      <td>1.283615</td>\n",
       "      <td>0.0</td>\n",
       "    </tr>\n",
       "    <tr>\n",
       "      <th>154086</th>\n",
       "      <td>2020</td>\n",
       "      <td>Post-Secondary Educational Institution</td>\n",
       "      <td>University</td>\n",
       "      <td>York University</td>\n",
       "      <td>360 Assiniboine Road (401)</td>\n",
       "      <td>Student residences</td>\n",
       "      <td>4700 Keele Street</td>\n",
       "      <td>Toronto</td>\n",
       "      <td>M3J 1P3</td>\n",
       "      <td>100799.617940</td>\n",
       "      <td>...</td>\n",
       "      <td>joule</td>\n",
       "      <td>No</td>\n",
       "      <td>0.0</td>\n",
       "      <td>0.0</td>\n",
       "      <td>No</td>\n",
       "      <td>5.999517e+05</td>\n",
       "      <td>34.427811</td>\n",
       "      <td>0.0</td>\n",
       "      <td>1.334078</td>\n",
       "      <td>0.0</td>\n",
       "    </tr>\n",
       "    <tr>\n",
       "      <th>154087</th>\n",
       "      <td>2020</td>\n",
       "      <td>Post-Secondary Educational Institution</td>\n",
       "      <td>University</td>\n",
       "      <td>York University</td>\n",
       "      <td>Centre for Film and Theatre (399)</td>\n",
       "      <td>Laboratories</td>\n",
       "      <td>4700 Keele Street</td>\n",
       "      <td>Toronto</td>\n",
       "      <td>M3J 1P3</td>\n",
       "      <td>66862.763464</td>\n",
       "      <td>...</td>\n",
       "      <td>joule</td>\n",
       "      <td>No</td>\n",
       "      <td>0.0</td>\n",
       "      <td>0.0</td>\n",
       "      <td>No</td>\n",
       "      <td>3.804318e+05</td>\n",
       "      <td>33.730305</td>\n",
       "      <td>0.0</td>\n",
       "      <td>1.307049</td>\n",
       "      <td>0.0</td>\n",
       "    </tr>\n",
       "    <tr>\n",
       "      <th>154088</th>\n",
       "      <td>2020</td>\n",
       "      <td>Post-Secondary Educational Institution</td>\n",
       "      <td>University</td>\n",
       "      <td>York University</td>\n",
       "      <td>4747-Keele Unit 1</td>\n",
       "      <td>Administrative offices and related facilities</td>\n",
       "      <td>4747 Keele</td>\n",
       "      <td>North York</td>\n",
       "      <td>M3J 1P3</td>\n",
       "      <td>21132.872509</td>\n",
       "      <td>...</td>\n",
       "      <td>joule</td>\n",
       "      <td>Yes/No</td>\n",
       "      <td>0.0</td>\n",
       "      <td>0.0</td>\n",
       "      <td>No</td>\n",
       "      <td>7.413124e+04</td>\n",
       "      <td>25.436337</td>\n",
       "      <td>0.0</td>\n",
       "      <td>0.985658</td>\n",
       "      <td>0.0</td>\n",
       "    </tr>\n",
       "  </tbody>\n",
       "</table>\n",
       "<p>154089 rows × 42 columns</p>\n",
       "</div>"
      ],
      "text/plain": [
       "        Year                                  Sector      SubSector  \\\n",
       "0       2012                         Public Hospital  Acute/Chronic   \n",
       "1       2012                         Public Hospital  Acute/Chronic   \n",
       "2       2012                         Public Hospital  Acute/Chronic   \n",
       "3       2012                         Public Hospital  Acute/Chronic   \n",
       "4       2012                            School Board   School Board   \n",
       "...      ...                                     ...            ...   \n",
       "154084  2020  Post-Secondary Educational Institution     University   \n",
       "154085  2020  Post-Secondary Educational Institution     University   \n",
       "154086  2020  Post-Secondary Educational Institution     University   \n",
       "154087  2020  Post-Secondary Educational Institution     University   \n",
       "154088  2020  Post-Secondary Educational Institution     University   \n",
       "\n",
       "                                  Organization  \\\n",
       "0                           Alexandra Hospital   \n",
       "1                           Alexandra Hospital   \n",
       "2       Alexandria Glengarry Memorial Hospital   \n",
       "3       Alexandria Glengarry Memorial Hospital   \n",
       "4                 Algoma District School Board   \n",
       "...                                        ...   \n",
       "154084                         York University   \n",
       "154085                         York University   \n",
       "154086                         York University   \n",
       "154087                         York University   \n",
       "154088                         York University   \n",
       "\n",
       "                                 Operation  \\\n",
       "0                       Alexandra Hospital   \n",
       "1                       Alexandra Hospital   \n",
       "2              Glengarry Memorial Hospital   \n",
       "3              Glengarry Memorial Hospital   \n",
       "4        Adult Ed - Blind River (WC Eaket)   \n",
       "...                                    ...   \n",
       "154084  Technology Enhanced Learning (483)   \n",
       "154085            Atkinson Residence (365)   \n",
       "154086          360 Assiniboine Road (401)   \n",
       "154087   Centre for Film and Theatre (399)   \n",
       "154088                   4747-Keele Unit 1   \n",
       "\n",
       "                                       Operation Type               Address  \\\n",
       "0               Facilities used for hospital purposes       29 Noxon Street   \n",
       "1       Administrative offices and related facilities       29 Noxon Street   \n",
       "2               Facilities used for hospital purposes  20260 County Road 43   \n",
       "3       Administrative offices and related facilities  20260 County Road 43   \n",
       "4                                             Schools      147 Woodward Ave   \n",
       "...                                               ...                   ...   \n",
       "154084              Classrooms and related facilities     4700 Keele Street   \n",
       "154085                             Student residences     4700 Keele Street   \n",
       "154086                             Student residences     4700 Keele Street   \n",
       "154087                                   Laboratories     4700 Keele Street   \n",
       "154088  Administrative offices and related facilities            4747 Keele   \n",
       "\n",
       "               City Postal Code  Total Indoor Space_x  ...  \\\n",
       "0         Ingersoll      N5C3V6           4660.700000  ...   \n",
       "1         Ingersoll      N5C3V6           3813.300000  ...   \n",
       "2        Alexandria      K0C1A0          51016.000000  ...   \n",
       "3        Alexandria      K0C1A0           3953.000000  ...   \n",
       "4       Blind River      P0R1B0           1128.811234  ...   \n",
       "...             ...         ...                   ...  ...   \n",
       "154084      Toronto     M3J 1P3         344634.352279  ...   \n",
       "154085      Toronto     M3J 1P3         126608.005692  ...   \n",
       "154086      Toronto     M3J 1P3         100799.617940  ...   \n",
       "154087      Toronto     M3J 1P3          66862.763464  ...   \n",
       "154088   North York     M3J 1P3          21132.872509  ...   \n",
       "\n",
       "       DistrictCooling_Unit  DistrictCooling_IsRenewable  \\\n",
       "0                     joule                        False   \n",
       "1                     joule                        False   \n",
       "2                     joule                        False   \n",
       "3                     joule                        False   \n",
       "4                     joule                        False   \n",
       "...                     ...                          ...   \n",
       "154084                joule                           No   \n",
       "154085                joule                           No   \n",
       "154086                joule                           No   \n",
       "154087                joule                           No   \n",
       "154088                joule                       Yes/No   \n",
       "\n",
       "        DistrictCooling_RenewableEmissionFactor  Number of Portables  \\\n",
       "0                                           0.0                  0.0   \n",
       "1                                           0.0                  0.0   \n",
       "2                                           0.0                  0.0   \n",
       "3                                           0.0                  0.0   \n",
       "4                                           0.0                  0.0   \n",
       "...                                         ...                  ...   \n",
       "154084                                      0.0                  0.0   \n",
       "154085                                      0.0                  0.0   \n",
       "154086                                      0.0                  0.0   \n",
       "154087                                      0.0                  0.0   \n",
       "154088                                      0.0                  0.0   \n",
       "\n",
       "       Swimming Pool  GHG Emissions KG Energy Intensity ekWh_sqft  \\\n",
       "0              False      5.275600e+05                  69.597090   \n",
       "1              False      4.316400e+05                  69.597090   \n",
       "2              False      5.865300e+05                  79.689235   \n",
       "3              False      4.544946e+04                  79.691924   \n",
       "4              False      5.259300e+04                 266.361078   \n",
       "...              ...               ...                        ...   \n",
       "154084            No      1.231972e+06                  23.226565   \n",
       "154085            No      6.970769e+05                  33.125556   \n",
       "154086            No      5.999517e+05                  34.427811   \n",
       "154087            No      3.804318e+05                  33.730305   \n",
       "154088            No      7.413124e+04                  25.436337   \n",
       "\n",
       "        Energy Intensity ekWh_mega_litre Energy Intensity GJ_m2  \\\n",
       "0                                    0.0               2.696894   \n",
       "1                                    0.0               2.696894   \n",
       "2                                    0.0               3.087966   \n",
       "3                                    0.0               3.088070   \n",
       "4                                    0.0              10.321518   \n",
       "...                                  ...                    ...   \n",
       "154084                               0.0               0.900029   \n",
       "154085                               0.0               1.283615   \n",
       "154086                               0.0               1.334078   \n",
       "154087                               0.0               1.307049   \n",
       "154088                               0.0               0.985658   \n",
       "\n",
       "        Energy Intensity GJ_mega_litre  \n",
       "0                                  0.0  \n",
       "1                                  0.0  \n",
       "2                                  0.0  \n",
       "3                                  0.0  \n",
       "4                                  0.0  \n",
       "...                                ...  \n",
       "154084                             0.0  \n",
       "154085                             0.0  \n",
       "154086                             0.0  \n",
       "154087                             0.0  \n",
       "154088                             0.0  \n",
       "\n",
       "[154089 rows x 42 columns]"
      ]
     },
     "execution_count": 1333,
     "metadata": {},
     "output_type": "execute_result"
    }
   ],
   "source": [
    "d_f"
   ]
  },
  {
   "cell_type": "code",
   "execution_count": 1334,
   "id": "20d5275c",
   "metadata": {
    "collapsed": true
   },
   "outputs": [
    {
     "data": {
      "text/plain": [
       "Index(['Year', 'Sector', 'SubSector', 'Organization', 'Operation',\n",
       "       'Operation Type', 'Address', 'City', 'Postal Code',\n",
       "       'Total Indoor Space_x', 'Unit of Measure', 'Weekly Average Hours',\n",
       "       'Annual Flow (M)', 'Electricity_Quantity', 'Electricity_Unit',\n",
       "       'NaturalGas_Quantity', 'NaturalGas_Unit', 'FuelOil12_Quantity',\n",
       "       'FuelOil12_Unit', 'FuelOil46_Quantity', 'FuelOil46_Unit',\n",
       "       'Propane_Quantity', 'Propane_Unit', 'Coal_Quantity', 'Coal_Unit',\n",
       "       'Wood_Quantity', 'Wood_Unit', 'DistrictHeating_Quantity',\n",
       "       'DistrictHeating_Unit', 'DistrictHeating_IsRenewable',\n",
       "       'DistrictHeating_RenewableEmissionFactor', 'DistrictCooling_Quantity',\n",
       "       'DistrictCooling_Unit', 'DistrictCooling_IsRenewable',\n",
       "       'DistrictCooling_RenewableEmissionFactor', 'Number of Portables',\n",
       "       'Swimming Pool', 'GHG Emissions KG', 'Energy Intensity ekWh_sqft',\n",
       "       'Energy Intensity ekWh_mega_litre', 'Energy Intensity GJ_m2',\n",
       "       'Energy Intensity GJ_mega_litre'],\n",
       "      dtype='object')"
      ]
     },
     "execution_count": 1334,
     "metadata": {},
     "output_type": "execute_result"
    }
   ],
   "source": [
    "d_f.columns"
   ]
  },
  {
   "cell_type": "code",
   "execution_count": 1335,
   "id": "d307e15b",
   "metadata": {
    "collapsed": true
   },
   "outputs": [
    {
     "data": {
      "text/plain": [
       "Year                                           0\n",
       "Sector                                         0\n",
       "SubSector                                      0\n",
       "Organization                                   0\n",
       "Operation                                      0\n",
       "Operation Type                                 0\n",
       "Address                                        0\n",
       "City                                           0\n",
       "Postal Code                                    0\n",
       "Total Indoor Space_x                           0\n",
       "Unit of Measure                                0\n",
       "Weekly Average Hours                           0\n",
       "Annual Flow (M)                                0\n",
       "Electricity_Quantity                           0\n",
       "Electricity_Unit                               0\n",
       "NaturalGas_Quantity                            0\n",
       "NaturalGas_Unit                                0\n",
       "FuelOil12_Quantity                             0\n",
       "FuelOil12_Unit                                 0\n",
       "FuelOil46_Quantity                             0\n",
       "FuelOil46_Unit                                 0\n",
       "Propane_Quantity                               0\n",
       "Propane_Unit                                   0\n",
       "Coal_Quantity                                  0\n",
       "Coal_Unit                                      0\n",
       "Wood_Quantity                                  0\n",
       "Wood_Unit                                      0\n",
       "DistrictHeating_Quantity                       0\n",
       "DistrictHeating_Unit                           0\n",
       "DistrictHeating_IsRenewable                    0\n",
       "DistrictHeating_RenewableEmissionFactor    16999\n",
       "DistrictCooling_Quantity                       0\n",
       "DistrictCooling_Unit                           0\n",
       "DistrictCooling_IsRenewable                    0\n",
       "DistrictCooling_RenewableEmissionFactor    16999\n",
       "Number of Portables                            0\n",
       "Swimming Pool                                  0\n",
       "GHG Emissions KG                               0\n",
       "Energy Intensity ekWh_sqft                     0\n",
       "Energy Intensity ekWh_mega_litre               0\n",
       "Energy Intensity GJ_m2                         0\n",
       "Energy Intensity GJ_mega_litre                 0\n",
       "dtype: int64"
      ]
     },
     "execution_count": 1335,
     "metadata": {},
     "output_type": "execute_result"
    }
   ],
   "source": [
    "d_f.isnull().sum()"
   ]
  },
  {
   "cell_type": "code",
   "execution_count": 1336,
   "id": "a9d771c6",
   "metadata": {},
   "outputs": [],
   "source": [
    "d_f['DistrictHeating_RenewableEmissionFactor'].fillna('0', inplace=True)"
   ]
  },
  {
   "cell_type": "code",
   "execution_count": 1337,
   "id": "f55957f4",
   "metadata": {},
   "outputs": [],
   "source": [
    "d_f['DistrictCooling_RenewableEmissionFactor'].fillna('0', inplace=True)"
   ]
  },
  {
   "cell_type": "code",
   "execution_count": 1338,
   "id": "d9caa89a",
   "metadata": {
    "collapsed": true
   },
   "outputs": [
    {
     "data": {
      "text/plain": [
       "Year                                       0\n",
       "Sector                                     0\n",
       "SubSector                                  0\n",
       "Organization                               0\n",
       "Operation                                  0\n",
       "Operation Type                             0\n",
       "Address                                    0\n",
       "City                                       0\n",
       "Postal Code                                0\n",
       "Total Indoor Space_x                       0\n",
       "Unit of Measure                            0\n",
       "Weekly Average Hours                       0\n",
       "Annual Flow (M)                            0\n",
       "Electricity_Quantity                       0\n",
       "Electricity_Unit                           0\n",
       "NaturalGas_Quantity                        0\n",
       "NaturalGas_Unit                            0\n",
       "FuelOil12_Quantity                         0\n",
       "FuelOil12_Unit                             0\n",
       "FuelOil46_Quantity                         0\n",
       "FuelOil46_Unit                             0\n",
       "Propane_Quantity                           0\n",
       "Propane_Unit                               0\n",
       "Coal_Quantity                              0\n",
       "Coal_Unit                                  0\n",
       "Wood_Quantity                              0\n",
       "Wood_Unit                                  0\n",
       "DistrictHeating_Quantity                   0\n",
       "DistrictHeating_Unit                       0\n",
       "DistrictHeating_IsRenewable                0\n",
       "DistrictHeating_RenewableEmissionFactor    0\n",
       "DistrictCooling_Quantity                   0\n",
       "DistrictCooling_Unit                       0\n",
       "DistrictCooling_IsRenewable                0\n",
       "DistrictCooling_RenewableEmissionFactor    0\n",
       "Number of Portables                        0\n",
       "Swimming Pool                              0\n",
       "GHG Emissions KG                           0\n",
       "Energy Intensity ekWh_sqft                 0\n",
       "Energy Intensity ekWh_mega_litre           0\n",
       "Energy Intensity GJ_m2                     0\n",
       "Energy Intensity GJ_mega_litre             0\n",
       "dtype: int64"
      ]
     },
     "execution_count": 1338,
     "metadata": {},
     "output_type": "execute_result"
    }
   ],
   "source": [
    "d_f.isnull().sum()"
   ]
  },
  {
   "cell_type": "code",
   "execution_count": 1339,
   "id": "8680dc05",
   "metadata": {
    "collapsed": true
   },
   "outputs": [
    {
     "data": {
      "text/plain": [
       "Year                                         int64\n",
       "Sector                                      object\n",
       "SubSector                                   object\n",
       "Organization                                object\n",
       "Operation                                   object\n",
       "Operation Type                              object\n",
       "Address                                     object\n",
       "City                                        object\n",
       "Postal Code                                 object\n",
       "Total Indoor Space_x                       float64\n",
       "Unit of Measure                             object\n",
       "Weekly Average Hours                       float64\n",
       "Annual Flow (M)                            float64\n",
       "Electricity_Quantity                       float64\n",
       "Electricity_Unit                            object\n",
       "NaturalGas_Quantity                        float64\n",
       "NaturalGas_Unit                             object\n",
       "FuelOil12_Quantity                         float64\n",
       "FuelOil12_Unit                              object\n",
       "FuelOil46_Quantity                         float64\n",
       "FuelOil46_Unit                              object\n",
       "Propane_Quantity                           float64\n",
       "Propane_Unit                                object\n",
       "Coal_Quantity                              float64\n",
       "Coal_Unit                                   object\n",
       "Wood_Quantity                              float64\n",
       "Wood_Unit                                   object\n",
       "DistrictHeating_Quantity                   float64\n",
       "DistrictHeating_Unit                        object\n",
       "DistrictHeating_IsRenewable                 object\n",
       "DistrictHeating_RenewableEmissionFactor     object\n",
       "DistrictCooling_Quantity                   float64\n",
       "DistrictCooling_Unit                        object\n",
       "DistrictCooling_IsRenewable                 object\n",
       "DistrictCooling_RenewableEmissionFactor     object\n",
       "Number of Portables                        float64\n",
       "Swimming Pool                               object\n",
       "GHG Emissions KG                           float64\n",
       "Energy Intensity ekWh_sqft                 float64\n",
       "Energy Intensity ekWh_mega_litre           float64\n",
       "Energy Intensity GJ_m2                     float64\n",
       "Energy Intensity GJ_mega_litre             float64\n",
       "dtype: object"
      ]
     },
     "execution_count": 1339,
     "metadata": {},
     "output_type": "execute_result"
    }
   ],
   "source": [
    "d_f.dtypes"
   ]
  },
  {
   "cell_type": "code",
   "execution_count": 1340,
   "id": "4ea0afc7",
   "metadata": {},
   "outputs": [],
   "source": [
    "d_f.to_excel('GHG_BPS_1.xlsx', index=False)"
   ]
  },
  {
   "cell_type": "code",
   "execution_count": null,
   "id": "42918e76",
   "metadata": {},
   "outputs": [],
   "source": []
  },
  {
   "cell_type": "code",
   "execution_count": null,
   "id": "56d5d910",
   "metadata": {},
   "outputs": [],
   "source": []
  }
 ],
 "metadata": {
  "kernelspec": {
   "display_name": "Python 3 (ipykernel)",
   "language": "python",
   "name": "python3"
  },
  "language_info": {
   "codemirror_mode": {
    "name": "ipython",
    "version": 3
   },
   "file_extension": ".py",
   "mimetype": "text/x-python",
   "name": "python",
   "nbconvert_exporter": "python",
   "pygments_lexer": "ipython3",
   "version": "3.11.7"
  }
 },
 "nbformat": 4,
 "nbformat_minor": 5
}
